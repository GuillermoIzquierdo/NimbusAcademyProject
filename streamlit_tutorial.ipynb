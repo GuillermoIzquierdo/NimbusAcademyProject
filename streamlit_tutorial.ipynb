{
 "cells": [
  {
   "cell_type": "code",
   "execution_count": 2,
   "metadata": {},
   "outputs": [],
   "source": [
    "import pandas as pd\n",
    "\n",
    "from sklearn.datasets import load_iris\n",
    "\n",
    "\n",
    "X, Y = load_iris(return_X_y=True)\n",
    "\n",
    "iris = pd.DataFrame(data=X, columns=[\"sepal length\", \"sepal width\", \"petal length\", \"petal width\"])\n",
    "\n",
    "iris[\"species\"] = Y\n",
    "iris[\"species\"] = pd.cut(iris[\"species\"], bins=3, labels=range(3))"
   ]
  },
  {
   "cell_type": "code",
   "execution_count": null,
   "metadata": {},
   "outputs": [],
   "source": []
  }
 ],
 "metadata": {
  "kernelspec": {
   "display_name": "Python 3",
   "language": "python",
   "name": "python3"
  },
  "language_info": {
   "codemirror_mode": {
    "name": "ipython",
    "version": 3
   },
   "file_extension": ".py",
   "mimetype": "text/x-python",
   "name": "python",
   "nbconvert_exporter": "python",
   "pygments_lexer": "ipython3",
   "version": "3.11.5"
  },
  "orig_nbformat": 4
 },
 "nbformat": 4,
 "nbformat_minor": 2
}
