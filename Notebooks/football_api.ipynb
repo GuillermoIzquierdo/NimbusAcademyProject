{
 "cells": [
  {
   "cell_type": "code",
   "execution_count": 1,
   "metadata": {},
   "outputs": [],
   "source": [
    "import pandas as pd\n",
    "import requests\n",
    "import os\n",
    "import datetime"
   ]
  },
  {
   "cell_type": "code",
   "execution_count": 2,
   "metadata": {},
   "outputs": [
    {
     "data": {
      "text/plain": [
       "b'{\"filters\":{\"dateFrom\":\"2023-10-04\",\"dateTo\":\"2023-10-05\",\"permission\":null},\"resultSet\":{\"count\":0},\"matches\":[]}'"
      ]
     },
     "execution_count": 2,
     "metadata": {},
     "output_type": "execute_result"
    }
   ],
   "source": [
    "url = 'https://api.football-data.org/v4/matches'\n",
    "\n",
    "requests.get(url).content"
   ]
  },
  {
   "cell_type": "code",
   "execution_count": 3,
   "metadata": {},
   "outputs": [
    {
     "data": {
      "text/plain": [
       "3"
      ]
     },
     "execution_count": 3,
     "metadata": {},
     "output_type": "execute_result"
    }
   ],
   "source": [
    "base_url = 'https://api.football-data.org'\n",
    "matches_endpoint = '/v4/matches'\n",
    "# champions_league_id = 2001\n",
    "\n",
    "headers = { 'X-Auth-Token': '9737e6097cd74e1481cfd3eb93f2bfea'}\n",
    "\n",
    "url = base_url + matches_endpoint\n",
    "\n",
    "response = requests.get(\n",
    "    url=url,\n",
    "    headers=headers\n",
    ")\n",
    "\n",
    "len(response.json())"
   ]
  },
  {
   "cell_type": "code",
   "execution_count": 4,
   "metadata": {},
   "outputs": [],
   "source": [
    "base_url = 'https://api.football-data.org'\n",
    "competition_endpoint = '/v4/competitions/{id}/teams'\n",
    "champions_league_id = 2001\n",
    "\n",
    "headers = {'X-Auth-Token': '9737e6097cd74e1481cfd3eb93f2bfea'}\n",
    "\n",
    "url = base_url + matches_endpoint\n",
    "\n",
    "response = requests.get(\n",
    "    url=url.format(id=champions_league_id),\n",
    "    headers=headers\n",
    ")\n",
    "\n",
    "r = response.json()"
   ]
  },
  {
   "cell_type": "code",
   "execution_count": 5,
   "metadata": {},
   "outputs": [
    {
     "data": {
      "text/plain": [
       "dict_keys(['area', 'competition', 'season', 'id', 'utcDate', 'status', 'matchday', 'stage', 'group', 'lastUpdated', 'homeTeam', 'awayTeam', 'score', 'odds', 'referees'])"
      ]
     },
     "execution_count": 5,
     "metadata": {},
     "output_type": "execute_result"
    }
   ],
   "source": [
    "r['matches'][0].keys()"
   ]
  },
  {
   "cell_type": "code",
   "execution_count": 6,
   "metadata": {},
   "outputs": [
    {
     "data": {
      "text/plain": [
       "{'match0': ('Royal Antwerp FC', 'FK Shakhtar Donetsk'),\n",
       " 'match1': ('Club Atlético de Madrid', 'Feyenoord Rotterdam'),\n",
       " 'match2': ('Coventry City FC', 'Blackburn Rovers FC'),\n",
       " 'match3': ('Leeds United FC', 'Queens Park Rangers FC'),\n",
       " 'match4': ('Sunderland AFC', 'Watford FC'),\n",
       " 'match5': ('Swansea City AFC', 'Norwich City FC'),\n",
       " 'match6': ('Leicester City FC', 'Preston North End FC'),\n",
       " 'match7': ('Newcastle United FC', 'Paris Saint-Germain FC'),\n",
       " 'match8': ('RB Leipzig', 'Manchester City FC'),\n",
       " 'match9': ('Celtic FC', 'SS Lazio'),\n",
       " 'match10': ('Rotherham United FC', 'Bristol City FC'),\n",
       " 'match11': ('FK Crvena Zvezda', 'BSC Young Boys'),\n",
       " 'match12': ('FC Porto', 'FC Barcelona'),\n",
       " 'match13': ('Borussia Dortmund', 'AC Milan')}"
      ]
     },
     "execution_count": 6,
     "metadata": {},
     "output_type": "execute_result"
    }
   ],
   "source": [
    "\n",
    "matches_dict={f'match{i}':(m['homeTeam']['name'], m['awayTeam']['name']) for i, m in enumerate(r['matches'])}\n",
    "matches_dict"
   ]
  },
  {
   "cell_type": "code",
   "execution_count": 19,
   "metadata": {},
   "outputs": [
    {
     "data": {
      "text/plain": [
       "[1864,\n",
       " 1887,\n",
       " 78,\n",
       " 675,\n",
       " 338,\n",
       " 1081,\n",
       " 72,\n",
       " 68,\n",
       " 1076,\n",
       " 59,\n",
       " 341,\n",
       " 69,\n",
       " 71,\n",
       " 346,\n",
       " 67,\n",
       " 524,\n",
       " 721,\n",
       " 65,\n",
       " 732,\n",
       " 110,\n",
       " 385,\n",
       " 387,\n",
       " 4,\n",
       " 98,\n",
       " 7283,\n",
       " 1871,\n",
       " 503,\n",
       " 81]"
      ]
     },
     "execution_count": 19,
     "metadata": {},
     "output_type": "execute_result"
    }
   ],
   "source": [
    "team_ids = []\n",
    "for match in r['matches']:\n",
    "    team_ids.append(match['homeTeam']['id'])\n",
    "    team_ids.append(match['awayTeam']['id'])\n",
    "\n",
    "team_ids"
   ]
  },
  {
   "cell_type": "code",
   "execution_count": 20,
   "metadata": {},
   "outputs": [
    {
     "data": {
      "text/plain": [
       "datetime.date(2023, 9, 27)"
      ]
     },
     "execution_count": 20,
     "metadata": {},
     "output_type": "execute_result"
    }
   ],
   "source": [
    "datetime.date.today() - datetime.timedelta(days=7)"
   ]
  },
  {
   "cell_type": "code",
   "execution_count": 21,
   "metadata": {},
   "outputs": [
    {
     "data": {
      "text/plain": [
       "datetime.date(2023, 9, 27)"
      ]
     },
     "execution_count": 21,
     "metadata": {},
     "output_type": "execute_result"
    }
   ],
   "source": [
    "datetime.date.today() - datetime.timedelta(weeks=1)"
   ]
  },
  {
   "cell_type": "code",
   "execution_count": 22,
   "metadata": {},
   "outputs": [],
   "source": [
    "team_matches_endpoint = '/v4/teams/{id}/matches?dateto={dateto}&datefrom={datefrom}&limit={limit}'\n",
    "team_id = 28\n",
    "headers = {'X-Auth-Token': '9737e6097cd74e1481cfd3eb93f2bfea'}\n",
    "\n",
    "url = base_url + matches_endpoint\n",
    "\n",
    "response = requests.get(\n",
    "    url=url.format(\n",
    "        id=team_id, \n",
    "        dateto=datetime.date.today(), \n",
    "        datefrom=datetime.date.today() - datetime.timedelta(weeks=50), \n",
    "        limit=10\n",
    "        ),\n",
    "    headers=headers\n",
    ")\n",
    "\n",
    "r = response.json()"
   ]
  },
  {
   "cell_type": "code",
   "execution_count": 23,
   "metadata": {},
   "outputs": [
    {
     "data": {
      "text/plain": [
       "dict_keys(['filters', 'resultSet', 'matches'])"
      ]
     },
     "execution_count": 23,
     "metadata": {},
     "output_type": "execute_result"
    }
   ],
   "source": [
    "r.keys()"
   ]
  },
  {
   "cell_type": "code",
   "execution_count": 24,
   "metadata": {},
   "outputs": [
    {
     "data": {
      "text/plain": [
       "dict_keys(['area', 'competition', 'season', 'id', 'utcDate', 'status', 'matchday', 'stage', 'group', 'lastUpdated', 'homeTeam', 'awayTeam', 'score', 'odds', 'referees'])"
      ]
     },
     "execution_count": 24,
     "metadata": {},
     "output_type": "execute_result"
    }
   ],
   "source": [
    "r['matches'][0].keys()"
   ]
  },
  {
   "cell_type": "code",
   "execution_count": 25,
   "metadata": {},
   "outputs": [
    {
     "data": {
      "text/plain": [
       "{'winner': None,\n",
       " 'duration': 'REGULAR',\n",
       " 'fullTime': {'home': None, 'away': None},\n",
       " 'halfTime': {'home': None, 'away': None}}"
      ]
     },
     "execution_count": 25,
     "metadata": {},
     "output_type": "execute_result"
    }
   ],
   "source": [
    "r['matches'][0]['score']"
   ]
  },
  {
   "cell_type": "code",
   "execution_count": 26,
   "metadata": {},
   "outputs": [
    {
     "name": "stdout",
     "output_type": "stream",
     "text": [
      "{'area': {'id': 2077, 'name': 'Europe', 'code': 'EUR', 'flag': 'https://crests.football-data.org/EUR.svg'}, 'competition': {'id': 2001, 'name': 'UEFA Champions League', 'code': 'CL', 'type': 'CUP', 'emblem': 'https://crests.football-data.org/CL.png'}, 'season': {'id': 1630, 'startDate': '2023-09-19', 'endDate': '2024-06-01', 'currentMatchday': 2, 'winner': None}, 'id': 451611, 'utcDate': '2023-10-04T16:45:00Z', 'status': 'TIMED', 'matchday': 2, 'stage': 'GROUP_STAGE', 'group': 'GROUP_E', 'lastUpdated': '2023-09-02T15:20:01Z', 'homeTeam': {'id': 78, 'name': 'Club Atlético de Madrid', 'shortName': 'Atleti', 'tla': 'ATL', 'crest': 'https://crests.football-data.org/78.svg'}, 'awayTeam': {'id': 675, 'name': 'Feyenoord Rotterdam', 'shortName': 'Feyenoord', 'tla': 'FEY', 'crest': 'https://crests.football-data.org/675.png'}, 'score': {'winner': None, 'duration': 'REGULAR', 'fullTime': {'home': None, 'away': None}, 'halfTime': {'home': None, 'away': None}}, 'odds': {'msg': 'Activate Odds-Package in User-Panel to retrieve odds.'}, 'referees': []}\n",
      "{'area': {'id': 2077, 'name': 'Europe', 'code': 'EUR', 'flag': 'https://crests.football-data.org/EUR.svg'}, 'competition': {'id': 2001, 'name': 'UEFA Champions League', 'code': 'CL', 'type': 'CUP', 'emblem': 'https://crests.football-data.org/CL.png'}, 'season': {'id': 1630, 'startDate': '2023-09-19', 'endDate': '2024-06-01', 'currentMatchday': 2, 'winner': None}, 'id': 451655, 'utcDate': '2023-10-04T16:45:00Z', 'status': 'TIMED', 'matchday': 2, 'stage': 'GROUP_STAGE', 'group': 'GROUP_H', 'lastUpdated': '2023-09-02T15:20:02Z', 'homeTeam': {'id': 1864, 'name': 'Royal Antwerp FC', 'shortName': 'Antwerp FC', 'tla': 'ANT', 'crest': 'https://crests.football-data.org/1864.png'}, 'awayTeam': {'id': 1887, 'name': 'FK Shakhtar Donetsk', 'shortName': 'Shaktar', 'tla': 'SHD', 'crest': 'https://crests.football-data.org/1887.png'}, 'score': {'winner': None, 'duration': 'REGULAR', 'fullTime': {'home': None, 'away': None}, 'halfTime': {'home': None, 'away': None}}, 'odds': {'msg': 'Activate Odds-Package in User-Panel to retrieve odds.'}, 'referees': []}\n",
      "{'area': {'id': 2072, 'name': 'England', 'code': 'ENG', 'flag': 'https://crests.football-data.org/770.svg'}, 'competition': {'id': 2016, 'name': 'Championship', 'code': 'ELC', 'type': 'LEAGUE', 'emblem': 'https://crests.football-data.org/ELC.png'}, 'season': {'id': 1573, 'startDate': '2023-08-04', 'endDate': '2024-05-04', 'currentMatchday': 10, 'winner': None}, 'id': 436789, 'utcDate': '2023-10-04T18:45:00Z', 'status': 'TIMED', 'matchday': 10, 'stage': 'REGULAR_SEASON', 'group': None, 'lastUpdated': '2023-08-02T16:20:18Z', 'homeTeam': {'id': 71, 'name': 'Sunderland AFC', 'shortName': 'Sunderland', 'tla': 'SUN', 'crest': 'https://crests.football-data.org/71.png'}, 'awayTeam': {'id': 346, 'name': 'Watford FC', 'shortName': 'Watford', 'tla': 'WAT', 'crest': 'https://crests.football-data.org/346.png'}, 'score': {'winner': None, 'duration': 'REGULAR', 'fullTime': {'home': None, 'away': None}, 'halfTime': {'home': None, 'away': None}}, 'odds': {'msg': 'Activate Odds-Package in User-Panel to retrieve odds.'}, 'referees': []}\n",
      "{'area': {'id': 2072, 'name': 'England', 'code': 'ENG', 'flag': 'https://crests.football-data.org/770.svg'}, 'competition': {'id': 2016, 'name': 'Championship', 'code': 'ELC', 'type': 'LEAGUE', 'emblem': 'https://crests.football-data.org/ELC.png'}, 'season': {'id': 1573, 'startDate': '2023-08-04', 'endDate': '2024-05-04', 'currentMatchday': 10, 'winner': None}, 'id': 436792, 'utcDate': '2023-10-04T18:45:00Z', 'status': 'TIMED', 'matchday': 10, 'stage': 'REGULAR_SEASON', 'group': None, 'lastUpdated': '2023-08-02T16:20:18Z', 'homeTeam': {'id': 338, 'name': 'Leicester City FC', 'shortName': 'Leicester City', 'tla': 'LEI', 'crest': 'https://crests.football-data.org/338.png'}, 'awayTeam': {'id': 1081, 'name': 'Preston North End FC', 'shortName': 'Preston NE', 'tla': 'PNE', 'crest': 'https://crests.football-data.org/1081.png'}, 'score': {'winner': None, 'duration': 'REGULAR', 'fullTime': {'home': None, 'away': None}, 'halfTime': {'home': None, 'away': None}}, 'odds': {'msg': 'Activate Odds-Package in User-Panel to retrieve odds.'}, 'referees': []}\n",
      "{'area': {'id': 2072, 'name': 'England', 'code': 'ENG', 'flag': 'https://crests.football-data.org/770.svg'}, 'competition': {'id': 2016, 'name': 'Championship', 'code': 'ELC', 'type': 'LEAGUE', 'emblem': 'https://crests.football-data.org/ELC.png'}, 'season': {'id': 1573, 'startDate': '2023-08-04', 'endDate': '2024-05-04', 'currentMatchday': 10, 'winner': None}, 'id': 436794, 'utcDate': '2023-10-04T18:45:00Z', 'status': 'TIMED', 'matchday': 10, 'stage': 'REGULAR_SEASON', 'group': None, 'lastUpdated': '2023-08-02T16:20:18Z', 'homeTeam': {'id': 72, 'name': 'Swansea City AFC', 'shortName': 'Swansea', 'tla': 'SWA', 'crest': 'https://crests.football-data.org/72.png'}, 'awayTeam': {'id': 68, 'name': 'Norwich City FC', 'shortName': 'Norwich', 'tla': 'NOR', 'crest': 'https://crests.football-data.org/68.png'}, 'score': {'winner': None, 'duration': 'REGULAR', 'fullTime': {'home': None, 'away': None}, 'halfTime': {'home': None, 'away': None}}, 'odds': {'msg': 'Activate Odds-Package in User-Panel to retrieve odds.'}, 'referees': []}\n",
      "{'area': {'id': 2072, 'name': 'England', 'code': 'ENG', 'flag': 'https://crests.football-data.org/770.svg'}, 'competition': {'id': 2016, 'name': 'Championship', 'code': 'ELC', 'type': 'LEAGUE', 'emblem': 'https://crests.football-data.org/ELC.png'}, 'season': {'id': 1573, 'startDate': '2023-08-04', 'endDate': '2024-05-04', 'currentMatchday': 10, 'winner': None}, 'id': 436790, 'utcDate': '2023-10-04T18:45:00Z', 'status': 'TIMED', 'matchday': 10, 'stage': 'REGULAR_SEASON', 'group': None, 'lastUpdated': '2023-08-02T16:20:18Z', 'homeTeam': {'id': 1076, 'name': 'Coventry City FC', 'shortName': 'Coventry City', 'tla': 'COV', 'crest': 'https://crests.football-data.org/1076.png'}, 'awayTeam': {'id': 59, 'name': 'Blackburn Rovers FC', 'shortName': 'Blackburn', 'tla': 'BLA', 'crest': 'https://crests.football-data.org/59.png'}, 'score': {'winner': None, 'duration': 'REGULAR', 'fullTime': {'home': None, 'away': None}, 'halfTime': {'home': None, 'away': None}}, 'odds': {'msg': 'Activate Odds-Package in User-Panel to retrieve odds.'}, 'referees': []}\n",
      "{'area': {'id': 2072, 'name': 'England', 'code': 'ENG', 'flag': 'https://crests.football-data.org/770.svg'}, 'competition': {'id': 2016, 'name': 'Championship', 'code': 'ELC', 'type': 'LEAGUE', 'emblem': 'https://crests.football-data.org/ELC.png'}, 'season': {'id': 1573, 'startDate': '2023-08-04', 'endDate': '2024-05-04', 'currentMatchday': 10, 'winner': None}, 'id': 436791, 'utcDate': '2023-10-04T18:45:00Z', 'status': 'TIMED', 'matchday': 10, 'stage': 'REGULAR_SEASON', 'group': None, 'lastUpdated': '2023-08-02T16:20:18Z', 'homeTeam': {'id': 341, 'name': 'Leeds United FC', 'shortName': 'Leeds United', 'tla': 'LEE', 'crest': 'https://crests.football-data.org/341.png'}, 'awayTeam': {'id': 69, 'name': 'Queens Park Rangers FC', 'shortName': 'QPR', 'tla': 'QPR', 'crest': 'https://crests.football-data.org/69.png'}, 'score': {'winner': None, 'duration': 'REGULAR', 'fullTime': {'home': None, 'away': None}, 'halfTime': {'home': None, 'away': None}}, 'odds': {'msg': 'Activate Odds-Package in User-Panel to retrieve odds.'}, 'referees': []}\n",
      "{'area': {'id': 2077, 'name': 'Europe', 'code': 'EUR', 'flag': 'https://crests.football-data.org/EUR.svg'}, 'competition': {'id': 2001, 'name': 'UEFA Champions League', 'code': 'CL', 'type': 'CUP', 'emblem': 'https://crests.football-data.org/CL.png'}, 'season': {'id': 1630, 'startDate': '2023-09-19', 'endDate': '2024-06-01', 'currentMatchday': 2, 'winner': None}, 'id': 451634, 'utcDate': '2023-10-04T19:00:00Z', 'status': 'TIMED', 'matchday': 2, 'stage': 'GROUP_STAGE', 'group': 'GROUP_G', 'lastUpdated': '2023-09-02T15:20:02Z', 'homeTeam': {'id': 7283, 'name': 'FK Crvena Zvezda', 'shortName': 'Crvena Zvedza', 'tla': 'CRV', 'crest': 'https://crests.football-data.org/7283.png'}, 'awayTeam': {'id': 1871, 'name': 'BSC Young Boys', 'shortName': 'Young Boys', 'tla': 'YOB', 'crest': 'https://crests.football-data.org/1871.png'}, 'score': {'winner': None, 'duration': 'REGULAR', 'fullTime': {'home': None, 'away': None}, 'halfTime': {'home': None, 'away': None}}, 'odds': {'msg': 'Activate Odds-Package in User-Panel to retrieve odds.'}, 'referees': []}\n",
      "{'area': {'id': 2077, 'name': 'Europe', 'code': 'EUR', 'flag': 'https://crests.football-data.org/EUR.svg'}, 'competition': {'id': 2001, 'name': 'UEFA Champions League', 'code': 'CL', 'type': 'CUP', 'emblem': 'https://crests.football-data.org/CL.png'}, 'season': {'id': 1630, 'startDate': '2023-09-19', 'endDate': '2024-06-01', 'currentMatchday': 2, 'winner': None}, 'id': 451646, 'utcDate': '2023-10-04T19:00:00Z', 'status': 'TIMED', 'matchday': 2, 'stage': 'GROUP_STAGE', 'group': 'GROUP_H', 'lastUpdated': '2023-09-02T15:20:02Z', 'homeTeam': {'id': 503, 'name': 'FC Porto', 'shortName': 'Porto', 'tla': 'FCP', 'crest': 'https://crests.football-data.org/503.png'}, 'awayTeam': {'id': 81, 'name': 'FC Barcelona', 'shortName': 'Barça', 'tla': 'FCB', 'crest': 'https://crests.football-data.org/81.svg'}, 'score': {'winner': None, 'duration': 'REGULAR', 'fullTime': {'home': None, 'away': None}, 'halfTime': {'home': None, 'away': None}}, 'odds': {'msg': 'Activate Odds-Package in User-Panel to retrieve odds.'}, 'referees': []}\n",
      "{'area': {'id': 2077, 'name': 'Europe', 'code': 'EUR', 'flag': 'https://crests.football-data.org/EUR.svg'}, 'competition': {'id': 2001, 'name': 'UEFA Champions League', 'code': 'CL', 'type': 'CUP', 'emblem': 'https://crests.football-data.org/CL.png'}, 'season': {'id': 1630, 'startDate': '2023-09-19', 'endDate': '2024-06-01', 'currentMatchday': 2, 'winner': None}, 'id': 451622, 'utcDate': '2023-10-04T19:00:00Z', 'status': 'TIMED', 'matchday': 2, 'stage': 'GROUP_STAGE', 'group': 'GROUP_F', 'lastUpdated': '2023-09-02T15:20:02Z', 'homeTeam': {'id': 4, 'name': 'Borussia Dortmund', 'shortName': 'Dortmund', 'tla': 'BVB', 'crest': 'https://crests.football-data.org/4.png'}, 'awayTeam': {'id': 98, 'name': 'AC Milan', 'shortName': 'Milan', 'tla': 'MIL', 'crest': 'https://crests.football-data.org/98.svg'}, 'score': {'winner': None, 'duration': 'REGULAR', 'fullTime': {'home': None, 'away': None}, 'halfTime': {'home': None, 'away': None}}, 'odds': {'msg': 'Activate Odds-Package in User-Panel to retrieve odds.'}, 'referees': []}\n",
      "{'area': {'id': 2072, 'name': 'England', 'code': 'ENG', 'flag': 'https://crests.football-data.org/770.svg'}, 'competition': {'id': 2016, 'name': 'Championship', 'code': 'ELC', 'type': 'LEAGUE', 'emblem': 'https://crests.football-data.org/ELC.png'}, 'season': {'id': 1573, 'startDate': '2023-08-04', 'endDate': '2024-05-04', 'currentMatchday': 10, 'winner': None}, 'id': 436793, 'utcDate': '2023-10-04T19:00:00Z', 'status': 'TIMED', 'matchday': 10, 'stage': 'REGULAR_SEASON', 'group': None, 'lastUpdated': '2023-08-22T16:20:15Z', 'homeTeam': {'id': 385, 'name': 'Rotherham United FC', 'shortName': 'Rotherham Utd', 'tla': 'ROT', 'crest': 'https://crests.football-data.org/385.png'}, 'awayTeam': {'id': 387, 'name': 'Bristol City FC', 'shortName': 'Bristol City', 'tla': 'BRI', 'crest': 'https://crests.football-data.org/387.svg'}, 'score': {'winner': None, 'duration': 'REGULAR', 'fullTime': {'home': None, 'away': None}, 'halfTime': {'home': None, 'away': None}}, 'odds': {'msg': 'Activate Odds-Package in User-Panel to retrieve odds.'}, 'referees': []}\n",
      "{'area': {'id': 2077, 'name': 'Europe', 'code': 'EUR', 'flag': 'https://crests.football-data.org/EUR.svg'}, 'competition': {'id': 2001, 'name': 'UEFA Champions League', 'code': 'CL', 'type': 'CUP', 'emblem': 'https://crests.football-data.org/CL.png'}, 'season': {'id': 1630, 'startDate': '2023-09-19', 'endDate': '2024-06-01', 'currentMatchday': 2, 'winner': None}, 'id': 451644, 'utcDate': '2023-10-04T19:00:00Z', 'status': 'TIMED', 'matchday': 2, 'stage': 'GROUP_STAGE', 'group': 'GROUP_G', 'lastUpdated': '2023-09-02T15:20:02Z', 'homeTeam': {'id': 721, 'name': 'RB Leipzig', 'shortName': 'RB Leipzig', 'tla': 'RBL', 'crest': 'https://crests.football-data.org/721.png'}, 'awayTeam': {'id': 65, 'name': 'Manchester City FC', 'shortName': 'Man City', 'tla': 'MCI', 'crest': 'https://crests.football-data.org/65.png'}, 'score': {'winner': None, 'duration': 'REGULAR', 'fullTime': {'home': None, 'away': None}, 'halfTime': {'home': None, 'away': None}}, 'odds': {'msg': 'Activate Odds-Package in User-Panel to retrieve odds.'}, 'referees': []}\n",
      "{'area': {'id': 2077, 'name': 'Europe', 'code': 'EUR', 'flag': 'https://crests.football-data.org/EUR.svg'}, 'competition': {'id': 2001, 'name': 'UEFA Champions League', 'code': 'CL', 'type': 'CUP', 'emblem': 'https://crests.football-data.org/CL.png'}, 'season': {'id': 1630, 'startDate': '2023-09-19', 'endDate': '2024-06-01', 'currentMatchday': 2, 'winner': None}, 'id': 451617, 'utcDate': '2023-10-04T19:00:00Z', 'status': 'TIMED', 'matchday': 2, 'stage': 'GROUP_STAGE', 'group': 'GROUP_E', 'lastUpdated': '2023-09-02T15:20:01Z', 'homeTeam': {'id': 732, 'name': 'Celtic FC', 'shortName': 'Celtic', 'tla': 'CEL', 'crest': 'https://crests.football-data.org/732.png'}, 'awayTeam': {'id': 110, 'name': 'SS Lazio', 'shortName': 'Lazio', 'tla': 'LAZ', 'crest': 'https://crests.football-data.org/110.svg'}, 'score': {'winner': None, 'duration': 'REGULAR', 'fullTime': {'home': None, 'away': None}, 'halfTime': {'home': None, 'away': None}}, 'odds': {'msg': 'Activate Odds-Package in User-Panel to retrieve odds.'}, 'referees': []}\n",
      "{'area': {'id': 2077, 'name': 'Europe', 'code': 'EUR', 'flag': 'https://crests.football-data.org/EUR.svg'}, 'competition': {'id': 2001, 'name': 'UEFA Champions League', 'code': 'CL', 'type': 'CUP', 'emblem': 'https://crests.football-data.org/CL.png'}, 'season': {'id': 1630, 'startDate': '2023-09-19', 'endDate': '2024-06-01', 'currentMatchday': 2, 'winner': None}, 'id': 451631, 'utcDate': '2023-10-04T19:00:00Z', 'status': 'TIMED', 'matchday': 2, 'stage': 'GROUP_STAGE', 'group': 'GROUP_F', 'lastUpdated': '2023-09-02T15:20:02Z', 'homeTeam': {'id': 67, 'name': 'Newcastle United FC', 'shortName': 'Newcastle', 'tla': 'NEW', 'crest': 'https://crests.football-data.org/67.png'}, 'awayTeam': {'id': 524, 'name': 'Paris Saint-Germain FC', 'shortName': 'PSG', 'tla': 'PSG', 'crest': 'https://crests.football-data.org/524.png'}, 'score': {'winner': None, 'duration': 'REGULAR', 'fullTime': {'home': None, 'away': None}, 'halfTime': {'home': None, 'away': None}}, 'odds': {'msg': 'Activate Odds-Package in User-Panel to retrieve odds.'}, 'referees': []}\n"
     ]
    }
   ],
   "source": [
    "for match in r['matches']:\n",
    "    print(match)\n"
   ]
  },
  {
   "cell_type": "code",
   "execution_count": null,
   "metadata": {},
   "outputs": [],
   "source": []
  },
  {
   "cell_type": "code",
   "execution_count": null,
   "metadata": {},
   "outputs": [],
   "source": []
  }
 ],
 "metadata": {
  "kernelspec": {
   "display_name": "Python 3",
   "language": "python",
   "name": "python3"
  },
  "language_info": {
   "codemirror_mode": {
    "name": "ipython",
    "version": 3
   },
   "file_extension": ".py",
   "mimetype": "text/x-python",
   "name": "python",
   "nbconvert_exporter": "python",
   "pygments_lexer": "ipython3",
   "version": "3.11.5"
  },
  "orig_nbformat": 4
 },
 "nbformat": 4,
 "nbformat_minor": 2
}
