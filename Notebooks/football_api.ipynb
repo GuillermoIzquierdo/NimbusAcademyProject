{
 "cells": [
  {
   "cell_type": "code",
   "execution_count": 60,
   "metadata": {},
   "outputs": [],
   "source": [
    "import pandas as pd\n",
    "import requests\n",
    "import os\n",
    "import datetime"
   ]
  },
  {
   "cell_type": "code",
   "execution_count": 27,
   "metadata": {},
   "outputs": [
    {
     "data": {
      "text/plain": [
       "b'{\"filters\":{\"dateFrom\":\"2023-10-03\",\"dateTo\":\"2023-10-04\",\"permission\":null},\"resultSet\":{\"count\":0},\"matches\":[]}'"
      ]
     },
     "execution_count": 27,
     "metadata": {},
     "output_type": "execute_result"
    }
   ],
   "source": [
    "url = 'https://api.football-data.org/v4/matches'\n",
    "\n",
    "requests.get(url).content"
   ]
  },
  {
   "cell_type": "code",
   "execution_count": 28,
   "metadata": {},
   "outputs": [
    {
     "data": {
      "text/plain": [
       "3"
      ]
     },
     "execution_count": 28,
     "metadata": {},
     "output_type": "execute_result"
    }
   ],
   "source": [
    "base_url = 'https://api.football-data.org'\n",
    "matches_endpoint = '/v4/matches'\n",
    "# champions_league_id = 2001\n",
    "\n",
    "headers = { 'X-Auth-Token': '9737e6097cd74e1481cfd3eb93f2bfea'}\n",
    "\n",
    "url = base_url + matches_endpoint\n",
    "\n",
    "response = requests.get(\n",
    "    url=url,\n",
    "    headers=headers\n",
    ")\n",
    "\n",
    "len(response.json())"
   ]
  },
  {
   "cell_type": "code",
   "execution_count": 33,
   "metadata": {},
   "outputs": [],
   "source": [
    "base_url = 'https://api.football-data.org'\n",
    "competition_endpoint = '/v4/competitions/{id}/teams'\n",
    "champions_league_id = 2001\n",
    "\n",
    "headers = {'X-Auth-Token': '9737e6097cd74e1481cfd3eb93f2bfea'}\n",
    "\n",
    "url = base_url + matches_endpoint\n",
    "\n",
    "response = requests.get(\n",
    "    url=url.format(id=champions_league_id),\n",
    "    headers=headers\n",
    ")\n",
    "\n",
    "r = response.json()"
   ]
  },
  {
   "cell_type": "code",
   "execution_count": 41,
   "metadata": {},
   "outputs": [
    {
     "data": {
      "text/plain": [
       "dict_keys(['area', 'competition', 'season', 'id', 'utcDate', 'status', 'matchday', 'stage', 'group', 'lastUpdated', 'homeTeam', 'awayTeam', 'score', 'odds', 'referees'])"
      ]
     },
     "execution_count": 41,
     "metadata": {},
     "output_type": "execute_result"
    }
   ],
   "source": [
    "r['matches'][0].keys()"
   ]
  },
  {
   "cell_type": "code",
   "execution_count": 44,
   "metadata": {},
   "outputs": [
    {
     "data": {
      "text/plain": [
       "{'match0': ('1. FC Union Berlin', 'Sporting Clube de Braga'),\n",
       " 'match1': ('FC Red Bull Salzburg', 'Real Sociedad de Fútbol'),\n",
       " 'match2': ('Luton Town FC', 'Burnley FC'),\n",
       " 'match3': ('Ipswich Town FC', 'Hull City AFC'),\n",
       " 'match4': ('Birmingham City FC', 'Huddersfield Town AFC'),\n",
       " 'match5': ('Middlesbrough FC', 'Cardiff City FC'),\n",
       " 'match6': ('Plymouth Argyle FC', 'Millwall FC'),\n",
       " 'match7': ('Racing Club de Lens', 'Arsenal FC'),\n",
       " 'match8': ('FC København', 'FC Bayern München'),\n",
       " 'match9': ('FC Internazionale Milano', 'Sport Lisboa e Benfica'),\n",
       " 'match10': ('Stoke City FC', 'Southampton FC'),\n",
       " 'match11': ('PSV', 'Sevilla FC'),\n",
       " 'match12': ('SSC Napoli', 'Real Madrid CF'),\n",
       " 'match13': ('Manchester United FC', 'Galatasaray SK'),\n",
       " 'match14': ('West Bromwich Albion FC', 'Sheffield Wednesday FC')}"
      ]
     },
     "execution_count": 44,
     "metadata": {},
     "output_type": "execute_result"
    }
   ],
   "source": [
    "\n",
    "matches_dict={f'match{i}':(m['homeTeam']['name'], m['awayTeam']['name']) for i, m in enumerate(r['matches'])}\n",
    "matches_dict"
   ]
  },
  {
   "cell_type": "code",
   "execution_count": 50,
   "metadata": {},
   "outputs": [
    {
     "data": {
      "text/plain": [
       "[28,\n",
       " 5613,\n",
       " 1877,\n",
       " 92,\n",
       " 389,\n",
       " 328,\n",
       " 349,\n",
       " 322,\n",
       " 332,\n",
       " 394,\n",
       " 343,\n",
       " 715,\n",
       " 1138,\n",
       " 384,\n",
       " 546,\n",
       " 57,\n",
       " 1876,\n",
       " 5,\n",
       " 108,\n",
       " 1903,\n",
       " 70,\n",
       " 340,\n",
       " 674,\n",
       " 559,\n",
       " 113,\n",
       " 86,\n",
       " 66,\n",
       " 610,\n",
       " 74,\n",
       " 345,\n",
       " 28,\n",
       " 5613,\n",
       " 1877,\n",
       " 92,\n",
       " 389,\n",
       " 328,\n",
       " 349,\n",
       " 322,\n",
       " 332,\n",
       " 394,\n",
       " 343,\n",
       " 715,\n",
       " 1138,\n",
       " 384,\n",
       " 546,\n",
       " 57,\n",
       " 1876,\n",
       " 5,\n",
       " 108,\n",
       " 1903,\n",
       " 70,\n",
       " 340,\n",
       " 674,\n",
       " 559,\n",
       " 113,\n",
       " 86,\n",
       " 66,\n",
       " 610,\n",
       " 74,\n",
       " 345]"
      ]
     },
     "execution_count": 50,
     "metadata": {},
     "output_type": "execute_result"
    }
   ],
   "source": [
    "team_ids = []\n",
    "for match in r['matches']:\n",
    "    teams.append(match['homeTeam']['id'])\n",
    "    teams.append(match['awayTeam']['id'])\n",
    "\n",
    "teams"
   ]
  },
  {
   "cell_type": "code",
   "execution_count": 61,
   "metadata": {},
   "outputs": [
    {
     "data": {
      "text/plain": [
       "datetime.date(2023, 9, 26)"
      ]
     },
     "execution_count": 61,
     "metadata": {},
     "output_type": "execute_result"
    }
   ],
   "source": [
    "datetime.date.today() - datetime.timedelta(days=7)"
   ]
  },
  {
   "cell_type": "code",
   "execution_count": 94,
   "metadata": {},
   "outputs": [
    {
     "data": {
      "text/plain": [
       "datetime.date(2023, 9, 26)"
      ]
     },
     "execution_count": 94,
     "metadata": {},
     "output_type": "execute_result"
    }
   ],
   "source": [
    "datetime.date.today() - datetime.timedelta(weeks=1)"
   ]
  },
  {
   "cell_type": "code",
   "execution_count": 84,
   "metadata": {},
   "outputs": [],
   "source": [
    "team_matches_endpoint = '/v4/teams/{id}/matches?dateto={dateto}&datefrom={datefrom}&limit={limit}'\n",
    "team_id = 28\n",
    "headers = {'X-Auth-Token': '9737e6097cd74e1481cfd3eb93f2bfea'}\n",
    "\n",
    "url = base_url + matches_endpoint\n",
    "\n",
    "response = requests.get(\n",
    "    url=url.format(\n",
    "        id=team_id, \n",
    "        dateto=date.today(), \n",
    "        datefrom=datetime.date.today() - datetime.timedelta(weeks=50), \n",
    "        limit=10\n",
    "        ),\n",
    "    headers=headers\n",
    ")\n",
    "\n",
    "r = response.json()"
   ]
  },
  {
   "cell_type": "code",
   "execution_count": 86,
   "metadata": {},
   "outputs": [
    {
     "data": {
      "text/plain": [
       "dict_keys(['filters', 'resultSet', 'matches'])"
      ]
     },
     "execution_count": 86,
     "metadata": {},
     "output_type": "execute_result"
    }
   ],
   "source": [
    "r.keys()"
   ]
  },
  {
   "cell_type": "code",
   "execution_count": 87,
   "metadata": {},
   "outputs": [
    {
     "data": {
      "text/plain": [
       "dict_keys(['area', 'competition', 'season', 'id', 'utcDate', 'status', 'matchday', 'stage', 'group', 'lastUpdated', 'homeTeam', 'awayTeam', 'score', 'odds', 'referees'])"
      ]
     },
     "execution_count": 87,
     "metadata": {},
     "output_type": "execute_result"
    }
   ],
   "source": [
    "r['matches'][0].keys()"
   ]
  },
  {
   "cell_type": "code",
   "execution_count": 88,
   "metadata": {},
   "outputs": [
    {
     "data": {
      "text/plain": [
       "{'winner': None,\n",
       " 'duration': 'REGULAR',\n",
       " 'fullTime': {'home': None, 'away': None},\n",
       " 'halfTime': {'home': None, 'away': None}}"
      ]
     },
     "execution_count": 88,
     "metadata": {},
     "output_type": "execute_result"
    }
   ],
   "source": [
    "r['matches'][0]['score']"
   ]
  },
  {
   "cell_type": "code",
   "execution_count": 91,
   "metadata": {},
   "outputs": [
    {
     "name": "stdout",
     "output_type": "stream",
     "text": [
      "{'area': {'id': 2077, 'name': 'Europe', 'code': 'EUR', 'flag': 'https://crests.football-data.org/EUR.svg'}, 'competition': {'id': 2001, 'name': 'UEFA Champions League', 'code': 'CL', 'type': 'CUP', 'emblem': 'https://crests.football-data.org/CL.png'}, 'season': {'id': 1630, 'startDate': '2023-09-19', 'endDate': '2024-06-01', 'currentMatchday': 2, 'winner': None}, 'id': 451587, 'utcDate': '2023-10-03T16:45:00Z', 'status': 'TIMED', 'matchday': 2, 'stage': 'GROUP_STAGE', 'group': 'GROUP_C', 'lastUpdated': '2023-09-02T15:20:01Z', 'homeTeam': {'id': 28, 'name': '1. FC Union Berlin', 'shortName': 'Union Berlin', 'tla': 'UNB', 'crest': 'https://crests.football-data.org/28.svg'}, 'awayTeam': {'id': 5613, 'name': 'Sporting Clube de Braga', 'shortName': 'Braga', 'tla': 'SCB', 'crest': 'https://crests.football-data.org/5613.png'}, 'score': {'winner': None, 'duration': 'REGULAR', 'fullTime': {'home': None, 'away': None}, 'halfTime': {'home': None, 'away': None}}, 'odds': {'msg': 'Activate Odds-Package in User-Panel to retrieve odds.'}, 'referees': []}\n",
      "{'area': {'id': 2077, 'name': 'Europe', 'code': 'EUR', 'flag': 'https://crests.football-data.org/EUR.svg'}, 'competition': {'id': 2001, 'name': 'UEFA Champions League', 'code': 'CL', 'type': 'CUP', 'emblem': 'https://crests.football-data.org/CL.png'}, 'season': {'id': 1630, 'startDate': '2023-09-19', 'endDate': '2024-06-01', 'currentMatchday': 2, 'winner': None}, 'id': 451603, 'utcDate': '2023-10-03T16:45:00Z', 'status': 'TIMED', 'matchday': 2, 'stage': 'GROUP_STAGE', 'group': 'GROUP_D', 'lastUpdated': '2023-09-02T15:20:01Z', 'homeTeam': {'id': 1877, 'name': 'FC Red Bull Salzburg', 'shortName': 'RB Salzburg', 'tla': 'RBS', 'crest': 'https://crests.football-data.org/1877.png'}, 'awayTeam': {'id': 92, 'name': 'Real Sociedad de Fútbol', 'shortName': 'Real Sociedad', 'tla': 'RSO', 'crest': 'https://crests.football-data.org/92.svg'}, 'score': {'winner': None, 'duration': 'REGULAR', 'fullTime': {'home': None, 'away': None}, 'halfTime': {'home': None, 'away': None}}, 'odds': {'msg': 'Activate Odds-Package in User-Panel to retrieve odds.'}, 'referees': []}\n",
      "{'area': {'id': 2072, 'name': 'England', 'code': 'ENG', 'flag': 'https://crests.football-data.org/770.svg'}, 'competition': {'id': 2021, 'name': 'Premier League', 'code': 'PL', 'type': 'LEAGUE', 'emblem': 'https://crests.football-data.org/PL.png'}, 'season': {'id': 1564, 'startDate': '2023-08-11', 'endDate': '2024-05-19', 'currentMatchday': 7, 'winner': None}, 'id': 435957, 'utcDate': '2023-10-03T18:30:00Z', 'status': 'TIMED', 'matchday': 2, 'stage': 'REGULAR_SEASON', 'group': None, 'lastUpdated': '2023-09-08T10:20:22Z', 'homeTeam': {'id': 389, 'name': 'Luton Town FC', 'shortName': 'Luton Town', 'tla': 'LUT', 'crest': 'https://crests.football-data.org/389.png'}, 'awayTeam': {'id': 328, 'name': 'Burnley FC', 'shortName': 'Burnley', 'tla': 'BUR', 'crest': 'https://crests.football-data.org/328.png'}, 'score': {'winner': None, 'duration': 'REGULAR', 'fullTime': {'home': None, 'away': None}, 'halfTime': {'home': None, 'away': None}}, 'odds': {'msg': 'Activate Odds-Package in User-Panel to retrieve odds.'}, 'referees': []}\n",
      "{'area': {'id': 2072, 'name': 'England', 'code': 'ENG', 'flag': 'https://crests.football-data.org/770.svg'}, 'competition': {'id': 2016, 'name': 'Championship', 'code': 'ELC', 'type': 'LEAGUE', 'emblem': 'https://crests.football-data.org/ELC.png'}, 'season': {'id': 1573, 'startDate': '2023-08-04', 'endDate': '2024-05-04', 'currentMatchday': 10, 'winner': None}, 'id': 436785, 'utcDate': '2023-10-03T18:45:00Z', 'status': 'TIMED', 'matchday': 10, 'stage': 'REGULAR_SEASON', 'group': None, 'lastUpdated': '2023-08-02T16:20:18Z', 'homeTeam': {'id': 349, 'name': 'Ipswich Town FC', 'shortName': 'Ipswich Town', 'tla': 'IPS', 'crest': 'https://crests.football-data.org/349.png'}, 'awayTeam': {'id': 322, 'name': 'Hull City AFC', 'shortName': 'Hull City', 'tla': 'HUL', 'crest': 'https://crests.football-data.org/322.png'}, 'score': {'winner': None, 'duration': 'REGULAR', 'fullTime': {'home': None, 'away': None}, 'halfTime': {'home': None, 'away': None}}, 'odds': {'msg': 'Activate Odds-Package in User-Panel to retrieve odds.'}, 'referees': []}\n",
      "{'area': {'id': 2072, 'name': 'England', 'code': 'ENG', 'flag': 'https://crests.football-data.org/770.svg'}, 'competition': {'id': 2016, 'name': 'Championship', 'code': 'ELC', 'type': 'LEAGUE', 'emblem': 'https://crests.football-data.org/ELC.png'}, 'season': {'id': 1573, 'startDate': '2023-08-04', 'endDate': '2024-05-04', 'currentMatchday': 10, 'winner': None}, 'id': 436784, 'utcDate': '2023-10-03T18:45:00Z', 'status': 'TIMED', 'matchday': 10, 'stage': 'REGULAR_SEASON', 'group': None, 'lastUpdated': '2023-08-02T16:20:18Z', 'homeTeam': {'id': 343, 'name': 'Middlesbrough FC', 'shortName': 'Middlesbrough', 'tla': 'MID', 'crest': 'https://crests.football-data.org/343.png'}, 'awayTeam': {'id': 715, 'name': 'Cardiff City FC', 'shortName': 'Cardiff', 'tla': 'CAR', 'crest': 'https://crests.football-data.org/715.png'}, 'score': {'winner': None, 'duration': 'REGULAR', 'fullTime': {'home': None, 'away': None}, 'halfTime': {'home': None, 'away': None}}, 'odds': {'msg': 'Activate Odds-Package in User-Panel to retrieve odds.'}, 'referees': []}\n",
      "{'area': {'id': 2072, 'name': 'England', 'code': 'ENG', 'flag': 'https://crests.football-data.org/770.svg'}, 'competition': {'id': 2016, 'name': 'Championship', 'code': 'ELC', 'type': 'LEAGUE', 'emblem': 'https://crests.football-data.org/ELC.png'}, 'season': {'id': 1573, 'startDate': '2023-08-04', 'endDate': '2024-05-04', 'currentMatchday': 10, 'winner': None}, 'id': 436783, 'utcDate': '2023-10-03T18:45:00Z', 'status': 'TIMED', 'matchday': 10, 'stage': 'REGULAR_SEASON', 'group': None, 'lastUpdated': '2023-08-02T16:20:18Z', 'homeTeam': {'id': 332, 'name': 'Birmingham City FC', 'shortName': 'Birmingham', 'tla': 'BIR', 'crest': 'https://crests.football-data.org/332.png'}, 'awayTeam': {'id': 394, 'name': 'Huddersfield Town AFC', 'shortName': 'Huddersfield', 'tla': 'HUD', 'crest': 'https://crests.football-data.org/394.png'}, 'score': {'winner': None, 'duration': 'REGULAR', 'fullTime': {'home': None, 'away': None}, 'halfTime': {'home': None, 'away': None}}, 'odds': {'msg': 'Activate Odds-Package in User-Panel to retrieve odds.'}, 'referees': []}\n",
      "{'area': {'id': 2072, 'name': 'England', 'code': 'ENG', 'flag': 'https://crests.football-data.org/770.svg'}, 'competition': {'id': 2016, 'name': 'Championship', 'code': 'ELC', 'type': 'LEAGUE', 'emblem': 'https://crests.football-data.org/ELC.png'}, 'season': {'id': 1573, 'startDate': '2023-08-04', 'endDate': '2024-05-04', 'currentMatchday': 10, 'winner': None}, 'id': 436786, 'utcDate': '2023-10-03T18:45:00Z', 'status': 'TIMED', 'matchday': 10, 'stage': 'REGULAR_SEASON', 'group': None, 'lastUpdated': '2023-08-02T16:20:18Z', 'homeTeam': {'id': 1138, 'name': 'Plymouth Argyle FC', 'shortName': 'Plymouth Arg', 'tla': 'PLY', 'crest': 'https://crests.football-data.org/1138.png'}, 'awayTeam': {'id': 384, 'name': 'Millwall FC', 'shortName': 'Millwall', 'tla': 'MIL', 'crest': 'https://crests.football-data.org/384.png'}, 'score': {'winner': None, 'duration': 'REGULAR', 'fullTime': {'home': None, 'away': None}, 'halfTime': {'home': None, 'away': None}}, 'odds': {'msg': 'Activate Odds-Package in User-Panel to retrieve odds.'}, 'referees': []}\n",
      "{'area': {'id': 2077, 'name': 'Europe', 'code': 'EUR', 'flag': 'https://crests.football-data.org/EUR.svg'}, 'competition': {'id': 2001, 'name': 'UEFA Champions League', 'code': 'CL', 'type': 'CUP', 'emblem': 'https://crests.football-data.org/CL.png'}, 'season': {'id': 1630, 'startDate': '2023-09-19', 'endDate': '2024-06-01', 'currentMatchday': 2, 'winner': None}, 'id': 451576, 'utcDate': '2023-10-03T19:00:00Z', 'status': 'TIMED', 'matchday': 2, 'stage': 'GROUP_STAGE', 'group': 'GROUP_B', 'lastUpdated': '2023-09-02T15:20:01Z', 'homeTeam': {'id': 546, 'name': 'Racing Club de Lens', 'shortName': 'RC Lens', 'tla': 'RCL', 'crest': 'https://crests.football-data.org/546.png'}, 'awayTeam': {'id': 57, 'name': 'Arsenal FC', 'shortName': 'Arsenal', 'tla': 'ARS', 'crest': 'https://crests.football-data.org/57.png'}, 'score': {'winner': None, 'duration': 'REGULAR', 'fullTime': {'home': None, 'away': None}, 'halfTime': {'home': None, 'away': None}}, 'odds': {'msg': 'Activate Odds-Package in User-Panel to retrieve odds.'}, 'referees': []}\n",
      "{'area': {'id': 2077, 'name': 'Europe', 'code': 'EUR', 'flag': 'https://crests.football-data.org/EUR.svg'}, 'competition': {'id': 2001, 'name': 'UEFA Champions League', 'code': 'CL', 'type': 'CUP', 'emblem': 'https://crests.football-data.org/CL.png'}, 'season': {'id': 1630, 'startDate': '2023-09-19', 'endDate': '2024-06-01', 'currentMatchday': 2, 'winner': None}, 'id': 451562, 'utcDate': '2023-10-03T19:00:00Z', 'status': 'TIMED', 'matchday': 2, 'stage': 'GROUP_STAGE', 'group': 'GROUP_A', 'lastUpdated': '2023-09-02T15:20:01Z', 'homeTeam': {'id': 1876, 'name': 'FC København', 'shortName': 'København', 'tla': 'KOB', 'crest': 'https://crests.football-data.org/1876.png'}, 'awayTeam': {'id': 5, 'name': 'FC Bayern München', 'shortName': 'Bayern', 'tla': 'FCB', 'crest': 'https://crests.football-data.org/5.svg'}, 'score': {'winner': None, 'duration': 'REGULAR', 'fullTime': {'home': None, 'away': None}, 'halfTime': {'home': None, 'away': None}}, 'odds': {'msg': 'Activate Odds-Package in User-Panel to retrieve odds.'}, 'referees': []}\n",
      "{'area': {'id': 2072, 'name': 'England', 'code': 'ENG', 'flag': 'https://crests.football-data.org/770.svg'}, 'competition': {'id': 2016, 'name': 'Championship', 'code': 'ELC', 'type': 'LEAGUE', 'emblem': 'https://crests.football-data.org/ELC.png'}, 'season': {'id': 1573, 'startDate': '2023-08-04', 'endDate': '2024-05-04', 'currentMatchday': 10, 'winner': None}, 'id': 436787, 'utcDate': '2023-10-03T19:00:00Z', 'status': 'TIMED', 'matchday': 10, 'stage': 'REGULAR_SEASON', 'group': None, 'lastUpdated': '2023-09-26T10:20:22Z', 'homeTeam': {'id': 70, 'name': 'Stoke City FC', 'shortName': 'Stoke', 'tla': 'STK', 'crest': 'https://crests.football-data.org/70.png'}, 'awayTeam': {'id': 340, 'name': 'Southampton FC', 'shortName': 'Southampton', 'tla': 'SOU', 'crest': 'https://crests.football-data.org/340.png'}, 'score': {'winner': None, 'duration': 'REGULAR', 'fullTime': {'home': None, 'away': None}, 'halfTime': {'home': None, 'away': None}}, 'odds': {'msg': 'Activate Odds-Package in User-Panel to retrieve odds.'}, 'referees': []}\n",
      "{'area': {'id': 2077, 'name': 'Europe', 'code': 'EUR', 'flag': 'https://crests.football-data.org/EUR.svg'}, 'competition': {'id': 2001, 'name': 'UEFA Champions League', 'code': 'CL', 'type': 'CUP', 'emblem': 'https://crests.football-data.org/CL.png'}, 'season': {'id': 1630, 'startDate': '2023-09-19', 'endDate': '2024-06-01', 'currentMatchday': 2, 'winner': None}, 'id': 451601, 'utcDate': '2023-10-03T19:00:00Z', 'status': 'TIMED', 'matchday': 2, 'stage': 'GROUP_STAGE', 'group': 'GROUP_D', 'lastUpdated': '2023-09-02T15:20:01Z', 'homeTeam': {'id': 108, 'name': 'FC Internazionale Milano', 'shortName': 'Inter', 'tla': 'INT', 'crest': 'https://crests.football-data.org/108.png'}, 'awayTeam': {'id': 1903, 'name': 'Sport Lisboa e Benfica', 'shortName': 'SL Benfica', 'tla': 'BEN', 'crest': 'https://crests.football-data.org/1903.png'}, 'score': {'winner': None, 'duration': 'REGULAR', 'fullTime': {'home': None, 'away': None}, 'halfTime': {'home': None, 'away': None}}, 'odds': {'msg': 'Activate Odds-Package in User-Panel to retrieve odds.'}, 'referees': []}\n",
      "{'area': {'id': 2072, 'name': 'England', 'code': 'ENG', 'flag': 'https://crests.football-data.org/770.svg'}, 'competition': {'id': 2016, 'name': 'Championship', 'code': 'ELC', 'type': 'LEAGUE', 'emblem': 'https://crests.football-data.org/ELC.png'}, 'season': {'id': 1573, 'startDate': '2023-08-04', 'endDate': '2024-05-04', 'currentMatchday': 10, 'winner': None}, 'id': 436788, 'utcDate': '2023-10-03T19:00:00Z', 'status': 'TIMED', 'matchday': 10, 'stage': 'REGULAR_SEASON', 'group': None, 'lastUpdated': '2023-08-02T16:20:18Z', 'homeTeam': {'id': 74, 'name': 'West Bromwich Albion FC', 'shortName': 'West Brom', 'tla': 'WBA', 'crest': 'https://crests.football-data.org/74.png'}, 'awayTeam': {'id': 345, 'name': 'Sheffield Wednesday FC', 'shortName': 'Sheffield Wed', 'tla': 'SHE', 'crest': 'https://crests.football-data.org/345.png'}, 'score': {'winner': None, 'duration': 'REGULAR', 'fullTime': {'home': None, 'away': None}, 'halfTime': {'home': None, 'away': None}}, 'odds': {'msg': 'Activate Odds-Package in User-Panel to retrieve odds.'}, 'referees': []}\n",
      "{'area': {'id': 2077, 'name': 'Europe', 'code': 'EUR', 'flag': 'https://crests.football-data.org/EUR.svg'}, 'competition': {'id': 2001, 'name': 'UEFA Champions League', 'code': 'CL', 'type': 'CUP', 'emblem': 'https://crests.football-data.org/CL.png'}, 'season': {'id': 1630, 'startDate': '2023-09-19', 'endDate': '2024-06-01', 'currentMatchday': 2, 'winner': None}, 'id': 451581, 'utcDate': '2023-10-03T19:00:00Z', 'status': 'TIMED', 'matchday': 2, 'stage': 'GROUP_STAGE', 'group': 'GROUP_B', 'lastUpdated': '2023-09-02T15:20:01Z', 'homeTeam': {'id': 674, 'name': 'PSV', 'shortName': 'PSV', 'tla': 'PSV', 'crest': 'https://crests.football-data.org/674.png'}, 'awayTeam': {'id': 559, 'name': 'Sevilla FC', 'shortName': 'Sevilla FC', 'tla': 'SEV', 'crest': 'https://crests.football-data.org/559.svg'}, 'score': {'winner': None, 'duration': 'REGULAR', 'fullTime': {'home': None, 'away': None}, 'halfTime': {'home': None, 'away': None}}, 'odds': {'msg': 'Activate Odds-Package in User-Panel to retrieve odds.'}, 'referees': []}\n",
      "{'area': {'id': 2077, 'name': 'Europe', 'code': 'EUR', 'flag': 'https://crests.football-data.org/EUR.svg'}, 'competition': {'id': 2001, 'name': 'UEFA Champions League', 'code': 'CL', 'type': 'CUP', 'emblem': 'https://crests.football-data.org/CL.png'}, 'season': {'id': 1630, 'startDate': '2023-09-19', 'endDate': '2024-06-01', 'currentMatchday': 2, 'winner': None}, 'id': 451594, 'utcDate': '2023-10-03T19:00:00Z', 'status': 'TIMED', 'matchday': 2, 'stage': 'GROUP_STAGE', 'group': 'GROUP_C', 'lastUpdated': '2023-09-02T15:20:01Z', 'homeTeam': {'id': 113, 'name': 'SSC Napoli', 'shortName': 'Napoli', 'tla': 'NAP', 'crest': 'https://crests.football-data.org/113.svg'}, 'awayTeam': {'id': 86, 'name': 'Real Madrid CF', 'shortName': 'Real Madrid', 'tla': 'RMA', 'crest': 'https://crests.football-data.org/86.png'}, 'score': {'winner': None, 'duration': 'REGULAR', 'fullTime': {'home': None, 'away': None}, 'halfTime': {'home': None, 'away': None}}, 'odds': {'msg': 'Activate Odds-Package in User-Panel to retrieve odds.'}, 'referees': []}\n",
      "{'area': {'id': 2077, 'name': 'Europe', 'code': 'EUR', 'flag': 'https://crests.football-data.org/EUR.svg'}, 'competition': {'id': 2001, 'name': 'UEFA Champions League', 'code': 'CL', 'type': 'CUP', 'emblem': 'https://crests.football-data.org/CL.png'}, 'season': {'id': 1630, 'startDate': '2023-09-19', 'endDate': '2024-06-01', 'currentMatchday': 2, 'winner': None}, 'id': 451572, 'utcDate': '2023-10-03T19:00:00Z', 'status': 'TIMED', 'matchday': 2, 'stage': 'GROUP_STAGE', 'group': 'GROUP_A', 'lastUpdated': '2023-09-02T15:20:01Z', 'homeTeam': {'id': 66, 'name': 'Manchester United FC', 'shortName': 'Man United', 'tla': 'MUN', 'crest': 'https://crests.football-data.org/66.png'}, 'awayTeam': {'id': 610, 'name': 'Galatasaray SK', 'shortName': 'Galatasaray', 'tla': 'GAL', 'crest': 'https://crests.football-data.org/610.png'}, 'score': {'winner': None, 'duration': 'REGULAR', 'fullTime': {'home': None, 'away': None}, 'halfTime': {'home': None, 'away': None}}, 'odds': {'msg': 'Activate Odds-Package in User-Panel to retrieve odds.'}, 'referees': []}\n"
     ]
    }
   ],
   "source": [
    "for match in r['matches']:\n",
    "    print(match)\n"
   ]
  },
  {
   "cell_type": "code",
   "execution_count": null,
   "metadata": {},
   "outputs": [],
   "source": []
  }
 ],
 "metadata": {
  "kernelspec": {
   "display_name": "Python 3",
   "language": "python",
   "name": "python3"
  },
  "language_info": {
   "codemirror_mode": {
    "name": "ipython",
    "version": 3
   },
   "file_extension": ".py",
   "mimetype": "text/x-python",
   "name": "python",
   "nbconvert_exporter": "python",
   "pygments_lexer": "ipython3",
   "version": "3.11.5"
  },
  "orig_nbformat": 4
 },
 "nbformat": 4,
 "nbformat_minor": 2
}
