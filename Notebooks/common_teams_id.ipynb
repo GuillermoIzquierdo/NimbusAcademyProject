{
 "cells": [
  {
   "cell_type": "code",
   "execution_count": 77,
   "metadata": {},
   "outputs": [],
   "source": [
    "import pandas as pd\n",
    "import numpy as np\n",
    "import matplotlib.pyplot as plt\n",
    "import plotly.express as px\n",
    "import plotly.graph_objects as go"
   ]
  },
  {
   "cell_type": "markdown",
   "metadata": {},
   "source": [
    "# Create a common id for the teams in both databases"
   ]
  },
  {
   "cell_type": "markdown",
   "metadata": {},
   "source": [
    "## Create helper table data:"
   ]
  },
  {
   "cell_type": "code",
   "execution_count": 39,
   "metadata": {},
   "outputs": [],
   "source": [
    "team_name_pairings = [\n",
    "\n",
    "    ('ac milan',\n",
    "    'AC Milan'),\n",
    "\n",
    "    ('arsenal',\n",
    "    'Arsenal'),\n",
    "\n",
    "    ('as monaco',\n",
    "    'AS Monaco'),\n",
    "\n",
    "    ('as roma',\n",
    "    'AS Roma'),\n",
    "\n",
    "    ('aston villa',\n",
    "    'Aston Villa'),\n",
    "\n",
    "    ('atletico madrid',\n",
    "    'Atletico Madrid'),\n",
    "\n",
    "    ('bologna fc',\n",
    "    'Bologna FC'),\n",
    "\n",
    "    ('everton fc',\n",
    "    'Everton FC'),\n",
    "\n",
    "    ('fc barcelona',\n",
    "    'FC Barcelona'),\n",
    "\n",
    "    ('fc porto',\n",
    "    'FC Porto'),\n",
    "\n",
    "    ('inter milan',\n",
    "    'Inter Milan'),\n",
    "\n",
    "    ('juventus',\n",
    "    'Juventus'),\n",
    "\n",
    "    ('lazio',\n",
    "    'S.S. Lazio'),\n",
    "\n",
    "    ('leeds united',\n",
    "    'Leeds United'),\n",
    "\n",
    "    ('manchester city',\n",
    "    'Manchester City'),\n",
    "\n",
    "    ('napoli',\n",
    "    'Napoli'),\n",
    "\n",
    "    ('paris saint germain',\n",
    "    'Paris Saint-Germain'),\n",
    "\n",
    "    ('real sociedad',\n",
    "    'Real Sociedad'),\n",
    "\n",
    "    ('sevilla fc',\n",
    "    'Sevilla FC'),\n",
    "\n",
    "    ('udinese',\n",
    "    'Udinese Calcio'),\n",
    "\n",
    "    ('valencia',\n",
    "    'Valencia CF')\n",
    "]"
   ]
  },
  {
   "cell_type": "code",
   "execution_count": 40,
   "metadata": {},
   "outputs": [
    {
     "data": {
      "text/plain": [
       "[('ac milan', 'AC Milan', 1),\n",
       " ('arsenal', 'Arsenal', 2),\n",
       " ('as monaco', 'AS Monaco', 3),\n",
       " ('as roma', 'AS Roma', 4),\n",
       " ('aston villa', 'Aston Villa', 5),\n",
       " ('atletico madrid', 'Atletico Madrid', 6),\n",
       " ('bologna fc', 'Bologna FC', 7),\n",
       " ('everton fc', 'Everton FC', 8),\n",
       " ('fc barcelona', 'FC Barcelona', 9),\n",
       " ('fc porto', 'FC Porto', 10),\n",
       " ('inter milan', 'Inter Milan', 11),\n",
       " ('juventus', 'Juventus', 12),\n",
       " ('lazio', 'S.S. Lazio', 13),\n",
       " ('leeds united', 'Leeds United', 14),\n",
       " ('manchester city', 'Manchester City', 15),\n",
       " ('napoli', 'Napoli', 16),\n",
       " ('paris saint germain', 'Paris Saint-Germain', 17),\n",
       " ('real sociedad', 'Real Sociedad', 18),\n",
       " ('sevilla fc', 'Sevilla FC', 19),\n",
       " ('udinese', 'Udinese Calcio', 20),\n",
       " ('valencia', 'Valencia CF', 21)]"
      ]
     },
     "execution_count": 40,
     "metadata": {},
     "output_type": "execute_result"
    }
   ],
   "source": [
    "helper_table_data = [(t[0],t[1],i+1) for i,t in enumerate(team_name_pairings)]\n",
    "helper_table_data"
   ]
  },
  {
   "cell_type": "code",
   "execution_count": 41,
   "metadata": {},
   "outputs": [],
   "source": [
    "from snowflake import connector\n",
    "\n",
    "#setting credentials\n",
    "import os\n",
    "os.environ[\"SNOWSQL_USR\"] = 'pp_guillermo' #insert username\n",
    "os.environ[\"SNOWSQL_PWD\"] = 'LionelMessi10' #insert password\n",
    "os.environ[\"SNOWSQL_ACC\"] = 'sx14805.west-europe.azure'\n",
    "os.environ[\"SNOWSQL_WH\"] = 'COMPUTE_WH'\n",
    "os.environ[\"SNOWSQL_DB\"] = 'PYTHON_PROJECT'\n",
    "os.environ[\"SNOWSQL_SCH\"] = 'PUBLIC'\n",
    "\n",
    "# Connect to Snowflake\n",
    "conn = connector.connect(\n",
    "    user=os.getenv('SNOWSQL_USR'),\n",
    "    password=os.getenv('SNOWSQL_PWD'),\n",
    "    account=os.getenv('SNOWSQL_ACC'),\n",
    "    warehouse=os.getenv('SNOWSQL_WH'),\n",
    "    database=os.getenv('SNOWSQL_DB'),\n",
    "    schema=os.getenv('SNOWSQL_SCH')\n",
    ")"
   ]
  },
  {
   "cell_type": "code",
   "execution_count": 42,
   "metadata": {},
   "outputs": [
    {
     "name": "stdout",
     "output_type": "stream",
     "text": [
      "[('Statement executed successfully.',)]\n",
      "[('Statement executed successfully.',)]\n",
      "[('Statement executed successfully.',)]\n",
      "[('Statement executed successfully.',)]\n"
     ]
    }
   ],
   "source": [
    "# Create a cursor object\n",
    "cur = conn.cursor()\n",
    "\n",
    "# Define all the setting queries\n",
    "queries = [\n",
    "        'USE ROLE PYTHON_PROJECT;',\n",
    "        'USE DATABASE PYTHON_PROJECT;',\n",
    "        'USE SCHEMA PYTHON_PROJECT.PUBLIC;',\n",
    "        'USE WAREHOUSE COMPUTE_WH;'\n",
    "        ]\n",
    "\n",
    "# Adopt all correct settings\n",
    "results=[]\n",
    "for query in queries:\n",
    "    cur.execute(query)\n",
    "    result = cur.fetchall()\n",
    "    results.append(result)\n",
    "\n",
    "# Print the results\n",
    "for row in results:\n",
    "        print(row)"
   ]
  },
  {
   "cell_type": "code",
   "execution_count": 43,
   "metadata": {},
   "outputs": [
    {
     "data": {
      "text/plain": [
       "[('ac milan', 'AC Milan', 1),\n",
       " ('arsenal', 'Arsenal', 2),\n",
       " ('as monaco', 'AS Monaco', 3),\n",
       " ('as roma', 'AS Roma', 4),\n",
       " ('aston villa', 'Aston Villa', 5),\n",
       " ('atletico madrid', 'Atletico Madrid', 6),\n",
       " ('bologna fc', 'Bologna FC', 7),\n",
       " ('everton fc', 'Everton FC', 8),\n",
       " ('fc barcelona', 'FC Barcelona', 9),\n",
       " ('fc porto', 'FC Porto', 10),\n",
       " ('inter milan', 'Inter Milan', 11),\n",
       " ('juventus', 'Juventus', 12),\n",
       " ('lazio', 'S.S. Lazio', 13),\n",
       " ('leeds united', 'Leeds United', 14),\n",
       " ('manchester city', 'Manchester City', 15),\n",
       " ('napoli', 'Napoli', 16),\n",
       " ('paris saint germain', 'Paris Saint-Germain', 17),\n",
       " ('real sociedad', 'Real Sociedad', 18),\n",
       " ('sevilla fc', 'Sevilla FC', 19),\n",
       " ('udinese', 'Udinese Calcio', 20),\n",
       " ('valencia', 'Valencia CF', 21)]"
      ]
     },
     "execution_count": 43,
     "metadata": {},
     "output_type": "execute_result"
    }
   ],
   "source": [
    "query = '''SELECT * FROM helper_table'''\n",
    "cur.execute(query)\n",
    "results = cur.fetchall()\n",
    "results"
   ]
  },
  {
   "cell_type": "code",
   "execution_count": 44,
   "metadata": {},
   "outputs": [
    {
     "data": {
      "text/html": [
       "<div>\n",
       "<style scoped>\n",
       "    .dataframe tbody tr th:only-of-type {\n",
       "        vertical-align: middle;\n",
       "    }\n",
       "\n",
       "    .dataframe tbody tr th {\n",
       "        vertical-align: top;\n",
       "    }\n",
       "\n",
       "    .dataframe thead th {\n",
       "        text-align: right;\n",
       "    }\n",
       "</style>\n",
       "<table border=\"1\" class=\"dataframe\">\n",
       "  <thead>\n",
       "    <tr style=\"text-align: right;\">\n",
       "      <th></th>\n",
       "      <th>team_name_tokes</th>\n",
       "      <th>team_name_matches</th>\n",
       "      <th>common_id</th>\n",
       "    </tr>\n",
       "  </thead>\n",
       "  <tbody>\n",
       "    <tr>\n",
       "      <th>0</th>\n",
       "      <td>ac milan</td>\n",
       "      <td>AC Milan</td>\n",
       "      <td>1</td>\n",
       "    </tr>\n",
       "    <tr>\n",
       "      <th>1</th>\n",
       "      <td>arsenal</td>\n",
       "      <td>Arsenal</td>\n",
       "      <td>2</td>\n",
       "    </tr>\n",
       "    <tr>\n",
       "      <th>2</th>\n",
       "      <td>as monaco</td>\n",
       "      <td>AS Monaco</td>\n",
       "      <td>3</td>\n",
       "    </tr>\n",
       "    <tr>\n",
       "      <th>3</th>\n",
       "      <td>as roma</td>\n",
       "      <td>AS Roma</td>\n",
       "      <td>4</td>\n",
       "    </tr>\n",
       "    <tr>\n",
       "      <th>4</th>\n",
       "      <td>aston villa</td>\n",
       "      <td>Aston Villa</td>\n",
       "      <td>5</td>\n",
       "    </tr>\n",
       "    <tr>\n",
       "      <th>5</th>\n",
       "      <td>atletico madrid</td>\n",
       "      <td>Atletico Madrid</td>\n",
       "      <td>6</td>\n",
       "    </tr>\n",
       "    <tr>\n",
       "      <th>6</th>\n",
       "      <td>bologna fc</td>\n",
       "      <td>Bologna FC</td>\n",
       "      <td>7</td>\n",
       "    </tr>\n",
       "    <tr>\n",
       "      <th>7</th>\n",
       "      <td>everton fc</td>\n",
       "      <td>Everton FC</td>\n",
       "      <td>8</td>\n",
       "    </tr>\n",
       "    <tr>\n",
       "      <th>8</th>\n",
       "      <td>fc barcelona</td>\n",
       "      <td>FC Barcelona</td>\n",
       "      <td>9</td>\n",
       "    </tr>\n",
       "    <tr>\n",
       "      <th>9</th>\n",
       "      <td>fc porto</td>\n",
       "      <td>FC Porto</td>\n",
       "      <td>10</td>\n",
       "    </tr>\n",
       "    <tr>\n",
       "      <th>10</th>\n",
       "      <td>inter milan</td>\n",
       "      <td>Inter Milan</td>\n",
       "      <td>11</td>\n",
       "    </tr>\n",
       "    <tr>\n",
       "      <th>11</th>\n",
       "      <td>juventus</td>\n",
       "      <td>Juventus</td>\n",
       "      <td>12</td>\n",
       "    </tr>\n",
       "    <tr>\n",
       "      <th>12</th>\n",
       "      <td>lazio</td>\n",
       "      <td>S.S. Lazio</td>\n",
       "      <td>13</td>\n",
       "    </tr>\n",
       "    <tr>\n",
       "      <th>13</th>\n",
       "      <td>leeds united</td>\n",
       "      <td>Leeds United</td>\n",
       "      <td>14</td>\n",
       "    </tr>\n",
       "    <tr>\n",
       "      <th>14</th>\n",
       "      <td>manchester city</td>\n",
       "      <td>Manchester City</td>\n",
       "      <td>15</td>\n",
       "    </tr>\n",
       "    <tr>\n",
       "      <th>15</th>\n",
       "      <td>napoli</td>\n",
       "      <td>Napoli</td>\n",
       "      <td>16</td>\n",
       "    </tr>\n",
       "    <tr>\n",
       "      <th>16</th>\n",
       "      <td>paris saint germain</td>\n",
       "      <td>Paris Saint-Germain</td>\n",
       "      <td>17</td>\n",
       "    </tr>\n",
       "    <tr>\n",
       "      <th>17</th>\n",
       "      <td>real sociedad</td>\n",
       "      <td>Real Sociedad</td>\n",
       "      <td>18</td>\n",
       "    </tr>\n",
       "    <tr>\n",
       "      <th>18</th>\n",
       "      <td>sevilla fc</td>\n",
       "      <td>Sevilla FC</td>\n",
       "      <td>19</td>\n",
       "    </tr>\n",
       "    <tr>\n",
       "      <th>19</th>\n",
       "      <td>udinese</td>\n",
       "      <td>Udinese Calcio</td>\n",
       "      <td>20</td>\n",
       "    </tr>\n",
       "    <tr>\n",
       "      <th>20</th>\n",
       "      <td>valencia</td>\n",
       "      <td>Valencia CF</td>\n",
       "      <td>21</td>\n",
       "    </tr>\n",
       "  </tbody>\n",
       "</table>\n",
       "</div>"
      ],
      "text/plain": [
       "        team_name_tokes    team_name_matches  common_id\n",
       "0              ac milan             AC Milan          1\n",
       "1               arsenal              Arsenal          2\n",
       "2             as monaco            AS Monaco          3\n",
       "3               as roma              AS Roma          4\n",
       "4           aston villa          Aston Villa          5\n",
       "5       atletico madrid      Atletico Madrid          6\n",
       "6            bologna fc           Bologna FC          7\n",
       "7            everton fc           Everton FC          8\n",
       "8          fc barcelona         FC Barcelona          9\n",
       "9              fc porto             FC Porto         10\n",
       "10          inter milan          Inter Milan         11\n",
       "11             juventus             Juventus         12\n",
       "12                lazio           S.S. Lazio         13\n",
       "13         leeds united         Leeds United         14\n",
       "14      manchester city      Manchester City         15\n",
       "15               napoli               Napoli         16\n",
       "16  paris saint germain  Paris Saint-Germain         17\n",
       "17        real sociedad        Real Sociedad         18\n",
       "18           sevilla fc           Sevilla FC         19\n",
       "19              udinese       Udinese Calcio         20\n",
       "20             valencia          Valencia CF         21"
      ]
     },
     "execution_count": 44,
     "metadata": {},
     "output_type": "execute_result"
    }
   ],
   "source": [
    "helper_df = pd.DataFrame(results, columns=['team_name_tokes', 'team_name_matches', 'common_id'])\n",
    "helper_df"
   ]
  },
  {
   "cell_type": "code",
   "execution_count": 45,
   "metadata": {},
   "outputs": [
    {
     "data": {
      "text/plain": [
       "[('AC Milan', datetime.datetime(2020, 6, 22, 17, 30), 98, 'W', 'MIL'),\n",
       " ('AC Milan', datetime.datetime(2020, 6, 28, 15, 15), 98, 'W', 'MIL'),\n",
       " ('AC Milan', datetime.datetime(2020, 7, 1, 19, 45), 98, 'D', 'MIL'),\n",
       " ('AC Milan', datetime.datetime(2020, 7, 4, 19, 45), 98, 'W', 'MIL'),\n",
       " ('AC Milan', datetime.datetime(2020, 7, 7, 19, 45), 98, 'W', 'MIL')]"
      ]
     },
     "execution_count": 45,
     "metadata": {},
     "output_type": "execute_result"
    }
   ],
   "source": [
    "query = '''SELECT * FROM team_hist'''\n",
    "cur.execute(query)\n",
    "results = cur.fetchall()\n",
    "results[:5]"
   ]
  },
  {
   "cell_type": "code",
   "execution_count": 46,
   "metadata": {},
   "outputs": [
    {
     "data": {
      "text/html": [
       "<div>\n",
       "<style scoped>\n",
       "    .dataframe tbody tr th:only-of-type {\n",
       "        vertical-align: middle;\n",
       "    }\n",
       "\n",
       "    .dataframe tbody tr th {\n",
       "        vertical-align: top;\n",
       "    }\n",
       "\n",
       "    .dataframe thead th {\n",
       "        text-align: right;\n",
       "    }\n",
       "</style>\n",
       "<table border=\"1\" class=\"dataframe\">\n",
       "  <thead>\n",
       "    <tr style=\"text-align: right;\">\n",
       "      <th></th>\n",
       "      <th>team_name</th>\n",
       "      <th>match_date</th>\n",
       "      <th>team_local_id</th>\n",
       "      <th>result</th>\n",
       "      <th>team_code</th>\n",
       "    </tr>\n",
       "  </thead>\n",
       "  <tbody>\n",
       "    <tr>\n",
       "      <th>0</th>\n",
       "      <td>AC Milan</td>\n",
       "      <td>2020-06-22 17:30:00</td>\n",
       "      <td>98</td>\n",
       "      <td>W</td>\n",
       "      <td>MIL</td>\n",
       "    </tr>\n",
       "    <tr>\n",
       "      <th>1</th>\n",
       "      <td>AC Milan</td>\n",
       "      <td>2020-06-28 15:15:00</td>\n",
       "      <td>98</td>\n",
       "      <td>W</td>\n",
       "      <td>MIL</td>\n",
       "    </tr>\n",
       "    <tr>\n",
       "      <th>2</th>\n",
       "      <td>AC Milan</td>\n",
       "      <td>2020-07-01 19:45:00</td>\n",
       "      <td>98</td>\n",
       "      <td>D</td>\n",
       "      <td>MIL</td>\n",
       "    </tr>\n",
       "    <tr>\n",
       "      <th>3</th>\n",
       "      <td>AC Milan</td>\n",
       "      <td>2020-07-04 19:45:00</td>\n",
       "      <td>98</td>\n",
       "      <td>W</td>\n",
       "      <td>MIL</td>\n",
       "    </tr>\n",
       "    <tr>\n",
       "      <th>4</th>\n",
       "      <td>AC Milan</td>\n",
       "      <td>2020-07-07 19:45:00</td>\n",
       "      <td>98</td>\n",
       "      <td>W</td>\n",
       "      <td>MIL</td>\n",
       "    </tr>\n",
       "    <tr>\n",
       "      <th>...</th>\n",
       "      <td>...</td>\n",
       "      <td>...</td>\n",
       "      <td>...</td>\n",
       "      <td>...</td>\n",
       "      <td>...</td>\n",
       "    </tr>\n",
       "    <tr>\n",
       "      <th>3021</th>\n",
       "      <td>Valencia CF</td>\n",
       "      <td>2023-09-02 16:30:00</td>\n",
       "      <td>95</td>\n",
       "      <td>L</td>\n",
       "      <td>VAL</td>\n",
       "    </tr>\n",
       "    <tr>\n",
       "      <th>3022</th>\n",
       "      <td>Valencia CF</td>\n",
       "      <td>2023-09-16 14:15:00</td>\n",
       "      <td>95</td>\n",
       "      <td>W</td>\n",
       "      <td>VAL</td>\n",
       "    </tr>\n",
       "    <tr>\n",
       "      <th>3023</th>\n",
       "      <td>Valencia CF</td>\n",
       "      <td>2023-09-23 19:00:00</td>\n",
       "      <td>95</td>\n",
       "      <td>D</td>\n",
       "      <td>VAL</td>\n",
       "    </tr>\n",
       "    <tr>\n",
       "      <th>3024</th>\n",
       "      <td>Valencia CF</td>\n",
       "      <td>2023-09-27 19:30:00</td>\n",
       "      <td>95</td>\n",
       "      <td>L</td>\n",
       "      <td>VAL</td>\n",
       "    </tr>\n",
       "    <tr>\n",
       "      <th>3025</th>\n",
       "      <td>Valencia CF</td>\n",
       "      <td>2023-10-01 19:00:00</td>\n",
       "      <td>95</td>\n",
       "      <td>L</td>\n",
       "      <td>VAL</td>\n",
       "    </tr>\n",
       "  </tbody>\n",
       "</table>\n",
       "<p>3026 rows × 5 columns</p>\n",
       "</div>"
      ],
      "text/plain": [
       "        team_name          match_date  team_local_id result team_code\n",
       "0        AC Milan 2020-06-22 17:30:00             98      W       MIL\n",
       "1        AC Milan 2020-06-28 15:15:00             98      W       MIL\n",
       "2        AC Milan 2020-07-01 19:45:00             98      D       MIL\n",
       "3        AC Milan 2020-07-04 19:45:00             98      W       MIL\n",
       "4        AC Milan 2020-07-07 19:45:00             98      W       MIL\n",
       "...           ...                 ...            ...    ...       ...\n",
       "3021  Valencia CF 2023-09-02 16:30:00             95      L       VAL\n",
       "3022  Valencia CF 2023-09-16 14:15:00             95      W       VAL\n",
       "3023  Valencia CF 2023-09-23 19:00:00             95      D       VAL\n",
       "3024  Valencia CF 2023-09-27 19:30:00             95      L       VAL\n",
       "3025  Valencia CF 2023-10-01 19:00:00             95      L       VAL\n",
       "\n",
       "[3026 rows x 5 columns]"
      ]
     },
     "execution_count": 46,
     "metadata": {},
     "output_type": "execute_result"
    }
   ],
   "source": [
    "team_hist_df = pd.DataFrame(results, columns=['team_name', 'match_date', 'team_local_id', 'result', 'team_code'])\n",
    "team_hist_df"
   ]
  },
  {
   "cell_type": "code",
   "execution_count": 47,
   "metadata": {},
   "outputs": [
    {
     "data": {
      "text/plain": [
       "[(1,\n",
       "  'fc barcelona',\n",
       "  'fc barcelona fan token',\n",
       "  'fc-barcelona-fan-token',\n",
       "  datetime.date(2020, 6, 25),\n",
       "  Decimal('311876.95'),\n",
       "  Decimal('6.26')),\n",
       " (2,\n",
       "  'fc barcelona',\n",
       "  'fc barcelona fan token',\n",
       "  'fc-barcelona-fan-token',\n",
       "  datetime.date(2020, 6, 26),\n",
       "  Decimal('311876.95'),\n",
       "  Decimal('6.26')),\n",
       " (3,\n",
       "  'fc barcelona',\n",
       "  'fc barcelona fan token',\n",
       "  'fc-barcelona-fan-token',\n",
       "  datetime.date(2020, 6, 27),\n",
       "  Decimal('300380.94'),\n",
       "  Decimal('5.80')),\n",
       " (4,\n",
       "  'fc barcelona',\n",
       "  'fc barcelona fan token',\n",
       "  'fc-barcelona-fan-token',\n",
       "  datetime.date(2020, 6, 28),\n",
       "  Decimal('318666.02'),\n",
       "  Decimal('4.97')),\n",
       " (5,\n",
       "  'fc barcelona',\n",
       "  'fc barcelona fan token',\n",
       "  'fc-barcelona-fan-token',\n",
       "  datetime.date(2020, 6, 29),\n",
       "  Decimal('331790.30'),\n",
       "  Decimal('5.05'))]"
      ]
     },
     "execution_count": 47,
     "metadata": {},
     "output_type": "execute_result"
    }
   ],
   "source": [
    "query = '''SELECT * FROM fan_tokens'''\n",
    "cur.execute(query)\n",
    "results = cur.fetchall()\n",
    "results[:5]"
   ]
  },
  {
   "cell_type": "code",
   "execution_count": 48,
   "metadata": {},
   "outputs": [
    {
     "data": {
      "text/html": [
       "<div>\n",
       "<style scoped>\n",
       "    .dataframe tbody tr th:only-of-type {\n",
       "        vertical-align: middle;\n",
       "    }\n",
       "\n",
       "    .dataframe tbody tr th {\n",
       "        vertical-align: top;\n",
       "    }\n",
       "\n",
       "    .dataframe thead th {\n",
       "        text-align: right;\n",
       "    }\n",
       "</style>\n",
       "<table border=\"1\" class=\"dataframe\">\n",
       "  <thead>\n",
       "    <tr style=\"text-align: right;\">\n",
       "      <th></th>\n",
       "      <th>id</th>\n",
       "      <th>team_name</th>\n",
       "      <th>token_name</th>\n",
       "      <th>slug</th>\n",
       "      <th>date</th>\n",
       "      <th>volume</th>\n",
       "      <th>price</th>\n",
       "    </tr>\n",
       "  </thead>\n",
       "  <tbody>\n",
       "    <tr>\n",
       "      <th>0</th>\n",
       "      <td>1</td>\n",
       "      <td>fc barcelona</td>\n",
       "      <td>fc barcelona fan token</td>\n",
       "      <td>fc-barcelona-fan-token</td>\n",
       "      <td>2020-06-25</td>\n",
       "      <td>311876.95</td>\n",
       "      <td>6.26</td>\n",
       "    </tr>\n",
       "    <tr>\n",
       "      <th>1</th>\n",
       "      <td>2</td>\n",
       "      <td>fc barcelona</td>\n",
       "      <td>fc barcelona fan token</td>\n",
       "      <td>fc-barcelona-fan-token</td>\n",
       "      <td>2020-06-26</td>\n",
       "      <td>311876.95</td>\n",
       "      <td>6.26</td>\n",
       "    </tr>\n",
       "    <tr>\n",
       "      <th>2</th>\n",
       "      <td>3</td>\n",
       "      <td>fc barcelona</td>\n",
       "      <td>fc barcelona fan token</td>\n",
       "      <td>fc-barcelona-fan-token</td>\n",
       "      <td>2020-06-27</td>\n",
       "      <td>300380.94</td>\n",
       "      <td>5.80</td>\n",
       "    </tr>\n",
       "    <tr>\n",
       "      <th>3</th>\n",
       "      <td>4</td>\n",
       "      <td>fc barcelona</td>\n",
       "      <td>fc barcelona fan token</td>\n",
       "      <td>fc-barcelona-fan-token</td>\n",
       "      <td>2020-06-28</td>\n",
       "      <td>318666.02</td>\n",
       "      <td>4.97</td>\n",
       "    </tr>\n",
       "    <tr>\n",
       "      <th>4</th>\n",
       "      <td>5</td>\n",
       "      <td>fc barcelona</td>\n",
       "      <td>fc barcelona fan token</td>\n",
       "      <td>fc-barcelona-fan-token</td>\n",
       "      <td>2020-06-29</td>\n",
       "      <td>331790.30</td>\n",
       "      <td>5.05</td>\n",
       "    </tr>\n",
       "    <tr>\n",
       "      <th>...</th>\n",
       "      <td>...</td>\n",
       "      <td>...</td>\n",
       "      <td>...</td>\n",
       "      <td>...</td>\n",
       "      <td>...</td>\n",
       "      <td>...</td>\n",
       "      <td>...</td>\n",
       "    </tr>\n",
       "    <tr>\n",
       "      <th>21796</th>\n",
       "      <td>34469</td>\n",
       "      <td>udinese</td>\n",
       "      <td>udinese fan token</td>\n",
       "      <td>udinese-fan-token</td>\n",
       "      <td>2023-10-01</td>\n",
       "      <td>60013.87</td>\n",
       "      <td>0.97</td>\n",
       "    </tr>\n",
       "    <tr>\n",
       "      <th>21797</th>\n",
       "      <td>34470</td>\n",
       "      <td>udinese</td>\n",
       "      <td>udinese fan token</td>\n",
       "      <td>udinese-fan-token</td>\n",
       "      <td>2023-10-02</td>\n",
       "      <td>56180.40</td>\n",
       "      <td>0.99</td>\n",
       "    </tr>\n",
       "    <tr>\n",
       "      <th>21798</th>\n",
       "      <td>34471</td>\n",
       "      <td>udinese</td>\n",
       "      <td>udinese fan token</td>\n",
       "      <td>udinese-fan-token</td>\n",
       "      <td>2023-10-03</td>\n",
       "      <td>52872.13</td>\n",
       "      <td>0.95</td>\n",
       "    </tr>\n",
       "    <tr>\n",
       "      <th>21799</th>\n",
       "      <td>34472</td>\n",
       "      <td>udinese</td>\n",
       "      <td>udinese fan token</td>\n",
       "      <td>udinese-fan-token</td>\n",
       "      <td>2023-10-04</td>\n",
       "      <td>49497.94</td>\n",
       "      <td>0.90</td>\n",
       "    </tr>\n",
       "    <tr>\n",
       "      <th>21800</th>\n",
       "      <td>34473</td>\n",
       "      <td>udinese</td>\n",
       "      <td>udinese fan token</td>\n",
       "      <td>udinese-fan-token</td>\n",
       "      <td>2023-10-04</td>\n",
       "      <td>51382.93</td>\n",
       "      <td>0.92</td>\n",
       "    </tr>\n",
       "  </tbody>\n",
       "</table>\n",
       "<p>21801 rows × 7 columns</p>\n",
       "</div>"
      ],
      "text/plain": [
       "          id     team_name              token_name                    slug  \\\n",
       "0          1  fc barcelona  fc barcelona fan token  fc-barcelona-fan-token   \n",
       "1          2  fc barcelona  fc barcelona fan token  fc-barcelona-fan-token   \n",
       "2          3  fc barcelona  fc barcelona fan token  fc-barcelona-fan-token   \n",
       "3          4  fc barcelona  fc barcelona fan token  fc-barcelona-fan-token   \n",
       "4          5  fc barcelona  fc barcelona fan token  fc-barcelona-fan-token   \n",
       "...      ...           ...                     ...                     ...   \n",
       "21796  34469       udinese       udinese fan token       udinese-fan-token   \n",
       "21797  34470       udinese       udinese fan token       udinese-fan-token   \n",
       "21798  34471       udinese       udinese fan token       udinese-fan-token   \n",
       "21799  34472       udinese       udinese fan token       udinese-fan-token   \n",
       "21800  34473       udinese       udinese fan token       udinese-fan-token   \n",
       "\n",
       "             date     volume price  \n",
       "0      2020-06-25  311876.95  6.26  \n",
       "1      2020-06-26  311876.95  6.26  \n",
       "2      2020-06-27  300380.94  5.80  \n",
       "3      2020-06-28  318666.02  4.97  \n",
       "4      2020-06-29  331790.30  5.05  \n",
       "...           ...        ...   ...  \n",
       "21796  2023-10-01   60013.87  0.97  \n",
       "21797  2023-10-02   56180.40  0.99  \n",
       "21798  2023-10-03   52872.13  0.95  \n",
       "21799  2023-10-04   49497.94  0.90  \n",
       "21800  2023-10-04   51382.93  0.92  \n",
       "\n",
       "[21801 rows x 7 columns]"
      ]
     },
     "execution_count": 48,
     "metadata": {},
     "output_type": "execute_result"
    }
   ],
   "source": [
    "fan_tokens_df = pd.DataFrame(results, columns=['id', 'team_name', 'token_name', 'slug', 'date', 'volume', 'price'])\n",
    "fan_tokens_df"
   ]
  },
  {
   "cell_type": "code",
   "execution_count": 49,
   "metadata": {},
   "outputs": [
    {
     "data": {
      "text/html": [
       "<div>\n",
       "<style scoped>\n",
       "    .dataframe tbody tr th:only-of-type {\n",
       "        vertical-align: middle;\n",
       "    }\n",
       "\n",
       "    .dataframe tbody tr th {\n",
       "        vertical-align: top;\n",
       "    }\n",
       "\n",
       "    .dataframe thead th {\n",
       "        text-align: right;\n",
       "    }\n",
       "</style>\n",
       "<table border=\"1\" class=\"dataframe\">\n",
       "  <thead>\n",
       "    <tr style=\"text-align: right;\">\n",
       "      <th></th>\n",
       "      <th>team_name_matches</th>\n",
       "      <th>match_date</th>\n",
       "      <th>team_local_id</th>\n",
       "      <th>result</th>\n",
       "      <th>team_code</th>\n",
       "      <th>team_name_tokes</th>\n",
       "      <th>common_id</th>\n",
       "    </tr>\n",
       "  </thead>\n",
       "  <tbody>\n",
       "    <tr>\n",
       "      <th>0</th>\n",
       "      <td>AC Milan</td>\n",
       "      <td>2020-06-22 17:30:00</td>\n",
       "      <td>98</td>\n",
       "      <td>W</td>\n",
       "      <td>MIL</td>\n",
       "      <td>ac milan</td>\n",
       "      <td>1</td>\n",
       "    </tr>\n",
       "    <tr>\n",
       "      <th>1</th>\n",
       "      <td>AC Milan</td>\n",
       "      <td>2020-06-28 15:15:00</td>\n",
       "      <td>98</td>\n",
       "      <td>W</td>\n",
       "      <td>MIL</td>\n",
       "      <td>ac milan</td>\n",
       "      <td>1</td>\n",
       "    </tr>\n",
       "    <tr>\n",
       "      <th>2</th>\n",
       "      <td>AC Milan</td>\n",
       "      <td>2020-07-01 19:45:00</td>\n",
       "      <td>98</td>\n",
       "      <td>D</td>\n",
       "      <td>MIL</td>\n",
       "      <td>ac milan</td>\n",
       "      <td>1</td>\n",
       "    </tr>\n",
       "    <tr>\n",
       "      <th>3</th>\n",
       "      <td>AC Milan</td>\n",
       "      <td>2020-07-04 19:45:00</td>\n",
       "      <td>98</td>\n",
       "      <td>W</td>\n",
       "      <td>MIL</td>\n",
       "      <td>ac milan</td>\n",
       "      <td>1</td>\n",
       "    </tr>\n",
       "    <tr>\n",
       "      <th>4</th>\n",
       "      <td>AC Milan</td>\n",
       "      <td>2020-07-07 19:45:00</td>\n",
       "      <td>98</td>\n",
       "      <td>W</td>\n",
       "      <td>MIL</td>\n",
       "      <td>ac milan</td>\n",
       "      <td>1</td>\n",
       "    </tr>\n",
       "    <tr>\n",
       "      <th>...</th>\n",
       "      <td>...</td>\n",
       "      <td>...</td>\n",
       "      <td>...</td>\n",
       "      <td>...</td>\n",
       "      <td>...</td>\n",
       "      <td>...</td>\n",
       "      <td>...</td>\n",
       "    </tr>\n",
       "    <tr>\n",
       "      <th>2738</th>\n",
       "      <td>Valencia CF</td>\n",
       "      <td>2023-09-02 16:30:00</td>\n",
       "      <td>95</td>\n",
       "      <td>L</td>\n",
       "      <td>VAL</td>\n",
       "      <td>valencia</td>\n",
       "      <td>21</td>\n",
       "    </tr>\n",
       "    <tr>\n",
       "      <th>2739</th>\n",
       "      <td>Valencia CF</td>\n",
       "      <td>2023-09-16 14:15:00</td>\n",
       "      <td>95</td>\n",
       "      <td>W</td>\n",
       "      <td>VAL</td>\n",
       "      <td>valencia</td>\n",
       "      <td>21</td>\n",
       "    </tr>\n",
       "    <tr>\n",
       "      <th>2740</th>\n",
       "      <td>Valencia CF</td>\n",
       "      <td>2023-09-23 19:00:00</td>\n",
       "      <td>95</td>\n",
       "      <td>D</td>\n",
       "      <td>VAL</td>\n",
       "      <td>valencia</td>\n",
       "      <td>21</td>\n",
       "    </tr>\n",
       "    <tr>\n",
       "      <th>2741</th>\n",
       "      <td>Valencia CF</td>\n",
       "      <td>2023-09-27 19:30:00</td>\n",
       "      <td>95</td>\n",
       "      <td>L</td>\n",
       "      <td>VAL</td>\n",
       "      <td>valencia</td>\n",
       "      <td>21</td>\n",
       "    </tr>\n",
       "    <tr>\n",
       "      <th>2742</th>\n",
       "      <td>Valencia CF</td>\n",
       "      <td>2023-10-01 19:00:00</td>\n",
       "      <td>95</td>\n",
       "      <td>L</td>\n",
       "      <td>VAL</td>\n",
       "      <td>valencia</td>\n",
       "      <td>21</td>\n",
       "    </tr>\n",
       "  </tbody>\n",
       "</table>\n",
       "<p>2743 rows × 7 columns</p>\n",
       "</div>"
      ],
      "text/plain": [
       "     team_name_matches          match_date  team_local_id result team_code  \\\n",
       "0             AC Milan 2020-06-22 17:30:00             98      W       MIL   \n",
       "1             AC Milan 2020-06-28 15:15:00             98      W       MIL   \n",
       "2             AC Milan 2020-07-01 19:45:00             98      D       MIL   \n",
       "3             AC Milan 2020-07-04 19:45:00             98      W       MIL   \n",
       "4             AC Milan 2020-07-07 19:45:00             98      W       MIL   \n",
       "...                ...                 ...            ...    ...       ...   \n",
       "2738       Valencia CF 2023-09-02 16:30:00             95      L       VAL   \n",
       "2739       Valencia CF 2023-09-16 14:15:00             95      W       VAL   \n",
       "2740       Valencia CF 2023-09-23 19:00:00             95      D       VAL   \n",
       "2741       Valencia CF 2023-09-27 19:30:00             95      L       VAL   \n",
       "2742       Valencia CF 2023-10-01 19:00:00             95      L       VAL   \n",
       "\n",
       "     team_name_tokes  common_id  \n",
       "0           ac milan          1  \n",
       "1           ac milan          1  \n",
       "2           ac milan          1  \n",
       "3           ac milan          1  \n",
       "4           ac milan          1  \n",
       "...              ...        ...  \n",
       "2738        valencia         21  \n",
       "2739        valencia         21  \n",
       "2740        valencia         21  \n",
       "2741        valencia         21  \n",
       "2742        valencia         21  \n",
       "\n",
       "[2743 rows x 7 columns]"
      ]
     },
     "execution_count": 49,
     "metadata": {},
     "output_type": "execute_result"
    }
   ],
   "source": [
    "team_hist_df = team_hist_df.rename(columns={'team_name':'team_name_matches'}).merge(helper_df, on='team_name_matches')\n",
    "team_hist_df"
   ]
  },
  {
   "cell_type": "code",
   "execution_count": 50,
   "metadata": {},
   "outputs": [
    {
     "data": {
      "text/html": [
       "<div>\n",
       "<style scoped>\n",
       "    .dataframe tbody tr th:only-of-type {\n",
       "        vertical-align: middle;\n",
       "    }\n",
       "\n",
       "    .dataframe tbody tr th {\n",
       "        vertical-align: top;\n",
       "    }\n",
       "\n",
       "    .dataframe thead th {\n",
       "        text-align: right;\n",
       "    }\n",
       "</style>\n",
       "<table border=\"1\" class=\"dataframe\">\n",
       "  <thead>\n",
       "    <tr style=\"text-align: right;\">\n",
       "      <th></th>\n",
       "      <th>id</th>\n",
       "      <th>team_name_tokes</th>\n",
       "      <th>token_name</th>\n",
       "      <th>slug</th>\n",
       "      <th>date</th>\n",
       "      <th>volume</th>\n",
       "      <th>price</th>\n",
       "      <th>team_name_matches</th>\n",
       "      <th>common_id</th>\n",
       "    </tr>\n",
       "  </thead>\n",
       "  <tbody>\n",
       "    <tr>\n",
       "      <th>0</th>\n",
       "      <td>1</td>\n",
       "      <td>fc barcelona</td>\n",
       "      <td>fc barcelona fan token</td>\n",
       "      <td>fc-barcelona-fan-token</td>\n",
       "      <td>2020-06-25</td>\n",
       "      <td>311876.95</td>\n",
       "      <td>6.26</td>\n",
       "      <td>FC Barcelona</td>\n",
       "      <td>9</td>\n",
       "    </tr>\n",
       "    <tr>\n",
       "      <th>1</th>\n",
       "      <td>2</td>\n",
       "      <td>fc barcelona</td>\n",
       "      <td>fc barcelona fan token</td>\n",
       "      <td>fc-barcelona-fan-token</td>\n",
       "      <td>2020-06-26</td>\n",
       "      <td>311876.95</td>\n",
       "      <td>6.26</td>\n",
       "      <td>FC Barcelona</td>\n",
       "      <td>9</td>\n",
       "    </tr>\n",
       "    <tr>\n",
       "      <th>2</th>\n",
       "      <td>3</td>\n",
       "      <td>fc barcelona</td>\n",
       "      <td>fc barcelona fan token</td>\n",
       "      <td>fc-barcelona-fan-token</td>\n",
       "      <td>2020-06-27</td>\n",
       "      <td>300380.94</td>\n",
       "      <td>5.80</td>\n",
       "      <td>FC Barcelona</td>\n",
       "      <td>9</td>\n",
       "    </tr>\n",
       "    <tr>\n",
       "      <th>3</th>\n",
       "      <td>4</td>\n",
       "      <td>fc barcelona</td>\n",
       "      <td>fc barcelona fan token</td>\n",
       "      <td>fc-barcelona-fan-token</td>\n",
       "      <td>2020-06-28</td>\n",
       "      <td>318666.02</td>\n",
       "      <td>4.97</td>\n",
       "      <td>FC Barcelona</td>\n",
       "      <td>9</td>\n",
       "    </tr>\n",
       "    <tr>\n",
       "      <th>4</th>\n",
       "      <td>5</td>\n",
       "      <td>fc barcelona</td>\n",
       "      <td>fc barcelona fan token</td>\n",
       "      <td>fc-barcelona-fan-token</td>\n",
       "      <td>2020-06-29</td>\n",
       "      <td>331790.30</td>\n",
       "      <td>5.05</td>\n",
       "      <td>FC Barcelona</td>\n",
       "      <td>9</td>\n",
       "    </tr>\n",
       "    <tr>\n",
       "      <th>...</th>\n",
       "      <td>...</td>\n",
       "      <td>...</td>\n",
       "      <td>...</td>\n",
       "      <td>...</td>\n",
       "      <td>...</td>\n",
       "      <td>...</td>\n",
       "      <td>...</td>\n",
       "      <td>...</td>\n",
       "      <td>...</td>\n",
       "    </tr>\n",
       "    <tr>\n",
       "      <th>16188</th>\n",
       "      <td>34469</td>\n",
       "      <td>udinese</td>\n",
       "      <td>udinese fan token</td>\n",
       "      <td>udinese-fan-token</td>\n",
       "      <td>2023-10-01</td>\n",
       "      <td>60013.87</td>\n",
       "      <td>0.97</td>\n",
       "      <td>Udinese Calcio</td>\n",
       "      <td>20</td>\n",
       "    </tr>\n",
       "    <tr>\n",
       "      <th>16189</th>\n",
       "      <td>34470</td>\n",
       "      <td>udinese</td>\n",
       "      <td>udinese fan token</td>\n",
       "      <td>udinese-fan-token</td>\n",
       "      <td>2023-10-02</td>\n",
       "      <td>56180.40</td>\n",
       "      <td>0.99</td>\n",
       "      <td>Udinese Calcio</td>\n",
       "      <td>20</td>\n",
       "    </tr>\n",
       "    <tr>\n",
       "      <th>16190</th>\n",
       "      <td>34471</td>\n",
       "      <td>udinese</td>\n",
       "      <td>udinese fan token</td>\n",
       "      <td>udinese-fan-token</td>\n",
       "      <td>2023-10-03</td>\n",
       "      <td>52872.13</td>\n",
       "      <td>0.95</td>\n",
       "      <td>Udinese Calcio</td>\n",
       "      <td>20</td>\n",
       "    </tr>\n",
       "    <tr>\n",
       "      <th>16191</th>\n",
       "      <td>34472</td>\n",
       "      <td>udinese</td>\n",
       "      <td>udinese fan token</td>\n",
       "      <td>udinese-fan-token</td>\n",
       "      <td>2023-10-04</td>\n",
       "      <td>49497.94</td>\n",
       "      <td>0.90</td>\n",
       "      <td>Udinese Calcio</td>\n",
       "      <td>20</td>\n",
       "    </tr>\n",
       "    <tr>\n",
       "      <th>16192</th>\n",
       "      <td>34473</td>\n",
       "      <td>udinese</td>\n",
       "      <td>udinese fan token</td>\n",
       "      <td>udinese-fan-token</td>\n",
       "      <td>2023-10-04</td>\n",
       "      <td>51382.93</td>\n",
       "      <td>0.92</td>\n",
       "      <td>Udinese Calcio</td>\n",
       "      <td>20</td>\n",
       "    </tr>\n",
       "  </tbody>\n",
       "</table>\n",
       "<p>16193 rows × 9 columns</p>\n",
       "</div>"
      ],
      "text/plain": [
       "          id team_name_tokes              token_name                    slug  \\\n",
       "0          1    fc barcelona  fc barcelona fan token  fc-barcelona-fan-token   \n",
       "1          2    fc barcelona  fc barcelona fan token  fc-barcelona-fan-token   \n",
       "2          3    fc barcelona  fc barcelona fan token  fc-barcelona-fan-token   \n",
       "3          4    fc barcelona  fc barcelona fan token  fc-barcelona-fan-token   \n",
       "4          5    fc barcelona  fc barcelona fan token  fc-barcelona-fan-token   \n",
       "...      ...             ...                     ...                     ...   \n",
       "16188  34469         udinese       udinese fan token       udinese-fan-token   \n",
       "16189  34470         udinese       udinese fan token       udinese-fan-token   \n",
       "16190  34471         udinese       udinese fan token       udinese-fan-token   \n",
       "16191  34472         udinese       udinese fan token       udinese-fan-token   \n",
       "16192  34473         udinese       udinese fan token       udinese-fan-token   \n",
       "\n",
       "             date     volume price team_name_matches  common_id  \n",
       "0      2020-06-25  311876.95  6.26      FC Barcelona          9  \n",
       "1      2020-06-26  311876.95  6.26      FC Barcelona          9  \n",
       "2      2020-06-27  300380.94  5.80      FC Barcelona          9  \n",
       "3      2020-06-28  318666.02  4.97      FC Barcelona          9  \n",
       "4      2020-06-29  331790.30  5.05      FC Barcelona          9  \n",
       "...           ...        ...   ...               ...        ...  \n",
       "16188  2023-10-01   60013.87  0.97    Udinese Calcio         20  \n",
       "16189  2023-10-02   56180.40  0.99    Udinese Calcio         20  \n",
       "16190  2023-10-03   52872.13  0.95    Udinese Calcio         20  \n",
       "16191  2023-10-04   49497.94  0.90    Udinese Calcio         20  \n",
       "16192  2023-10-04   51382.93  0.92    Udinese Calcio         20  \n",
       "\n",
       "[16193 rows x 9 columns]"
      ]
     },
     "execution_count": 50,
     "metadata": {},
     "output_type": "execute_result"
    }
   ],
   "source": [
    "fan_tokens_df = fan_tokens_df.rename(columns={'team_name':'team_name_tokes'}).merge(helper_df)\n",
    "fan_tokens_df"
   ]
  },
  {
   "cell_type": "code",
   "execution_count": 51,
   "metadata": {},
   "outputs": [
    {
     "data": {
      "text/html": [
       "<div>\n",
       "<style scoped>\n",
       "    .dataframe tbody tr th:only-of-type {\n",
       "        vertical-align: middle;\n",
       "    }\n",
       "\n",
       "    .dataframe tbody tr th {\n",
       "        vertical-align: top;\n",
       "    }\n",
       "\n",
       "    .dataframe thead th {\n",
       "        text-align: right;\n",
       "    }\n",
       "</style>\n",
       "<table border=\"1\" class=\"dataframe\">\n",
       "  <thead>\n",
       "    <tr style=\"text-align: right;\">\n",
       "      <th></th>\n",
       "      <th>team_name_matches</th>\n",
       "      <th>match_date</th>\n",
       "      <th>team_local_id</th>\n",
       "      <th>result</th>\n",
       "      <th>team_code</th>\n",
       "      <th>team_name_tokes</th>\n",
       "      <th>common_id</th>\n",
       "      <th>time</th>\n",
       "      <th>date</th>\n",
       "    </tr>\n",
       "  </thead>\n",
       "  <tbody>\n",
       "    <tr>\n",
       "      <th>0</th>\n",
       "      <td>AC Milan</td>\n",
       "      <td>2020-06-22 17:30:00</td>\n",
       "      <td>98</td>\n",
       "      <td>W</td>\n",
       "      <td>MIL</td>\n",
       "      <td>ac milan</td>\n",
       "      <td>1</td>\n",
       "      <td>17:30:00</td>\n",
       "      <td>2020-06-22</td>\n",
       "    </tr>\n",
       "    <tr>\n",
       "      <th>1</th>\n",
       "      <td>AC Milan</td>\n",
       "      <td>2020-06-28 15:15:00</td>\n",
       "      <td>98</td>\n",
       "      <td>W</td>\n",
       "      <td>MIL</td>\n",
       "      <td>ac milan</td>\n",
       "      <td>1</td>\n",
       "      <td>15:15:00</td>\n",
       "      <td>2020-06-28</td>\n",
       "    </tr>\n",
       "    <tr>\n",
       "      <th>2</th>\n",
       "      <td>AC Milan</td>\n",
       "      <td>2020-07-01 19:45:00</td>\n",
       "      <td>98</td>\n",
       "      <td>D</td>\n",
       "      <td>MIL</td>\n",
       "      <td>ac milan</td>\n",
       "      <td>1</td>\n",
       "      <td>19:45:00</td>\n",
       "      <td>2020-07-01</td>\n",
       "    </tr>\n",
       "    <tr>\n",
       "      <th>3</th>\n",
       "      <td>AC Milan</td>\n",
       "      <td>2020-07-04 19:45:00</td>\n",
       "      <td>98</td>\n",
       "      <td>W</td>\n",
       "      <td>MIL</td>\n",
       "      <td>ac milan</td>\n",
       "      <td>1</td>\n",
       "      <td>19:45:00</td>\n",
       "      <td>2020-07-04</td>\n",
       "    </tr>\n",
       "    <tr>\n",
       "      <th>4</th>\n",
       "      <td>AC Milan</td>\n",
       "      <td>2020-07-07 19:45:00</td>\n",
       "      <td>98</td>\n",
       "      <td>W</td>\n",
       "      <td>MIL</td>\n",
       "      <td>ac milan</td>\n",
       "      <td>1</td>\n",
       "      <td>19:45:00</td>\n",
       "      <td>2020-07-07</td>\n",
       "    </tr>\n",
       "    <tr>\n",
       "      <th>...</th>\n",
       "      <td>...</td>\n",
       "      <td>...</td>\n",
       "      <td>...</td>\n",
       "      <td>...</td>\n",
       "      <td>...</td>\n",
       "      <td>...</td>\n",
       "      <td>...</td>\n",
       "      <td>...</td>\n",
       "      <td>...</td>\n",
       "    </tr>\n",
       "    <tr>\n",
       "      <th>2738</th>\n",
       "      <td>Valencia CF</td>\n",
       "      <td>2023-09-02 16:30:00</td>\n",
       "      <td>95</td>\n",
       "      <td>L</td>\n",
       "      <td>VAL</td>\n",
       "      <td>valencia</td>\n",
       "      <td>21</td>\n",
       "      <td>16:30:00</td>\n",
       "      <td>2023-09-02</td>\n",
       "    </tr>\n",
       "    <tr>\n",
       "      <th>2739</th>\n",
       "      <td>Valencia CF</td>\n",
       "      <td>2023-09-16 14:15:00</td>\n",
       "      <td>95</td>\n",
       "      <td>W</td>\n",
       "      <td>VAL</td>\n",
       "      <td>valencia</td>\n",
       "      <td>21</td>\n",
       "      <td>14:15:00</td>\n",
       "      <td>2023-09-16</td>\n",
       "    </tr>\n",
       "    <tr>\n",
       "      <th>2740</th>\n",
       "      <td>Valencia CF</td>\n",
       "      <td>2023-09-23 19:00:00</td>\n",
       "      <td>95</td>\n",
       "      <td>D</td>\n",
       "      <td>VAL</td>\n",
       "      <td>valencia</td>\n",
       "      <td>21</td>\n",
       "      <td>19:00:00</td>\n",
       "      <td>2023-09-23</td>\n",
       "    </tr>\n",
       "    <tr>\n",
       "      <th>2741</th>\n",
       "      <td>Valencia CF</td>\n",
       "      <td>2023-09-27 19:30:00</td>\n",
       "      <td>95</td>\n",
       "      <td>L</td>\n",
       "      <td>VAL</td>\n",
       "      <td>valencia</td>\n",
       "      <td>21</td>\n",
       "      <td>19:30:00</td>\n",
       "      <td>2023-09-27</td>\n",
       "    </tr>\n",
       "    <tr>\n",
       "      <th>2742</th>\n",
       "      <td>Valencia CF</td>\n",
       "      <td>2023-10-01 19:00:00</td>\n",
       "      <td>95</td>\n",
       "      <td>L</td>\n",
       "      <td>VAL</td>\n",
       "      <td>valencia</td>\n",
       "      <td>21</td>\n",
       "      <td>19:00:00</td>\n",
       "      <td>2023-10-01</td>\n",
       "    </tr>\n",
       "  </tbody>\n",
       "</table>\n",
       "<p>2743 rows × 9 columns</p>\n",
       "</div>"
      ],
      "text/plain": [
       "     team_name_matches          match_date  team_local_id result team_code  \\\n",
       "0             AC Milan 2020-06-22 17:30:00             98      W       MIL   \n",
       "1             AC Milan 2020-06-28 15:15:00             98      W       MIL   \n",
       "2             AC Milan 2020-07-01 19:45:00             98      D       MIL   \n",
       "3             AC Milan 2020-07-04 19:45:00             98      W       MIL   \n",
       "4             AC Milan 2020-07-07 19:45:00             98      W       MIL   \n",
       "...                ...                 ...            ...    ...       ...   \n",
       "2738       Valencia CF 2023-09-02 16:30:00             95      L       VAL   \n",
       "2739       Valencia CF 2023-09-16 14:15:00             95      W       VAL   \n",
       "2740       Valencia CF 2023-09-23 19:00:00             95      D       VAL   \n",
       "2741       Valencia CF 2023-09-27 19:30:00             95      L       VAL   \n",
       "2742       Valencia CF 2023-10-01 19:00:00             95      L       VAL   \n",
       "\n",
       "     team_name_tokes  common_id      time        date  \n",
       "0           ac milan          1  17:30:00  2020-06-22  \n",
       "1           ac milan          1  15:15:00  2020-06-28  \n",
       "2           ac milan          1  19:45:00  2020-07-01  \n",
       "3           ac milan          1  19:45:00  2020-07-04  \n",
       "4           ac milan          1  19:45:00  2020-07-07  \n",
       "...              ...        ...       ...         ...  \n",
       "2738        valencia         21  16:30:00  2023-09-02  \n",
       "2739        valencia         21  14:15:00  2023-09-16  \n",
       "2740        valencia         21  19:00:00  2023-09-23  \n",
       "2741        valencia         21  19:30:00  2023-09-27  \n",
       "2742        valencia         21  19:00:00  2023-10-01  \n",
       "\n",
       "[2743 rows x 9 columns]"
      ]
     },
     "execution_count": 51,
     "metadata": {},
     "output_type": "execute_result"
    }
   ],
   "source": [
    "team_hist_df['time'] = team_hist_df['match_date'].dt.time\n",
    "team_hist_df['date'] = team_hist_df['match_date'].dt.date\n",
    "team_hist_df"
   ]
  },
  {
   "cell_type": "code",
   "execution_count": 52,
   "metadata": {},
   "outputs": [
    {
     "data": {
      "text/html": [
       "<div>\n",
       "<style scoped>\n",
       "    .dataframe tbody tr th:only-of-type {\n",
       "        vertical-align: middle;\n",
       "    }\n",
       "\n",
       "    .dataframe tbody tr th {\n",
       "        vertical-align: top;\n",
       "    }\n",
       "\n",
       "    .dataframe thead th {\n",
       "        text-align: right;\n",
       "    }\n",
       "</style>\n",
       "<table border=\"1\" class=\"dataframe\">\n",
       "  <thead>\n",
       "    <tr style=\"text-align: right;\">\n",
       "      <th></th>\n",
       "      <th>id</th>\n",
       "      <th>team_name_tokes</th>\n",
       "      <th>token_name</th>\n",
       "      <th>slug</th>\n",
       "      <th>date</th>\n",
       "      <th>volume</th>\n",
       "      <th>price</th>\n",
       "      <th>team_name_matches</th>\n",
       "      <th>common_id</th>\n",
       "    </tr>\n",
       "  </thead>\n",
       "  <tbody>\n",
       "    <tr>\n",
       "      <th>0</th>\n",
       "      <td>1</td>\n",
       "      <td>fc barcelona</td>\n",
       "      <td>fc barcelona fan token</td>\n",
       "      <td>fc-barcelona-fan-token</td>\n",
       "      <td>2020-06-25</td>\n",
       "      <td>311876.95</td>\n",
       "      <td>6.26</td>\n",
       "      <td>FC Barcelona</td>\n",
       "      <td>9</td>\n",
       "    </tr>\n",
       "    <tr>\n",
       "      <th>1</th>\n",
       "      <td>2</td>\n",
       "      <td>fc barcelona</td>\n",
       "      <td>fc barcelona fan token</td>\n",
       "      <td>fc-barcelona-fan-token</td>\n",
       "      <td>2020-06-26</td>\n",
       "      <td>311876.95</td>\n",
       "      <td>6.26</td>\n",
       "      <td>FC Barcelona</td>\n",
       "      <td>9</td>\n",
       "    </tr>\n",
       "    <tr>\n",
       "      <th>2</th>\n",
       "      <td>3</td>\n",
       "      <td>fc barcelona</td>\n",
       "      <td>fc barcelona fan token</td>\n",
       "      <td>fc-barcelona-fan-token</td>\n",
       "      <td>2020-06-27</td>\n",
       "      <td>300380.94</td>\n",
       "      <td>5.80</td>\n",
       "      <td>FC Barcelona</td>\n",
       "      <td>9</td>\n",
       "    </tr>\n",
       "    <tr>\n",
       "      <th>3</th>\n",
       "      <td>4</td>\n",
       "      <td>fc barcelona</td>\n",
       "      <td>fc barcelona fan token</td>\n",
       "      <td>fc-barcelona-fan-token</td>\n",
       "      <td>2020-06-28</td>\n",
       "      <td>318666.02</td>\n",
       "      <td>4.97</td>\n",
       "      <td>FC Barcelona</td>\n",
       "      <td>9</td>\n",
       "    </tr>\n",
       "    <tr>\n",
       "      <th>4</th>\n",
       "      <td>5</td>\n",
       "      <td>fc barcelona</td>\n",
       "      <td>fc barcelona fan token</td>\n",
       "      <td>fc-barcelona-fan-token</td>\n",
       "      <td>2020-06-29</td>\n",
       "      <td>331790.30</td>\n",
       "      <td>5.05</td>\n",
       "      <td>FC Barcelona</td>\n",
       "      <td>9</td>\n",
       "    </tr>\n",
       "    <tr>\n",
       "      <th>...</th>\n",
       "      <td>...</td>\n",
       "      <td>...</td>\n",
       "      <td>...</td>\n",
       "      <td>...</td>\n",
       "      <td>...</td>\n",
       "      <td>...</td>\n",
       "      <td>...</td>\n",
       "      <td>...</td>\n",
       "      <td>...</td>\n",
       "    </tr>\n",
       "    <tr>\n",
       "      <th>16188</th>\n",
       "      <td>34469</td>\n",
       "      <td>udinese</td>\n",
       "      <td>udinese fan token</td>\n",
       "      <td>udinese-fan-token</td>\n",
       "      <td>2023-10-01</td>\n",
       "      <td>60013.87</td>\n",
       "      <td>0.97</td>\n",
       "      <td>Udinese Calcio</td>\n",
       "      <td>20</td>\n",
       "    </tr>\n",
       "    <tr>\n",
       "      <th>16189</th>\n",
       "      <td>34470</td>\n",
       "      <td>udinese</td>\n",
       "      <td>udinese fan token</td>\n",
       "      <td>udinese-fan-token</td>\n",
       "      <td>2023-10-02</td>\n",
       "      <td>56180.40</td>\n",
       "      <td>0.99</td>\n",
       "      <td>Udinese Calcio</td>\n",
       "      <td>20</td>\n",
       "    </tr>\n",
       "    <tr>\n",
       "      <th>16190</th>\n",
       "      <td>34471</td>\n",
       "      <td>udinese</td>\n",
       "      <td>udinese fan token</td>\n",
       "      <td>udinese-fan-token</td>\n",
       "      <td>2023-10-03</td>\n",
       "      <td>52872.13</td>\n",
       "      <td>0.95</td>\n",
       "      <td>Udinese Calcio</td>\n",
       "      <td>20</td>\n",
       "    </tr>\n",
       "    <tr>\n",
       "      <th>16191</th>\n",
       "      <td>34472</td>\n",
       "      <td>udinese</td>\n",
       "      <td>udinese fan token</td>\n",
       "      <td>udinese-fan-token</td>\n",
       "      <td>2023-10-04</td>\n",
       "      <td>49497.94</td>\n",
       "      <td>0.90</td>\n",
       "      <td>Udinese Calcio</td>\n",
       "      <td>20</td>\n",
       "    </tr>\n",
       "    <tr>\n",
       "      <th>16192</th>\n",
       "      <td>34473</td>\n",
       "      <td>udinese</td>\n",
       "      <td>udinese fan token</td>\n",
       "      <td>udinese-fan-token</td>\n",
       "      <td>2023-10-04</td>\n",
       "      <td>51382.93</td>\n",
       "      <td>0.92</td>\n",
       "      <td>Udinese Calcio</td>\n",
       "      <td>20</td>\n",
       "    </tr>\n",
       "  </tbody>\n",
       "</table>\n",
       "<p>16193 rows × 9 columns</p>\n",
       "</div>"
      ],
      "text/plain": [
       "          id team_name_tokes              token_name                    slug  \\\n",
       "0          1    fc barcelona  fc barcelona fan token  fc-barcelona-fan-token   \n",
       "1          2    fc barcelona  fc barcelona fan token  fc-barcelona-fan-token   \n",
       "2          3    fc barcelona  fc barcelona fan token  fc-barcelona-fan-token   \n",
       "3          4    fc barcelona  fc barcelona fan token  fc-barcelona-fan-token   \n",
       "4          5    fc barcelona  fc barcelona fan token  fc-barcelona-fan-token   \n",
       "...      ...             ...                     ...                     ...   \n",
       "16188  34469         udinese       udinese fan token       udinese-fan-token   \n",
       "16189  34470         udinese       udinese fan token       udinese-fan-token   \n",
       "16190  34471         udinese       udinese fan token       udinese-fan-token   \n",
       "16191  34472         udinese       udinese fan token       udinese-fan-token   \n",
       "16192  34473         udinese       udinese fan token       udinese-fan-token   \n",
       "\n",
       "             date     volume price team_name_matches  common_id  \n",
       "0      2020-06-25  311876.95  6.26      FC Barcelona          9  \n",
       "1      2020-06-26  311876.95  6.26      FC Barcelona          9  \n",
       "2      2020-06-27  300380.94  5.80      FC Barcelona          9  \n",
       "3      2020-06-28  318666.02  4.97      FC Barcelona          9  \n",
       "4      2020-06-29  331790.30  5.05      FC Barcelona          9  \n",
       "...           ...        ...   ...               ...        ...  \n",
       "16188  2023-10-01   60013.87  0.97    Udinese Calcio         20  \n",
       "16189  2023-10-02   56180.40  0.99    Udinese Calcio         20  \n",
       "16190  2023-10-03   52872.13  0.95    Udinese Calcio         20  \n",
       "16191  2023-10-04   49497.94  0.90    Udinese Calcio         20  \n",
       "16192  2023-10-04   51382.93  0.92    Udinese Calcio         20  \n",
       "\n",
       "[16193 rows x 9 columns]"
      ]
     },
     "execution_count": 52,
     "metadata": {},
     "output_type": "execute_result"
    }
   ],
   "source": [
    "fan_tokens_df['date']=pd.to_datetime(fan_tokens_df['date']).dt.date\n",
    "fan_tokens_df"
   ]
  },
  {
   "cell_type": "code",
   "execution_count": 54,
   "metadata": {},
   "outputs": [
    {
     "data": {
      "image/png": "[encoded data removed]",
      "text/plain": [
       "<Figure size 640x480 with 1 Axes>"
      ]
     },
     "metadata": {},
     "output_type": "display_data"
    }
   ],
   "source": [
    "milan_fan_tokens = fan_tokens_df[fan_tokens_df['common_id'] == 1]\n",
    "\n",
    "plt.plot(milan_fan_tokens['date'], milan_fan_tokens['price'])\n",
    "\n",
    "plt.show()\n"
   ]
  },
  {
   "cell_type": "code",
   "execution_count": 55,
   "metadata": {},
   "outputs": [
    {
     "data": {
      "text/html": [
       "<div>\n",
       "<style scoped>\n",
       "    .dataframe tbody tr th:only-of-type {\n",
       "        vertical-align: middle;\n",
       "    }\n",
       "\n",
       "    .dataframe tbody tr th {\n",
       "        vertical-align: top;\n",
       "    }\n",
       "\n",
       "    .dataframe thead th {\n",
       "        text-align: right;\n",
       "    }\n",
       "</style>\n",
       "<table border=\"1\" class=\"dataframe\">\n",
       "  <thead>\n",
       "    <tr style=\"text-align: right;\">\n",
       "      <th></th>\n",
       "      <th>team_name_matches_x</th>\n",
       "      <th>match_date</th>\n",
       "      <th>team_local_id</th>\n",
       "      <th>result</th>\n",
       "      <th>team_code</th>\n",
       "      <th>team_name_tokes_x</th>\n",
       "      <th>common_id_x</th>\n",
       "      <th>time</th>\n",
       "      <th>date</th>\n",
       "      <th>id</th>\n",
       "      <th>team_name_tokes_y</th>\n",
       "      <th>token_name</th>\n",
       "      <th>slug</th>\n",
       "      <th>volume</th>\n",
       "      <th>price</th>\n",
       "      <th>team_name_matches_y</th>\n",
       "      <th>common_id_y</th>\n",
       "    </tr>\n",
       "  </thead>\n",
       "  <tbody>\n",
       "    <tr>\n",
       "      <th>0</th>\n",
       "      <td>AC Milan</td>\n",
       "      <td>2021-02-13 19:45:00</td>\n",
       "      <td>98</td>\n",
       "      <td>L</td>\n",
       "      <td>MIL</td>\n",
       "      <td>ac milan</td>\n",
       "      <td>1</td>\n",
       "      <td>19:45:00</td>\n",
       "      <td>2021-02-13</td>\n",
       "      <td>8365</td>\n",
       "      <td>ac milan</td>\n",
       "      <td>ac milan fan token</td>\n",
       "      <td>ac-milan-fan-token</td>\n",
       "      <td>478681.31</td>\n",
       "      <td>6.37</td>\n",
       "      <td>AC Milan</td>\n",
       "      <td>1</td>\n",
       "    </tr>\n",
       "    <tr>\n",
       "      <th>1</th>\n",
       "      <td>AC Milan</td>\n",
       "      <td>2021-02-21 14:00:00</td>\n",
       "      <td>98</td>\n",
       "      <td>L</td>\n",
       "      <td>MIL</td>\n",
       "      <td>ac milan</td>\n",
       "      <td>1</td>\n",
       "      <td>14:00:00</td>\n",
       "      <td>2021-02-21</td>\n",
       "      <td>8373</td>\n",
       "      <td>ac milan</td>\n",
       "      <td>ac milan fan token</td>\n",
       "      <td>ac-milan-fan-token</td>\n",
       "      <td>324003.18</td>\n",
       "      <td>6.21</td>\n",
       "      <td>AC Milan</td>\n",
       "      <td>1</td>\n",
       "    </tr>\n",
       "    <tr>\n",
       "      <th>2</th>\n",
       "      <td>AC Milan</td>\n",
       "      <td>2021-02-28 19:45:00</td>\n",
       "      <td>98</td>\n",
       "      <td>W</td>\n",
       "      <td>MIL</td>\n",
       "      <td>ac milan</td>\n",
       "      <td>1</td>\n",
       "      <td>19:45:00</td>\n",
       "      <td>2021-02-28</td>\n",
       "      <td>8380</td>\n",
       "      <td>ac milan</td>\n",
       "      <td>ac milan fan token</td>\n",
       "      <td>ac-milan-fan-token</td>\n",
       "      <td>8723937.22</td>\n",
       "      <td>11.60</td>\n",
       "      <td>AC Milan</td>\n",
       "      <td>1</td>\n",
       "    </tr>\n",
       "    <tr>\n",
       "      <th>3</th>\n",
       "      <td>AC Milan</td>\n",
       "      <td>2021-03-03 19:45:00</td>\n",
       "      <td>98</td>\n",
       "      <td>D</td>\n",
       "      <td>MIL</td>\n",
       "      <td>ac milan</td>\n",
       "      <td>1</td>\n",
       "      <td>19:45:00</td>\n",
       "      <td>2021-03-03</td>\n",
       "      <td>8383</td>\n",
       "      <td>ac milan</td>\n",
       "      <td>ac milan fan token</td>\n",
       "      <td>ac-milan-fan-token</td>\n",
       "      <td>15556596.42</td>\n",
       "      <td>12.14</td>\n",
       "      <td>AC Milan</td>\n",
       "      <td>1</td>\n",
       "    </tr>\n",
       "    <tr>\n",
       "      <th>4</th>\n",
       "      <td>AC Milan</td>\n",
       "      <td>2021-03-07 14:00:00</td>\n",
       "      <td>98</td>\n",
       "      <td>W</td>\n",
       "      <td>MIL</td>\n",
       "      <td>ac milan</td>\n",
       "      <td>1</td>\n",
       "      <td>14:00:00</td>\n",
       "      <td>2021-03-07</td>\n",
       "      <td>8387</td>\n",
       "      <td>ac milan</td>\n",
       "      <td>ac milan fan token</td>\n",
       "      <td>ac-milan-fan-token</td>\n",
       "      <td>6767685.08</td>\n",
       "      <td>10.72</td>\n",
       "      <td>AC Milan</td>\n",
       "      <td>1</td>\n",
       "    </tr>\n",
       "    <tr>\n",
       "      <th>...</th>\n",
       "      <td>...</td>\n",
       "      <td>...</td>\n",
       "      <td>...</td>\n",
       "      <td>...</td>\n",
       "      <td>...</td>\n",
       "      <td>...</td>\n",
       "      <td>...</td>\n",
       "      <td>...</td>\n",
       "      <td>...</td>\n",
       "      <td>...</td>\n",
       "      <td>...</td>\n",
       "      <td>...</td>\n",
       "      <td>...</td>\n",
       "      <td>...</td>\n",
       "      <td>...</td>\n",
       "      <td>...</td>\n",
       "      <td>...</td>\n",
       "    </tr>\n",
       "    <tr>\n",
       "      <th>116</th>\n",
       "      <td>AC Milan</td>\n",
       "      <td>2023-09-23 13:00:00</td>\n",
       "      <td>98</td>\n",
       "      <td>W</td>\n",
       "      <td>MIL</td>\n",
       "      <td>ac milan</td>\n",
       "      <td>1</td>\n",
       "      <td>13:00:00</td>\n",
       "      <td>2023-09-23</td>\n",
       "      <td>9317</td>\n",
       "      <td>ac milan</td>\n",
       "      <td>ac milan fan token</td>\n",
       "      <td>ac-milan-fan-token</td>\n",
       "      <td>463926.52</td>\n",
       "      <td>1.79</td>\n",
       "      <td>AC Milan</td>\n",
       "      <td>1</td>\n",
       "    </tr>\n",
       "    <tr>\n",
       "      <th>117</th>\n",
       "      <td>AC Milan</td>\n",
       "      <td>2023-09-27 16:30:00</td>\n",
       "      <td>98</td>\n",
       "      <td>W</td>\n",
       "      <td>MIL</td>\n",
       "      <td>ac milan</td>\n",
       "      <td>1</td>\n",
       "      <td>16:30:00</td>\n",
       "      <td>2023-09-27</td>\n",
       "      <td>9321</td>\n",
       "      <td>ac milan</td>\n",
       "      <td>ac milan fan token</td>\n",
       "      <td>ac-milan-fan-token</td>\n",
       "      <td>587740.10</td>\n",
       "      <td>1.77</td>\n",
       "      <td>AC Milan</td>\n",
       "      <td>1</td>\n",
       "    </tr>\n",
       "    <tr>\n",
       "      <th>118</th>\n",
       "      <td>AC Milan</td>\n",
       "      <td>2023-09-30 16:00:00</td>\n",
       "      <td>98</td>\n",
       "      <td>W</td>\n",
       "      <td>MIL</td>\n",
       "      <td>ac milan</td>\n",
       "      <td>1</td>\n",
       "      <td>16:00:00</td>\n",
       "      <td>2023-09-30</td>\n",
       "      <td>9324</td>\n",
       "      <td>ac milan</td>\n",
       "      <td>ac milan fan token</td>\n",
       "      <td>ac-milan-fan-token</td>\n",
       "      <td>564705.54</td>\n",
       "      <td>1.79</td>\n",
       "      <td>AC Milan</td>\n",
       "      <td>1</td>\n",
       "    </tr>\n",
       "    <tr>\n",
       "      <th>119</th>\n",
       "      <td>AC Milan</td>\n",
       "      <td>2023-10-04 19:00:00</td>\n",
       "      <td>98</td>\n",
       "      <td>D</td>\n",
       "      <td>MIL</td>\n",
       "      <td>ac milan</td>\n",
       "      <td>1</td>\n",
       "      <td>19:00:00</td>\n",
       "      <td>2023-10-04</td>\n",
       "      <td>9328</td>\n",
       "      <td>ac milan</td>\n",
       "      <td>ac milan fan token</td>\n",
       "      <td>ac-milan-fan-token</td>\n",
       "      <td>827107.20</td>\n",
       "      <td>1.77</td>\n",
       "      <td>AC Milan</td>\n",
       "      <td>1</td>\n",
       "    </tr>\n",
       "    <tr>\n",
       "      <th>120</th>\n",
       "      <td>AC Milan</td>\n",
       "      <td>2023-10-04 19:00:00</td>\n",
       "      <td>98</td>\n",
       "      <td>D</td>\n",
       "      <td>MIL</td>\n",
       "      <td>ac milan</td>\n",
       "      <td>1</td>\n",
       "      <td>19:00:00</td>\n",
       "      <td>2023-10-04</td>\n",
       "      <td>9329</td>\n",
       "      <td>ac milan</td>\n",
       "      <td>ac milan fan token</td>\n",
       "      <td>ac-milan-fan-token</td>\n",
       "      <td>912307.16</td>\n",
       "      <td>1.77</td>\n",
       "      <td>AC Milan</td>\n",
       "      <td>1</td>\n",
       "    </tr>\n",
       "  </tbody>\n",
       "</table>\n",
       "<p>121 rows × 17 columns</p>\n",
       "</div>"
      ],
      "text/plain": [
       "    team_name_matches_x          match_date  team_local_id result team_code  \\\n",
       "0              AC Milan 2021-02-13 19:45:00             98      L       MIL   \n",
       "1              AC Milan 2021-02-21 14:00:00             98      L       MIL   \n",
       "2              AC Milan 2021-02-28 19:45:00             98      W       MIL   \n",
       "3              AC Milan 2021-03-03 19:45:00             98      D       MIL   \n",
       "4              AC Milan 2021-03-07 14:00:00             98      W       MIL   \n",
       "..                  ...                 ...            ...    ...       ...   \n",
       "116            AC Milan 2023-09-23 13:00:00             98      W       MIL   \n",
       "117            AC Milan 2023-09-27 16:30:00             98      W       MIL   \n",
       "118            AC Milan 2023-09-30 16:00:00             98      W       MIL   \n",
       "119            AC Milan 2023-10-04 19:00:00             98      D       MIL   \n",
       "120            AC Milan 2023-10-04 19:00:00             98      D       MIL   \n",
       "\n",
       "    team_name_tokes_x  common_id_x      time        date    id  \\\n",
       "0            ac milan            1  19:45:00  2021-02-13  8365   \n",
       "1            ac milan            1  14:00:00  2021-02-21  8373   \n",
       "2            ac milan            1  19:45:00  2021-02-28  8380   \n",
       "3            ac milan            1  19:45:00  2021-03-03  8383   \n",
       "4            ac milan            1  14:00:00  2021-03-07  8387   \n",
       "..                ...          ...       ...         ...   ...   \n",
       "116          ac milan            1  13:00:00  2023-09-23  9317   \n",
       "117          ac milan            1  16:30:00  2023-09-27  9321   \n",
       "118          ac milan            1  16:00:00  2023-09-30  9324   \n",
       "119          ac milan            1  19:00:00  2023-10-04  9328   \n",
       "120          ac milan            1  19:00:00  2023-10-04  9329   \n",
       "\n",
       "    team_name_tokes_y          token_name                slug       volume  \\\n",
       "0            ac milan  ac milan fan token  ac-milan-fan-token    478681.31   \n",
       "1            ac milan  ac milan fan token  ac-milan-fan-token    324003.18   \n",
       "2            ac milan  ac milan fan token  ac-milan-fan-token   8723937.22   \n",
       "3            ac milan  ac milan fan token  ac-milan-fan-token  15556596.42   \n",
       "4            ac milan  ac milan fan token  ac-milan-fan-token   6767685.08   \n",
       "..                ...                 ...                 ...          ...   \n",
       "116          ac milan  ac milan fan token  ac-milan-fan-token    463926.52   \n",
       "117          ac milan  ac milan fan token  ac-milan-fan-token    587740.10   \n",
       "118          ac milan  ac milan fan token  ac-milan-fan-token    564705.54   \n",
       "119          ac milan  ac milan fan token  ac-milan-fan-token    827107.20   \n",
       "120          ac milan  ac milan fan token  ac-milan-fan-token    912307.16   \n",
       "\n",
       "     price team_name_matches_y  common_id_y  \n",
       "0     6.37            AC Milan            1  \n",
       "1     6.21            AC Milan            1  \n",
       "2    11.60            AC Milan            1  \n",
       "3    12.14            AC Milan            1  \n",
       "4    10.72            AC Milan            1  \n",
       "..     ...                 ...          ...  \n",
       "116   1.79            AC Milan            1  \n",
       "117   1.77            AC Milan            1  \n",
       "118   1.79            AC Milan            1  \n",
       "119   1.77            AC Milan            1  \n",
       "120   1.77            AC Milan            1  \n",
       "\n",
       "[121 rows x 17 columns]"
      ]
     },
     "execution_count": 55,
     "metadata": {},
     "output_type": "execute_result"
    }
   ],
   "source": [
    "milan_matches = team_hist_df[team_hist_df['common_id'] == 1]\n",
    "milan_df = milan_matches.merge(milan_fan_tokens, on='date')\n",
    "milan_df"
   ]
  },
  {
   "cell_type": "code",
   "execution_count": 67,
   "metadata": {},
   "outputs": [
    {
     "data": {
      "image/png": "[encoded data removed]",
      "text/plain": [
       "<Figure size 1800x1000 with 1 Axes>"
      ]
     },
     "metadata": {},
     "output_type": "display_data"
    }
   ],
   "source": [
    "plt.figure(figsize=(18, 10))\n",
    "\n",
    "color_mapping = {\n",
    "    'W': 'green',\n",
    "    'D': 'yellow',\n",
    "    'L': 'red'\n",
    "}\n",
    "\n",
    "plt.plot(milan_fan_tokens['date'], milan_fan_tokens['price'])\n",
    "plt.scatter(milan_df['date'], \n",
    "            milan_df['price'], \n",
    "            color=milan_df['result'].apply(lambda x: color_mapping[x]), \n",
    "            label=milan_df['result'],\n",
    "            s=[30],\n",
    "            marker='x')\n",
    "\n",
    "# Add date \n",
    "\n",
    "plt.show()"
   ]
  },
  {
   "cell_type": "code",
   "execution_count": 57,
   "metadata": {},
   "outputs": [
    {
     "data": {
      "image/png": "[encoded data removed]",
      "text/plain": [
       "<Figure size 1800x1000 with 1 Axes>"
      ]
     },
     "metadata": {},
     "output_type": "display_data"
    }
   ],
   "source": [
    "plt.figure(figsize=(18, 10))\n",
    "\n",
    "color_mapping = {\n",
    "    'W': 'green',\n",
    "    'D': 'yellow',\n",
    "    'L': 'red'\n",
    "}\n",
    "\n",
    "plt.plot(milan_df['date'], milan_df['price'])\n",
    "plt.scatter(milan_df['date'], milan_df['price'], color=milan_df['result'].apply(lambda x: color_mapping[x]), label=milan_df['result'])\n",
    "\n",
    "plt.show()"
   ]
  },
  {
   "cell_type": "code",
   "execution_count": 58,
   "metadata": {},
   "outputs": [
    {
     "name": "stdout",
     "output_type": "stream",
     "text": [
      "   Column1  Difference\n",
      "0       10         NaN\n",
      "1       20        10.0\n",
      "2       30        10.0\n",
      "3       40        10.0\n",
      "4       50        10.0\n"
     ]
    }
   ],
   "source": [
    "# Example of .diff()\n",
    "data = {'Column1': [10, 20, 30, 40, 50]}\n",
    "df = pd.DataFrame(data)\n",
    "\n",
    "df['Difference'] = df['Column1'].diff()\n",
    "\n",
    "print(df)"
   ]
  },
  {
   "cell_type": "code",
   "execution_count": 59,
   "metadata": {},
   "outputs": [
    {
     "data": {
      "text/plain": [
       "0        NaN\n",
       "1      -0.16\n",
       "2       5.39\n",
       "3       0.54\n",
       "4      -1.42\n",
       "       ...  \n",
       "116    -0.05\n",
       "117    -0.02\n",
       "118     0.02\n",
       "119    -0.02\n",
       "120     0.00\n",
       "Name: price, Length: 121, dtype: object"
      ]
     },
     "execution_count": 59,
     "metadata": {},
     "output_type": "execute_result"
    }
   ],
   "source": [
    "milan_df['price'].diff()"
   ]
  },
  {
   "cell_type": "code",
   "execution_count": 60,
   "metadata": {},
   "outputs": [
    {
     "data": {
      "text/html": [
       "<div>\n",
       "<style scoped>\n",
       "    .dataframe tbody tr th:only-of-type {\n",
       "        vertical-align: middle;\n",
       "    }\n",
       "\n",
       "    .dataframe tbody tr th {\n",
       "        vertical-align: top;\n",
       "    }\n",
       "\n",
       "    .dataframe thead th {\n",
       "        text-align: right;\n",
       "    }\n",
       "</style>\n",
       "<table border=\"1\" class=\"dataframe\">\n",
       "  <thead>\n",
       "    <tr style=\"text-align: right;\">\n",
       "      <th></th>\n",
       "      <th>team_name_matches_x</th>\n",
       "      <th>match_date</th>\n",
       "      <th>team_local_id</th>\n",
       "      <th>result</th>\n",
       "      <th>team_code</th>\n",
       "      <th>team_name_tokes_x</th>\n",
       "      <th>common_id_x</th>\n",
       "      <th>time</th>\n",
       "      <th>date</th>\n",
       "      <th>id</th>\n",
       "      <th>team_name_tokes_y</th>\n",
       "      <th>token_name</th>\n",
       "      <th>slug</th>\n",
       "      <th>volume</th>\n",
       "      <th>price</th>\n",
       "      <th>team_name_matches_y</th>\n",
       "      <th>common_id_y</th>\n",
       "    </tr>\n",
       "  </thead>\n",
       "  <tbody>\n",
       "    <tr>\n",
       "      <th>0</th>\n",
       "      <td>AC Milan</td>\n",
       "      <td>2021-02-13 19:45:00</td>\n",
       "      <td>98</td>\n",
       "      <td>L</td>\n",
       "      <td>MIL</td>\n",
       "      <td>ac milan</td>\n",
       "      <td>1</td>\n",
       "      <td>19:45:00</td>\n",
       "      <td>2021-02-13</td>\n",
       "      <td>8365</td>\n",
       "      <td>ac milan</td>\n",
       "      <td>ac milan fan token</td>\n",
       "      <td>ac-milan-fan-token</td>\n",
       "      <td>478681.31</td>\n",
       "      <td>6.37</td>\n",
       "      <td>AC Milan</td>\n",
       "      <td>1</td>\n",
       "    </tr>\n",
       "    <tr>\n",
       "      <th>1</th>\n",
       "      <td>AC Milan</td>\n",
       "      <td>2021-02-21 14:00:00</td>\n",
       "      <td>98</td>\n",
       "      <td>L</td>\n",
       "      <td>MIL</td>\n",
       "      <td>ac milan</td>\n",
       "      <td>1</td>\n",
       "      <td>14:00:00</td>\n",
       "      <td>2021-02-21</td>\n",
       "      <td>8373</td>\n",
       "      <td>ac milan</td>\n",
       "      <td>ac milan fan token</td>\n",
       "      <td>ac-milan-fan-token</td>\n",
       "      <td>324003.18</td>\n",
       "      <td>6.21</td>\n",
       "      <td>AC Milan</td>\n",
       "      <td>1</td>\n",
       "    </tr>\n",
       "    <tr>\n",
       "      <th>2</th>\n",
       "      <td>AC Milan</td>\n",
       "      <td>2021-02-28 19:45:00</td>\n",
       "      <td>98</td>\n",
       "      <td>W</td>\n",
       "      <td>MIL</td>\n",
       "      <td>ac milan</td>\n",
       "      <td>1</td>\n",
       "      <td>19:45:00</td>\n",
       "      <td>2021-02-28</td>\n",
       "      <td>8380</td>\n",
       "      <td>ac milan</td>\n",
       "      <td>ac milan fan token</td>\n",
       "      <td>ac-milan-fan-token</td>\n",
       "      <td>8723937.22</td>\n",
       "      <td>11.60</td>\n",
       "      <td>AC Milan</td>\n",
       "      <td>1</td>\n",
       "    </tr>\n",
       "    <tr>\n",
       "      <th>3</th>\n",
       "      <td>AC Milan</td>\n",
       "      <td>2021-03-03 19:45:00</td>\n",
       "      <td>98</td>\n",
       "      <td>D</td>\n",
       "      <td>MIL</td>\n",
       "      <td>ac milan</td>\n",
       "      <td>1</td>\n",
       "      <td>19:45:00</td>\n",
       "      <td>2021-03-03</td>\n",
       "      <td>8383</td>\n",
       "      <td>ac milan</td>\n",
       "      <td>ac milan fan token</td>\n",
       "      <td>ac-milan-fan-token</td>\n",
       "      <td>15556596.42</td>\n",
       "      <td>12.14</td>\n",
       "      <td>AC Milan</td>\n",
       "      <td>1</td>\n",
       "    </tr>\n",
       "    <tr>\n",
       "      <th>4</th>\n",
       "      <td>AC Milan</td>\n",
       "      <td>2021-03-07 14:00:00</td>\n",
       "      <td>98</td>\n",
       "      <td>W</td>\n",
       "      <td>MIL</td>\n",
       "      <td>ac milan</td>\n",
       "      <td>1</td>\n",
       "      <td>14:00:00</td>\n",
       "      <td>2021-03-07</td>\n",
       "      <td>8387</td>\n",
       "      <td>ac milan</td>\n",
       "      <td>ac milan fan token</td>\n",
       "      <td>ac-milan-fan-token</td>\n",
       "      <td>6767685.08</td>\n",
       "      <td>10.72</td>\n",
       "      <td>AC Milan</td>\n",
       "      <td>1</td>\n",
       "    </tr>\n",
       "    <tr>\n",
       "      <th>...</th>\n",
       "      <td>...</td>\n",
       "      <td>...</td>\n",
       "      <td>...</td>\n",
       "      <td>...</td>\n",
       "      <td>...</td>\n",
       "      <td>...</td>\n",
       "      <td>...</td>\n",
       "      <td>...</td>\n",
       "      <td>...</td>\n",
       "      <td>...</td>\n",
       "      <td>...</td>\n",
       "      <td>...</td>\n",
       "      <td>...</td>\n",
       "      <td>...</td>\n",
       "      <td>...</td>\n",
       "      <td>...</td>\n",
       "      <td>...</td>\n",
       "    </tr>\n",
       "    <tr>\n",
       "      <th>116</th>\n",
       "      <td>AC Milan</td>\n",
       "      <td>2023-09-23 13:00:00</td>\n",
       "      <td>98</td>\n",
       "      <td>W</td>\n",
       "      <td>MIL</td>\n",
       "      <td>ac milan</td>\n",
       "      <td>1</td>\n",
       "      <td>13:00:00</td>\n",
       "      <td>2023-09-23</td>\n",
       "      <td>9317</td>\n",
       "      <td>ac milan</td>\n",
       "      <td>ac milan fan token</td>\n",
       "      <td>ac-milan-fan-token</td>\n",
       "      <td>463926.52</td>\n",
       "      <td>1.79</td>\n",
       "      <td>AC Milan</td>\n",
       "      <td>1</td>\n",
       "    </tr>\n",
       "    <tr>\n",
       "      <th>117</th>\n",
       "      <td>AC Milan</td>\n",
       "      <td>2023-09-27 16:30:00</td>\n",
       "      <td>98</td>\n",
       "      <td>W</td>\n",
       "      <td>MIL</td>\n",
       "      <td>ac milan</td>\n",
       "      <td>1</td>\n",
       "      <td>16:30:00</td>\n",
       "      <td>2023-09-27</td>\n",
       "      <td>9321</td>\n",
       "      <td>ac milan</td>\n",
       "      <td>ac milan fan token</td>\n",
       "      <td>ac-milan-fan-token</td>\n",
       "      <td>587740.10</td>\n",
       "      <td>1.77</td>\n",
       "      <td>AC Milan</td>\n",
       "      <td>1</td>\n",
       "    </tr>\n",
       "    <tr>\n",
       "      <th>118</th>\n",
       "      <td>AC Milan</td>\n",
       "      <td>2023-09-30 16:00:00</td>\n",
       "      <td>98</td>\n",
       "      <td>W</td>\n",
       "      <td>MIL</td>\n",
       "      <td>ac milan</td>\n",
       "      <td>1</td>\n",
       "      <td>16:00:00</td>\n",
       "      <td>2023-09-30</td>\n",
       "      <td>9324</td>\n",
       "      <td>ac milan</td>\n",
       "      <td>ac milan fan token</td>\n",
       "      <td>ac-milan-fan-token</td>\n",
       "      <td>564705.54</td>\n",
       "      <td>1.79</td>\n",
       "      <td>AC Milan</td>\n",
       "      <td>1</td>\n",
       "    </tr>\n",
       "    <tr>\n",
       "      <th>119</th>\n",
       "      <td>AC Milan</td>\n",
       "      <td>2023-10-04 19:00:00</td>\n",
       "      <td>98</td>\n",
       "      <td>D</td>\n",
       "      <td>MIL</td>\n",
       "      <td>ac milan</td>\n",
       "      <td>1</td>\n",
       "      <td>19:00:00</td>\n",
       "      <td>2023-10-04</td>\n",
       "      <td>9328</td>\n",
       "      <td>ac milan</td>\n",
       "      <td>ac milan fan token</td>\n",
       "      <td>ac-milan-fan-token</td>\n",
       "      <td>827107.20</td>\n",
       "      <td>1.77</td>\n",
       "      <td>AC Milan</td>\n",
       "      <td>1</td>\n",
       "    </tr>\n",
       "    <tr>\n",
       "      <th>120</th>\n",
       "      <td>AC Milan</td>\n",
       "      <td>2023-10-04 19:00:00</td>\n",
       "      <td>98</td>\n",
       "      <td>D</td>\n",
       "      <td>MIL</td>\n",
       "      <td>ac milan</td>\n",
       "      <td>1</td>\n",
       "      <td>19:00:00</td>\n",
       "      <td>2023-10-04</td>\n",
       "      <td>9329</td>\n",
       "      <td>ac milan</td>\n",
       "      <td>ac milan fan token</td>\n",
       "      <td>ac-milan-fan-token</td>\n",
       "      <td>912307.16</td>\n",
       "      <td>1.77</td>\n",
       "      <td>AC Milan</td>\n",
       "      <td>1</td>\n",
       "    </tr>\n",
       "  </tbody>\n",
       "</table>\n",
       "<p>121 rows × 17 columns</p>\n",
       "</div>"
      ],
      "text/plain": [
       "    team_name_matches_x          match_date  team_local_id result team_code  \\\n",
       "0              AC Milan 2021-02-13 19:45:00             98      L       MIL   \n",
       "1              AC Milan 2021-02-21 14:00:00             98      L       MIL   \n",
       "2              AC Milan 2021-02-28 19:45:00             98      W       MIL   \n",
       "3              AC Milan 2021-03-03 19:45:00             98      D       MIL   \n",
       "4              AC Milan 2021-03-07 14:00:00             98      W       MIL   \n",
       "..                  ...                 ...            ...    ...       ...   \n",
       "116            AC Milan 2023-09-23 13:00:00             98      W       MIL   \n",
       "117            AC Milan 2023-09-27 16:30:00             98      W       MIL   \n",
       "118            AC Milan 2023-09-30 16:00:00             98      W       MIL   \n",
       "119            AC Milan 2023-10-04 19:00:00             98      D       MIL   \n",
       "120            AC Milan 2023-10-04 19:00:00             98      D       MIL   \n",
       "\n",
       "    team_name_tokes_x  common_id_x      time        date    id  \\\n",
       "0            ac milan            1  19:45:00  2021-02-13  8365   \n",
       "1            ac milan            1  14:00:00  2021-02-21  8373   \n",
       "2            ac milan            1  19:45:00  2021-02-28  8380   \n",
       "3            ac milan            1  19:45:00  2021-03-03  8383   \n",
       "4            ac milan            1  14:00:00  2021-03-07  8387   \n",
       "..                ...          ...       ...         ...   ...   \n",
       "116          ac milan            1  13:00:00  2023-09-23  9317   \n",
       "117          ac milan            1  16:30:00  2023-09-27  9321   \n",
       "118          ac milan            1  16:00:00  2023-09-30  9324   \n",
       "119          ac milan            1  19:00:00  2023-10-04  9328   \n",
       "120          ac milan            1  19:00:00  2023-10-04  9329   \n",
       "\n",
       "    team_name_tokes_y          token_name                slug       volume  \\\n",
       "0            ac milan  ac milan fan token  ac-milan-fan-token    478681.31   \n",
       "1            ac milan  ac milan fan token  ac-milan-fan-token    324003.18   \n",
       "2            ac milan  ac milan fan token  ac-milan-fan-token   8723937.22   \n",
       "3            ac milan  ac milan fan token  ac-milan-fan-token  15556596.42   \n",
       "4            ac milan  ac milan fan token  ac-milan-fan-token   6767685.08   \n",
       "..                ...                 ...                 ...          ...   \n",
       "116          ac milan  ac milan fan token  ac-milan-fan-token    463926.52   \n",
       "117          ac milan  ac milan fan token  ac-milan-fan-token    587740.10   \n",
       "118          ac milan  ac milan fan token  ac-milan-fan-token    564705.54   \n",
       "119          ac milan  ac milan fan token  ac-milan-fan-token    827107.20   \n",
       "120          ac milan  ac milan fan token  ac-milan-fan-token    912307.16   \n",
       "\n",
       "     price team_name_matches_y  common_id_y  \n",
       "0     6.37            AC Milan            1  \n",
       "1     6.21            AC Milan            1  \n",
       "2    11.60            AC Milan            1  \n",
       "3    12.14            AC Milan            1  \n",
       "4    10.72            AC Milan            1  \n",
       "..     ...                 ...          ...  \n",
       "116   1.79            AC Milan            1  \n",
       "117   1.77            AC Milan            1  \n",
       "118   1.79            AC Milan            1  \n",
       "119   1.77            AC Milan            1  \n",
       "120   1.77            AC Milan            1  \n",
       "\n",
       "[121 rows x 17 columns]"
      ]
     },
     "execution_count": 60,
     "metadata": {},
     "output_type": "execute_result"
    }
   ],
   "source": [
    "milan_df"
   ]
  },
  {
   "cell_type": "code",
   "execution_count": 71,
   "metadata": {},
   "outputs": [
    {
     "data": {
      "text/html": [
       "<div>\n",
       "<style scoped>\n",
       "    .dataframe tbody tr th:only-of-type {\n",
       "        vertical-align: middle;\n",
       "    }\n",
       "\n",
       "    .dataframe tbody tr th {\n",
       "        vertical-align: top;\n",
       "    }\n",
       "\n",
       "    .dataframe thead th {\n",
       "        text-align: right;\n",
       "    }\n",
       "</style>\n",
       "<table border=\"1\" class=\"dataframe\">\n",
       "  <thead>\n",
       "    <tr style=\"text-align: right;\">\n",
       "      <th></th>\n",
       "      <th>price_delta</th>\n",
       "    </tr>\n",
       "    <tr>\n",
       "      <th>result</th>\n",
       "      <th></th>\n",
       "    </tr>\n",
       "  </thead>\n",
       "  <tbody>\n",
       "    <tr>\n",
       "      <th>D</th>\n",
       "      <td>-0.005</td>\n",
       "    </tr>\n",
       "    <tr>\n",
       "      <th>L</th>\n",
       "      <td>-0.11</td>\n",
       "    </tr>\n",
       "    <tr>\n",
       "      <th>W</th>\n",
       "      <td>-0.06</td>\n",
       "    </tr>\n",
       "  </tbody>\n",
       "</table>\n",
       "</div>"
      ],
      "text/plain": [
       "       price_delta\n",
       "result            \n",
       "D           -0.005\n",
       "L            -0.11\n",
       "W            -0.06"
      ]
     },
     "execution_count": 71,
     "metadata": {},
     "output_type": "execute_result"
    }
   ],
   "source": [
    "milan_df['price_delta'] = milan_df['price'].diff()\n",
    "milan_df.groupby('result').agg({'price_delta':'median'})"
   ]
  },
  {
   "cell_type": "code",
   "execution_count": 75,
   "metadata": {},
   "outputs": [
    {
     "data": {
      "text/html": [
       "<div>\n",
       "<style scoped>\n",
       "    .dataframe tbody tr th:only-of-type {\n",
       "        vertical-align: middle;\n",
       "    }\n",
       "\n",
       "    .dataframe tbody tr th {\n",
       "        vertical-align: top;\n",
       "    }\n",
       "\n",
       "    .dataframe thead th {\n",
       "        text-align: right;\n",
       "    }\n",
       "</style>\n",
       "<table border=\"1\" class=\"dataframe\">\n",
       "  <thead>\n",
       "    <tr style=\"text-align: right;\">\n",
       "      <th>index</th>\n",
       "      <th>team_name</th>\n",
       "      <th>D</th>\n",
       "      <th>L</th>\n",
       "      <th>W</th>\n",
       "    </tr>\n",
       "  </thead>\n",
       "  <tbody>\n",
       "    <tr>\n",
       "      <th>0</th>\n",
       "      <td>AC Milan</td>\n",
       "      <td>-0.005</td>\n",
       "      <td>-0.11</td>\n",
       "      <td>-0.06</td>\n",
       "    </tr>\n",
       "    <tr>\n",
       "      <th>1</th>\n",
       "      <td>AS Roma</td>\n",
       "      <td>-0.12</td>\n",
       "      <td>-0.1</td>\n",
       "      <td>0.04</td>\n",
       "    </tr>\n",
       "    <tr>\n",
       "      <th>2</th>\n",
       "      <td>Arsenal</td>\n",
       "      <td>-0.01</td>\n",
       "      <td>-0.16</td>\n",
       "      <td>-0.04</td>\n",
       "    </tr>\n",
       "    <tr>\n",
       "      <th>3</th>\n",
       "      <td>Aston Villa</td>\n",
       "      <td>-0.05</td>\n",
       "      <td>-0.065</td>\n",
       "      <td>-0.03</td>\n",
       "    </tr>\n",
       "    <tr>\n",
       "      <th>4</th>\n",
       "      <td>Atletico Madrid</td>\n",
       "      <td>-0.03</td>\n",
       "      <td>-0.165</td>\n",
       "      <td>-0.12</td>\n",
       "    </tr>\n",
       "    <tr>\n",
       "      <th>5</th>\n",
       "      <td>Bologna FC</td>\n",
       "      <td>-0.01</td>\n",
       "      <td>-0.02</td>\n",
       "      <td>0.02</td>\n",
       "    </tr>\n",
       "    <tr>\n",
       "      <th>6</th>\n",
       "      <td>Everton FC</td>\n",
       "      <td>-0.03</td>\n",
       "      <td>-0.015</td>\n",
       "      <td>-0.035</td>\n",
       "    </tr>\n",
       "    <tr>\n",
       "      <th>7</th>\n",
       "      <td>FC Barcelona</td>\n",
       "      <td>-0.28</td>\n",
       "      <td>-0.12</td>\n",
       "      <td>-0.07</td>\n",
       "    </tr>\n",
       "    <tr>\n",
       "      <th>8</th>\n",
       "      <td>FC Porto</td>\n",
       "      <td>-0.01</td>\n",
       "      <td>-0.06</td>\n",
       "      <td>-0.02</td>\n",
       "    </tr>\n",
       "    <tr>\n",
       "      <th>9</th>\n",
       "      <td>Inter Milan</td>\n",
       "      <td>0.075</td>\n",
       "      <td>-0.01</td>\n",
       "      <td>-0.07</td>\n",
       "    </tr>\n",
       "    <tr>\n",
       "      <th>10</th>\n",
       "      <td>Leeds United</td>\n",
       "      <td>-0.005</td>\n",
       "      <td>-0.05</td>\n",
       "      <td>0.0</td>\n",
       "    </tr>\n",
       "    <tr>\n",
       "      <th>11</th>\n",
       "      <td>Manchester City</td>\n",
       "      <td>-0.37</td>\n",
       "      <td>-0.155</td>\n",
       "      <td>-0.12</td>\n",
       "    </tr>\n",
       "    <tr>\n",
       "      <th>12</th>\n",
       "      <td>Napoli</td>\n",
       "      <td>0.07</td>\n",
       "      <td>0.06</td>\n",
       "      <td>-0.045</td>\n",
       "    </tr>\n",
       "    <tr>\n",
       "      <th>13</th>\n",
       "      <td>Paris Saint-Germain</td>\n",
       "      <td>-0.45</td>\n",
       "      <td>-0.045</td>\n",
       "      <td>-0.075</td>\n",
       "    </tr>\n",
       "    <tr>\n",
       "      <th>14</th>\n",
       "      <td>Real Sociedad</td>\n",
       "      <td>0.13</td>\n",
       "      <td>0.05</td>\n",
       "      <td>0.105</td>\n",
       "    </tr>\n",
       "    <tr>\n",
       "      <th>15</th>\n",
       "      <td>S.S. Lazio</td>\n",
       "      <td>-0.345</td>\n",
       "      <td>-0.19</td>\n",
       "      <td>-0.005</td>\n",
       "    </tr>\n",
       "    <tr>\n",
       "      <th>16</th>\n",
       "      <td>Sevilla FC</td>\n",
       "      <td>-0.02</td>\n",
       "      <td>-0.045</td>\n",
       "      <td>-0.12</td>\n",
       "    </tr>\n",
       "    <tr>\n",
       "      <th>17</th>\n",
       "      <td>Udinese Calcio</td>\n",
       "      <td>-0.02</td>\n",
       "      <td>-0.02</td>\n",
       "      <td>-0.1</td>\n",
       "    </tr>\n",
       "    <tr>\n",
       "      <th>18</th>\n",
       "      <td>Valencia CF</td>\n",
       "      <td>-0.055</td>\n",
       "      <td>-0.01</td>\n",
       "      <td>-0.04</td>\n",
       "    </tr>\n",
       "  </tbody>\n",
       "</table>\n",
       "</div>"
      ],
      "text/plain": [
       "index            team_name      D      L      W\n",
       "0                 AC Milan -0.005  -0.11  -0.06\n",
       "1                  AS Roma  -0.12   -0.1   0.04\n",
       "2                  Arsenal  -0.01  -0.16  -0.04\n",
       "3              Aston Villa  -0.05 -0.065  -0.03\n",
       "4          Atletico Madrid  -0.03 -0.165  -0.12\n",
       "5               Bologna FC  -0.01  -0.02   0.02\n",
       "6               Everton FC  -0.03 -0.015 -0.035\n",
       "7             FC Barcelona  -0.28  -0.12  -0.07\n",
       "8                 FC Porto  -0.01  -0.06  -0.02\n",
       "9              Inter Milan  0.075  -0.01  -0.07\n",
       "10            Leeds United -0.005  -0.05    0.0\n",
       "11         Manchester City  -0.37 -0.155  -0.12\n",
       "12                  Napoli   0.07   0.06 -0.045\n",
       "13     Paris Saint-Germain  -0.45 -0.045 -0.075\n",
       "14           Real Sociedad   0.13   0.05  0.105\n",
       "15              S.S. Lazio -0.345  -0.19 -0.005\n",
       "16              Sevilla FC  -0.02 -0.045  -0.12\n",
       "17          Udinese Calcio  -0.02  -0.02   -0.1\n",
       "18             Valencia CF -0.055  -0.01  -0.04"
      ]
     },
     "execution_count": 75,
     "metadata": {},
     "output_type": "execute_result"
    }
   ],
   "source": [
    "price_delta_df = pd.DataFrame()\n",
    "\n",
    "for id in team_hist_df['common_id'].unique():\n",
    "    team_stats_df = team_hist_df[team_hist_df['common_id'] == id]\n",
    "    team_tokens_df = fan_tokens_df[fan_tokens_df['common_id'] == id]\n",
    "    team_df = team_stats_df.merge(team_tokens_df, on='date')\n",
    "    team_name = team_df.loc[0, 'team_name_matches_x']\n",
    "    team_df['price_delta'] = team_df['price'].diff()\n",
    "    team_delta_df = team_df.groupby('result').agg({'price_delta':'median'}).rename(columns={'price_delta':f'{team_name}'})\n",
    "    price_delta_df = pd.concat([price_delta_df, team_delta_df], axis=1)\n",
    "\n",
    "price_delta_df = price_delta_df.transpose().reset_index().rename(columns={'index':'team_name'})\n",
    "\n",
    "price_delta_df.columns.rename('index', inplace=True)\n",
    "\n",
    "price_delta_df"
   ]
  },
  {
   "cell_type": "code",
   "execution_count": 73,
   "metadata": {},
   "outputs": [
    {
     "data": {
      "text/html": [
       "<div>\n",
       "<style scoped>\n",
       "    .dataframe tbody tr th:only-of-type {\n",
       "        vertical-align: middle;\n",
       "    }\n",
       "\n",
       "    .dataframe tbody tr th {\n",
       "        vertical-align: top;\n",
       "    }\n",
       "\n",
       "    .dataframe thead th {\n",
       "        text-align: right;\n",
       "    }\n",
       "</style>\n",
       "<table border=\"1\" class=\"dataframe\">\n",
       "  <thead>\n",
       "    <tr style=\"text-align: right;\">\n",
       "      <th>index</th>\n",
       "      <th>team_name</th>\n",
       "      <th>D</th>\n",
       "      <th>L</th>\n",
       "      <th>W</th>\n",
       "    </tr>\n",
       "  </thead>\n",
       "  <tbody>\n",
       "    <tr>\n",
       "      <th>0</th>\n",
       "      <td>AC Milan</td>\n",
       "      <td>5.62</td>\n",
       "      <td>2.26</td>\n",
       "      <td>-12.48</td>\n",
       "    </tr>\n",
       "    <tr>\n",
       "      <th>1</th>\n",
       "      <td>AS Roma</td>\n",
       "      <td>-9.81</td>\n",
       "      <td>1.01</td>\n",
       "      <td>6.72</td>\n",
       "    </tr>\n",
       "    <tr>\n",
       "      <th>2</th>\n",
       "      <td>Arsenal</td>\n",
       "      <td>-1.02</td>\n",
       "      <td>-1.81</td>\n",
       "      <td>-1.02</td>\n",
       "    </tr>\n",
       "    <tr>\n",
       "      <th>3</th>\n",
       "      <td>Aston Villa</td>\n",
       "      <td>-0.21</td>\n",
       "      <td>0.13</td>\n",
       "      <td>-2.59</td>\n",
       "    </tr>\n",
       "    <tr>\n",
       "      <th>4</th>\n",
       "      <td>Atletico Madrid</td>\n",
       "      <td>-1.99</td>\n",
       "      <td>-2.36</td>\n",
       "      <td>1.82</td>\n",
       "    </tr>\n",
       "    <tr>\n",
       "      <th>5</th>\n",
       "      <td>Bologna FC</td>\n",
       "      <td>-0.28</td>\n",
       "      <td>-0.50</td>\n",
       "      <td>0.34</td>\n",
       "    </tr>\n",
       "    <tr>\n",
       "      <th>6</th>\n",
       "      <td>Everton FC</td>\n",
       "      <td>-0.44</td>\n",
       "      <td>-0.49</td>\n",
       "      <td>-1.86</td>\n",
       "    </tr>\n",
       "    <tr>\n",
       "      <th>7</th>\n",
       "      <td>FC Barcelona</td>\n",
       "      <td>9.43</td>\n",
       "      <td>19.10</td>\n",
       "      <td>-32.14</td>\n",
       "    </tr>\n",
       "    <tr>\n",
       "      <th>8</th>\n",
       "      <td>FC Porto</td>\n",
       "      <td>-1.31</td>\n",
       "      <td>-4.03</td>\n",
       "      <td>1.50</td>\n",
       "    </tr>\n",
       "    <tr>\n",
       "      <th>9</th>\n",
       "      <td>Inter Milan</td>\n",
       "      <td>3.11</td>\n",
       "      <td>-1.89</td>\n",
       "      <td>-8.05</td>\n",
       "    </tr>\n",
       "    <tr>\n",
       "      <th>10</th>\n",
       "      <td>Leeds United</td>\n",
       "      <td>-0.27</td>\n",
       "      <td>-3.71</td>\n",
       "      <td>-1.18</td>\n",
       "    </tr>\n",
       "    <tr>\n",
       "      <th>11</th>\n",
       "      <td>Manchester City</td>\n",
       "      <td>-3.88</td>\n",
       "      <td>-8.86</td>\n",
       "      <td>-13.13</td>\n",
       "    </tr>\n",
       "    <tr>\n",
       "      <th>12</th>\n",
       "      <td>Napoli</td>\n",
       "      <td>0.70</td>\n",
       "      <td>0.60</td>\n",
       "      <td>-2.08</td>\n",
       "    </tr>\n",
       "    <tr>\n",
       "      <th>13</th>\n",
       "      <td>Paris Saint-Germain</td>\n",
       "      <td>-27.01</td>\n",
       "      <td>25.87</td>\n",
       "      <td>-1.54</td>\n",
       "    </tr>\n",
       "    <tr>\n",
       "      <th>14</th>\n",
       "      <td>Real Sociedad</td>\n",
       "      <td>1.24</td>\n",
       "      <td>1.54</td>\n",
       "      <td>1.32</td>\n",
       "    </tr>\n",
       "    <tr>\n",
       "      <th>15</th>\n",
       "      <td>S.S. Lazio</td>\n",
       "      <td>-5.44</td>\n",
       "      <td>-4.41</td>\n",
       "      <td>-1.84</td>\n",
       "    </tr>\n",
       "    <tr>\n",
       "      <th>16</th>\n",
       "      <td>Sevilla FC</td>\n",
       "      <td>0.53</td>\n",
       "      <td>-1.19</td>\n",
       "      <td>-0.24</td>\n",
       "    </tr>\n",
       "    <tr>\n",
       "      <th>17</th>\n",
       "      <td>Udinese Calcio</td>\n",
       "      <td>-0.02</td>\n",
       "      <td>-0.76</td>\n",
       "      <td>-0.22</td>\n",
       "    </tr>\n",
       "    <tr>\n",
       "      <th>18</th>\n",
       "      <td>Valencia CF</td>\n",
       "      <td>0.65</td>\n",
       "      <td>-2.21</td>\n",
       "      <td>-1.20</td>\n",
       "    </tr>\n",
       "  </tbody>\n",
       "</table>\n",
       "</div>"
      ],
      "text/plain": [
       "index            team_name       D      L       W\n",
       "0                 AC Milan    5.62   2.26  -12.48\n",
       "1                  AS Roma   -9.81   1.01    6.72\n",
       "2                  Arsenal   -1.02  -1.81   -1.02\n",
       "3              Aston Villa   -0.21   0.13   -2.59\n",
       "4          Atletico Madrid   -1.99  -2.36    1.82\n",
       "5               Bologna FC   -0.28  -0.50    0.34\n",
       "6               Everton FC   -0.44  -0.49   -1.86\n",
       "7             FC Barcelona    9.43  19.10  -32.14\n",
       "8                 FC Porto   -1.31  -4.03    1.50\n",
       "9              Inter Milan    3.11  -1.89   -8.05\n",
       "10            Leeds United   -0.27  -3.71   -1.18\n",
       "11         Manchester City   -3.88  -8.86  -13.13\n",
       "12                  Napoli    0.70   0.60   -2.08\n",
       "13     Paris Saint-Germain  -27.01  25.87   -1.54\n",
       "14           Real Sociedad    1.24   1.54    1.32\n",
       "15              S.S. Lazio   -5.44  -4.41   -1.84\n",
       "16              Sevilla FC    0.53  -1.19   -0.24\n",
       "17          Udinese Calcio   -0.02  -0.76   -0.22\n",
       "18             Valencia CF    0.65  -2.21   -1.20"
      ]
     },
     "execution_count": 73,
     "metadata": {},
     "output_type": "execute_result"
    }
   ],
   "source": [
    "price_delta_df = pd.DataFrame()\n",
    "\n",
    "for id in team_hist_df['common_id'].unique():\n",
    "    team_stats_df = team_hist_df[team_hist_df['common_id'] == id]\n",
    "    team_tokens_df = fan_tokens_df[fan_tokens_df['common_id'] == id]\n",
    "    team_df = team_stats_df.merge(team_tokens_df, on='date')\n",
    "    team_name = team_df.loc[0, 'team_name_matches_x']\n",
    "    team_df['price_delta'] = team_df['price'].diff()\n",
    "    team_delta_df = team_df.groupby('result').agg({'price_delta':'sum'}).rename(columns={'price_delta':f'{team_name}'})\n",
    "    price_delta_df = pd.concat([price_delta_df, team_delta_df], axis=1)\n",
    "\n",
    "price_delta_df = price_delta_df.transpose().reset_index().rename(columns={'index':'team_name'})\n",
    "\n",
    "price_delta_df.columns.rename('index', inplace=True)\n",
    "\n",
    "price_delta_df"
   ]
  },
  {
   "cell_type": "code",
   "execution_count": 58,
   "metadata": {},
   "outputs": [
    {
     "data": {
      "text/plain": [
       "<BarContainer object of 3 artists>"
      ]
     },
     "execution_count": 58,
     "metadata": {},
     "output_type": "execute_result"
    },
    {
     "data": {
      "image/png": "[encoded data removed]",
      "text/plain": [
       "<Figure size 640x480 with 1 Axes>"
      ]
     },
     "metadata": {},
     "output_type": "display_data"
    }
   ],
   "source": [
    "plt.bar(\n",
    "    x=['W', 'D', 'L'],\n",
    "    height=[\n",
    "        price_delta_df.loc[:, 'W'].sum(),\n",
    "        price_delta_df.loc[:, 'D'].sum(),\n",
    "        price_delta_df.loc[:, 'L'].sum(),\n",
    "    ],\n",
    "    color=['green', 'orange', 'red']\n",
    ")"
   ]
  },
  {
   "cell_type": "code",
   "execution_count": 120,
   "metadata": {},
   "outputs": [
    {
     "data": {
      "text/plain": [
       "'Valencia CF'"
      ]
     },
     "execution_count": 120,
     "metadata": {},
     "output_type": "execute_result"
    }
   ],
   "source": [
    "team_matches = team_hist_df[team_hist_df['common_id'] == id]\n",
    "team_matches.reset_index().loc[0, 'team_name_matches']"
   ]
  },
  {
   "cell_type": "code",
   "execution_count": 124,
   "metadata": {},
   "outputs": [
    {
     "data": {
      "text/plain": [
       "array(['AC Milan', 'AS Roma', 'Arsenal', 'Aston Villa', 'Atletico Madrid',\n",
       "       'Bologna FC', 'Everton FC', 'FC Barcelona', 'FC Porto',\n",
       "       'Inter Milan', 'Leeds United', 'Manchester City', 'Napoli',\n",
       "       'Paris Saint-Germain', 'Real Sociedad', 'S.S. Lazio', 'Sevilla FC',\n",
       "       'Udinese Calcio', 'Valencia CF'], dtype=object)"
      ]
     },
     "execution_count": 124,
     "metadata": {},
     "output_type": "execute_result"
    }
   ],
   "source": [
    "team_hist_df['team_name_matches'].unique()"
   ]
  },
  {
   "cell_type": "code",
   "execution_count": 122,
   "metadata": {},
   "outputs": [
    {
     "name": "stdout",
     "output_type": "stream",
     "text": [
      "Valencia CF\n"
     ]
    },
    {
     "ename": "ValueError",
     "evalue": "Mime type rendering requires nbformat>=4.2.0 but it is not installed",
     "output_type": "error",
     "traceback": [
      "\u001b[1;31m---------------------------------------------------------------------------\u001b[0m",
      "\u001b[1;31mValueError\u001b[0m                                Traceback (most recent call last)",
      "File \u001b[1;32m~\\AppData\\Local\\Packages\\PythonSoftwareFoundation.Python.3.11_qbz5n2kfra8p0\\LocalCache\\local-packages\\Python311\\site-packages\\IPython\\core\\formatters.py:922\u001b[0m, in \u001b[0;36mIPythonDisplayFormatter.__call__\u001b[1;34m(self, obj)\u001b[0m\n\u001b[0;32m    920\u001b[0m method \u001b[39m=\u001b[39m get_real_method(obj, \u001b[39mself\u001b[39m\u001b[39m.\u001b[39mprint_method)\n\u001b[0;32m    921\u001b[0m \u001b[39mif\u001b[39;00m method \u001b[39mis\u001b[39;00m \u001b[39mnot\u001b[39;00m \u001b[39mNone\u001b[39;00m:\n\u001b[1;32m--> 922\u001b[0m     method()\n\u001b[0;32m    923\u001b[0m     \u001b[39mreturn\u001b[39;00m \u001b[39mTrue\u001b[39;00m\n",
      "File \u001b[1;32m~\\AppData\\Local\\Packages\\PythonSoftwareFoundation.Python.3.11_qbz5n2kfra8p0\\LocalCache\\local-packages\\Python311\\site-packages\\plotly\\basedatatypes.py:834\u001b[0m, in \u001b[0;36mBaseFigure._ipython_display_\u001b[1;34m(self)\u001b[0m\n\u001b[0;32m    831\u001b[0m \u001b[39mimport\u001b[39;00m \u001b[39mplotly\u001b[39;00m\u001b[39m.\u001b[39;00m\u001b[39mio\u001b[39;00m \u001b[39mas\u001b[39;00m \u001b[39mpio\u001b[39;00m\n\u001b[0;32m    833\u001b[0m \u001b[39mif\u001b[39;00m pio\u001b[39m.\u001b[39mrenderers\u001b[39m.\u001b[39mrender_on_display \u001b[39mand\u001b[39;00m pio\u001b[39m.\u001b[39mrenderers\u001b[39m.\u001b[39mdefault:\n\u001b[1;32m--> 834\u001b[0m     pio\u001b[39m.\u001b[39;49mshow(\u001b[39mself\u001b[39;49m)\n\u001b[0;32m    835\u001b[0m \u001b[39melse\u001b[39;00m:\n\u001b[0;32m    836\u001b[0m     \u001b[39mprint\u001b[39m(\u001b[39mrepr\u001b[39m(\u001b[39mself\u001b[39m))\n",
      "File \u001b[1;32m~\\AppData\\Local\\Packages\\PythonSoftwareFoundation.Python.3.11_qbz5n2kfra8p0\\LocalCache\\local-packages\\Python311\\site-packages\\plotly\\io\\_renderers.py:396\u001b[0m, in \u001b[0;36mshow\u001b[1;34m(fig, renderer, validate, **kwargs)\u001b[0m\n\u001b[0;32m    391\u001b[0m         \u001b[39mraise\u001b[39;00m \u001b[39mValueError\u001b[39;00m(\n\u001b[0;32m    392\u001b[0m             \u001b[39m\"\u001b[39m\u001b[39mMime type rendering requires ipython but it is not installed\u001b[39m\u001b[39m\"\u001b[39m\n\u001b[0;32m    393\u001b[0m         )\n\u001b[0;32m    395\u001b[0m     \u001b[39mif\u001b[39;00m \u001b[39mnot\u001b[39;00m nbformat \u001b[39mor\u001b[39;00m Version(nbformat\u001b[39m.\u001b[39m__version__) \u001b[39m<\u001b[39m Version(\u001b[39m\"\u001b[39m\u001b[39m4.2.0\u001b[39m\u001b[39m\"\u001b[39m):\n\u001b[1;32m--> 396\u001b[0m         \u001b[39mraise\u001b[39;00m \u001b[39mValueError\u001b[39;00m(\n\u001b[0;32m    397\u001b[0m             \u001b[39m\"\u001b[39m\u001b[39mMime type rendering requires nbformat>=4.2.0 but it is not installed\u001b[39m\u001b[39m\"\u001b[39m\n\u001b[0;32m    398\u001b[0m         )\n\u001b[0;32m    400\u001b[0m     ipython_display\u001b[39m.\u001b[39mdisplay(bundle, raw\u001b[39m=\u001b[39m\u001b[39mTrue\u001b[39;00m)\n\u001b[0;32m    402\u001b[0m \u001b[39m# external renderers\u001b[39;00m\n",
      "\u001b[1;31mValueError\u001b[0m: Mime type rendering requires nbformat>=4.2.0 but it is not installed"
     ]
    },
    {
     "data": {
      "application/vnd.plotly.v1+json": {
       "config": {
        "plotlyServerURL": "https://plot.ly"
       },
       "data": [
        {
         "hoverinfo": "skip",
         "legendgroup": "",
         "line": {
          "color": "#636efa",
          "dash": "solid"
         },
         "marker": {
          "symbol": "circle"
         },
         "mode": "lines",
         "name": "",
         "orientation": "v",
         "showlegend": false,
         "type": "scatter",
         "x": [
          "2021-09-14",
          "2021-09-15",
          "2021-09-16",
          "2021-09-17",
          "2021-09-18",
          "2021-09-19",
          "2021-09-20",
          "2021-09-21",
          "2021-09-22",
          "2021-09-23",
          "2021-09-24",
          "2021-09-25",
          "2021-09-26",
          "2021-09-27",
          "2021-09-28",
          "2021-09-29",
          "2021-09-30",
          "2021-10-01",
          "2021-10-02",
          "2021-10-03",
          "2021-10-04",
          "2021-10-05",
          "2021-10-06",
          "2021-10-07",
          "2021-10-08",
          "2021-10-09",
          "2021-10-10",
          "2021-10-11",
          "2021-10-12",
          "2021-10-13",
          "2021-10-14",
          "2021-10-15",
          "2021-10-16",
          "2021-10-17",
          "2021-10-18",
          "2021-10-19",
          "2021-10-20",
          "2021-10-21",
          "2021-10-22",
          "2021-10-23",
          "2021-10-24",
          "2021-10-25",
          "2021-10-26",
          "2021-10-27",
          "2021-10-28",
          "2021-10-29",
          "2021-10-30",
          "2021-10-31",
          "2021-11-01",
          "2021-11-02",
          "2021-11-03",
          "2021-11-04",
          "2021-11-05",
          "2021-11-06",
          "2021-11-07",
          "2021-11-08",
          "2021-11-09",
          "2021-11-10",
          "2021-11-11",
          "2021-11-12",
          "2021-11-13",
          "2021-11-14",
          "2021-11-15",
          "2021-11-16",
          "2021-11-17",
          "2021-11-18",
          "2021-11-19",
          "2021-11-20",
          "2021-11-21",
          "2021-11-22",
          "2021-11-23",
          "2021-11-24",
          "2021-11-25",
          "2021-11-26",
          "2021-11-27",
          "2021-11-28",
          "2021-11-29",
          "2021-11-30",
          "2021-12-01",
          "2021-12-02",
          "2021-12-03",
          "2021-12-04",
          "2021-12-05",
          "2021-12-06",
          "2021-12-07",
          "2021-12-08",
          "2021-12-09",
          "2021-12-10",
          "2021-12-11",
          "2021-12-12",
          "2021-12-13",
          "2021-12-14",
          "2021-12-15",
          "2021-12-16",
          "2021-12-17",
          "2021-12-18",
          "2021-12-19",
          "2021-12-20",
          "2021-12-21",
          "2021-12-22",
          "2021-12-23",
          "2021-12-24",
          "2021-12-25",
          "2021-12-26",
          "2021-12-27",
          "2021-12-28",
          "2021-12-29",
          "2021-12-30",
          "2021-12-31",
          "2022-01-01",
          "2022-01-02",
          "2022-01-03",
          "2022-01-04",
          "2022-01-05",
          "2022-01-06",
          "2022-01-07",
          "2022-01-08",
          "2022-01-09",
          "2022-01-10",
          "2022-01-11",
          "2022-01-12",
          "2022-01-13",
          "2022-01-14",
          "2022-01-15",
          "2022-01-16",
          "2022-01-17",
          "2022-01-18",
          "2022-01-19",
          "2022-01-20",
          "2022-01-21",
          "2022-01-22",
          "2022-01-23",
          "2022-01-24",
          "2022-01-25",
          "2022-01-26",
          "2022-01-27",
          "2022-01-28",
          "2022-01-29",
          "2022-01-30",
          "2022-01-31",
          "2022-02-01",
          "2022-02-02",
          "2022-02-03",
          "2022-02-04",
          "2022-02-05",
          "2022-02-06",
          "2022-02-07",
          "2022-02-08",
          "2022-02-09",
          "2022-02-10",
          "2022-02-11",
          "2022-02-12",
          "2022-02-13",
          "2022-02-14",
          "2022-02-15",
          "2022-02-16",
          "2022-02-17",
          "2022-02-18",
          "2022-02-19",
          "2022-02-20",
          "2022-02-21",
          "2022-02-22",
          "2022-02-23",
          "2022-02-24",
          "2022-02-25",
          "2022-02-26",
          "2022-02-27",
          "2022-02-28",
          "2022-03-01",
          "2022-03-02",
          "2022-03-03",
          "2022-03-04",
          "2022-03-05",
          "2022-03-06",
          "2022-03-07",
          "2022-03-08",
          "2022-03-09",
          "2022-03-10",
          "2022-03-11",
          "2022-03-12",
          "2022-03-13",
          "2022-03-14",
          "2022-03-15",
          "2022-03-16",
          "2022-03-17",
          "2022-03-18",
          "2022-03-19",
          "2022-03-20",
          "2022-03-21",
          "2022-03-22",
          "2022-03-23",
          "2022-03-24",
          "2022-03-25",
          "2022-03-26",
          "2022-03-27",
          "2022-03-28",
          "2022-03-29",
          "2022-03-30",
          "2022-03-31",
          "2022-04-01",
          "2022-04-02",
          "2022-04-03",
          "2022-04-04",
          "2022-04-05",
          "2022-04-06",
          "2022-04-07",
          "2022-04-08",
          "2022-04-09",
          "2022-04-10",
          "2022-04-11",
          "2022-04-12",
          "2022-04-13",
          "2022-04-14",
          "2022-04-15",
          "2022-04-16",
          "2022-04-17",
          "2022-04-18",
          "2022-04-19",
          "2022-04-20",
          "2022-04-21",
          "2022-04-22",
          "2022-04-23",
          "2022-04-24",
          "2022-04-25",
          "2022-04-26",
          "2022-04-27",
          "2022-04-28",
          "2022-04-29",
          "2022-04-30",
          "2022-05-01",
          "2022-05-02",
          "2022-05-03",
          "2022-05-04",
          "2022-05-05",
          "2022-05-06",
          "2022-05-07",
          "2022-05-08",
          "2022-05-09",
          "2022-05-10",
          "2022-05-11",
          "2022-05-12",
          "2022-05-13",
          "2022-05-14",
          "2022-05-15",
          "2022-05-16",
          "2022-05-17",
          "2022-05-18",
          "2022-05-19",
          "2022-05-20",
          "2022-05-21",
          "2022-05-22",
          "2022-05-23",
          "2022-05-24",
          "2022-05-25",
          "2022-05-26",
          "2022-05-27",
          "2022-05-28",
          "2022-05-29",
          "2022-05-30",
          "2022-05-31",
          "2022-06-01",
          "2022-06-02",
          "2022-06-03",
          "2022-06-04",
          "2022-06-05",
          "2022-06-06",
          "2022-06-07",
          "2022-06-08",
          "2022-06-09",
          "2022-06-10",
          "2022-06-11",
          "2022-06-12",
          "2022-06-13",
          "2022-06-14",
          "2022-06-15",
          "2022-06-16",
          "2022-06-17",
          "2022-06-18",
          "2022-06-19",
          "2022-06-20",
          "2022-06-21",
          "2022-06-22",
          "2022-06-23",
          "2022-06-24",
          "2022-06-25",
          "2022-06-26",
          "2022-06-27",
          "2022-06-28",
          "2022-06-29",
          "2022-06-30",
          "2022-07-01",
          "2022-07-02",
          "2022-07-03",
          "2022-07-04",
          "2022-07-05",
          "2022-07-06",
          "2022-07-07",
          "2022-07-08",
          "2022-07-09",
          "2022-07-10",
          "2022-07-11",
          "2022-07-12",
          "2022-07-13",
          "2022-07-14",
          "2022-07-15",
          "2022-07-16",
          "2022-07-17",
          "2022-07-18",
          "2022-07-19",
          "2022-07-20",
          "2022-07-21",
          "2022-07-22",
          "2022-07-23",
          "2022-07-24",
          "2022-07-25",
          "2022-07-26",
          "2022-07-27",
          "2022-07-28",
          "2022-07-29",
          "2022-07-30",
          "2022-07-31",
          "2022-08-01",
          "2022-08-02",
          "2022-08-03",
          "2022-08-04",
          "2022-08-05",
          "2022-08-06",
          "2022-08-07",
          "2022-08-08",
          "2022-08-09",
          "2022-08-10",
          "2022-08-11",
          "2022-08-12",
          "2022-08-13",
          "2022-08-14",
          "2022-08-15",
          "2022-08-16",
          "2022-08-17",
          "2022-08-18",
          "2022-08-19",
          "2022-08-20",
          "2022-08-21",
          "2022-08-22",
          "2022-08-23",
          "2022-08-24",
          "2022-08-25",
          "2022-08-26",
          "2022-08-27",
          "2022-08-28",
          "2022-08-29",
          "2022-08-30",
          "2022-08-31",
          "2022-09-01",
          "2022-09-02",
          "2022-09-03",
          "2022-09-04",
          "2022-09-05",
          "2022-09-06",
          "2022-09-07",
          "2022-09-08",
          "2022-09-09",
          "2022-09-10",
          "2022-09-11",
          "2022-09-12",
          "2022-09-13",
          "2022-09-14",
          "2022-09-15",
          "2022-09-16",
          "2022-09-17",
          "2022-09-18",
          "2022-09-19",
          "2022-09-20",
          "2022-09-21",
          "2022-09-22",
          "2022-09-23",
          "2022-09-24",
          "2022-09-25",
          "2022-09-26",
          "2022-09-27",
          "2022-09-28",
          "2022-09-29",
          "2022-09-30",
          "2022-10-01",
          "2022-10-02",
          "2022-10-03",
          "2022-10-04",
          "2022-10-05",
          "2022-10-06",
          "2022-10-07",
          "2022-10-08",
          "2022-10-09",
          "2022-10-10",
          "2022-10-11",
          "2022-10-12",
          "2022-10-13",
          "2022-10-14",
          "2022-10-15",
          "2022-10-16",
          "2022-10-17",
          "2022-10-18",
          "2022-10-19",
          "2022-10-20",
          "2022-10-21",
          "2022-10-22",
          "2022-10-23",
          "2022-10-24",
          "2022-10-25",
          "2022-10-26",
          "2022-10-27",
          "2022-10-28",
          "2022-10-29",
          "2022-10-30",
          "2022-10-31",
          "2022-11-01",
          "2022-11-02",
          "2022-11-03",
          "2022-11-04",
          "2022-11-05",
          "2022-11-06",
          "2022-11-07",
          "2022-11-08",
          "2022-11-09",
          "2022-11-10",
          "2022-11-11",
          "2022-11-12",
          "2022-11-13",
          "2022-11-14",
          "2022-11-15",
          "2022-11-16",
          "2022-11-17",
          "2022-11-18",
          "2022-11-19",
          "2022-11-20",
          "2022-11-21",
          "2022-11-22",
          "2022-11-23",
          "2022-11-24",
          "2022-11-25",
          "2022-11-26",
          "2022-11-27",
          "2022-11-28",
          "2022-11-29",
          "2022-11-30",
          "2022-12-01",
          "2022-12-02",
          "2022-12-03",
          "2022-12-04",
          "2022-12-05",
          "2022-12-06",
          "2022-12-07",
          "2022-12-08",
          "2022-12-09",
          "2022-12-10",
          "2022-12-11",
          "2022-12-12",
          "2022-12-13",
          "2022-12-14",
          "2022-12-15",
          "2022-12-16",
          "2022-12-17",
          "2022-12-18",
          "2022-12-19",
          "2022-12-20",
          "2022-12-21",
          "2022-12-22",
          "2022-12-23",
          "2022-12-24",
          "2022-12-25",
          "2022-12-26",
          "2022-12-27",
          "2022-12-28",
          "2022-12-29",
          "2022-12-30",
          "2022-12-31",
          "2023-01-01",
          "2023-01-02",
          "2023-01-03",
          "2023-01-04",
          "2023-01-05",
          "2023-01-06",
          "2023-01-07",
          "2023-01-08",
          "2023-01-09",
          "2023-01-10",
          "2023-01-11",
          "2023-01-12",
          "2023-01-13",
          "2023-01-14",
          "2023-01-15",
          "2023-01-16",
          "2023-01-17",
          "2023-01-18",
          "2023-01-19",
          "2023-01-20",
          "2023-01-21",
          "2023-01-22",
          "2023-01-23",
          "2023-01-24",
          "2023-01-25",
          "2023-01-26",
          "2023-01-27",
          "2023-01-28",
          "2023-01-29",
          "2023-01-30",
          "2023-01-31",
          "2023-02-01",
          "2023-02-02",
          "2023-02-03",
          "2023-02-04",
          "2023-02-05",
          "2023-02-06",
          "2023-02-07",
          "2023-02-08",
          "2023-02-09",
          "2023-02-10",
          "2023-02-11",
          "2023-02-12",
          "2023-02-13",
          "2023-02-14",
          "2023-02-15",
          "2023-02-16",
          "2023-02-17",
          "2023-02-18",
          "2023-02-19",
          "2023-02-20",
          "2023-02-21",
          "2023-02-22",
          "2023-02-23",
          "2023-02-24",
          "2023-02-25",
          "2023-02-26",
          "2023-02-27",
          "2023-02-28",
          "2023-03-01",
          "2023-03-02",
          "2023-03-03",
          "2023-03-04",
          "2023-03-05",
          "2023-03-06",
          "2023-03-07",
          "2023-03-08",
          "2023-03-09",
          "2023-03-10",
          "2023-03-11",
          "2023-03-12",
          "2023-03-13",
          "2023-03-14",
          "2023-03-15",
          "2023-03-16",
          "2023-03-17",
          "2023-03-18",
          "2023-03-19",
          "2023-03-20",
          "2023-03-21",
          "2023-03-22",
          "2023-03-23",
          "2023-03-24",
          "2023-03-25",
          "2023-03-26",
          "2023-03-27",
          "2023-03-28",
          "2023-03-29",
          "2023-03-30",
          "2023-03-31",
          "2023-04-01",
          "2023-04-02",
          "2023-04-03",
          "2023-04-04",
          "2023-04-05",
          "2023-04-06",
          "2023-04-07",
          "2023-04-08",
          "2023-04-09",
          "2023-04-10",
          "2023-04-11",
          "2023-04-12",
          "2023-04-13",
          "2023-04-14",
          "2023-04-15",
          "2023-04-16",
          "2023-04-17",
          "2023-04-18",
          "2023-04-19",
          "2023-04-20",
          "2023-04-21",
          "2023-04-22",
          "2023-04-23",
          "2023-04-24",
          "2023-04-25",
          "2023-04-26",
          "2023-04-27",
          "2023-04-28",
          "2023-04-29",
          "2023-04-30",
          "2023-05-01",
          "2023-05-02",
          "2023-05-03",
          "2023-05-04",
          "2023-05-05",
          "2023-05-06",
          "2023-05-07",
          "2023-05-08",
          "2023-05-09",
          "2023-05-10",
          "2023-05-11",
          "2023-05-12",
          "2023-05-13",
          "2023-05-14",
          "2023-05-15",
          "2023-05-16",
          "2023-05-17",
          "2023-05-18",
          "2023-05-19",
          "2023-05-20",
          "2023-05-21",
          "2023-05-22",
          "2023-05-23",
          "2023-05-24",
          "2023-05-25",
          "2023-05-26",
          "2023-05-27",
          "2023-05-28",
          "2023-05-29",
          "2023-05-30",
          "2023-05-31",
          "2023-06-01",
          "2023-06-02",
          "2023-06-03",
          "2023-06-04",
          "2023-06-05",
          "2023-06-06",
          "2023-06-07",
          "2023-06-08",
          "2023-06-09",
          "2023-06-10",
          "2023-06-11",
          "2023-06-12",
          "2023-06-13",
          "2023-06-14",
          "2023-06-15",
          "2023-06-16",
          "2023-06-17",
          "2023-06-18",
          "2023-06-19",
          "2023-06-20",
          "2023-06-21",
          "2023-06-22",
          "2023-06-23",
          "2023-06-24",
          "2023-06-25",
          "2023-06-26",
          "2023-06-27",
          "2023-06-28",
          "2023-06-29",
          "2023-06-30",
          "2023-07-01",
          "2023-07-02",
          "2023-07-03",
          "2023-07-04",
          "2023-07-05",
          "2023-07-06",
          "2023-07-07",
          "2023-07-08",
          "2023-07-09",
          "2023-07-10",
          "2023-07-11",
          "2023-07-12",
          "2023-07-13",
          "2023-07-14",
          "2023-07-15",
          "2023-07-16",
          "2023-07-17",
          "2023-07-18",
          "2023-07-19",
          "2023-07-20",
          "2023-07-21",
          "2023-07-22",
          "2023-07-23",
          "2023-07-24",
          "2023-07-25",
          "2023-07-26",
          "2023-07-27",
          "2023-07-28",
          "2023-07-29",
          "2023-07-30",
          "2023-07-31",
          "2023-08-01",
          "2023-08-02",
          "2023-08-03",
          "2023-08-04",
          "2023-08-05",
          "2023-08-06",
          "2023-08-07",
          "2023-08-08",
          "2023-08-09",
          "2023-08-10",
          "2023-08-11",
          "2023-08-12",
          "2023-08-13",
          "2023-08-14",
          "2023-08-15",
          "2023-08-16",
          "2023-08-17",
          "2023-08-18",
          "2023-08-19",
          "2023-08-20",
          "2023-08-21",
          "2023-08-22",
          "2023-08-23",
          "2023-08-24",
          "2023-08-25",
          "2023-08-26",
          "2023-08-27",
          "2023-08-28",
          "2023-08-29",
          "2023-08-30",
          "2023-08-31",
          "2023-09-01",
          "2023-09-02",
          "2023-09-03",
          "2023-09-04",
          "2023-09-05",
          "2023-09-06",
          "2023-09-07",
          "2023-09-08",
          "2023-09-09",
          "2023-09-10",
          "2023-09-11",
          "2023-09-12",
          "2023-09-13",
          "2023-09-14",
          "2023-09-15",
          "2023-09-16",
          "2023-09-17",
          "2023-09-18",
          "2023-09-19",
          "2023-09-20",
          "2023-09-21",
          "2023-09-22",
          "2023-09-23",
          "2023-09-24",
          "2023-09-25",
          "2023-09-26",
          "2023-09-27",
          "2023-09-28",
          "2023-09-29",
          "2023-09-30",
          "2023-10-01",
          "2023-10-02",
          "2023-10-03",
          "2023-10-04",
          "2023-10-04"
         ],
         "xaxis": "x",
         "y": [
          2.75,
          2.75,
          2.87,
          3.45,
          3.34,
          3.41,
          3.3,
          2.73,
          2.64,
          2.7,
          2.71,
          2.58,
          2.59,
          2.44,
          2.4,
          2.3,
          2.33,
          2.34,
          2.52,
          2.38,
          2.35,
          2.32,
          2.41,
          2.41,
          2.77,
          2.57,
          2.56,
          2.43,
          2.35,
          2.67,
          2.76,
          2.68,
          2.6,
          2.67,
          2.54,
          2.51,
          2.44,
          2.35,
          2.28,
          2.49,
          2.59,
          2.55,
          2.64,
          2.64,
          2.23,
          2.33,
          2.29,
          2.37,
          2.1,
          2.11,
          2.17,
          2.08,
          1.98,
          2.12,
          2.22,
          2.04,
          2.02,
          1.92,
          1.86,
          2.01,
          2.01,
          2.02,
          2.1,
          2.19,
          1.96,
          1.99,
          1.77,
          1.92,
          1.9,
          1.98,
          1.97,
          1.89,
          1.94,
          2.03,
          1.82,
          1.74,
          1.74,
          1.8,
          1.78,
          1.76,
          1.78,
          1.64,
          1.38,
          1.39,
          1.43,
          1.38,
          1.47,
          1.36,
          1.28,
          1.33,
          1.33,
          1.23,
          1.32,
          1.37,
          1.34,
          1.43,
          1.35,
          1.28,
          1.29,
          1.38,
          1.37,
          1.48,
          1.42,
          1.51,
          1.53,
          1.63,
          2.16,
          1.97,
          1.89,
          1.85,
          1.9,
          1.92,
          1.85,
          1.71,
          1.56,
          1.5,
          1.42,
          1.38,
          1.41,
          1.36,
          1.39,
          1.46,
          1.39,
          1.44,
          1.42,
          1.41,
          1.36,
          1.32,
          1.28,
          1.23,
          1.09,
          1,
          1.04,
          0.98,
          0.98,
          0.97,
          0.98,
          0.99,
          1,
          1.02,
          1.04,
          1.07,
          1.05,
          1.03,
          1.09,
          1.08,
          1.1,
          1.1,
          1.07,
          1.15,
          1.06,
          1.02,
          1.04,
          1.03,
          1.05,
          1.1,
          1.07,
          1,
          1.01,
          0.99,
          0.95,
          0.86,
          0.9,
          0.88,
          0.83,
          0.89,
          0.91,
          0.93,
          1,
          1.01,
          1.04,
          1.04,
          1.02,
          1.07,
          0.96,
          0.95,
          0.98,
          0.99,
          0.96,
          0.99,
          1.02,
          1.11,
          1.08,
          1.06,
          1.07,
          1.1,
          1.07,
          1.05,
          1.08,
          1.24,
          1.95,
          2.37,
          2.15,
          2.28,
          2.12,
          2.04,
          2.1,
          2.17,
          2.14,
          2.14,
          2.14,
          2.05,
          2,
          2.03,
          2.17,
          2.06,
          2.07,
          2.01,
          1.96,
          4.28,
          3.02,
          3.31,
          3.07,
          3.2,
          3.13,
          2.99,
          3.1,
          2.97,
          2.99,
          2.91,
          2.66,
          2.68,
          2.48,
          2.23,
          2.3,
          2.17,
          2.2,
          2.13,
          2.05,
          1.78,
          1.72,
          1.93,
          1.81,
          1.91,
          1.79,
          1.78,
          1.88,
          1.76,
          1.5,
          1.49,
          1.03,
          1,
          1.17,
          1.16,
          1.19,
          1.14,
          1.21,
          1.31,
          1.25,
          1.26,
          1.23,
          1.22,
          1.2,
          1.21,
          1.34,
          1.26,
          1.3,
          1.3,
          1.27,
          1.29,
          1.29,
          1.27,
          1.26,
          1.25,
          1.42,
          1.57,
          1.6,
          1.55,
          1.59,
          1.56,
          1.56,
          1.47,
          1.34,
          1.36,
          1.3,
          1.33,
          1.26,
          1.31,
          1.27,
          1.3,
          1.29,
          1.3,
          1.29,
          1.31,
          1.38,
          1.37,
          1.33,
          1.36,
          1.33,
          1.31,
          1.27,
          1.27,
          1.28,
          1.28,
          1.28,
          1.26,
          1.25,
          1.25,
          1.31,
          1.3,
          1.28,
          1.24,
          1.23,
          1.24,
          1.24,
          1.3,
          1.29,
          1.31,
          1.32,
          1.37,
          1.33,
          1.32,
          1.32,
          1.31,
          1.31,
          1.27,
          1.27,
          1.3,
          1.31,
          1.36,
          1.33,
          1.36,
          1.37,
          1.39,
          1.4,
          1.37,
          1.39,
          1.47,
          1.47,
          1.49,
          1.42,
          1.44,
          1.43,
          1.44,
          1.43,
          1.43,
          1.41,
          1.42,
          1.41,
          1.47,
          1.41,
          1.36,
          1.38,
          1.39,
          1.42,
          1.39,
          1.39,
          1.31,
          1.32,
          1.32,
          1.33,
          1.36,
          1.38,
          1.35,
          1.37,
          1.37,
          1.37,
          1.36,
          1.29,
          1.29,
          1.29,
          1.3,
          1.31,
          1.3,
          1.28,
          1.26,
          1.23,
          1.21,
          1.23,
          1.23,
          1.21,
          1.18,
          1.17,
          1.16,
          1.18,
          1.18,
          1.18,
          1.17,
          1.17,
          1.16,
          1.16,
          1.16,
          1.16,
          1.17,
          1.14,
          1.14,
          1.13,
          1.13,
          1.14,
          1.14,
          1.13,
          1.13,
          1.07,
          1.1,
          1.07,
          1.06,
          1.06,
          1.04,
          1.06,
          1.07,
          1.05,
          1.02,
          0.98,
          1,
          1,
          1,
          1,
          1.03,
          1.03,
          1.02,
          1.03,
          1.03,
          1.03,
          1.02,
          1.03,
          1.02,
          1.02,
          1.04,
          1.06,
          1.05,
          1.01,
          0.91,
          0.7,
          0.87,
          0.82,
          0.82,
          0.8,
          0.8,
          0.83,
          0.81,
          0.83,
          0.84,
          0.85,
          0.81,
          0.77,
          0.77,
          0.79,
          0.8,
          0.8,
          0.79,
          0.79,
          0.79,
          0.82,
          0.81,
          0.79,
          0.8,
          0.8,
          0.8,
          0.79,
          0.79,
          0.77,
          0.78,
          0.77,
          0.78,
          0.76,
          0.75,
          0.75,
          0.76,
          0.76,
          0.75,
          0.85,
          0.79,
          0.75,
          0.76,
          0.76,
          0.76,
          0.76,
          0.76,
          0.77,
          0.76,
          0.76,
          0.74,
          0.74,
          0.74,
          0.74,
          0.72,
          0.74,
          0.75,
          0.74,
          0.83,
          0.86,
          0.86,
          0.82,
          0.84,
          0.84,
          0.81,
          0.82,
          0.82,
          0.86,
          0.89,
          0.88,
          0.91,
          0.85,
          0.87,
          0.9,
          0.9,
          0.94,
          0.94,
          0.91,
          0.9,
          0.91,
          0.93,
          0.92,
          0.92,
          0.89,
          0.91,
          0.91,
          0.91,
          0.93,
          0.91,
          0.88,
          0.88,
          0.89,
          1.02,
          0.94,
          0.96,
          1.02,
          1,
          0.98,
          1.01,
          1.01,
          1,
          1.01,
          1.02,
          1.02,
          1.01,
          0.98,
          0.97,
          0.97,
          0.95,
          0.95,
          0.97,
          0.95,
          0.95,
          0.95,
          0.94,
          0.93,
          0.94,
          0.91,
          0.95,
          0.93,
          0.9,
          0.9,
          0.9,
          0.89,
          0.9,
          0.92,
          0.92,
          0.9,
          0.9,
          0.91,
          0.9,
          0.91,
          0.9,
          0.9,
          0.88,
          0.89,
          0.9,
          0.9,
          0.89,
          0.86,
          0.86,
          0.87,
          0.87,
          0.88,
          0.89,
          0.86,
          0.85,
          0.83,
          0.86,
          0.85,
          0.87,
          0.9,
          0.98,
          0.95,
          0.96,
          0.94,
          0.98,
          0.97,
          0.97,
          0.96,
          0.95,
          0.94,
          0.92,
          0.91,
          0.92,
          0.93,
          0.94,
          0.92,
          0.92,
          0.91,
          0.92,
          0.92,
          0.91,
          0.9,
          0.88,
          0.88,
          0.87,
          0.86,
          0.84,
          0.85,
          0.83,
          0.75,
          0.78,
          0.8,
          0.7,
          0.77,
          0.79,
          0.78,
          0.79,
          0.8,
          0.77,
          0.78,
          0.8,
          0.8,
          0.8,
          0.84,
          0.8,
          0.76,
          0.74,
          0.72,
          0.73,
          0.76,
          0.74,
          0.71,
          0.69,
          0.69,
          0.69,
          0.7,
          0.69,
          0.64,
          0.65,
          0.6,
          0.61,
          0.6,
          0.55,
          0.55,
          0.55,
          0.58,
          0.56,
          0.56,
          0.55,
          0.57,
          0.56,
          0.57,
          0.57,
          0.58,
          0.56,
          0.57,
          0.57,
          0.56,
          0.56,
          0.57,
          0.59,
          0.59,
          0.58,
          0.58,
          0.59,
          0.59,
          0.58,
          0.57,
          0.58,
          0.59,
          0.6,
          0.59,
          0.58,
          0.6,
          0.6,
          0.6,
          0.64,
          0.65,
          0.64,
          0.64,
          0.76,
          0.75,
          0.78,
          0.78,
          0.78,
          0.86,
          0.81,
          0.83,
          0.8,
          0.82,
          0.83,
          0.83,
          0.83,
          0.83,
          0.82,
          0.82,
          0.82,
          0.82,
          0.8,
          0.82,
          0.79,
          0.8,
          0.8,
          0.79,
          0.8,
          0.81,
          0.81,
          0.8,
          0.79,
          0.75,
          0.75,
          0.75,
          0.78,
          0.79,
          0.77,
          0.76,
          0.77,
          0.78,
          0.76,
          0.77,
          0.77,
          0.75,
          0.74,
          0.74,
          0.72,
          0.72,
          0.71,
          0.69,
          0.68,
          0.68,
          0.67,
          0.68,
          0.68,
          0.67,
          0.67,
          0.64,
          0.66,
          0.66,
          0.65,
          0.65,
          0.67,
          0.65,
          0.65,
          0.66,
          0.66,
          0.65,
          0.65,
          0.65,
          0.65,
          0.65,
          0.65,
          0.65,
          0.65,
          0.64,
          0.65,
          0.65,
          0.65,
          0.63,
          0.63
         ],
         "yaxis": "y"
        },
        {
         "hoverinfo": "text",
         "marker": {
          "color": "red",
          "size": 5,
          "symbol": "x"
         },
         "mode": "markers",
         "name": "L",
         "text": [
          "Result: Loss<br>Date: 2021-09-19<br>Price: 3.41"
         ],
         "type": "scatter",
         "x": [
          "2021-09-19"
         ],
         "y": [
          3.41
         ]
        },
        {
         "hoverinfo": "text",
         "marker": {
          "color": "red",
          "size": 5,
          "symbol": "x"
         },
         "mode": "markers",
         "name": "L",
         "text": [
          "Result: Loss<br>Date: 2021-09-22<br>Price: 2.64"
         ],
         "type": "scatter",
         "x": [
          "2021-09-22"
         ],
         "y": [
          2.64
         ]
        },
        {
         "hoverinfo": "text",
         "marker": {
          "color": "yellow",
          "size": 5,
          "symbol": "x"
         },
         "mode": "markers",
         "name": "D",
         "text": [
          "Result: Draw<br>Date: 2021-09-25<br>Price: 2.58"
         ],
         "type": "scatter",
         "x": [
          "2021-09-25"
         ],
         "y": [
          2.58
         ]
        },
        {
         "hoverinfo": "text",
         "marker": {
          "color": "yellow",
          "size": 5,
          "symbol": "x"
         },
         "mode": "markers",
         "name": "D",
         "text": [
          "Result: Draw<br>Date: 2021-10-02<br>Price: 2.52"
         ],
         "type": "scatter",
         "x": [
          "2021-10-02"
         ],
         "y": [
          2.52
         ]
        },
        {
         "hoverinfo": "text",
         "marker": {
          "color": "red",
          "size": 5,
          "symbol": "x"
         },
         "mode": "markers",
         "name": "L",
         "text": [
          "Result: Loss<br>Date: 2021-10-17<br>Price: 2.67"
         ],
         "type": "scatter",
         "x": [
          "2021-10-17"
         ],
         "y": [
          2.67
         ]
        },
        {
         "hoverinfo": "text",
         "marker": {
          "color": "yellow",
          "size": 5,
          "symbol": "x"
         },
         "mode": "markers",
         "name": "D",
         "text": [
          "Result: Draw<br>Date: 2021-10-23<br>Price: 2.49"
         ],
         "type": "scatter",
         "x": [
          "2021-10-23"
         ],
         "y": [
          2.49
         ]
        },
        {
         "hoverinfo": "text",
         "marker": {
          "color": "red",
          "size": 5,
          "symbol": "x"
         },
         "mode": "markers",
         "name": "L",
         "text": [
          "Result: Loss<br>Date: 2021-10-27<br>Price: 2.64"
         ],
         "type": "scatter",
         "x": [
          "2021-10-27"
         ],
         "y": [
          2.64
         ]
        },
        {
         "hoverinfo": "text",
         "marker": {
          "color": "green",
          "size": 5,
          "symbol": "x"
         },
         "mode": "markers",
         "name": "W",
         "text": [
          "Result: Win<br>Date: 2021-10-30<br>Price: 2.29"
         ],
         "type": "scatter",
         "x": [
          "2021-10-30"
         ],
         "y": [
          2.29
         ]
        },
        {
         "hoverinfo": "text",
         "marker": {
          "color": "yellow",
          "size": 5,
          "symbol": "x"
         },
         "mode": "markers",
         "name": "D",
         "text": [
          "Result: Draw<br>Date: 2021-11-07<br>Price: 2.22"
         ],
         "type": "scatter",
         "x": [
          "2021-11-07"
         ],
         "y": [
          2.22
         ]
        },
        {
         "hoverinfo": "text",
         "marker": {
          "color": "yellow",
          "size": 5,
          "symbol": "x"
         },
         "mode": "markers",
         "name": "D",
         "text": [
          "Result: Draw<br>Date: 2021-11-21<br>Price: 1.90"
         ],
         "type": "scatter",
         "x": [
          "2021-11-21"
         ],
         "y": [
          1.9
         ]
        },
        {
         "hoverinfo": "text",
         "marker": {
          "color": "yellow",
          "size": 5,
          "symbol": "x"
         },
         "mode": "markers",
         "name": "D",
         "text": [
          "Result: Draw<br>Date: 2021-11-27<br>Price: 1.82"
         ],
         "type": "scatter",
         "x": [
          "2021-11-27"
         ],
         "y": [
          1.82
         ]
        },
        {
         "hoverinfo": "text",
         "marker": {
          "color": "green",
          "size": 5,
          "symbol": "x"
         },
         "mode": "markers",
         "name": "W",
         "text": [
          "Result: Win<br>Date: 2021-12-05<br>Price: 1.38"
         ],
         "type": "scatter",
         "x": [
          "2021-12-05"
         ],
         "y": [
          1.38
         ]
        },
        {
         "hoverinfo": "text",
         "marker": {
          "color": "green",
          "size": 5,
          "symbol": "x"
         },
         "mode": "markers",
         "name": "W",
         "text": [
          "Result: Win<br>Date: 2021-12-11<br>Price: 1.28"
         ],
         "type": "scatter",
         "x": [
          "2021-12-11"
         ],
         "y": [
          1.28
         ]
        },
        {
         "hoverinfo": "text",
         "marker": {
          "color": "green",
          "size": 5,
          "symbol": "x"
         },
         "mode": "markers",
         "name": "W",
         "text": [
          "Result: Win<br>Date: 2021-12-20<br>Price: 1.28"
         ],
         "type": "scatter",
         "x": [
          "2021-12-20"
         ],
         "y": [
          1.28
         ]
        },
        {
         "hoverinfo": "text",
         "marker": {
          "color": "red",
          "size": 5,
          "symbol": "x"
         },
         "mode": "markers",
         "name": "L",
         "text": [
          "Result: Loss<br>Date: 2021-12-31<br>Price: 1.89"
         ],
         "type": "scatter",
         "x": [
          "2021-12-31"
         ],
         "y": [
          1.89
         ]
        },
        {
         "hoverinfo": "text",
         "marker": {
          "color": "red",
          "size": 5,
          "symbol": "x"
         },
         "mode": "markers",
         "name": "L",
         "text": [
          "Result: Loss<br>Date: 2022-01-08<br>Price: 1.42"
         ],
         "type": "scatter",
         "x": [
          "2022-01-08"
         ],
         "y": [
          1.42
         ]
        },
        {
         "hoverinfo": "text",
         "marker": {
          "color": "yellow",
          "size": 5,
          "symbol": "x"
         },
         "mode": "markers",
         "name": "D",
         "text": [
          "Result: Draw<br>Date: 2022-01-19<br>Price: 1.32"
         ],
         "type": "scatter",
         "x": [
          "2022-01-19"
         ],
         "y": [
          1.32
         ]
        },
        {
         "hoverinfo": "text",
         "marker": {
          "color": "red",
          "size": 5,
          "symbol": "x"
         },
         "mode": "markers",
         "name": "L",
         "text": [
          "Result: Loss<br>Date: 2022-01-22<br>Price: 1.09"
         ],
         "type": "scatter",
         "x": [
          "2022-01-22"
         ],
         "y": [
          1.09
         ]
        },
        {
         "hoverinfo": "text",
         "marker": {
          "color": "yellow",
          "size": 5,
          "symbol": "x"
         },
         "mode": "markers",
         "name": "D",
         "text": [
          "Result: Draw<br>Date: 2022-02-06<br>Price: 1.08"
         ],
         "type": "scatter",
         "x": [
          "2022-02-06"
         ],
         "y": [
          1.08
         ]
        },
        {
         "hoverinfo": "text",
         "marker": {
          "color": "red",
          "size": 5,
          "symbol": "x"
         },
         "mode": "markers",
         "name": "L",
         "text": [
          "Result: Loss<br>Date: 2022-02-13<br>Price: 1.04"
         ],
         "type": "scatter",
         "x": [
          "2022-02-13"
         ],
         "y": [
          1.04
         ]
        },
        {
         "hoverinfo": "text",
         "marker": {
          "color": "red",
          "size": 5,
          "symbol": "x"
         },
         "mode": "markers",
         "name": "L",
         "text": [
          "Result: Loss<br>Date: 2022-02-20<br>Price: 0.99"
         ],
         "type": "scatter",
         "x": [
          "2022-02-20"
         ],
         "y": [
          0.99
         ]
        },
        {
         "hoverinfo": "text",
         "marker": {
          "color": "green",
          "size": 5,
          "symbol": "x"
         },
         "mode": "markers",
         "name": "W",
         "text": [
          "Result: Win<br>Date: 2022-02-26<br>Price: 0.89"
         ],
         "type": "scatter",
         "x": [
          "2022-02-26"
         ],
         "y": [
          0.89
         ]
        },
        {
         "hoverinfo": "text",
         "marker": {
          "color": "green",
          "size": 5,
          "symbol": "x"
         },
         "mode": "markers",
         "name": "W",
         "text": [
          "Result: Win<br>Date: 2022-03-05<br>Price: 1.02"
         ],
         "type": "scatter",
         "x": [
          "2022-03-05"
         ],
         "y": [
          1.02
         ]
        },
        {
         "hoverinfo": "text",
         "marker": {
          "color": "yellow",
          "size": 5,
          "symbol": "x"
         },
         "mode": "markers",
         "name": "D",
         "text": [
          "Result: Draw<br>Date: 2022-03-12<br>Price: 0.99"
         ],
         "type": "scatter",
         "x": [
          "2022-03-12"
         ],
         "y": [
          0.99
         ]
        },
        {
         "hoverinfo": "text",
         "marker": {
          "color": "green",
          "size": 5,
          "symbol": "x"
         },
         "mode": "markers",
         "name": "W",
         "text": [
          "Result: Win<br>Date: 2022-03-19<br>Price: 1.07"
         ],
         "type": "scatter",
         "x": [
          "2022-03-19"
         ],
         "y": [
          1.07
         ]
        },
        {
         "hoverinfo": "text",
         "marker": {
          "color": "yellow",
          "size": 5,
          "symbol": "x"
         },
         "mode": "markers",
         "name": "D",
         "text": [
          "Result: Draw<br>Date: 2022-04-03<br>Price: 2.05"
         ],
         "type": "scatter",
         "x": [
          "2022-04-03"
         ],
         "y": [
          2.05
         ]
        },
        {
         "hoverinfo": "text",
         "marker": {
          "color": "yellow",
          "size": 5,
          "symbol": "x"
         },
         "mode": "markers",
         "name": "D",
         "text": [
          "Result: Draw<br>Date: 2022-04-11<br>Price: 4.28"
         ],
         "type": "scatter",
         "x": [
          "2022-04-11"
         ],
         "y": [
          4.28
         ]
        },
        {
         "hoverinfo": "text",
         "marker": {
          "color": "red",
          "size": 5,
          "symbol": "x"
         },
         "mode": "markers",
         "name": "L",
         "text": [
          "Result: Loss<br>Date: 2022-04-16<br>Price: 3.13"
         ],
         "type": "scatter",
         "x": [
          "2022-04-16"
         ],
         "y": [
          3.13
         ]
        },
        {
         "hoverinfo": "text",
         "marker": {
          "color": "red",
          "size": 5,
          "symbol": "x"
         },
         "mode": "markers",
         "name": "L",
         "text": [
          "Result: Loss<br>Date: 2022-04-19<br>Price: 2.97"
         ],
         "type": "scatter",
         "x": [
          "2022-04-19"
         ],
         "y": [
          2.97
         ]
        },
        {
         "hoverinfo": "text",
         "marker": {
          "color": "yellow",
          "size": 5,
          "symbol": "x"
         },
         "mode": "markers",
         "name": "D",
         "text": [
          "Result: Draw<br>Date: 2022-04-30<br>Price: 2.05"
         ],
         "type": "scatter",
         "x": [
          "2022-04-30"
         ],
         "y": [
          2.05
         ]
        },
        {
         "hoverinfo": "text",
         "marker": {
          "color": "yellow",
          "size": 5,
          "symbol": "x"
         },
         "mode": "markers",
         "name": "D",
         "text": [
          "Result: Draw<br>Date: 2022-05-07<br>Price: 1.78"
         ],
         "type": "scatter",
         "x": [
          "2022-05-07"
         ],
         "y": [
          1.78
         ]
        },
        {
         "hoverinfo": "text",
         "marker": {
          "color": "red",
          "size": 5,
          "symbol": "x"
         },
         "mode": "markers",
         "name": "L",
         "text": [
          "Result: Loss<br>Date: 2022-05-10<br>Price: 1.50"
         ],
         "type": "scatter",
         "x": [
          "2022-05-10"
         ],
         "y": [
          1.5
         ]
        },
        {
         "hoverinfo": "text",
         "marker": {
          "color": "yellow",
          "size": 5,
          "symbol": "x"
         },
         "mode": "markers",
         "name": "D",
         "text": [
          "Result: Draw<br>Date: 2022-05-14<br>Price: 1.17"
         ],
         "type": "scatter",
         "x": [
          "2022-05-14"
         ],
         "y": [
          1.17
         ]
        },
        {
         "hoverinfo": "text",
         "marker": {
          "color": "green",
          "size": 5,
          "symbol": "x"
         },
         "mode": "markers",
         "name": "W",
         "text": [
          "Result: Win<br>Date: 2022-05-21<br>Price: 1.26"
         ],
         "type": "scatter",
         "x": [
          "2022-05-21"
         ],
         "y": [
          1.26
         ]
        },
        {
         "hoverinfo": "text",
         "marker": {
          "color": "green",
          "size": 5,
          "symbol": "x"
         },
         "mode": "markers",
         "name": "W",
         "text": [
          "Result: Win<br>Date: 2022-08-14<br>Price: 1.43"
         ],
         "type": "scatter",
         "x": [
          "2022-08-14"
         ],
         "y": [
          1.43
         ]
        },
        {
         "hoverinfo": "text",
         "marker": {
          "color": "red",
          "size": 5,
          "symbol": "x"
         },
         "mode": "markers",
         "name": "L",
         "text": [
          "Result: Loss<br>Date: 2022-08-21<br>Price: 1.36"
         ],
         "type": "scatter",
         "x": [
          "2022-08-21"
         ],
         "y": [
          1.36
         ]
        },
        {
         "hoverinfo": "text",
         "marker": {
          "color": "red",
          "size": 5,
          "symbol": "x"
         },
         "mode": "markers",
         "name": "L",
         "text": [
          "Result: Loss<br>Date: 2022-08-29<br>Price: 1.32"
         ],
         "type": "scatter",
         "x": [
          "2022-08-29"
         ],
         "y": [
          1.32
         ]
        },
        {
         "hoverinfo": "text",
         "marker": {
          "color": "green",
          "size": 5,
          "symbol": "x"
         },
         "mode": "markers",
         "name": "W",
         "text": [
          "Result: Win<br>Date: 2022-09-04<br>Price: 1.37"
         ],
         "type": "scatter",
         "x": [
          "2022-09-04"
         ],
         "y": [
          1.37
         ]
        },
        {
         "hoverinfo": "text",
         "marker": {
          "color": "red",
          "size": 5,
          "symbol": "x"
         },
         "mode": "markers",
         "name": "L",
         "text": [
          "Result: Loss<br>Date: 2022-09-10<br>Price: 1.30"
         ],
         "type": "scatter",
         "x": [
          "2022-09-10"
         ],
         "y": [
          1.3
         ]
        },
        {
         "hoverinfo": "text",
         "marker": {
          "color": "green",
          "size": 5,
          "symbol": "x"
         },
         "mode": "markers",
         "name": "W",
         "text": [
          "Result: Win<br>Date: 2022-09-17<br>Price: 1.23"
         ],
         "type": "scatter",
         "x": [
          "2022-09-17"
         ],
         "y": [
          1.23
         ]
        },
        {
         "hoverinfo": "text",
         "marker": {
          "color": "yellow",
          "size": 5,
          "symbol": "x"
         },
         "mode": "markers",
         "name": "D",
         "text": [
          "Result: Draw<br>Date: 2022-10-02<br>Price: 1.17"
         ],
         "type": "scatter",
         "x": [
          "2022-10-02"
         ],
         "y": [
          1.17
         ]
        },
        {
         "hoverinfo": "text",
         "marker": {
          "color": "green",
          "size": 5,
          "symbol": "x"
         },
         "mode": "markers",
         "name": "W",
         "text": [
          "Result: Win<br>Date: 2022-10-07<br>Price: 1.14"
         ],
         "type": "scatter",
         "x": [
          "2022-10-07"
         ],
         "y": [
          1.14
         ]
        },
        {
         "hoverinfo": "text",
         "marker": {
          "color": "yellow",
          "size": 5,
          "symbol": "x"
         },
         "mode": "markers",
         "name": "D",
         "text": [
          "Result: Draw<br>Date: 2022-10-15<br>Price: 1.06"
         ],
         "type": "scatter",
         "x": [
          "2022-10-15"
         ],
         "y": [
          1.06
         ]
        },
        {
         "hoverinfo": "text",
         "marker": {
          "color": "yellow",
          "size": 5,
          "symbol": "x"
         },
         "mode": "markers",
         "name": "D",
         "text": [
          "Result: Draw<br>Date: 2022-10-18<br>Price: 1.07"
         ],
         "type": "scatter",
         "x": [
          "2022-10-18"
         ],
         "y": [
          1.07
         ]
        },
        {
         "hoverinfo": "text",
         "marker": {
          "color": "red",
          "size": 5,
          "symbol": "x"
         },
         "mode": "markers",
         "name": "L",
         "text": [
          "Result: Loss<br>Date: 2022-10-22<br>Price: 1.00"
         ],
         "type": "scatter",
         "x": [
          "2022-10-22"
         ],
         "y": [
          1
         ]
        },
        {
         "hoverinfo": "text",
         "marker": {
          "color": "red",
          "size": 5,
          "symbol": "x"
         },
         "mode": "markers",
         "name": "L",
         "text": [
          "Result: Loss<br>Date: 2022-10-29<br>Price: 1.03"
         ],
         "type": "scatter",
         "x": [
          "2022-10-29"
         ],
         "y": [
          1.03
         ]
        },
        {
         "hoverinfo": "text",
         "marker": {
          "color": "yellow",
          "size": 5,
          "symbol": "x"
         },
         "mode": "markers",
         "name": "D",
         "text": [
          "Result: Draw<br>Date: 2022-11-06<br>Price: 1.06"
         ],
         "type": "scatter",
         "x": [
          "2022-11-06"
         ],
         "y": [
          1.06
         ]
        },
        {
         "hoverinfo": "text",
         "marker": {
          "color": "green",
          "size": 5,
          "symbol": "x"
         },
         "mode": "markers",
         "name": "W",
         "text": [
          "Result: Win<br>Date: 2022-11-10<br>Price: 0.70"
         ],
         "type": "scatter",
         "x": [
          "2022-11-10"
         ],
         "y": [
          0.7
         ]
        },
        {
         "hoverinfo": "text",
         "marker": {
          "color": "red",
          "size": 5,
          "symbol": "x"
         },
         "mode": "markers",
         "name": "L",
         "text": [
          "Result: Loss<br>Date: 2022-12-31<br>Price: 0.74"
         ],
         "type": "scatter",
         "x": [
          "2022-12-31"
         ],
         "y": [
          0.74
         ]
        },
        {
         "hoverinfo": "text",
         "marker": {
          "color": "red",
          "size": 5,
          "symbol": "x"
         },
         "mode": "markers",
         "name": "L",
         "text": [
          "Result: Loss<br>Date: 2023-01-06<br>Price: 0.83"
         ],
         "type": "scatter",
         "x": [
          "2023-01-06"
         ],
         "y": [
          0.83
         ]
        },
        {
         "hoverinfo": "text",
         "marker": {
          "color": "yellow",
          "size": 5,
          "symbol": "x"
         },
         "mode": "markers",
         "name": "D",
         "text": [
          "Result: Draw<br>Date: 2023-01-23<br>Price: 0.94"
         ],
         "type": "scatter",
         "x": [
          "2023-01-23"
         ],
         "y": [
          0.94
         ]
        },
        {
         "hoverinfo": "text",
         "marker": {
          "color": "red",
          "size": 5,
          "symbol": "x"
         },
         "mode": "markers",
         "name": "L",
         "text": [
          "Result: Loss<br>Date: 2023-01-29<br>Price: 0.92"
         ],
         "type": "scatter",
         "x": [
          "2023-01-29"
         ],
         "y": [
          0.92
         ]
        },
        {
         "hoverinfo": "text",
         "marker": {
          "color": "red",
          "size": 5,
          "symbol": "x"
         },
         "mode": "markers",
         "name": "L",
         "text": [
          "Result: Loss<br>Date: 2023-02-02<br>Price: 0.91"
         ],
         "type": "scatter",
         "x": [
          "2023-02-02"
         ],
         "y": [
          0.91
         ]
        },
        {
         "hoverinfo": "text",
         "marker": {
          "color": "red",
          "size": 5,
          "symbol": "x"
         },
         "mode": "markers",
         "name": "L",
         "text": [
          "Result: Loss<br>Date: 2023-02-05<br>Price: 0.91"
         ],
         "type": "scatter",
         "x": [
          "2023-02-05"
         ],
         "y": [
          0.91
         ]
        },
        {
         "hoverinfo": "text",
         "marker": {
          "color": "red",
          "size": 5,
          "symbol": "x"
         },
         "mode": "markers",
         "name": "L",
         "text": [
          "Result: Loss<br>Date: 2023-02-11<br>Price: 0.96"
         ],
         "type": "scatter",
         "x": [
          "2023-02-11"
         ],
         "y": [
          0.96
         ]
        },
        {
         "hoverinfo": "text",
         "marker": {
          "color": "red",
          "size": 5,
          "symbol": "x"
         },
         "mode": "markers",
         "name": "L",
         "text": [
          "Result: Loss<br>Date: 2023-02-20<br>Price: 1.02"
         ],
         "type": "scatter",
         "x": [
          "2023-02-20"
         ],
         "y": [
          1.02
         ]
        },
        {
         "hoverinfo": "text",
         "marker": {
          "color": "green",
          "size": 5,
          "symbol": "x"
         },
         "mode": "markers",
         "name": "W",
         "text": [
          "Result: Win<br>Date: 2023-02-25<br>Price: 0.95"
         ],
         "type": "scatter",
         "x": [
          "2023-02-25"
         ],
         "y": [
          0.95
         ]
        },
        {
         "hoverinfo": "text",
         "marker": {
          "color": "red",
          "size": 5,
          "symbol": "x"
         },
         "mode": "markers",
         "name": "L",
         "text": [
          "Result: Loss<br>Date: 2023-03-05<br>Price: 0.94"
         ],
         "type": "scatter",
         "x": [
          "2023-03-05"
         ],
         "y": [
          0.94
         ]
        },
        {
         "hoverinfo": "text",
         "marker": {
          "color": "green",
          "size": 5,
          "symbol": "x"
         },
         "mode": "markers",
         "name": "W",
         "text": [
          "Result: Win<br>Date: 2023-03-11<br>Price: 0.90"
         ],
         "type": "scatter",
         "x": [
          "2023-03-11"
         ],
         "y": [
          0.9
         ]
        },
        {
         "hoverinfo": "text",
         "marker": {
          "color": "red",
          "size": 5,
          "symbol": "x"
         },
         "mode": "markers",
         "name": "L",
         "text": [
          "Result: Loss<br>Date: 2023-03-18<br>Price: 0.91"
         ],
         "type": "scatter",
         "x": [
          "2023-03-18"
         ],
         "y": [
          0.91
         ]
        },
        {
         "hoverinfo": "text",
         "marker": {
          "color": "yellow",
          "size": 5,
          "symbol": "x"
         },
         "mode": "markers",
         "name": "D",
         "text": [
          "Result: Draw<br>Date: 2023-04-03<br>Price: 0.86"
         ],
         "type": "scatter",
         "x": [
          "2023-04-03"
         ],
         "y": [
          0.86
         ]
        },
        {
         "hoverinfo": "text",
         "marker": {
          "color": "red",
          "size": 5,
          "symbol": "x"
         },
         "mode": "markers",
         "name": "L",
         "text": [
          "Result: Loss<br>Date: 2023-04-09<br>Price: 0.90"
         ],
         "type": "scatter",
         "x": [
          "2023-04-09"
         ],
         "y": [
          0.9
         ]
        },
        {
         "hoverinfo": "text",
         "marker": {
          "color": "red",
          "size": 5,
          "symbol": "x"
         },
         "mode": "markers",
         "name": "L",
         "text": [
          "Result: Loss<br>Date: 2023-04-16<br>Price: 0.97"
         ],
         "type": "scatter",
         "x": [
          "2023-04-16"
         ],
         "y": [
          0.97
         ]
        },
        {
         "hoverinfo": "text",
         "marker": {
          "color": "green",
          "size": 5,
          "symbol": "x"
         },
         "mode": "markers",
         "name": "W",
         "text": [
          "Result: Win<br>Date: 2023-04-23<br>Price: 0.93"
         ],
         "type": "scatter",
         "x": [
          "2023-04-23"
         ],
         "y": [
          0.93
         ]
        },
        {
         "hoverinfo": "text",
         "marker": {
          "color": "green",
          "size": 5,
          "symbol": "x"
         },
         "mode": "markers",
         "name": "W",
         "text": [
          "Result: Win<br>Date: 2023-04-27<br>Price: 0.91"
         ],
         "type": "scatter",
         "x": [
          "2023-04-27"
         ],
         "y": [
          0.91
         ]
        },
        {
         "hoverinfo": "text",
         "marker": {
          "color": "red",
          "size": 5,
          "symbol": "x"
         },
         "mode": "markers",
         "name": "L",
         "text": [
          "Result: Loss<br>Date: 2023-04-30<br>Price: 0.91"
         ],
         "type": "scatter",
         "x": [
          "2023-04-30"
         ],
         "y": [
          0.91
         ]
        },
        {
         "hoverinfo": "text",
         "marker": {
          "color": "yellow",
          "size": 5,
          "symbol": "x"
         },
         "mode": "markers",
         "name": "D",
         "text": [
          "Result: Draw<br>Date: 2023-05-03<br>Price: 0.88"
         ],
         "type": "scatter",
         "x": [
          "2023-05-03"
         ],
         "y": [
          0.88
         ]
        },
        {
         "hoverinfo": "text",
         "marker": {
          "color": "green",
          "size": 5,
          "symbol": "x"
         },
         "mode": "markers",
         "name": "W",
         "text": [
          "Result: Win<br>Date: 2023-05-14<br>Price: 0.79"
         ],
         "type": "scatter",
         "x": [
          "2023-05-14"
         ],
         "y": [
          0.79
         ]
        },
        {
         "hoverinfo": "text",
         "marker": {
          "color": "green",
          "size": 5,
          "symbol": "x"
         },
         "mode": "markers",
         "name": "W",
         "text": [
          "Result: Win<br>Date: 2023-05-21<br>Price: 0.80"
         ],
         "type": "scatter",
         "x": [
          "2023-05-21"
         ],
         "y": [
          0.8
         ]
        },
        {
         "hoverinfo": "text",
         "marker": {
          "color": "red",
          "size": 5,
          "symbol": "x"
         },
         "mode": "markers",
         "name": "L",
         "text": [
          "Result: Loss<br>Date: 2023-05-25<br>Price: 0.76"
         ],
         "type": "scatter",
         "x": [
          "2023-05-25"
         ],
         "y": [
          0.76
         ]
        },
        {
         "hoverinfo": "text",
         "marker": {
          "color": "yellow",
          "size": 5,
          "symbol": "x"
         },
         "mode": "markers",
         "name": "D",
         "text": [
          "Result: Draw<br>Date: 2023-05-28<br>Price: 0.73"
         ],
         "type": "scatter",
         "x": [
          "2023-05-28"
         ],
         "y": [
          0.73
         ]
        },
        {
         "hoverinfo": "text",
         "marker": {
          "color": "yellow",
          "size": 5,
          "symbol": "x"
         },
         "mode": "markers",
         "name": "D",
         "text": [
          "Result: Draw<br>Date: 2023-06-04<br>Price: 0.70"
         ],
         "type": "scatter",
         "x": [
          "2023-06-04"
         ],
         "y": [
          0.7
         ]
        },
        {
         "hoverinfo": "text",
         "marker": {
          "color": "green",
          "size": 5,
          "symbol": "x"
         },
         "mode": "markers",
         "name": "W",
         "text": [
          "Result: Win<br>Date: 2023-08-11<br>Price: 0.79"
         ],
         "type": "scatter",
         "x": [
          "2023-08-11"
         ],
         "y": [
          0.79
         ]
        },
        {
         "hoverinfo": "text",
         "marker": {
          "color": "green",
          "size": 5,
          "symbol": "x"
         },
         "mode": "markers",
         "name": "W",
         "text": [
          "Result: Win<br>Date: 2023-08-18<br>Price: 0.75"
         ],
         "type": "scatter",
         "x": [
          "2023-08-18"
         ],
         "y": [
          0.75
         ]
        },
        {
         "hoverinfo": "text",
         "marker": {
          "color": "red",
          "size": 5,
          "symbol": "x"
         },
         "mode": "markers",
         "name": "L",
         "text": [
          "Result: Loss<br>Date: 2023-08-27<br>Price: 0.77"
         ],
         "type": "scatter",
         "x": [
          "2023-08-27"
         ],
         "y": [
          0.77
         ]
        },
        {
         "hoverinfo": "text",
         "marker": {
          "color": "red",
          "size": 5,
          "symbol": "x"
         },
         "mode": "markers",
         "name": "L",
         "text": [
          "Result: Loss<br>Date: 2023-09-02<br>Price: 0.72"
         ],
         "type": "scatter",
         "x": [
          "2023-09-02"
         ],
         "y": [
          0.72
         ]
        },
        {
         "hoverinfo": "text",
         "marker": {
          "color": "green",
          "size": 5,
          "symbol": "x"
         },
         "mode": "markers",
         "name": "W",
         "text": [
          "Result: Win<br>Date: 2023-09-16<br>Price: 0.65"
         ],
         "type": "scatter",
         "x": [
          "2023-09-16"
         ],
         "y": [
          0.65
         ]
        },
        {
         "hoverinfo": "text",
         "marker": {
          "color": "yellow",
          "size": 5,
          "symbol": "x"
         },
         "mode": "markers",
         "name": "D",
         "text": [
          "Result: Draw<br>Date: 2023-09-23<br>Price: 0.65"
         ],
         "type": "scatter",
         "x": [
          "2023-09-23"
         ],
         "y": [
          0.65
         ]
        },
        {
         "hoverinfo": "text",
         "marker": {
          "color": "red",
          "size": 5,
          "symbol": "x"
         },
         "mode": "markers",
         "name": "L",
         "text": [
          "Result: Loss<br>Date: 2023-09-27<br>Price: 0.65"
         ],
         "type": "scatter",
         "x": [
          "2023-09-27"
         ],
         "y": [
          0.65
         ]
        },
        {
         "hoverinfo": "text",
         "marker": {
          "color": "red",
          "size": 5,
          "symbol": "x"
         },
         "mode": "markers",
         "name": "L",
         "text": [
          "Result: Loss<br>Date: 2023-10-01<br>Price: 0.65"
         ],
         "type": "scatter",
         "x": [
          "2023-10-01"
         ],
         "y": [
          0.65
         ]
        }
       ],
       "layout": {
        "legend": {
         "tracegroupgap": 0
        },
        "showlegend": false,
        "template": {
         "data": {
          "bar": [
           {
            "error_x": {
             "color": "#2a3f5f"
            },
            "error_y": {
             "color": "#2a3f5f"
            },
            "marker": {
             "line": {
              "color": "#E5ECF6",
              "width": 0.5
             },
             "pattern": {
              "fillmode": "overlay",
              "size": 10,
              "solidity": 0.2
             }
            },
            "type": "bar"
           }
          ],
          "barpolar": [
           {
            "marker": {
             "line": {
              "color": "#E5ECF6",
              "width": 0.5
             },
             "pattern": {
              "fillmode": "overlay",
              "size": 10,
              "solidity": 0.2
             }
            },
            "type": "barpolar"
           }
          ],
          "carpet": [
           {
            "aaxis": {
             "endlinecolor": "#2a3f5f",
             "gridcolor": "white",
             "linecolor": "white",
             "minorgridcolor": "white",
             "startlinecolor": "#2a3f5f"
            },
            "baxis": {
             "endlinecolor": "#2a3f5f",
             "gridcolor": "white",
             "linecolor": "white",
             "minorgridcolor": "white",
             "startlinecolor": "#2a3f5f"
            },
            "type": "carpet"
           }
          ],
          "choropleth": [
           {
            "colorbar": {
             "outlinewidth": 0,
             "ticks": ""
            },
            "type": "choropleth"
           }
          ],
          "contour": [
           {
            "colorbar": {
             "outlinewidth": 0,
             "ticks": ""
            },
            "colorscale": [
             [
              0,
              "#0d0887"
             ],
             [
              0.1111111111111111,
              "#46039f"
             ],
             [
              0.2222222222222222,
              "#7201a8"
             ],
             [
              0.3333333333333333,
              "#9c179e"
             ],
             [
              0.4444444444444444,
              "#bd3786"
             ],
             [
              0.5555555555555556,
              "#d8576b"
             ],
             [
              0.6666666666666666,
              "#ed7953"
             ],
             [
              0.7777777777777778,
              "#fb9f3a"
             ],
             [
              0.8888888888888888,
              "#fdca26"
             ],
             [
              1,
              "#f0f921"
             ]
            ],
            "type": "contour"
           }
          ],
          "contourcarpet": [
           {
            "colorbar": {
             "outlinewidth": 0,
             "ticks": ""
            },
            "type": "contourcarpet"
           }
          ],
          "heatmap": [
           {
            "colorbar": {
             "outlinewidth": 0,
             "ticks": ""
            },
            "colorscale": [
             [
              0,
              "#0d0887"
             ],
             [
              0.1111111111111111,
              "#46039f"
             ],
             [
              0.2222222222222222,
              "#7201a8"
             ],
             [
              0.3333333333333333,
              "#9c179e"
             ],
             [
              0.4444444444444444,
              "#bd3786"
             ],
             [
              0.5555555555555556,
              "#d8576b"
             ],
             [
              0.6666666666666666,
              "#ed7953"
             ],
             [
              0.7777777777777778,
              "#fb9f3a"
             ],
             [
              0.8888888888888888,
              "#fdca26"
             ],
             [
              1,
              "#f0f921"
             ]
            ],
            "type": "heatmap"
           }
          ],
          "heatmapgl": [
           {
            "colorbar": {
             "outlinewidth": 0,
             "ticks": ""
            },
            "colorscale": [
             [
              0,
              "#0d0887"
             ],
             [
              0.1111111111111111,
              "#46039f"
             ],
             [
              0.2222222222222222,
              "#7201a8"
             ],
             [
              0.3333333333333333,
              "#9c179e"
             ],
             [
              0.4444444444444444,
              "#bd3786"
             ],
             [
              0.5555555555555556,
              "#d8576b"
             ],
             [
              0.6666666666666666,
              "#ed7953"
             ],
             [
              0.7777777777777778,
              "#fb9f3a"
             ],
             [
              0.8888888888888888,
              "#fdca26"
             ],
             [
              1,
              "#f0f921"
             ]
            ],
            "type": "heatmapgl"
           }
          ],
          "histogram": [
           {
            "marker": {
             "pattern": {
              "fillmode": "overlay",
              "size": 10,
              "solidity": 0.2
             }
            },
            "type": "histogram"
           }
          ],
          "histogram2d": [
           {
            "colorbar": {
             "outlinewidth": 0,
             "ticks": ""
            },
            "colorscale": [
             [
              0,
              "#0d0887"
             ],
             [
              0.1111111111111111,
              "#46039f"
             ],
             [
              0.2222222222222222,
              "#7201a8"
             ],
             [
              0.3333333333333333,
              "#9c179e"
             ],
             [
              0.4444444444444444,
              "#bd3786"
             ],
             [
              0.5555555555555556,
              "#d8576b"
             ],
             [
              0.6666666666666666,
              "#ed7953"
             ],
             [
              0.7777777777777778,
              "#fb9f3a"
             ],
             [
              0.8888888888888888,
              "#fdca26"
             ],
             [
              1,
              "#f0f921"
             ]
            ],
            "type": "histogram2d"
           }
          ],
          "histogram2dcontour": [
           {
            "colorbar": {
             "outlinewidth": 0,
             "ticks": ""
            },
            "colorscale": [
             [
              0,
              "#0d0887"
             ],
             [
              0.1111111111111111,
              "#46039f"
             ],
             [
              0.2222222222222222,
              "#7201a8"
             ],
             [
              0.3333333333333333,
              "#9c179e"
             ],
             [
              0.4444444444444444,
              "#bd3786"
             ],
             [
              0.5555555555555556,
              "#d8576b"
             ],
             [
              0.6666666666666666,
              "#ed7953"
             ],
             [
              0.7777777777777778,
              "#fb9f3a"
             ],
             [
              0.8888888888888888,
              "#fdca26"
             ],
             [
              1,
              "#f0f921"
             ]
            ],
            "type": "histogram2dcontour"
           }
          ],
          "mesh3d": [
           {
            "colorbar": {
             "outlinewidth": 0,
             "ticks": ""
            },
            "type": "mesh3d"
           }
          ],
          "parcoords": [
           {
            "line": {
             "colorbar": {
              "outlinewidth": 0,
              "ticks": ""
             }
            },
            "type": "parcoords"
           }
          ],
          "pie": [
           {
            "automargin": true,
            "type": "pie"
           }
          ],
          "scatter": [
           {
            "fillpattern": {
             "fillmode": "overlay",
             "size": 10,
             "solidity": 0.2
            },
            "type": "scatter"
           }
          ],
          "scatter3d": [
           {
            "line": {
             "colorbar": {
              "outlinewidth": 0,
              "ticks": ""
             }
            },
            "marker": {
             "colorbar": {
              "outlinewidth": 0,
              "ticks": ""
             }
            },
            "type": "scatter3d"
           }
          ],
          "scattercarpet": [
           {
            "marker": {
             "colorbar": {
              "outlinewidth": 0,
              "ticks": ""
             }
            },
            "type": "scattercarpet"
           }
          ],
          "scattergeo": [
           {
            "marker": {
             "colorbar": {
              "outlinewidth": 0,
              "ticks": ""
             }
            },
            "type": "scattergeo"
           }
          ],
          "scattergl": [
           {
            "marker": {
             "colorbar": {
              "outlinewidth": 0,
              "ticks": ""
             }
            },
            "type": "scattergl"
           }
          ],
          "scattermapbox": [
           {
            "marker": {
             "colorbar": {
              "outlinewidth": 0,
              "ticks": ""
             }
            },
            "type": "scattermapbox"
           }
          ],
          "scatterpolar": [
           {
            "marker": {
             "colorbar": {
              "outlinewidth": 0,
              "ticks": ""
             }
            },
            "type": "scatterpolar"
           }
          ],
          "scatterpolargl": [
           {
            "marker": {
             "colorbar": {
              "outlinewidth": 0,
              "ticks": ""
             }
            },
            "type": "scatterpolargl"
           }
          ],
          "scatterternary": [
           {
            "marker": {
             "colorbar": {
              "outlinewidth": 0,
              "ticks": ""
             }
            },
            "type": "scatterternary"
           }
          ],
          "surface": [
           {
            "colorbar": {
             "outlinewidth": 0,
             "ticks": ""
            },
            "colorscale": [
             [
              0,
              "#0d0887"
             ],
             [
              0.1111111111111111,
              "#46039f"
             ],
             [
              0.2222222222222222,
              "#7201a8"
             ],
             [
              0.3333333333333333,
              "#9c179e"
             ],
             [
              0.4444444444444444,
              "#bd3786"
             ],
             [
              0.5555555555555556,
              "#d8576b"
             ],
             [
              0.6666666666666666,
              "#ed7953"
             ],
             [
              0.7777777777777778,
              "#fb9f3a"
             ],
             [
              0.8888888888888888,
              "#fdca26"
             ],
             [
              1,
              "#f0f921"
             ]
            ],
            "type": "surface"
           }
          ],
          "table": [
           {
            "cells": {
             "fill": {
              "color": "#EBF0F8"
             },
             "line": {
              "color": "white"
             }
            },
            "header": {
             "fill": {
              "color": "#C8D4E3"
             },
             "line": {
              "color": "white"
             }
            },
            "type": "table"
           }
          ]
         },
         "layout": {
          "annotationdefaults": {
           "arrowcolor": "#2a3f5f",
           "arrowhead": 0,
           "arrowwidth": 1
          },
          "autotypenumbers": "strict",
          "coloraxis": {
           "colorbar": {
            "outlinewidth": 0,
            "ticks": ""
           }
          },
          "colorscale": {
           "diverging": [
            [
             0,
             "#8e0152"
            ],
            [
             0.1,
             "#c51b7d"
            ],
            [
             0.2,
             "#de77ae"
            ],
            [
             0.3,
             "#f1b6da"
            ],
            [
             0.4,
             "#fde0ef"
            ],
            [
             0.5,
             "#f7f7f7"
            ],
            [
             0.6,
             "#e6f5d0"
            ],
            [
             0.7,
             "#b8e186"
            ],
            [
             0.8,
             "#7fbc41"
            ],
            [
             0.9,
             "#4d9221"
            ],
            [
             1,
             "#276419"
            ]
           ],
           "sequential": [
            [
             0,
             "#0d0887"
            ],
            [
             0.1111111111111111,
             "#46039f"
            ],
            [
             0.2222222222222222,
             "#7201a8"
            ],
            [
             0.3333333333333333,
             "#9c179e"
            ],
            [
             0.4444444444444444,
             "#bd3786"
            ],
            [
             0.5555555555555556,
             "#d8576b"
            ],
            [
             0.6666666666666666,
             "#ed7953"
            ],
            [
             0.7777777777777778,
             "#fb9f3a"
            ],
            [
             0.8888888888888888,
             "#fdca26"
            ],
            [
             1,
             "#f0f921"
            ]
           ],
           "sequentialminus": [
            [
             0,
             "#0d0887"
            ],
            [
             0.1111111111111111,
             "#46039f"
            ],
            [
             0.2222222222222222,
             "#7201a8"
            ],
            [
             0.3333333333333333,
             "#9c179e"
            ],
            [
             0.4444444444444444,
             "#bd3786"
            ],
            [
             0.5555555555555556,
             "#d8576b"
            ],
            [
             0.6666666666666666,
             "#ed7953"
            ],
            [
             0.7777777777777778,
             "#fb9f3a"
            ],
            [
             0.8888888888888888,
             "#fdca26"
            ],
            [
             1,
             "#f0f921"
            ]
           ]
          },
          "colorway": [
           "#636efa",
           "#EF553B",
           "#00cc96",
           "#ab63fa",
           "#FFA15A",
           "#19d3f3",
           "#FF6692",
           "#B6E880",
           "#FF97FF",
           "#FECB52"
          ],
          "font": {
           "color": "#2a3f5f"
          },
          "geo": {
           "bgcolor": "white",
           "lakecolor": "white",
           "landcolor": "#E5ECF6",
           "showlakes": true,
           "showland": true,
           "subunitcolor": "white"
          },
          "hoverlabel": {
           "align": "left"
          },
          "hovermode": "closest",
          "mapbox": {
           "style": "light"
          },
          "paper_bgcolor": "white",
          "plot_bgcolor": "#E5ECF6",
          "polar": {
           "angularaxis": {
            "gridcolor": "white",
            "linecolor": "white",
            "ticks": ""
           },
           "bgcolor": "#E5ECF6",
           "radialaxis": {
            "gridcolor": "white",
            "linecolor": "white",
            "ticks": ""
           }
          },
          "scene": {
           "xaxis": {
            "backgroundcolor": "#E5ECF6",
            "gridcolor": "white",
            "gridwidth": 2,
            "linecolor": "white",
            "showbackground": true,
            "ticks": "",
            "zerolinecolor": "white"
           },
           "yaxis": {
            "backgroundcolor": "#E5ECF6",
            "gridcolor": "white",
            "gridwidth": 2,
            "linecolor": "white",
            "showbackground": true,
            "ticks": "",
            "zerolinecolor": "white"
           },
           "zaxis": {
            "backgroundcolor": "#E5ECF6",
            "gridcolor": "white",
            "gridwidth": 2,
            "linecolor": "white",
            "showbackground": true,
            "ticks": "",
            "zerolinecolor": "white"
           }
          },
          "shapedefaults": {
           "line": {
            "color": "#2a3f5f"
           }
          },
          "ternary": {
           "aaxis": {
            "gridcolor": "white",
            "linecolor": "white",
            "ticks": ""
           },
           "baxis": {
            "gridcolor": "white",
            "linecolor": "white",
            "ticks": ""
           },
           "bgcolor": "#E5ECF6",
           "caxis": {
            "gridcolor": "white",
            "linecolor": "white",
            "ticks": ""
           }
          },
          "title": {
           "x": 0.05
          },
          "xaxis": {
           "automargin": true,
           "gridcolor": "white",
           "linecolor": "white",
           "ticks": "",
           "title": {
            "standoff": 15
           },
           "zerolinecolor": "white",
           "zerolinewidth": 2
          },
          "yaxis": {
           "automargin": true,
           "gridcolor": "white",
           "linecolor": "white",
           "ticks": "",
           "title": {
            "standoff": 15
           },
           "zerolinecolor": "white",
           "zerolinewidth": 2
          }
         }
        },
        "title": {
         "text": "Matches and Price Visualization for Valencia CF"
        },
        "xaxis": {
         "anchor": "y",
         "domain": [
          0,
          1
         ],
         "title": {
          "text": "Date"
         }
        },
        "yaxis": {
         "anchor": "x",
         "domain": [
          0,
          1
         ],
         "title": {
          "text": "Price"
         }
        }
       }
      },
      "text/html": [
       "<div>                        <script type=\"text/javascript\">window.PlotlyConfig = {MathJaxConfig: 'local'};</script>\n",
       "        <script charset=\"utf-8\" src=\"https://cdn.plot.ly/plotly-2.26.0.min.js\"></script>                <div id=\"1bf38528-a749-4705-946e-b0fd0760a016\" class=\"plotly-graph-div\" style=\"height:100%; width:100%;\"></div>            <script type=\"text/javascript\">                                    window.PLOTLYENV=window.PLOTLYENV || {};                                    if (document.getElementById(\"1bf38528-a749-4705-946e-b0fd0760a016\")) {                    Plotly.newPlot(                        \"1bf38528-a749-4705-946e-b0fd0760a016\",                        [{\"legendgroup\":\"\",\"line\":{\"color\":\"#636efa\",\"dash\":\"solid\"},\"marker\":{\"symbol\":\"circle\"},\"mode\":\"lines\",\"name\":\"\",\"orientation\":\"v\",\"showlegend\":false,\"x\":[\"2021-09-14\",\"2021-09-15\",\"2021-09-16\",\"2021-09-17\",\"2021-09-18\",\"2021-09-19\",\"2021-09-20\",\"2021-09-21\",\"2021-09-22\",\"2021-09-23\",\"2021-09-24\",\"2021-09-25\",\"2021-09-26\",\"2021-09-27\",\"2021-09-28\",\"2021-09-29\",\"2021-09-30\",\"2021-10-01\",\"2021-10-02\",\"2021-10-03\",\"2021-10-04\",\"2021-10-05\",\"2021-10-06\",\"2021-10-07\",\"2021-10-08\",\"2021-10-09\",\"2021-10-10\",\"2021-10-11\",\"2021-10-12\",\"2021-10-13\",\"2021-10-14\",\"2021-10-15\",\"2021-10-16\",\"2021-10-17\",\"2021-10-18\",\"2021-10-19\",\"2021-10-20\",\"2021-10-21\",\"2021-10-22\",\"2021-10-23\",\"2021-10-24\",\"2021-10-25\",\"2021-10-26\",\"2021-10-27\",\"2021-10-28\",\"2021-10-29\",\"2021-10-30\",\"2021-10-31\",\"2021-11-01\",\"2021-11-02\",\"2021-11-03\",\"2021-11-04\",\"2021-11-05\",\"2021-11-06\",\"2021-11-07\",\"2021-11-08\",\"2021-11-09\",\"2021-11-10\",\"2021-11-11\",\"2021-11-12\",\"2021-11-13\",\"2021-11-14\",\"2021-11-15\",\"2021-11-16\",\"2021-11-17\",\"2021-11-18\",\"2021-11-19\",\"2021-11-20\",\"2021-11-21\",\"2021-11-22\",\"2021-11-23\",\"2021-11-24\",\"2021-11-25\",\"2021-11-26\",\"2021-11-27\",\"2021-11-28\",\"2021-11-29\",\"2021-11-30\",\"2021-12-01\",\"2021-12-02\",\"2021-12-03\",\"2021-12-04\",\"2021-12-05\",\"2021-12-06\",\"2021-12-07\",\"2021-12-08\",\"2021-12-09\",\"2021-12-10\",\"2021-12-11\",\"2021-12-12\",\"2021-12-13\",\"2021-12-14\",\"2021-12-15\",\"2021-12-16\",\"2021-12-17\",\"2021-12-18\",\"2021-12-19\",\"2021-12-20\",\"2021-12-21\",\"2021-12-22\",\"2021-12-23\",\"2021-12-24\",\"2021-12-25\",\"2021-12-26\",\"2021-12-27\",\"2021-12-28\",\"2021-12-29\",\"2021-12-30\",\"2021-12-31\",\"2022-01-01\",\"2022-01-02\",\"2022-01-03\",\"2022-01-04\",\"2022-01-05\",\"2022-01-06\",\"2022-01-07\",\"2022-01-08\",\"2022-01-09\",\"2022-01-10\",\"2022-01-11\",\"2022-01-12\",\"2022-01-13\",\"2022-01-14\",\"2022-01-15\",\"2022-01-16\",\"2022-01-17\",\"2022-01-18\",\"2022-01-19\",\"2022-01-20\",\"2022-01-21\",\"2022-01-22\",\"2022-01-23\",\"2022-01-24\",\"2022-01-25\",\"2022-01-26\",\"2022-01-27\",\"2022-01-28\",\"2022-01-29\",\"2022-01-30\",\"2022-01-31\",\"2022-02-01\",\"2022-02-02\",\"2022-02-03\",\"2022-02-04\",\"2022-02-05\",\"2022-02-06\",\"2022-02-07\",\"2022-02-08\",\"2022-02-09\",\"2022-02-10\",\"2022-02-11\",\"2022-02-12\",\"2022-02-13\",\"2022-02-14\",\"2022-02-15\",\"2022-02-16\",\"2022-02-17\",\"2022-02-18\",\"2022-02-19\",\"2022-02-20\",\"2022-02-21\",\"2022-02-22\",\"2022-02-23\",\"2022-02-24\",\"2022-02-25\",\"2022-02-26\",\"2022-02-27\",\"2022-02-28\",\"2022-03-01\",\"2022-03-02\",\"2022-03-03\",\"2022-03-04\",\"2022-03-05\",\"2022-03-06\",\"2022-03-07\",\"2022-03-08\",\"2022-03-09\",\"2022-03-10\",\"2022-03-11\",\"2022-03-12\",\"2022-03-13\",\"2022-03-14\",\"2022-03-15\",\"2022-03-16\",\"2022-03-17\",\"2022-03-18\",\"2022-03-19\",\"2022-03-20\",\"2022-03-21\",\"2022-03-22\",\"2022-03-23\",\"2022-03-24\",\"2022-03-25\",\"2022-03-26\",\"2022-03-27\",\"2022-03-28\",\"2022-03-29\",\"2022-03-30\",\"2022-03-31\",\"2022-04-01\",\"2022-04-02\",\"2022-04-03\",\"2022-04-04\",\"2022-04-05\",\"2022-04-06\",\"2022-04-07\",\"2022-04-08\",\"2022-04-09\",\"2022-04-10\",\"2022-04-11\",\"2022-04-12\",\"2022-04-13\",\"2022-04-14\",\"2022-04-15\",\"2022-04-16\",\"2022-04-17\",\"2022-04-18\",\"2022-04-19\",\"2022-04-20\",\"2022-04-21\",\"2022-04-22\",\"2022-04-23\",\"2022-04-24\",\"2022-04-25\",\"2022-04-26\",\"2022-04-27\",\"2022-04-28\",\"2022-04-29\",\"2022-04-30\",\"2022-05-01\",\"2022-05-02\",\"2022-05-03\",\"2022-05-04\",\"2022-05-05\",\"2022-05-06\",\"2022-05-07\",\"2022-05-08\",\"2022-05-09\",\"2022-05-10\",\"2022-05-11\",\"2022-05-12\",\"2022-05-13\",\"2022-05-14\",\"2022-05-15\",\"2022-05-16\",\"2022-05-17\",\"2022-05-18\",\"2022-05-19\",\"2022-05-20\",\"2022-05-21\",\"2022-05-22\",\"2022-05-23\",\"2022-05-24\",\"2022-05-25\",\"2022-05-26\",\"2022-05-27\",\"2022-05-28\",\"2022-05-29\",\"2022-05-30\",\"2022-05-31\",\"2022-06-01\",\"2022-06-02\",\"2022-06-03\",\"2022-06-04\",\"2022-06-05\",\"2022-06-06\",\"2022-06-07\",\"2022-06-08\",\"2022-06-09\",\"2022-06-10\",\"2022-06-11\",\"2022-06-12\",\"2022-06-13\",\"2022-06-14\",\"2022-06-15\",\"2022-06-16\",\"2022-06-17\",\"2022-06-18\",\"2022-06-19\",\"2022-06-20\",\"2022-06-21\",\"2022-06-22\",\"2022-06-23\",\"2022-06-24\",\"2022-06-25\",\"2022-06-26\",\"2022-06-27\",\"2022-06-28\",\"2022-06-29\",\"2022-06-30\",\"2022-07-01\",\"2022-07-02\",\"2022-07-03\",\"2022-07-04\",\"2022-07-05\",\"2022-07-06\",\"2022-07-07\",\"2022-07-08\",\"2022-07-09\",\"2022-07-10\",\"2022-07-11\",\"2022-07-12\",\"2022-07-13\",\"2022-07-14\",\"2022-07-15\",\"2022-07-16\",\"2022-07-17\",\"2022-07-18\",\"2022-07-19\",\"2022-07-20\",\"2022-07-21\",\"2022-07-22\",\"2022-07-23\",\"2022-07-24\",\"2022-07-25\",\"2022-07-26\",\"2022-07-27\",\"2022-07-28\",\"2022-07-29\",\"2022-07-30\",\"2022-07-31\",\"2022-08-01\",\"2022-08-02\",\"2022-08-03\",\"2022-08-04\",\"2022-08-05\",\"2022-08-06\",\"2022-08-07\",\"2022-08-08\",\"2022-08-09\",\"2022-08-10\",\"2022-08-11\",\"2022-08-12\",\"2022-08-13\",\"2022-08-14\",\"2022-08-15\",\"2022-08-16\",\"2022-08-17\",\"2022-08-18\",\"2022-08-19\",\"2022-08-20\",\"2022-08-21\",\"2022-08-22\",\"2022-08-23\",\"2022-08-24\",\"2022-08-25\",\"2022-08-26\",\"2022-08-27\",\"2022-08-28\",\"2022-08-29\",\"2022-08-30\",\"2022-08-31\",\"2022-09-01\",\"2022-09-02\",\"2022-09-03\",\"2022-09-04\",\"2022-09-05\",\"2022-09-06\",\"2022-09-07\",\"2022-09-08\",\"2022-09-09\",\"2022-09-10\",\"2022-09-11\",\"2022-09-12\",\"2022-09-13\",\"2022-09-14\",\"2022-09-15\",\"2022-09-16\",\"2022-09-17\",\"2022-09-18\",\"2022-09-19\",\"2022-09-20\",\"2022-09-21\",\"2022-09-22\",\"2022-09-23\",\"2022-09-24\",\"2022-09-25\",\"2022-09-26\",\"2022-09-27\",\"2022-09-28\",\"2022-09-29\",\"2022-09-30\",\"2022-10-01\",\"2022-10-02\",\"2022-10-03\",\"2022-10-04\",\"2022-10-05\",\"2022-10-06\",\"2022-10-07\",\"2022-10-08\",\"2022-10-09\",\"2022-10-10\",\"2022-10-11\",\"2022-10-12\",\"2022-10-13\",\"2022-10-14\",\"2022-10-15\",\"2022-10-16\",\"2022-10-17\",\"2022-10-18\",\"2022-10-19\",\"2022-10-20\",\"2022-10-21\",\"2022-10-22\",\"2022-10-23\",\"2022-10-24\",\"2022-10-25\",\"2022-10-26\",\"2022-10-27\",\"2022-10-28\",\"2022-10-29\",\"2022-10-30\",\"2022-10-31\",\"2022-11-01\",\"2022-11-02\",\"2022-11-03\",\"2022-11-04\",\"2022-11-05\",\"2022-11-06\",\"2022-11-07\",\"2022-11-08\",\"2022-11-09\",\"2022-11-10\",\"2022-11-11\",\"2022-11-12\",\"2022-11-13\",\"2022-11-14\",\"2022-11-15\",\"2022-11-16\",\"2022-11-17\",\"2022-11-18\",\"2022-11-19\",\"2022-11-20\",\"2022-11-21\",\"2022-11-22\",\"2022-11-23\",\"2022-11-24\",\"2022-11-25\",\"2022-11-26\",\"2022-11-27\",\"2022-11-28\",\"2022-11-29\",\"2022-11-30\",\"2022-12-01\",\"2022-12-02\",\"2022-12-03\",\"2022-12-04\",\"2022-12-05\",\"2022-12-06\",\"2022-12-07\",\"2022-12-08\",\"2022-12-09\",\"2022-12-10\",\"2022-12-11\",\"2022-12-12\",\"2022-12-13\",\"2022-12-14\",\"2022-12-15\",\"2022-12-16\",\"2022-12-17\",\"2022-12-18\",\"2022-12-19\",\"2022-12-20\",\"2022-12-21\",\"2022-12-22\",\"2022-12-23\",\"2022-12-24\",\"2022-12-25\",\"2022-12-26\",\"2022-12-27\",\"2022-12-28\",\"2022-12-29\",\"2022-12-30\",\"2022-12-31\",\"2023-01-01\",\"2023-01-02\",\"2023-01-03\",\"2023-01-04\",\"2023-01-05\",\"2023-01-06\",\"2023-01-07\",\"2023-01-08\",\"2023-01-09\",\"2023-01-10\",\"2023-01-11\",\"2023-01-12\",\"2023-01-13\",\"2023-01-14\",\"2023-01-15\",\"2023-01-16\",\"2023-01-17\",\"2023-01-18\",\"2023-01-19\",\"2023-01-20\",\"2023-01-21\",\"2023-01-22\",\"2023-01-23\",\"2023-01-24\",\"2023-01-25\",\"2023-01-26\",\"2023-01-27\",\"2023-01-28\",\"2023-01-29\",\"2023-01-30\",\"2023-01-31\",\"2023-02-01\",\"2023-02-02\",\"2023-02-03\",\"2023-02-04\",\"2023-02-05\",\"2023-02-06\",\"2023-02-07\",\"2023-02-08\",\"2023-02-09\",\"2023-02-10\",\"2023-02-11\",\"2023-02-12\",\"2023-02-13\",\"2023-02-14\",\"2023-02-15\",\"2023-02-16\",\"2023-02-17\",\"2023-02-18\",\"2023-02-19\",\"2023-02-20\",\"2023-02-21\",\"2023-02-22\",\"2023-02-23\",\"2023-02-24\",\"2023-02-25\",\"2023-02-26\",\"2023-02-27\",\"2023-02-28\",\"2023-03-01\",\"2023-03-02\",\"2023-03-03\",\"2023-03-04\",\"2023-03-05\",\"2023-03-06\",\"2023-03-07\",\"2023-03-08\",\"2023-03-09\",\"2023-03-10\",\"2023-03-11\",\"2023-03-12\",\"2023-03-13\",\"2023-03-14\",\"2023-03-15\",\"2023-03-16\",\"2023-03-17\",\"2023-03-18\",\"2023-03-19\",\"2023-03-20\",\"2023-03-21\",\"2023-03-22\",\"2023-03-23\",\"2023-03-24\",\"2023-03-25\",\"2023-03-26\",\"2023-03-27\",\"2023-03-28\",\"2023-03-29\",\"2023-03-30\",\"2023-03-31\",\"2023-04-01\",\"2023-04-02\",\"2023-04-03\",\"2023-04-04\",\"2023-04-05\",\"2023-04-06\",\"2023-04-07\",\"2023-04-08\",\"2023-04-09\",\"2023-04-10\",\"2023-04-11\",\"2023-04-12\",\"2023-04-13\",\"2023-04-14\",\"2023-04-15\",\"2023-04-16\",\"2023-04-17\",\"2023-04-18\",\"2023-04-19\",\"2023-04-20\",\"2023-04-21\",\"2023-04-22\",\"2023-04-23\",\"2023-04-24\",\"2023-04-25\",\"2023-04-26\",\"2023-04-27\",\"2023-04-28\",\"2023-04-29\",\"2023-04-30\",\"2023-05-01\",\"2023-05-02\",\"2023-05-03\",\"2023-05-04\",\"2023-05-05\",\"2023-05-06\",\"2023-05-07\",\"2023-05-08\",\"2023-05-09\",\"2023-05-10\",\"2023-05-11\",\"2023-05-12\",\"2023-05-13\",\"2023-05-14\",\"2023-05-15\",\"2023-05-16\",\"2023-05-17\",\"2023-05-18\",\"2023-05-19\",\"2023-05-20\",\"2023-05-21\",\"2023-05-22\",\"2023-05-23\",\"2023-05-24\",\"2023-05-25\",\"2023-05-26\",\"2023-05-27\",\"2023-05-28\",\"2023-05-29\",\"2023-05-30\",\"2023-05-31\",\"2023-06-01\",\"2023-06-02\",\"2023-06-03\",\"2023-06-04\",\"2023-06-05\",\"2023-06-06\",\"2023-06-07\",\"2023-06-08\",\"2023-06-09\",\"2023-06-10\",\"2023-06-11\",\"2023-06-12\",\"2023-06-13\",\"2023-06-14\",\"2023-06-15\",\"2023-06-16\",\"2023-06-17\",\"2023-06-18\",\"2023-06-19\",\"2023-06-20\",\"2023-06-21\",\"2023-06-22\",\"2023-06-23\",\"2023-06-24\",\"2023-06-25\",\"2023-06-26\",\"2023-06-27\",\"2023-06-28\",\"2023-06-29\",\"2023-06-30\",\"2023-07-01\",\"2023-07-02\",\"2023-07-03\",\"2023-07-04\",\"2023-07-05\",\"2023-07-06\",\"2023-07-07\",\"2023-07-08\",\"2023-07-09\",\"2023-07-10\",\"2023-07-11\",\"2023-07-12\",\"2023-07-13\",\"2023-07-14\",\"2023-07-15\",\"2023-07-16\",\"2023-07-17\",\"2023-07-18\",\"2023-07-19\",\"2023-07-20\",\"2023-07-21\",\"2023-07-22\",\"2023-07-23\",\"2023-07-24\",\"2023-07-25\",\"2023-07-26\",\"2023-07-27\",\"2023-07-28\",\"2023-07-29\",\"2023-07-30\",\"2023-07-31\",\"2023-08-01\",\"2023-08-02\",\"2023-08-03\",\"2023-08-04\",\"2023-08-05\",\"2023-08-06\",\"2023-08-07\",\"2023-08-08\",\"2023-08-09\",\"2023-08-10\",\"2023-08-11\",\"2023-08-12\",\"2023-08-13\",\"2023-08-14\",\"2023-08-15\",\"2023-08-16\",\"2023-08-17\",\"2023-08-18\",\"2023-08-19\",\"2023-08-20\",\"2023-08-21\",\"2023-08-22\",\"2023-08-23\",\"2023-08-24\",\"2023-08-25\",\"2023-08-26\",\"2023-08-27\",\"2023-08-28\",\"2023-08-29\",\"2023-08-30\",\"2023-08-31\",\"2023-09-01\",\"2023-09-02\",\"2023-09-03\",\"2023-09-04\",\"2023-09-05\",\"2023-09-06\",\"2023-09-07\",\"2023-09-08\",\"2023-09-09\",\"2023-09-10\",\"2023-09-11\",\"2023-09-12\",\"2023-09-13\",\"2023-09-14\",\"2023-09-15\",\"2023-09-16\",\"2023-09-17\",\"2023-09-18\",\"2023-09-19\",\"2023-09-20\",\"2023-09-21\",\"2023-09-22\",\"2023-09-23\",\"2023-09-24\",\"2023-09-25\",\"2023-09-26\",\"2023-09-27\",\"2023-09-28\",\"2023-09-29\",\"2023-09-30\",\"2023-10-01\",\"2023-10-02\",\"2023-10-03\",\"2023-10-04\",\"2023-10-04\"],\"xaxis\":\"x\",\"y\":[2.75,2.75,2.87,3.45,3.34,3.41,3.3,2.73,2.64,2.7,2.71,2.58,2.59,2.44,2.4,2.3,2.33,2.34,2.52,2.38,2.35,2.32,2.41,2.41,2.77,2.57,2.56,2.43,2.35,2.67,2.76,2.68,2.6,2.67,2.54,2.51,2.44,2.35,2.28,2.49,2.59,2.55,2.64,2.64,2.23,2.33,2.29,2.37,2.1,2.11,2.17,2.08,1.98,2.12,2.22,2.04,2.02,1.92,1.86,2.01,2.01,2.02,2.1,2.19,1.96,1.99,1.77,1.92,1.9,1.98,1.97,1.89,1.94,2.03,1.82,1.74,1.74,1.8,1.78,1.76,1.78,1.64,1.38,1.39,1.43,1.38,1.47,1.36,1.28,1.33,1.33,1.23,1.32,1.37,1.34,1.43,1.35,1.28,1.29,1.38,1.37,1.48,1.42,1.51,1.53,1.63,2.16,1.97,1.89,1.85,1.9,1.92,1.85,1.71,1.56,1.5,1.42,1.38,1.41,1.36,1.39,1.46,1.39,1.44,1.42,1.41,1.36,1.32,1.28,1.23,1.09,1.0,1.04,0.98,0.98,0.97,0.98,0.99,1.0,1.02,1.04,1.07,1.05,1.03,1.09,1.08,1.1,1.1,1.07,1.15,1.06,1.02,1.04,1.03,1.05,1.1,1.07,1.0,1.01,0.99,0.95,0.86,0.9,0.88,0.83,0.89,0.91,0.93,1.0,1.01,1.04,1.04,1.02,1.07,0.96,0.95,0.98,0.99,0.96,0.99,1.02,1.11,1.08,1.06,1.07,1.1,1.07,1.05,1.08,1.24,1.95,2.37,2.15,2.28,2.12,2.04,2.1,2.17,2.14,2.14,2.14,2.05,2.0,2.03,2.17,2.06,2.07,2.01,1.96,4.28,3.02,3.31,3.07,3.2,3.13,2.99,3.1,2.97,2.99,2.91,2.66,2.68,2.48,2.23,2.3,2.17,2.2,2.13,2.05,1.78,1.72,1.93,1.81,1.91,1.79,1.78,1.88,1.76,1.5,1.49,1.03,1.0,1.17,1.16,1.19,1.14,1.21,1.31,1.25,1.26,1.23,1.22,1.2,1.21,1.34,1.26,1.3,1.3,1.27,1.29,1.29,1.27,1.26,1.25,1.42,1.57,1.6,1.55,1.59,1.56,1.56,1.47,1.34,1.36,1.3,1.33,1.26,1.31,1.27,1.3,1.29,1.3,1.29,1.31,1.38,1.37,1.33,1.36,1.33,1.31,1.27,1.27,1.28,1.28,1.28,1.26,1.25,1.25,1.31,1.3,1.28,1.24,1.23,1.24,1.24,1.3,1.29,1.31,1.32,1.37,1.33,1.32,1.32,1.31,1.31,1.27,1.27,1.3,1.31,1.36,1.33,1.36,1.37,1.39,1.4,1.37,1.39,1.47,1.47,1.49,1.42,1.44,1.43,1.44,1.43,1.43,1.41,1.42,1.41,1.47,1.41,1.36,1.38,1.39,1.42,1.39,1.39,1.31,1.32,1.32,1.33,1.36,1.38,1.35,1.37,1.37,1.37,1.36,1.29,1.29,1.29,1.3,1.31,1.3,1.28,1.26,1.23,1.21,1.23,1.23,1.21,1.18,1.17,1.16,1.18,1.18,1.18,1.17,1.17,1.16,1.16,1.16,1.16,1.17,1.14,1.14,1.13,1.13,1.14,1.14,1.13,1.13,1.07,1.1,1.07,1.06,1.06,1.04,1.06,1.07,1.05,1.02,0.98,1.0,1.0,1.0,1.0,1.03,1.03,1.02,1.03,1.03,1.03,1.02,1.03,1.02,1.02,1.04,1.06,1.05,1.01,0.91,0.7,0.87,0.82,0.82,0.8,0.8,0.83,0.81,0.83,0.84,0.85,0.81,0.77,0.77,0.79,0.8,0.8,0.79,0.79,0.79,0.82,0.81,0.79,0.8,0.8,0.8,0.79,0.79,0.77,0.78,0.77,0.78,0.76,0.75,0.75,0.76,0.76,0.75,0.85,0.79,0.75,0.76,0.76,0.76,0.76,0.76,0.77,0.76,0.76,0.74,0.74,0.74,0.74,0.72,0.74,0.75,0.74,0.83,0.86,0.86,0.82,0.84,0.84,0.81,0.82,0.82,0.86,0.89,0.88,0.91,0.85,0.87,0.9,0.9,0.94,0.94,0.91,0.9,0.91,0.93,0.92,0.92,0.89,0.91,0.91,0.91,0.93,0.91,0.88,0.88,0.89,1.02,0.94,0.96,1.02,1.0,0.98,1.01,1.01,1.0,1.01,1.02,1.02,1.01,0.98,0.97,0.97,0.95,0.95,0.97,0.95,0.95,0.95,0.94,0.93,0.94,0.91,0.95,0.93,0.9,0.9,0.9,0.89,0.9,0.92,0.92,0.9,0.9,0.91,0.9,0.91,0.9,0.9,0.88,0.89,0.9,0.9,0.89,0.86,0.86,0.87,0.87,0.88,0.89,0.86,0.85,0.83,0.86,0.85,0.87,0.9,0.98,0.95,0.96,0.94,0.98,0.97,0.97,0.96,0.95,0.94,0.92,0.91,0.92,0.93,0.94,0.92,0.92,0.91,0.92,0.92,0.91,0.9,0.88,0.88,0.87,0.86,0.84,0.85,0.83,0.75,0.78,0.8,0.7,0.77,0.79,0.78,0.79,0.8,0.77,0.78,0.8,0.8,0.8,0.84,0.8,0.76,0.74,0.72,0.73,0.76,0.74,0.71,0.69,0.69,0.69,0.7,0.69,0.64,0.65,0.6,0.61,0.6,0.55,0.55,0.55,0.58,0.56,0.56,0.55,0.57,0.56,0.57,0.57,0.58,0.56,0.57,0.57,0.56,0.56,0.57,0.59,0.59,0.58,0.58,0.59,0.59,0.58,0.57,0.58,0.59,0.6,0.59,0.58,0.6,0.6,0.6,0.64,0.65,0.64,0.64,0.76,0.75,0.78,0.78,0.78,0.86,0.81,0.83,0.8,0.82,0.83,0.83,0.83,0.83,0.82,0.82,0.82,0.82,0.8,0.82,0.79,0.8,0.8,0.79,0.8,0.81,0.81,0.8,0.79,0.75,0.75,0.75,0.78,0.79,0.77,0.76,0.77,0.78,0.76,0.77,0.77,0.75,0.74,0.74,0.72,0.72,0.71,0.69,0.68,0.68,0.67,0.68,0.68,0.67,0.67,0.64,0.66,0.66,0.65,0.65,0.67,0.65,0.65,0.66,0.66,0.65,0.65,0.65,0.65,0.65,0.65,0.65,0.65,0.64,0.65,0.65,0.65,0.63,0.63],\"yaxis\":\"y\",\"type\":\"scatter\",\"hoverinfo\":\"skip\"},{\"hoverinfo\":\"text\",\"marker\":{\"color\":\"red\",\"size\":5,\"symbol\":\"x\"},\"mode\":\"markers\",\"name\":\"L\",\"text\":[\"Result: Loss\\u003cbr\\u003eDate: 2021-09-19\\u003cbr\\u003ePrice: 3.41\"],\"x\":[\"2021-09-19\"],\"y\":[3.41],\"type\":\"scatter\"},{\"hoverinfo\":\"text\",\"marker\":{\"color\":\"red\",\"size\":5,\"symbol\":\"x\"},\"mode\":\"markers\",\"name\":\"L\",\"text\":[\"Result: Loss\\u003cbr\\u003eDate: 2021-09-22\\u003cbr\\u003ePrice: 2.64\"],\"x\":[\"2021-09-22\"],\"y\":[2.64],\"type\":\"scatter\"},{\"hoverinfo\":\"text\",\"marker\":{\"color\":\"yellow\",\"size\":5,\"symbol\":\"x\"},\"mode\":\"markers\",\"name\":\"D\",\"text\":[\"Result: Draw\\u003cbr\\u003eDate: 2021-09-25\\u003cbr\\u003ePrice: 2.58\"],\"x\":[\"2021-09-25\"],\"y\":[2.58],\"type\":\"scatter\"},{\"hoverinfo\":\"text\",\"marker\":{\"color\":\"yellow\",\"size\":5,\"symbol\":\"x\"},\"mode\":\"markers\",\"name\":\"D\",\"text\":[\"Result: Draw\\u003cbr\\u003eDate: 2021-10-02\\u003cbr\\u003ePrice: 2.52\"],\"x\":[\"2021-10-02\"],\"y\":[2.52],\"type\":\"scatter\"},{\"hoverinfo\":\"text\",\"marker\":{\"color\":\"red\",\"size\":5,\"symbol\":\"x\"},\"mode\":\"markers\",\"name\":\"L\",\"text\":[\"Result: Loss\\u003cbr\\u003eDate: 2021-10-17\\u003cbr\\u003ePrice: 2.67\"],\"x\":[\"2021-10-17\"],\"y\":[2.67],\"type\":\"scatter\"},{\"hoverinfo\":\"text\",\"marker\":{\"color\":\"yellow\",\"size\":5,\"symbol\":\"x\"},\"mode\":\"markers\",\"name\":\"D\",\"text\":[\"Result: Draw\\u003cbr\\u003eDate: 2021-10-23\\u003cbr\\u003ePrice: 2.49\"],\"x\":[\"2021-10-23\"],\"y\":[2.49],\"type\":\"scatter\"},{\"hoverinfo\":\"text\",\"marker\":{\"color\":\"red\",\"size\":5,\"symbol\":\"x\"},\"mode\":\"markers\",\"name\":\"L\",\"text\":[\"Result: Loss\\u003cbr\\u003eDate: 2021-10-27\\u003cbr\\u003ePrice: 2.64\"],\"x\":[\"2021-10-27\"],\"y\":[2.64],\"type\":\"scatter\"},{\"hoverinfo\":\"text\",\"marker\":{\"color\":\"green\",\"size\":5,\"symbol\":\"x\"},\"mode\":\"markers\",\"name\":\"W\",\"text\":[\"Result: Win\\u003cbr\\u003eDate: 2021-10-30\\u003cbr\\u003ePrice: 2.29\"],\"x\":[\"2021-10-30\"],\"y\":[2.29],\"type\":\"scatter\"},{\"hoverinfo\":\"text\",\"marker\":{\"color\":\"yellow\",\"size\":5,\"symbol\":\"x\"},\"mode\":\"markers\",\"name\":\"D\",\"text\":[\"Result: Draw\\u003cbr\\u003eDate: 2021-11-07\\u003cbr\\u003ePrice: 2.22\"],\"x\":[\"2021-11-07\"],\"y\":[2.22],\"type\":\"scatter\"},{\"hoverinfo\":\"text\",\"marker\":{\"color\":\"yellow\",\"size\":5,\"symbol\":\"x\"},\"mode\":\"markers\",\"name\":\"D\",\"text\":[\"Result: Draw\\u003cbr\\u003eDate: 2021-11-21\\u003cbr\\u003ePrice: 1.90\"],\"x\":[\"2021-11-21\"],\"y\":[1.9],\"type\":\"scatter\"},{\"hoverinfo\":\"text\",\"marker\":{\"color\":\"yellow\",\"size\":5,\"symbol\":\"x\"},\"mode\":\"markers\",\"name\":\"D\",\"text\":[\"Result: Draw\\u003cbr\\u003eDate: 2021-11-27\\u003cbr\\u003ePrice: 1.82\"],\"x\":[\"2021-11-27\"],\"y\":[1.82],\"type\":\"scatter\"},{\"hoverinfo\":\"text\",\"marker\":{\"color\":\"green\",\"size\":5,\"symbol\":\"x\"},\"mode\":\"markers\",\"name\":\"W\",\"text\":[\"Result: Win\\u003cbr\\u003eDate: 2021-12-05\\u003cbr\\u003ePrice: 1.38\"],\"x\":[\"2021-12-05\"],\"y\":[1.38],\"type\":\"scatter\"},{\"hoverinfo\":\"text\",\"marker\":{\"color\":\"green\",\"size\":5,\"symbol\":\"x\"},\"mode\":\"markers\",\"name\":\"W\",\"text\":[\"Result: Win\\u003cbr\\u003eDate: 2021-12-11\\u003cbr\\u003ePrice: 1.28\"],\"x\":[\"2021-12-11\"],\"y\":[1.28],\"type\":\"scatter\"},{\"hoverinfo\":\"text\",\"marker\":{\"color\":\"green\",\"size\":5,\"symbol\":\"x\"},\"mode\":\"markers\",\"name\":\"W\",\"text\":[\"Result: Win\\u003cbr\\u003eDate: 2021-12-20\\u003cbr\\u003ePrice: 1.28\"],\"x\":[\"2021-12-20\"],\"y\":[1.28],\"type\":\"scatter\"},{\"hoverinfo\":\"text\",\"marker\":{\"color\":\"red\",\"size\":5,\"symbol\":\"x\"},\"mode\":\"markers\",\"name\":\"L\",\"text\":[\"Result: Loss\\u003cbr\\u003eDate: 2021-12-31\\u003cbr\\u003ePrice: 1.89\"],\"x\":[\"2021-12-31\"],\"y\":[1.89],\"type\":\"scatter\"},{\"hoverinfo\":\"text\",\"marker\":{\"color\":\"red\",\"size\":5,\"symbol\":\"x\"},\"mode\":\"markers\",\"name\":\"L\",\"text\":[\"Result: Loss\\u003cbr\\u003eDate: 2022-01-08\\u003cbr\\u003ePrice: 1.42\"],\"x\":[\"2022-01-08\"],\"y\":[1.42],\"type\":\"scatter\"},{\"hoverinfo\":\"text\",\"marker\":{\"color\":\"yellow\",\"size\":5,\"symbol\":\"x\"},\"mode\":\"markers\",\"name\":\"D\",\"text\":[\"Result: Draw\\u003cbr\\u003eDate: 2022-01-19\\u003cbr\\u003ePrice: 1.32\"],\"x\":[\"2022-01-19\"],\"y\":[1.32],\"type\":\"scatter\"},{\"hoverinfo\":\"text\",\"marker\":{\"color\":\"red\",\"size\":5,\"symbol\":\"x\"},\"mode\":\"markers\",\"name\":\"L\",\"text\":[\"Result: Loss\\u003cbr\\u003eDate: 2022-01-22\\u003cbr\\u003ePrice: 1.09\"],\"x\":[\"2022-01-22\"],\"y\":[1.09],\"type\":\"scatter\"},{\"hoverinfo\":\"text\",\"marker\":{\"color\":\"yellow\",\"size\":5,\"symbol\":\"x\"},\"mode\":\"markers\",\"name\":\"D\",\"text\":[\"Result: Draw\\u003cbr\\u003eDate: 2022-02-06\\u003cbr\\u003ePrice: 1.08\"],\"x\":[\"2022-02-06\"],\"y\":[1.08],\"type\":\"scatter\"},{\"hoverinfo\":\"text\",\"marker\":{\"color\":\"red\",\"size\":5,\"symbol\":\"x\"},\"mode\":\"markers\",\"name\":\"L\",\"text\":[\"Result: Loss\\u003cbr\\u003eDate: 2022-02-13\\u003cbr\\u003ePrice: 1.04\"],\"x\":[\"2022-02-13\"],\"y\":[1.04],\"type\":\"scatter\"},{\"hoverinfo\":\"text\",\"marker\":{\"color\":\"red\",\"size\":5,\"symbol\":\"x\"},\"mode\":\"markers\",\"name\":\"L\",\"text\":[\"Result: Loss\\u003cbr\\u003eDate: 2022-02-20\\u003cbr\\u003ePrice: 0.99\"],\"x\":[\"2022-02-20\"],\"y\":[0.99],\"type\":\"scatter\"},{\"hoverinfo\":\"text\",\"marker\":{\"color\":\"green\",\"size\":5,\"symbol\":\"x\"},\"mode\":\"markers\",\"name\":\"W\",\"text\":[\"Result: Win\\u003cbr\\u003eDate: 2022-02-26\\u003cbr\\u003ePrice: 0.89\"],\"x\":[\"2022-02-26\"],\"y\":[0.89],\"type\":\"scatter\"},{\"hoverinfo\":\"text\",\"marker\":{\"color\":\"green\",\"size\":5,\"symbol\":\"x\"},\"mode\":\"markers\",\"name\":\"W\",\"text\":[\"Result: Win\\u003cbr\\u003eDate: 2022-03-05\\u003cbr\\u003ePrice: 1.02\"],\"x\":[\"2022-03-05\"],\"y\":[1.02],\"type\":\"scatter\"},{\"hoverinfo\":\"text\",\"marker\":{\"color\":\"yellow\",\"size\":5,\"symbol\":\"x\"},\"mode\":\"markers\",\"name\":\"D\",\"text\":[\"Result: Draw\\u003cbr\\u003eDate: 2022-03-12\\u003cbr\\u003ePrice: 0.99\"],\"x\":[\"2022-03-12\"],\"y\":[0.99],\"type\":\"scatter\"},{\"hoverinfo\":\"text\",\"marker\":{\"color\":\"green\",\"size\":5,\"symbol\":\"x\"},\"mode\":\"markers\",\"name\":\"W\",\"text\":[\"Result: Win\\u003cbr\\u003eDate: 2022-03-19\\u003cbr\\u003ePrice: 1.07\"],\"x\":[\"2022-03-19\"],\"y\":[1.07],\"type\":\"scatter\"},{\"hoverinfo\":\"text\",\"marker\":{\"color\":\"yellow\",\"size\":5,\"symbol\":\"x\"},\"mode\":\"markers\",\"name\":\"D\",\"text\":[\"Result: Draw\\u003cbr\\u003eDate: 2022-04-03\\u003cbr\\u003ePrice: 2.05\"],\"x\":[\"2022-04-03\"],\"y\":[2.05],\"type\":\"scatter\"},{\"hoverinfo\":\"text\",\"marker\":{\"color\":\"yellow\",\"size\":5,\"symbol\":\"x\"},\"mode\":\"markers\",\"name\":\"D\",\"text\":[\"Result: Draw\\u003cbr\\u003eDate: 2022-04-11\\u003cbr\\u003ePrice: 4.28\"],\"x\":[\"2022-04-11\"],\"y\":[4.28],\"type\":\"scatter\"},{\"hoverinfo\":\"text\",\"marker\":{\"color\":\"red\",\"size\":5,\"symbol\":\"x\"},\"mode\":\"markers\",\"name\":\"L\",\"text\":[\"Result: Loss\\u003cbr\\u003eDate: 2022-04-16\\u003cbr\\u003ePrice: 3.13\"],\"x\":[\"2022-04-16\"],\"y\":[3.13],\"type\":\"scatter\"},{\"hoverinfo\":\"text\",\"marker\":{\"color\":\"red\",\"size\":5,\"symbol\":\"x\"},\"mode\":\"markers\",\"name\":\"L\",\"text\":[\"Result: Loss\\u003cbr\\u003eDate: 2022-04-19\\u003cbr\\u003ePrice: 2.97\"],\"x\":[\"2022-04-19\"],\"y\":[2.97],\"type\":\"scatter\"},{\"hoverinfo\":\"text\",\"marker\":{\"color\":\"yellow\",\"size\":5,\"symbol\":\"x\"},\"mode\":\"markers\",\"name\":\"D\",\"text\":[\"Result: Draw\\u003cbr\\u003eDate: 2022-04-30\\u003cbr\\u003ePrice: 2.05\"],\"x\":[\"2022-04-30\"],\"y\":[2.05],\"type\":\"scatter\"},{\"hoverinfo\":\"text\",\"marker\":{\"color\":\"yellow\",\"size\":5,\"symbol\":\"x\"},\"mode\":\"markers\",\"name\":\"D\",\"text\":[\"Result: Draw\\u003cbr\\u003eDate: 2022-05-07\\u003cbr\\u003ePrice: 1.78\"],\"x\":[\"2022-05-07\"],\"y\":[1.78],\"type\":\"scatter\"},{\"hoverinfo\":\"text\",\"marker\":{\"color\":\"red\",\"size\":5,\"symbol\":\"x\"},\"mode\":\"markers\",\"name\":\"L\",\"text\":[\"Result: Loss\\u003cbr\\u003eDate: 2022-05-10\\u003cbr\\u003ePrice: 1.50\"],\"x\":[\"2022-05-10\"],\"y\":[1.5],\"type\":\"scatter\"},{\"hoverinfo\":\"text\",\"marker\":{\"color\":\"yellow\",\"size\":5,\"symbol\":\"x\"},\"mode\":\"markers\",\"name\":\"D\",\"text\":[\"Result: Draw\\u003cbr\\u003eDate: 2022-05-14\\u003cbr\\u003ePrice: 1.17\"],\"x\":[\"2022-05-14\"],\"y\":[1.17],\"type\":\"scatter\"},{\"hoverinfo\":\"text\",\"marker\":{\"color\":\"green\",\"size\":5,\"symbol\":\"x\"},\"mode\":\"markers\",\"name\":\"W\",\"text\":[\"Result: Win\\u003cbr\\u003eDate: 2022-05-21\\u003cbr\\u003ePrice: 1.26\"],\"x\":[\"2022-05-21\"],\"y\":[1.26],\"type\":\"scatter\"},{\"hoverinfo\":\"text\",\"marker\":{\"color\":\"green\",\"size\":5,\"symbol\":\"x\"},\"mode\":\"markers\",\"name\":\"W\",\"text\":[\"Result: Win\\u003cbr\\u003eDate: 2022-08-14\\u003cbr\\u003ePrice: 1.43\"],\"x\":[\"2022-08-14\"],\"y\":[1.43],\"type\":\"scatter\"},{\"hoverinfo\":\"text\",\"marker\":{\"color\":\"red\",\"size\":5,\"symbol\":\"x\"},\"mode\":\"markers\",\"name\":\"L\",\"text\":[\"Result: Loss\\u003cbr\\u003eDate: 2022-08-21\\u003cbr\\u003ePrice: 1.36\"],\"x\":[\"2022-08-21\"],\"y\":[1.36],\"type\":\"scatter\"},{\"hoverinfo\":\"text\",\"marker\":{\"color\":\"red\",\"size\":5,\"symbol\":\"x\"},\"mode\":\"markers\",\"name\":\"L\",\"text\":[\"Result: Loss\\u003cbr\\u003eDate: 2022-08-29\\u003cbr\\u003ePrice: 1.32\"],\"x\":[\"2022-08-29\"],\"y\":[1.32],\"type\":\"scatter\"},{\"hoverinfo\":\"text\",\"marker\":{\"color\":\"green\",\"size\":5,\"symbol\":\"x\"},\"mode\":\"markers\",\"name\":\"W\",\"text\":[\"Result: Win\\u003cbr\\u003eDate: 2022-09-04\\u003cbr\\u003ePrice: 1.37\"],\"x\":[\"2022-09-04\"],\"y\":[1.37],\"type\":\"scatter\"},{\"hoverinfo\":\"text\",\"marker\":{\"color\":\"red\",\"size\":5,\"symbol\":\"x\"},\"mode\":\"markers\",\"name\":\"L\",\"text\":[\"Result: Loss\\u003cbr\\u003eDate: 2022-09-10\\u003cbr\\u003ePrice: 1.30\"],\"x\":[\"2022-09-10\"],\"y\":[1.3],\"type\":\"scatter\"},{\"hoverinfo\":\"text\",\"marker\":{\"color\":\"green\",\"size\":5,\"symbol\":\"x\"},\"mode\":\"markers\",\"name\":\"W\",\"text\":[\"Result: Win\\u003cbr\\u003eDate: 2022-09-17\\u003cbr\\u003ePrice: 1.23\"],\"x\":[\"2022-09-17\"],\"y\":[1.23],\"type\":\"scatter\"},{\"hoverinfo\":\"text\",\"marker\":{\"color\":\"yellow\",\"size\":5,\"symbol\":\"x\"},\"mode\":\"markers\",\"name\":\"D\",\"text\":[\"Result: Draw\\u003cbr\\u003eDate: 2022-10-02\\u003cbr\\u003ePrice: 1.17\"],\"x\":[\"2022-10-02\"],\"y\":[1.17],\"type\":\"scatter\"},{\"hoverinfo\":\"text\",\"marker\":{\"color\":\"green\",\"size\":5,\"symbol\":\"x\"},\"mode\":\"markers\",\"name\":\"W\",\"text\":[\"Result: Win\\u003cbr\\u003eDate: 2022-10-07\\u003cbr\\u003ePrice: 1.14\"],\"x\":[\"2022-10-07\"],\"y\":[1.14],\"type\":\"scatter\"},{\"hoverinfo\":\"text\",\"marker\":{\"color\":\"yellow\",\"size\":5,\"symbol\":\"x\"},\"mode\":\"markers\",\"name\":\"D\",\"text\":[\"Result: Draw\\u003cbr\\u003eDate: 2022-10-15\\u003cbr\\u003ePrice: 1.06\"],\"x\":[\"2022-10-15\"],\"y\":[1.06],\"type\":\"scatter\"},{\"hoverinfo\":\"text\",\"marker\":{\"color\":\"yellow\",\"size\":5,\"symbol\":\"x\"},\"mode\":\"markers\",\"name\":\"D\",\"text\":[\"Result: Draw\\u003cbr\\u003eDate: 2022-10-18\\u003cbr\\u003ePrice: 1.07\"],\"x\":[\"2022-10-18\"],\"y\":[1.07],\"type\":\"scatter\"},{\"hoverinfo\":\"text\",\"marker\":{\"color\":\"red\",\"size\":5,\"symbol\":\"x\"},\"mode\":\"markers\",\"name\":\"L\",\"text\":[\"Result: Loss\\u003cbr\\u003eDate: 2022-10-22\\u003cbr\\u003ePrice: 1.00\"],\"x\":[\"2022-10-22\"],\"y\":[1.0],\"type\":\"scatter\"},{\"hoverinfo\":\"text\",\"marker\":{\"color\":\"red\",\"size\":5,\"symbol\":\"x\"},\"mode\":\"markers\",\"name\":\"L\",\"text\":[\"Result: Loss\\u003cbr\\u003eDate: 2022-10-29\\u003cbr\\u003ePrice: 1.03\"],\"x\":[\"2022-10-29\"],\"y\":[1.03],\"type\":\"scatter\"},{\"hoverinfo\":\"text\",\"marker\":{\"color\":\"yellow\",\"size\":5,\"symbol\":\"x\"},\"mode\":\"markers\",\"name\":\"D\",\"text\":[\"Result: Draw\\u003cbr\\u003eDate: 2022-11-06\\u003cbr\\u003ePrice: 1.06\"],\"x\":[\"2022-11-06\"],\"y\":[1.06],\"type\":\"scatter\"},{\"hoverinfo\":\"text\",\"marker\":{\"color\":\"green\",\"size\":5,\"symbol\":\"x\"},\"mode\":\"markers\",\"name\":\"W\",\"text\":[\"Result: Win\\u003cbr\\u003eDate: 2022-11-10\\u003cbr\\u003ePrice: 0.70\"],\"x\":[\"2022-11-10\"],\"y\":[0.7],\"type\":\"scatter\"},{\"hoverinfo\":\"text\",\"marker\":{\"color\":\"red\",\"size\":5,\"symbol\":\"x\"},\"mode\":\"markers\",\"name\":\"L\",\"text\":[\"Result: Loss\\u003cbr\\u003eDate: 2022-12-31\\u003cbr\\u003ePrice: 0.74\"],\"x\":[\"2022-12-31\"],\"y\":[0.74],\"type\":\"scatter\"},{\"hoverinfo\":\"text\",\"marker\":{\"color\":\"red\",\"size\":5,\"symbol\":\"x\"},\"mode\":\"markers\",\"name\":\"L\",\"text\":[\"Result: Loss\\u003cbr\\u003eDate: 2023-01-06\\u003cbr\\u003ePrice: 0.83\"],\"x\":[\"2023-01-06\"],\"y\":[0.83],\"type\":\"scatter\"},{\"hoverinfo\":\"text\",\"marker\":{\"color\":\"yellow\",\"size\":5,\"symbol\":\"x\"},\"mode\":\"markers\",\"name\":\"D\",\"text\":[\"Result: Draw\\u003cbr\\u003eDate: 2023-01-23\\u003cbr\\u003ePrice: 0.94\"],\"x\":[\"2023-01-23\"],\"y\":[0.94],\"type\":\"scatter\"},{\"hoverinfo\":\"text\",\"marker\":{\"color\":\"red\",\"size\":5,\"symbol\":\"x\"},\"mode\":\"markers\",\"name\":\"L\",\"text\":[\"Result: Loss\\u003cbr\\u003eDate: 2023-01-29\\u003cbr\\u003ePrice: 0.92\"],\"x\":[\"2023-01-29\"],\"y\":[0.92],\"type\":\"scatter\"},{\"hoverinfo\":\"text\",\"marker\":{\"color\":\"red\",\"size\":5,\"symbol\":\"x\"},\"mode\":\"markers\",\"name\":\"L\",\"text\":[\"Result: Loss\\u003cbr\\u003eDate: 2023-02-02\\u003cbr\\u003ePrice: 0.91\"],\"x\":[\"2023-02-02\"],\"y\":[0.91],\"type\":\"scatter\"},{\"hoverinfo\":\"text\",\"marker\":{\"color\":\"red\",\"size\":5,\"symbol\":\"x\"},\"mode\":\"markers\",\"name\":\"L\",\"text\":[\"Result: Loss\\u003cbr\\u003eDate: 2023-02-05\\u003cbr\\u003ePrice: 0.91\"],\"x\":[\"2023-02-05\"],\"y\":[0.91],\"type\":\"scatter\"},{\"hoverinfo\":\"text\",\"marker\":{\"color\":\"red\",\"size\":5,\"symbol\":\"x\"},\"mode\":\"markers\",\"name\":\"L\",\"text\":[\"Result: Loss\\u003cbr\\u003eDate: 2023-02-11\\u003cbr\\u003ePrice: 0.96\"],\"x\":[\"2023-02-11\"],\"y\":[0.96],\"type\":\"scatter\"},{\"hoverinfo\":\"text\",\"marker\":{\"color\":\"red\",\"size\":5,\"symbol\":\"x\"},\"mode\":\"markers\",\"name\":\"L\",\"text\":[\"Result: Loss\\u003cbr\\u003eDate: 2023-02-20\\u003cbr\\u003ePrice: 1.02\"],\"x\":[\"2023-02-20\"],\"y\":[1.02],\"type\":\"scatter\"},{\"hoverinfo\":\"text\",\"marker\":{\"color\":\"green\",\"size\":5,\"symbol\":\"x\"},\"mode\":\"markers\",\"name\":\"W\",\"text\":[\"Result: Win\\u003cbr\\u003eDate: 2023-02-25\\u003cbr\\u003ePrice: 0.95\"],\"x\":[\"2023-02-25\"],\"y\":[0.95],\"type\":\"scatter\"},{\"hoverinfo\":\"text\",\"marker\":{\"color\":\"red\",\"size\":5,\"symbol\":\"x\"},\"mode\":\"markers\",\"name\":\"L\",\"text\":[\"Result: Loss\\u003cbr\\u003eDate: 2023-03-05\\u003cbr\\u003ePrice: 0.94\"],\"x\":[\"2023-03-05\"],\"y\":[0.94],\"type\":\"scatter\"},{\"hoverinfo\":\"text\",\"marker\":{\"color\":\"green\",\"size\":5,\"symbol\":\"x\"},\"mode\":\"markers\",\"name\":\"W\",\"text\":[\"Result: Win\\u003cbr\\u003eDate: 2023-03-11\\u003cbr\\u003ePrice: 0.90\"],\"x\":[\"2023-03-11\"],\"y\":[0.9],\"type\":\"scatter\"},{\"hoverinfo\":\"text\",\"marker\":{\"color\":\"red\",\"size\":5,\"symbol\":\"x\"},\"mode\":\"markers\",\"name\":\"L\",\"text\":[\"Result: Loss\\u003cbr\\u003eDate: 2023-03-18\\u003cbr\\u003ePrice: 0.91\"],\"x\":[\"2023-03-18\"],\"y\":[0.91],\"type\":\"scatter\"},{\"hoverinfo\":\"text\",\"marker\":{\"color\":\"yellow\",\"size\":5,\"symbol\":\"x\"},\"mode\":\"markers\",\"name\":\"D\",\"text\":[\"Result: Draw\\u003cbr\\u003eDate: 2023-04-03\\u003cbr\\u003ePrice: 0.86\"],\"x\":[\"2023-04-03\"],\"y\":[0.86],\"type\":\"scatter\"},{\"hoverinfo\":\"text\",\"marker\":{\"color\":\"red\",\"size\":5,\"symbol\":\"x\"},\"mode\":\"markers\",\"name\":\"L\",\"text\":[\"Result: Loss\\u003cbr\\u003eDate: 2023-04-09\\u003cbr\\u003ePrice: 0.90\"],\"x\":[\"2023-04-09\"],\"y\":[0.9],\"type\":\"scatter\"},{\"hoverinfo\":\"text\",\"marker\":{\"color\":\"red\",\"size\":5,\"symbol\":\"x\"},\"mode\":\"markers\",\"name\":\"L\",\"text\":[\"Result: Loss\\u003cbr\\u003eDate: 2023-04-16\\u003cbr\\u003ePrice: 0.97\"],\"x\":[\"2023-04-16\"],\"y\":[0.97],\"type\":\"scatter\"},{\"hoverinfo\":\"text\",\"marker\":{\"color\":\"green\",\"size\":5,\"symbol\":\"x\"},\"mode\":\"markers\",\"name\":\"W\",\"text\":[\"Result: Win\\u003cbr\\u003eDate: 2023-04-23\\u003cbr\\u003ePrice: 0.93\"],\"x\":[\"2023-04-23\"],\"y\":[0.93],\"type\":\"scatter\"},{\"hoverinfo\":\"text\",\"marker\":{\"color\":\"green\",\"size\":5,\"symbol\":\"x\"},\"mode\":\"markers\",\"name\":\"W\",\"text\":[\"Result: Win\\u003cbr\\u003eDate: 2023-04-27\\u003cbr\\u003ePrice: 0.91\"],\"x\":[\"2023-04-27\"],\"y\":[0.91],\"type\":\"scatter\"},{\"hoverinfo\":\"text\",\"marker\":{\"color\":\"red\",\"size\":5,\"symbol\":\"x\"},\"mode\":\"markers\",\"name\":\"L\",\"text\":[\"Result: Loss\\u003cbr\\u003eDate: 2023-04-30\\u003cbr\\u003ePrice: 0.91\"],\"x\":[\"2023-04-30\"],\"y\":[0.91],\"type\":\"scatter\"},{\"hoverinfo\":\"text\",\"marker\":{\"color\":\"yellow\",\"size\":5,\"symbol\":\"x\"},\"mode\":\"markers\",\"name\":\"D\",\"text\":[\"Result: Draw\\u003cbr\\u003eDate: 2023-05-03\\u003cbr\\u003ePrice: 0.88\"],\"x\":[\"2023-05-03\"],\"y\":[0.88],\"type\":\"scatter\"},{\"hoverinfo\":\"text\",\"marker\":{\"color\":\"green\",\"size\":5,\"symbol\":\"x\"},\"mode\":\"markers\",\"name\":\"W\",\"text\":[\"Result: Win\\u003cbr\\u003eDate: 2023-05-14\\u003cbr\\u003ePrice: 0.79\"],\"x\":[\"2023-05-14\"],\"y\":[0.79],\"type\":\"scatter\"},{\"hoverinfo\":\"text\",\"marker\":{\"color\":\"green\",\"size\":5,\"symbol\":\"x\"},\"mode\":\"markers\",\"name\":\"W\",\"text\":[\"Result: Win\\u003cbr\\u003eDate: 2023-05-21\\u003cbr\\u003ePrice: 0.80\"],\"x\":[\"2023-05-21\"],\"y\":[0.8],\"type\":\"scatter\"},{\"hoverinfo\":\"text\",\"marker\":{\"color\":\"red\",\"size\":5,\"symbol\":\"x\"},\"mode\":\"markers\",\"name\":\"L\",\"text\":[\"Result: Loss\\u003cbr\\u003eDate: 2023-05-25\\u003cbr\\u003ePrice: 0.76\"],\"x\":[\"2023-05-25\"],\"y\":[0.76],\"type\":\"scatter\"},{\"hoverinfo\":\"text\",\"marker\":{\"color\":\"yellow\",\"size\":5,\"symbol\":\"x\"},\"mode\":\"markers\",\"name\":\"D\",\"text\":[\"Result: Draw\\u003cbr\\u003eDate: 2023-05-28\\u003cbr\\u003ePrice: 0.73\"],\"x\":[\"2023-05-28\"],\"y\":[0.73],\"type\":\"scatter\"},{\"hoverinfo\":\"text\",\"marker\":{\"color\":\"yellow\",\"size\":5,\"symbol\":\"x\"},\"mode\":\"markers\",\"name\":\"D\",\"text\":[\"Result: Draw\\u003cbr\\u003eDate: 2023-06-04\\u003cbr\\u003ePrice: 0.70\"],\"x\":[\"2023-06-04\"],\"y\":[0.7],\"type\":\"scatter\"},{\"hoverinfo\":\"text\",\"marker\":{\"color\":\"green\",\"size\":5,\"symbol\":\"x\"},\"mode\":\"markers\",\"name\":\"W\",\"text\":[\"Result: Win\\u003cbr\\u003eDate: 2023-08-11\\u003cbr\\u003ePrice: 0.79\"],\"x\":[\"2023-08-11\"],\"y\":[0.79],\"type\":\"scatter\"},{\"hoverinfo\":\"text\",\"marker\":{\"color\":\"green\",\"size\":5,\"symbol\":\"x\"},\"mode\":\"markers\",\"name\":\"W\",\"text\":[\"Result: Win\\u003cbr\\u003eDate: 2023-08-18\\u003cbr\\u003ePrice: 0.75\"],\"x\":[\"2023-08-18\"],\"y\":[0.75],\"type\":\"scatter\"},{\"hoverinfo\":\"text\",\"marker\":{\"color\":\"red\",\"size\":5,\"symbol\":\"x\"},\"mode\":\"markers\",\"name\":\"L\",\"text\":[\"Result: Loss\\u003cbr\\u003eDate: 2023-08-27\\u003cbr\\u003ePrice: 0.77\"],\"x\":[\"2023-08-27\"],\"y\":[0.77],\"type\":\"scatter\"},{\"hoverinfo\":\"text\",\"marker\":{\"color\":\"red\",\"size\":5,\"symbol\":\"x\"},\"mode\":\"markers\",\"name\":\"L\",\"text\":[\"Result: Loss\\u003cbr\\u003eDate: 2023-09-02\\u003cbr\\u003ePrice: 0.72\"],\"x\":[\"2023-09-02\"],\"y\":[0.72],\"type\":\"scatter\"},{\"hoverinfo\":\"text\",\"marker\":{\"color\":\"green\",\"size\":5,\"symbol\":\"x\"},\"mode\":\"markers\",\"name\":\"W\",\"text\":[\"Result: Win\\u003cbr\\u003eDate: 2023-09-16\\u003cbr\\u003ePrice: 0.65\"],\"x\":[\"2023-09-16\"],\"y\":[0.65],\"type\":\"scatter\"},{\"hoverinfo\":\"text\",\"marker\":{\"color\":\"yellow\",\"size\":5,\"symbol\":\"x\"},\"mode\":\"markers\",\"name\":\"D\",\"text\":[\"Result: Draw\\u003cbr\\u003eDate: 2023-09-23\\u003cbr\\u003ePrice: 0.65\"],\"x\":[\"2023-09-23\"],\"y\":[0.65],\"type\":\"scatter\"},{\"hoverinfo\":\"text\",\"marker\":{\"color\":\"red\",\"size\":5,\"symbol\":\"x\"},\"mode\":\"markers\",\"name\":\"L\",\"text\":[\"Result: Loss\\u003cbr\\u003eDate: 2023-09-27\\u003cbr\\u003ePrice: 0.65\"],\"x\":[\"2023-09-27\"],\"y\":[0.65],\"type\":\"scatter\"},{\"hoverinfo\":\"text\",\"marker\":{\"color\":\"red\",\"size\":5,\"symbol\":\"x\"},\"mode\":\"markers\",\"name\":\"L\",\"text\":[\"Result: Loss\\u003cbr\\u003eDate: 2023-10-01\\u003cbr\\u003ePrice: 0.65\"],\"x\":[\"2023-10-01\"],\"y\":[0.65],\"type\":\"scatter\"}],                        {\"template\":{\"data\":{\"histogram2dcontour\":[{\"type\":\"histogram2dcontour\",\"colorbar\":{\"outlinewidth\":0,\"ticks\":\"\"},\"colorscale\":[[0.0,\"#0d0887\"],[0.1111111111111111,\"#46039f\"],[0.2222222222222222,\"#7201a8\"],[0.3333333333333333,\"#9c179e\"],[0.4444444444444444,\"#bd3786\"],[0.5555555555555556,\"#d8576b\"],[0.6666666666666666,\"#ed7953\"],[0.7777777777777778,\"#fb9f3a\"],[0.8888888888888888,\"#fdca26\"],[1.0,\"#f0f921\"]]}],\"choropleth\":[{\"type\":\"choropleth\",\"colorbar\":{\"outlinewidth\":0,\"ticks\":\"\"}}],\"histogram2d\":[{\"type\":\"histogram2d\",\"colorbar\":{\"outlinewidth\":0,\"ticks\":\"\"},\"colorscale\":[[0.0,\"#0d0887\"],[0.1111111111111111,\"#46039f\"],[0.2222222222222222,\"#7201a8\"],[0.3333333333333333,\"#9c179e\"],[0.4444444444444444,\"#bd3786\"],[0.5555555555555556,\"#d8576b\"],[0.6666666666666666,\"#ed7953\"],[0.7777777777777778,\"#fb9f3a\"],[0.8888888888888888,\"#fdca26\"],[1.0,\"#f0f921\"]]}],\"heatmap\":[{\"type\":\"heatmap\",\"colorbar\":{\"outlinewidth\":0,\"ticks\":\"\"},\"colorscale\":[[0.0,\"#0d0887\"],[0.1111111111111111,\"#46039f\"],[0.2222222222222222,\"#7201a8\"],[0.3333333333333333,\"#9c179e\"],[0.4444444444444444,\"#bd3786\"],[0.5555555555555556,\"#d8576b\"],[0.6666666666666666,\"#ed7953\"],[0.7777777777777778,\"#fb9f3a\"],[0.8888888888888888,\"#fdca26\"],[1.0,\"#f0f921\"]]}],\"heatmapgl\":[{\"type\":\"heatmapgl\",\"colorbar\":{\"outlinewidth\":0,\"ticks\":\"\"},\"colorscale\":[[0.0,\"#0d0887\"],[0.1111111111111111,\"#46039f\"],[0.2222222222222222,\"#7201a8\"],[0.3333333333333333,\"#9c179e\"],[0.4444444444444444,\"#bd3786\"],[0.5555555555555556,\"#d8576b\"],[0.6666666666666666,\"#ed7953\"],[0.7777777777777778,\"#fb9f3a\"],[0.8888888888888888,\"#fdca26\"],[1.0,\"#f0f921\"]]}],\"contourcarpet\":[{\"type\":\"contourcarpet\",\"colorbar\":{\"outlinewidth\":0,\"ticks\":\"\"}}],\"contour\":[{\"type\":\"contour\",\"colorbar\":{\"outlinewidth\":0,\"ticks\":\"\"},\"colorscale\":[[0.0,\"#0d0887\"],[0.1111111111111111,\"#46039f\"],[0.2222222222222222,\"#7201a8\"],[0.3333333333333333,\"#9c179e\"],[0.4444444444444444,\"#bd3786\"],[0.5555555555555556,\"#d8576b\"],[0.6666666666666666,\"#ed7953\"],[0.7777777777777778,\"#fb9f3a\"],[0.8888888888888888,\"#fdca26\"],[1.0,\"#f0f921\"]]}],\"surface\":[{\"type\":\"surface\",\"colorbar\":{\"outlinewidth\":0,\"ticks\":\"\"},\"colorscale\":[[0.0,\"#0d0887\"],[0.1111111111111111,\"#46039f\"],[0.2222222222222222,\"#7201a8\"],[0.3333333333333333,\"#9c179e\"],[0.4444444444444444,\"#bd3786\"],[0.5555555555555556,\"#d8576b\"],[0.6666666666666666,\"#ed7953\"],[0.7777777777777778,\"#fb9f3a\"],[0.8888888888888888,\"#fdca26\"],[1.0,\"#f0f921\"]]}],\"mesh3d\":[{\"type\":\"mesh3d\",\"colorbar\":{\"outlinewidth\":0,\"ticks\":\"\"}}],\"scatter\":[{\"fillpattern\":{\"fillmode\":\"overlay\",\"size\":10,\"solidity\":0.2},\"type\":\"scatter\"}],\"parcoords\":[{\"type\":\"parcoords\",\"line\":{\"colorbar\":{\"outlinewidth\":0,\"ticks\":\"\"}}}],\"scatterpolargl\":[{\"type\":\"scatterpolargl\",\"marker\":{\"colorbar\":{\"outlinewidth\":0,\"ticks\":\"\"}}}],\"bar\":[{\"error_x\":{\"color\":\"#2a3f5f\"},\"error_y\":{\"color\":\"#2a3f5f\"},\"marker\":{\"line\":{\"color\":\"#E5ECF6\",\"width\":0.5},\"pattern\":{\"fillmode\":\"overlay\",\"size\":10,\"solidity\":0.2}},\"type\":\"bar\"}],\"scattergeo\":[{\"type\":\"scattergeo\",\"marker\":{\"colorbar\":{\"outlinewidth\":0,\"ticks\":\"\"}}}],\"scatterpolar\":[{\"type\":\"scatterpolar\",\"marker\":{\"colorbar\":{\"outlinewidth\":0,\"ticks\":\"\"}}}],\"histogram\":[{\"marker\":{\"pattern\":{\"fillmode\":\"overlay\",\"size\":10,\"solidity\":0.2}},\"type\":\"histogram\"}],\"scattergl\":[{\"type\":\"scattergl\",\"marker\":{\"colorbar\":{\"outlinewidth\":0,\"ticks\":\"\"}}}],\"scatter3d\":[{\"type\":\"scatter3d\",\"line\":{\"colorbar\":{\"outlinewidth\":0,\"ticks\":\"\"}},\"marker\":{\"colorbar\":{\"outlinewidth\":0,\"ticks\":\"\"}}}],\"scattermapbox\":[{\"type\":\"scattermapbox\",\"marker\":{\"colorbar\":{\"outlinewidth\":0,\"ticks\":\"\"}}}],\"scatterternary\":[{\"type\":\"scatterternary\",\"marker\":{\"colorbar\":{\"outlinewidth\":0,\"ticks\":\"\"}}}],\"scattercarpet\":[{\"type\":\"scattercarpet\",\"marker\":{\"colorbar\":{\"outlinewidth\":0,\"ticks\":\"\"}}}],\"carpet\":[{\"aaxis\":{\"endlinecolor\":\"#2a3f5f\",\"gridcolor\":\"white\",\"linecolor\":\"white\",\"minorgridcolor\":\"white\",\"startlinecolor\":\"#2a3f5f\"},\"baxis\":{\"endlinecolor\":\"#2a3f5f\",\"gridcolor\":\"white\",\"linecolor\":\"white\",\"minorgridcolor\":\"white\",\"startlinecolor\":\"#2a3f5f\"},\"type\":\"carpet\"}],\"table\":[{\"cells\":{\"fill\":{\"color\":\"#EBF0F8\"},\"line\":{\"color\":\"white\"}},\"header\":{\"fill\":{\"color\":\"#C8D4E3\"},\"line\":{\"color\":\"white\"}},\"type\":\"table\"}],\"barpolar\":[{\"marker\":{\"line\":{\"color\":\"#E5ECF6\",\"width\":0.5},\"pattern\":{\"fillmode\":\"overlay\",\"size\":10,\"solidity\":0.2}},\"type\":\"barpolar\"}],\"pie\":[{\"automargin\":true,\"type\":\"pie\"}]},\"layout\":{\"autotypenumbers\":\"strict\",\"colorway\":[\"#636efa\",\"#EF553B\",\"#00cc96\",\"#ab63fa\",\"#FFA15A\",\"#19d3f3\",\"#FF6692\",\"#B6E880\",\"#FF97FF\",\"#FECB52\"],\"font\":{\"color\":\"#2a3f5f\"},\"hovermode\":\"closest\",\"hoverlabel\":{\"align\":\"left\"},\"paper_bgcolor\":\"white\",\"plot_bgcolor\":\"#E5ECF6\",\"polar\":{\"bgcolor\":\"#E5ECF6\",\"angularaxis\":{\"gridcolor\":\"white\",\"linecolor\":\"white\",\"ticks\":\"\"},\"radialaxis\":{\"gridcolor\":\"white\",\"linecolor\":\"white\",\"ticks\":\"\"}},\"ternary\":{\"bgcolor\":\"#E5ECF6\",\"aaxis\":{\"gridcolor\":\"white\",\"linecolor\":\"white\",\"ticks\":\"\"},\"baxis\":{\"gridcolor\":\"white\",\"linecolor\":\"white\",\"ticks\":\"\"},\"caxis\":{\"gridcolor\":\"white\",\"linecolor\":\"white\",\"ticks\":\"\"}},\"coloraxis\":{\"colorbar\":{\"outlinewidth\":0,\"ticks\":\"\"}},\"colorscale\":{\"sequential\":[[0.0,\"#0d0887\"],[0.1111111111111111,\"#46039f\"],[0.2222222222222222,\"#7201a8\"],[0.3333333333333333,\"#9c179e\"],[0.4444444444444444,\"#bd3786\"],[0.5555555555555556,\"#d8576b\"],[0.6666666666666666,\"#ed7953\"],[0.7777777777777778,\"#fb9f3a\"],[0.8888888888888888,\"#fdca26\"],[1.0,\"#f0f921\"]],\"sequentialminus\":[[0.0,\"#0d0887\"],[0.1111111111111111,\"#46039f\"],[0.2222222222222222,\"#7201a8\"],[0.3333333333333333,\"#9c179e\"],[0.4444444444444444,\"#bd3786\"],[0.5555555555555556,\"#d8576b\"],[0.6666666666666666,\"#ed7953\"],[0.7777777777777778,\"#fb9f3a\"],[0.8888888888888888,\"#fdca26\"],[1.0,\"#f0f921\"]],\"diverging\":[[0,\"#8e0152\"],[0.1,\"#c51b7d\"],[0.2,\"#de77ae\"],[0.3,\"#f1b6da\"],[0.4,\"#fde0ef\"],[0.5,\"#f7f7f7\"],[0.6,\"#e6f5d0\"],[0.7,\"#b8e186\"],[0.8,\"#7fbc41\"],[0.9,\"#4d9221\"],[1,\"#276419\"]]},\"xaxis\":{\"gridcolor\":\"white\",\"linecolor\":\"white\",\"ticks\":\"\",\"title\":{\"standoff\":15},\"zerolinecolor\":\"white\",\"automargin\":true,\"zerolinewidth\":2},\"yaxis\":{\"gridcolor\":\"white\",\"linecolor\":\"white\",\"ticks\":\"\",\"title\":{\"standoff\":15},\"zerolinecolor\":\"white\",\"automargin\":true,\"zerolinewidth\":2},\"scene\":{\"xaxis\":{\"backgroundcolor\":\"#E5ECF6\",\"gridcolor\":\"white\",\"linecolor\":\"white\",\"showbackground\":true,\"ticks\":\"\",\"zerolinecolor\":\"white\",\"gridwidth\":2},\"yaxis\":{\"backgroundcolor\":\"#E5ECF6\",\"gridcolor\":\"white\",\"linecolor\":\"white\",\"showbackground\":true,\"ticks\":\"\",\"zerolinecolor\":\"white\",\"gridwidth\":2},\"zaxis\":{\"backgroundcolor\":\"#E5ECF6\",\"gridcolor\":\"white\",\"linecolor\":\"white\",\"showbackground\":true,\"ticks\":\"\",\"zerolinecolor\":\"white\",\"gridwidth\":2}},\"shapedefaults\":{\"line\":{\"color\":\"#2a3f5f\"}},\"annotationdefaults\":{\"arrowcolor\":\"#2a3f5f\",\"arrowhead\":0,\"arrowwidth\":1},\"geo\":{\"bgcolor\":\"white\",\"landcolor\":\"#E5ECF6\",\"subunitcolor\":\"white\",\"showland\":true,\"showlakes\":true,\"lakecolor\":\"white\"},\"title\":{\"x\":0.05},\"mapbox\":{\"style\":\"light\"}}},\"xaxis\":{\"anchor\":\"y\",\"domain\":[0.0,1.0],\"title\":{\"text\":\"Date\"}},\"yaxis\":{\"anchor\":\"x\",\"domain\":[0.0,1.0],\"title\":{\"text\":\"Price\"}},\"legend\":{\"tracegroupgap\":0},\"title\":{\"text\":\"Matches and Price Visualization for Valencia CF\"},\"showlegend\":false},                        {\"responsive\": true}                    )                };                            </script>        </div>"
      ],
      "text/plain": [
       "Figure({\n",
       "    'data': [{'hoverinfo': 'skip',\n",
       "              'legendgroup': '',\n",
       "              'line': {'color': '#636efa', 'dash': 'solid'},\n",
       "              'marker': {'symbol': 'circle'},\n",
       "              'mode': 'lines',\n",
       "              'name': '',\n",
       "              'orientation': 'v',\n",
       "              'showlegend': False,\n",
       "              'type': 'scatter',\n",
       "              'x': array([datetime.date(2021, 9, 14), datetime.date(2021, 9, 15),\n",
       "                          datetime.date(2021, 9, 16), ..., datetime.date(2023, 10, 3),\n",
       "                          datetime.date(2023, 10, 4), datetime.date(2023, 10, 4)], dtype=object),\n",
       "              'xaxis': 'x',\n",
       "              'y': array([Decimal('2.75'), Decimal('2.75'), Decimal('2.87'), ..., Decimal('0.65'),\n",
       "                          Decimal('0.63'), Decimal('0.63')], dtype=object),\n",
       "              'yaxis': 'y'},\n",
       "             {'hoverinfo': 'text',\n",
       "              'marker': {'color': 'red', 'size': 5, 'symbol': 'x'},\n",
       "              'mode': 'markers',\n",
       "              'name': 'L',\n",
       "              'text': [Result: Loss<br>Date: 2021-09-19<br>Price: 3.41],\n",
       "              'type': 'scatter',\n",
       "              'x': [2021-09-19],\n",
       "              'y': [3.41]},\n",
       "             {'hoverinfo': 'text',\n",
       "              'marker': {'color': 'red', 'size': 5, 'symbol': 'x'},\n",
       "              'mode': 'markers',\n",
       "              'name': 'L',\n",
       "              'text': [Result: Loss<br>Date: 2021-09-22<br>Price: 2.64],\n",
       "              'type': 'scatter',\n",
       "              'x': [2021-09-22],\n",
       "              'y': [2.64]},\n",
       "             {'hoverinfo': 'text',\n",
       "              'marker': {'color': 'yellow', 'size': 5, 'symbol': 'x'},\n",
       "              'mode': 'markers',\n",
       "              'name': 'D',\n",
       "              'text': [Result: Draw<br>Date: 2021-09-25<br>Price: 2.58],\n",
       "              'type': 'scatter',\n",
       "              'x': [2021-09-25],\n",
       "              'y': [2.58]},\n",
       "             {'hoverinfo': 'text',\n",
       "              'marker': {'color': 'yellow', 'size': 5, 'symbol': 'x'},\n",
       "              'mode': 'markers',\n",
       "              'name': 'D',\n",
       "              'text': [Result: Draw<br>Date: 2021-10-02<br>Price: 2.52],\n",
       "              'type': 'scatter',\n",
       "              'x': [2021-10-02],\n",
       "              'y': [2.52]},\n",
       "             {'hoverinfo': 'text',\n",
       "              'marker': {'color': 'red', 'size': 5, 'symbol': 'x'},\n",
       "              'mode': 'markers',\n",
       "              'name': 'L',\n",
       "              'text': [Result: Loss<br>Date: 2021-10-17<br>Price: 2.67],\n",
       "              'type': 'scatter',\n",
       "              'x': [2021-10-17],\n",
       "              'y': [2.67]},\n",
       "             {'hoverinfo': 'text',\n",
       "              'marker': {'color': 'yellow', 'size': 5, 'symbol': 'x'},\n",
       "              'mode': 'markers',\n",
       "              'name': 'D',\n",
       "              'text': [Result: Draw<br>Date: 2021-10-23<br>Price: 2.49],\n",
       "              'type': 'scatter',\n",
       "              'x': [2021-10-23],\n",
       "              'y': [2.49]},\n",
       "             {'hoverinfo': 'text',\n",
       "              'marker': {'color': 'red', 'size': 5, 'symbol': 'x'},\n",
       "              'mode': 'markers',\n",
       "              'name': 'L',\n",
       "              'text': [Result: Loss<br>Date: 2021-10-27<br>Price: 2.64],\n",
       "              'type': 'scatter',\n",
       "              'x': [2021-10-27],\n",
       "              'y': [2.64]},\n",
       "             {'hoverinfo': 'text',\n",
       "              'marker': {'color': 'green', 'size': 5, 'symbol': 'x'},\n",
       "              'mode': 'markers',\n",
       "              'name': 'W',\n",
       "              'text': [Result: Win<br>Date: 2021-10-30<br>Price: 2.29],\n",
       "              'type': 'scatter',\n",
       "              'x': [2021-10-30],\n",
       "              'y': [2.29]},\n",
       "             {'hoverinfo': 'text',\n",
       "              'marker': {'color': 'yellow', 'size': 5, 'symbol': 'x'},\n",
       "              'mode': 'markers',\n",
       "              'name': 'D',\n",
       "              'text': [Result: Draw<br>Date: 2021-11-07<br>Price: 2.22],\n",
       "              'type': 'scatter',\n",
       "              'x': [2021-11-07],\n",
       "              'y': [2.22]},\n",
       "             {'hoverinfo': 'text',\n",
       "              'marker': {'color': 'yellow', 'size': 5, 'symbol': 'x'},\n",
       "              'mode': 'markers',\n",
       "              'name': 'D',\n",
       "              'text': [Result: Draw<br>Date: 2021-11-21<br>Price: 1.90],\n",
       "              'type': 'scatter',\n",
       "              'x': [2021-11-21],\n",
       "              'y': [1.90]},\n",
       "             {'hoverinfo': 'text',\n",
       "              'marker': {'color': 'yellow', 'size': 5, 'symbol': 'x'},\n",
       "              'mode': 'markers',\n",
       "              'name': 'D',\n",
       "              'text': [Result: Draw<br>Date: 2021-11-27<br>Price: 1.82],\n",
       "              'type': 'scatter',\n",
       "              'x': [2021-11-27],\n",
       "              'y': [1.82]},\n",
       "             {'hoverinfo': 'text',\n",
       "              'marker': {'color': 'green', 'size': 5, 'symbol': 'x'},\n",
       "              'mode': 'markers',\n",
       "              'name': 'W',\n",
       "              'text': [Result: Win<br>Date: 2021-12-05<br>Price: 1.38],\n",
       "              'type': 'scatter',\n",
       "              'x': [2021-12-05],\n",
       "              'y': [1.38]},\n",
       "             {'hoverinfo': 'text',\n",
       "              'marker': {'color': 'green', 'size': 5, 'symbol': 'x'},\n",
       "              'mode': 'markers',\n",
       "              'name': 'W',\n",
       "              'text': [Result: Win<br>Date: 2021-12-11<br>Price: 1.28],\n",
       "              'type': 'scatter',\n",
       "              'x': [2021-12-11],\n",
       "              'y': [1.28]},\n",
       "             {'hoverinfo': 'text',\n",
       "              'marker': {'color': 'green', 'size': 5, 'symbol': 'x'},\n",
       "              'mode': 'markers',\n",
       "              'name': 'W',\n",
       "              'text': [Result: Win<br>Date: 2021-12-20<br>Price: 1.28],\n",
       "              'type': 'scatter',\n",
       "              'x': [2021-12-20],\n",
       "              'y': [1.28]},\n",
       "             {'hoverinfo': 'text',\n",
       "              'marker': {'color': 'red', 'size': 5, 'symbol': 'x'},\n",
       "              'mode': 'markers',\n",
       "              'name': 'L',\n",
       "              'text': [Result: Loss<br>Date: 2021-12-31<br>Price: 1.89],\n",
       "              'type': 'scatter',\n",
       "              'x': [2021-12-31],\n",
       "              'y': [1.89]},\n",
       "             {'hoverinfo': 'text',\n",
       "              'marker': {'color': 'red', 'size': 5, 'symbol': 'x'},\n",
       "              'mode': 'markers',\n",
       "              'name': 'L',\n",
       "              'text': [Result: Loss<br>Date: 2022-01-08<br>Price: 1.42],\n",
       "              'type': 'scatter',\n",
       "              'x': [2022-01-08],\n",
       "              'y': [1.42]},\n",
       "             {'hoverinfo': 'text',\n",
       "              'marker': {'color': 'yellow', 'size': 5, 'symbol': 'x'},\n",
       "              'mode': 'markers',\n",
       "              'name': 'D',\n",
       "              'text': [Result: Draw<br>Date: 2022-01-19<br>Price: 1.32],\n",
       "              'type': 'scatter',\n",
       "              'x': [2022-01-19],\n",
       "              'y': [1.32]},\n",
       "             {'hoverinfo': 'text',\n",
       "              'marker': {'color': 'red', 'size': 5, 'symbol': 'x'},\n",
       "              'mode': 'markers',\n",
       "              'name': 'L',\n",
       "              'text': [Result: Loss<br>Date: 2022-01-22<br>Price: 1.09],\n",
       "              'type': 'scatter',\n",
       "              'x': [2022-01-22],\n",
       "              'y': [1.09]},\n",
       "             {'hoverinfo': 'text',\n",
       "              'marker': {'color': 'yellow', 'size': 5, 'symbol': 'x'},\n",
       "              'mode': 'markers',\n",
       "              'name': 'D',\n",
       "              'text': [Result: Draw<br>Date: 2022-02-06<br>Price: 1.08],\n",
       "              'type': 'scatter',\n",
       "              'x': [2022-02-06],\n",
       "              'y': [1.08]},\n",
       "             {'hoverinfo': 'text',\n",
       "              'marker': {'color': 'red', 'size': 5, 'symbol': 'x'},\n",
       "              'mode': 'markers',\n",
       "              'name': 'L',\n",
       "              'text': [Result: Loss<br>Date: 2022-02-13<br>Price: 1.04],\n",
       "              'type': 'scatter',\n",
       "              'x': [2022-02-13],\n",
       "              'y': [1.04]},\n",
       "             {'hoverinfo': 'text',\n",
       "              'marker': {'color': 'red', 'size': 5, 'symbol': 'x'},\n",
       "              'mode': 'markers',\n",
       "              'name': 'L',\n",
       "              'text': [Result: Loss<br>Date: 2022-02-20<br>Price: 0.99],\n",
       "              'type': 'scatter',\n",
       "              'x': [2022-02-20],\n",
       "              'y': [0.99]},\n",
       "             {'hoverinfo': 'text',\n",
       "              'marker': {'color': 'green', 'size': 5, 'symbol': 'x'},\n",
       "              'mode': 'markers',\n",
       "              'name': 'W',\n",
       "              'text': [Result: Win<br>Date: 2022-02-26<br>Price: 0.89],\n",
       "              'type': 'scatter',\n",
       "              'x': [2022-02-26],\n",
       "              'y': [0.89]},\n",
       "             {'hoverinfo': 'text',\n",
       "              'marker': {'color': 'green', 'size': 5, 'symbol': 'x'},\n",
       "              'mode': 'markers',\n",
       "              'name': 'W',\n",
       "              'text': [Result: Win<br>Date: 2022-03-05<br>Price: 1.02],\n",
       "              'type': 'scatter',\n",
       "              'x': [2022-03-05],\n",
       "              'y': [1.02]},\n",
       "             {'hoverinfo': 'text',\n",
       "              'marker': {'color': 'yellow', 'size': 5, 'symbol': 'x'},\n",
       "              'mode': 'markers',\n",
       "              'name': 'D',\n",
       "              'text': [Result: Draw<br>Date: 2022-03-12<br>Price: 0.99],\n",
       "              'type': 'scatter',\n",
       "              'x': [2022-03-12],\n",
       "              'y': [0.99]},\n",
       "             {'hoverinfo': 'text',\n",
       "              'marker': {'color': 'green', 'size': 5, 'symbol': 'x'},\n",
       "              'mode': 'markers',\n",
       "              'name': 'W',\n",
       "              'text': [Result: Win<br>Date: 2022-03-19<br>Price: 1.07],\n",
       "              'type': 'scatter',\n",
       "              'x': [2022-03-19],\n",
       "              'y': [1.07]},\n",
       "             {'hoverinfo': 'text',\n",
       "              'marker': {'color': 'yellow', 'size': 5, 'symbol': 'x'},\n",
       "              'mode': 'markers',\n",
       "              'name': 'D',\n",
       "              'text': [Result: Draw<br>Date: 2022-04-03<br>Price: 2.05],\n",
       "              'type': 'scatter',\n",
       "              'x': [2022-04-03],\n",
       "              'y': [2.05]},\n",
       "             {'hoverinfo': 'text',\n",
       "              'marker': {'color': 'yellow', 'size': 5, 'symbol': 'x'},\n",
       "              'mode': 'markers',\n",
       "              'name': 'D',\n",
       "              'text': [Result: Draw<br>Date: 2022-04-11<br>Price: 4.28],\n",
       "              'type': 'scatter',\n",
       "              'x': [2022-04-11],\n",
       "              'y': [4.28]},\n",
       "             {'hoverinfo': 'text',\n",
       "              'marker': {'color': 'red', 'size': 5, 'symbol': 'x'},\n",
       "              'mode': 'markers',\n",
       "              'name': 'L',\n",
       "              'text': [Result: Loss<br>Date: 2022-04-16<br>Price: 3.13],\n",
       "              'type': 'scatter',\n",
       "              'x': [2022-04-16],\n",
       "              'y': [3.13]},\n",
       "             {'hoverinfo': 'text',\n",
       "              'marker': {'color': 'red', 'size': 5, 'symbol': 'x'},\n",
       "              'mode': 'markers',\n",
       "              'name': 'L',\n",
       "              'text': [Result: Loss<br>Date: 2022-04-19<br>Price: 2.97],\n",
       "              'type': 'scatter',\n",
       "              'x': [2022-04-19],\n",
       "              'y': [2.97]},\n",
       "             {'hoverinfo': 'text',\n",
       "              'marker': {'color': 'yellow', 'size': 5, 'symbol': 'x'},\n",
       "              'mode': 'markers',\n",
       "              'name': 'D',\n",
       "              'text': [Result: Draw<br>Date: 2022-04-30<br>Price: 2.05],\n",
       "              'type': 'scatter',\n",
       "              'x': [2022-04-30],\n",
       "              'y': [2.05]},\n",
       "             {'hoverinfo': 'text',\n",
       "              'marker': {'color': 'yellow', 'size': 5, 'symbol': 'x'},\n",
       "              'mode': 'markers',\n",
       "              'name': 'D',\n",
       "              'text': [Result: Draw<br>Date: 2022-05-07<br>Price: 1.78],\n",
       "              'type': 'scatter',\n",
       "              'x': [2022-05-07],\n",
       "              'y': [1.78]},\n",
       "             {'hoverinfo': 'text',\n",
       "              'marker': {'color': 'red', 'size': 5, 'symbol': 'x'},\n",
       "              'mode': 'markers',\n",
       "              'name': 'L',\n",
       "              'text': [Result: Loss<br>Date: 2022-05-10<br>Price: 1.50],\n",
       "              'type': 'scatter',\n",
       "              'x': [2022-05-10],\n",
       "              'y': [1.50]},\n",
       "             {'hoverinfo': 'text',\n",
       "              'marker': {'color': 'yellow', 'size': 5, 'symbol': 'x'},\n",
       "              'mode': 'markers',\n",
       "              'name': 'D',\n",
       "              'text': [Result: Draw<br>Date: 2022-05-14<br>Price: 1.17],\n",
       "              'type': 'scatter',\n",
       "              'x': [2022-05-14],\n",
       "              'y': [1.17]},\n",
       "             {'hoverinfo': 'text',\n",
       "              'marker': {'color': 'green', 'size': 5, 'symbol': 'x'},\n",
       "              'mode': 'markers',\n",
       "              'name': 'W',\n",
       "              'text': [Result: Win<br>Date: 2022-05-21<br>Price: 1.26],\n",
       "              'type': 'scatter',\n",
       "              'x': [2022-05-21],\n",
       "              'y': [1.26]},\n",
       "             {'hoverinfo': 'text',\n",
       "              'marker': {'color': 'green', 'size': 5, 'symbol': 'x'},\n",
       "              'mode': 'markers',\n",
       "              'name': 'W',\n",
       "              'text': [Result: Win<br>Date: 2022-08-14<br>Price: 1.43],\n",
       "              'type': 'scatter',\n",
       "              'x': [2022-08-14],\n",
       "              'y': [1.43]},\n",
       "             {'hoverinfo': 'text',\n",
       "              'marker': {'color': 'red', 'size': 5, 'symbol': 'x'},\n",
       "              'mode': 'markers',\n",
       "              'name': 'L',\n",
       "              'text': [Result: Loss<br>Date: 2022-08-21<br>Price: 1.36],\n",
       "              'type': 'scatter',\n",
       "              'x': [2022-08-21],\n",
       "              'y': [1.36]},\n",
       "             {'hoverinfo': 'text',\n",
       "              'marker': {'color': 'red', 'size': 5, 'symbol': 'x'},\n",
       "              'mode': 'markers',\n",
       "              'name': 'L',\n",
       "              'text': [Result: Loss<br>Date: 2022-08-29<br>Price: 1.32],\n",
       "              'type': 'scatter',\n",
       "              'x': [2022-08-29],\n",
       "              'y': [1.32]},\n",
       "             {'hoverinfo': 'text',\n",
       "              'marker': {'color': 'green', 'size': 5, 'symbol': 'x'},\n",
       "              'mode': 'markers',\n",
       "              'name': 'W',\n",
       "              'text': [Result: Win<br>Date: 2022-09-04<br>Price: 1.37],\n",
       "              'type': 'scatter',\n",
       "              'x': [2022-09-04],\n",
       "              'y': [1.37]},\n",
       "             {'hoverinfo': 'text',\n",
       "              'marker': {'color': 'red', 'size': 5, 'symbol': 'x'},\n",
       "              'mode': 'markers',\n",
       "              'name': 'L',\n",
       "              'text': [Result: Loss<br>Date: 2022-09-10<br>Price: 1.30],\n",
       "              'type': 'scatter',\n",
       "              'x': [2022-09-10],\n",
       "              'y': [1.30]},\n",
       "             {'hoverinfo': 'text',\n",
       "              'marker': {'color': 'green', 'size': 5, 'symbol': 'x'},\n",
       "              'mode': 'markers',\n",
       "              'name': 'W',\n",
       "              'text': [Result: Win<br>Date: 2022-09-17<br>Price: 1.23],\n",
       "              'type': 'scatter',\n",
       "              'x': [2022-09-17],\n",
       "              'y': [1.23]},\n",
       "             {'hoverinfo': 'text',\n",
       "              'marker': {'color': 'yellow', 'size': 5, 'symbol': 'x'},\n",
       "              'mode': 'markers',\n",
       "              'name': 'D',\n",
       "              'text': [Result: Draw<br>Date: 2022-10-02<br>Price: 1.17],\n",
       "              'type': 'scatter',\n",
       "              'x': [2022-10-02],\n",
       "              'y': [1.17]},\n",
       "             {'hoverinfo': 'text',\n",
       "              'marker': {'color': 'green', 'size': 5, 'symbol': 'x'},\n",
       "              'mode': 'markers',\n",
       "              'name': 'W',\n",
       "              'text': [Result: Win<br>Date: 2022-10-07<br>Price: 1.14],\n",
       "              'type': 'scatter',\n",
       "              'x': [2022-10-07],\n",
       "              'y': [1.14]},\n",
       "             {'hoverinfo': 'text',\n",
       "              'marker': {'color': 'yellow', 'size': 5, 'symbol': 'x'},\n",
       "              'mode': 'markers',\n",
       "              'name': 'D',\n",
       "              'text': [Result: Draw<br>Date: 2022-10-15<br>Price: 1.06],\n",
       "              'type': 'scatter',\n",
       "              'x': [2022-10-15],\n",
       "              'y': [1.06]},\n",
       "             {'hoverinfo': 'text',\n",
       "              'marker': {'color': 'yellow', 'size': 5, 'symbol': 'x'},\n",
       "              'mode': 'markers',\n",
       "              'name': 'D',\n",
       "              'text': [Result: Draw<br>Date: 2022-10-18<br>Price: 1.07],\n",
       "              'type': 'scatter',\n",
       "              'x': [2022-10-18],\n",
       "              'y': [1.07]},\n",
       "             {'hoverinfo': 'text',\n",
       "              'marker': {'color': 'red', 'size': 5, 'symbol': 'x'},\n",
       "              'mode': 'markers',\n",
       "              'name': 'L',\n",
       "              'text': [Result: Loss<br>Date: 2022-10-22<br>Price: 1.00],\n",
       "              'type': 'scatter',\n",
       "              'x': [2022-10-22],\n",
       "              'y': [1.00]},\n",
       "             {'hoverinfo': 'text',\n",
       "              'marker': {'color': 'red', 'size': 5, 'symbol': 'x'},\n",
       "              'mode': 'markers',\n",
       "              'name': 'L',\n",
       "              'text': [Result: Loss<br>Date: 2022-10-29<br>Price: 1.03],\n",
       "              'type': 'scatter',\n",
       "              'x': [2022-10-29],\n",
       "              'y': [1.03]},\n",
       "             {'hoverinfo': 'text',\n",
       "              'marker': {'color': 'yellow', 'size': 5, 'symbol': 'x'},\n",
       "              'mode': 'markers',\n",
       "              'name': 'D',\n",
       "              'text': [Result: Draw<br>Date: 2022-11-06<br>Price: 1.06],\n",
       "              'type': 'scatter',\n",
       "              'x': [2022-11-06],\n",
       "              'y': [1.06]},\n",
       "             {'hoverinfo': 'text',\n",
       "              'marker': {'color': 'green', 'size': 5, 'symbol': 'x'},\n",
       "              'mode': 'markers',\n",
       "              'name': 'W',\n",
       "              'text': [Result: Win<br>Date: 2022-11-10<br>Price: 0.70],\n",
       "              'type': 'scatter',\n",
       "              'x': [2022-11-10],\n",
       "              'y': [0.70]},\n",
       "             {'hoverinfo': 'text',\n",
       "              'marker': {'color': 'red', 'size': 5, 'symbol': 'x'},\n",
       "              'mode': 'markers',\n",
       "              'name': 'L',\n",
       "              'text': [Result: Loss<br>Date: 2022-12-31<br>Price: 0.74],\n",
       "              'type': 'scatter',\n",
       "              'x': [2022-12-31],\n",
       "              'y': [0.74]},\n",
       "             {'hoverinfo': 'text',\n",
       "              'marker': {'color': 'red', 'size': 5, 'symbol': 'x'},\n",
       "              'mode': 'markers',\n",
       "              'name': 'L',\n",
       "              'text': [Result: Loss<br>Date: 2023-01-06<br>Price: 0.83],\n",
       "              'type': 'scatter',\n",
       "              'x': [2023-01-06],\n",
       "              'y': [0.83]},\n",
       "             {'hoverinfo': 'text',\n",
       "              'marker': {'color': 'yellow', 'size': 5, 'symbol': 'x'},\n",
       "              'mode': 'markers',\n",
       "              'name': 'D',\n",
       "              'text': [Result: Draw<br>Date: 2023-01-23<br>Price: 0.94],\n",
       "              'type': 'scatter',\n",
       "              'x': [2023-01-23],\n",
       "              'y': [0.94]},\n",
       "             {'hoverinfo': 'text',\n",
       "              'marker': {'color': 'red', 'size': 5, 'symbol': 'x'},\n",
       "              'mode': 'markers',\n",
       "              'name': 'L',\n",
       "              'text': [Result: Loss<br>Date: 2023-01-29<br>Price: 0.92],\n",
       "              'type': 'scatter',\n",
       "              'x': [2023-01-29],\n",
       "              'y': [0.92]},\n",
       "             {'hoverinfo': 'text',\n",
       "              'marker': {'color': 'red', 'size': 5, 'symbol': 'x'},\n",
       "              'mode': 'markers',\n",
       "              'name': 'L',\n",
       "              'text': [Result: Loss<br>Date: 2023-02-02<br>Price: 0.91],\n",
       "              'type': 'scatter',\n",
       "              'x': [2023-02-02],\n",
       "              'y': [0.91]},\n",
       "             {'hoverinfo': 'text',\n",
       "              'marker': {'color': 'red', 'size': 5, 'symbol': 'x'},\n",
       "              'mode': 'markers',\n",
       "              'name': 'L',\n",
       "              'text': [Result: Loss<br>Date: 2023-02-05<br>Price: 0.91],\n",
       "              'type': 'scatter',\n",
       "              'x': [2023-02-05],\n",
       "              'y': [0.91]},\n",
       "             {'hoverinfo': 'text',\n",
       "              'marker': {'color': 'red', 'size': 5, 'symbol': 'x'},\n",
       "              'mode': 'markers',\n",
       "              'name': 'L',\n",
       "              'text': [Result: Loss<br>Date: 2023-02-11<br>Price: 0.96],\n",
       "              'type': 'scatter',\n",
       "              'x': [2023-02-11],\n",
       "              'y': [0.96]},\n",
       "             {'hoverinfo': 'text',\n",
       "              'marker': {'color': 'red', 'size': 5, 'symbol': 'x'},\n",
       "              'mode': 'markers',\n",
       "              'name': 'L',\n",
       "              'text': [Result: Loss<br>Date: 2023-02-20<br>Price: 1.02],\n",
       "              'type': 'scatter',\n",
       "              'x': [2023-02-20],\n",
       "              'y': [1.02]},\n",
       "             {'hoverinfo': 'text',\n",
       "              'marker': {'color': 'green', 'size': 5, 'symbol': 'x'},\n",
       "              'mode': 'markers',\n",
       "              'name': 'W',\n",
       "              'text': [Result: Win<br>Date: 2023-02-25<br>Price: 0.95],\n",
       "              'type': 'scatter',\n",
       "              'x': [2023-02-25],\n",
       "              'y': [0.95]},\n",
       "             {'hoverinfo': 'text',\n",
       "              'marker': {'color': 'red', 'size': 5, 'symbol': 'x'},\n",
       "              'mode': 'markers',\n",
       "              'name': 'L',\n",
       "              'text': [Result: Loss<br>Date: 2023-03-05<br>Price: 0.94],\n",
       "              'type': 'scatter',\n",
       "              'x': [2023-03-05],\n",
       "              'y': [0.94]},\n",
       "             {'hoverinfo': 'text',\n",
       "              'marker': {'color': 'green', 'size': 5, 'symbol': 'x'},\n",
       "              'mode': 'markers',\n",
       "              'name': 'W',\n",
       "              'text': [Result: Win<br>Date: 2023-03-11<br>Price: 0.90],\n",
       "              'type': 'scatter',\n",
       "              'x': [2023-03-11],\n",
       "              'y': [0.90]},\n",
       "             {'hoverinfo': 'text',\n",
       "              'marker': {'color': 'red', 'size': 5, 'symbol': 'x'},\n",
       "              'mode': 'markers',\n",
       "              'name': 'L',\n",
       "              'text': [Result: Loss<br>Date: 2023-03-18<br>Price: 0.91],\n",
       "              'type': 'scatter',\n",
       "              'x': [2023-03-18],\n",
       "              'y': [0.91]},\n",
       "             {'hoverinfo': 'text',\n",
       "              'marker': {'color': 'yellow', 'size': 5, 'symbol': 'x'},\n",
       "              'mode': 'markers',\n",
       "              'name': 'D',\n",
       "              'text': [Result: Draw<br>Date: 2023-04-03<br>Price: 0.86],\n",
       "              'type': 'scatter',\n",
       "              'x': [2023-04-03],\n",
       "              'y': [0.86]},\n",
       "             {'hoverinfo': 'text',\n",
       "              'marker': {'color': 'red', 'size': 5, 'symbol': 'x'},\n",
       "              'mode': 'markers',\n",
       "              'name': 'L',\n",
       "              'text': [Result: Loss<br>Date: 2023-04-09<br>Price: 0.90],\n",
       "              'type': 'scatter',\n",
       "              'x': [2023-04-09],\n",
       "              'y': [0.90]},\n",
       "             {'hoverinfo': 'text',\n",
       "              'marker': {'color': 'red', 'size': 5, 'symbol': 'x'},\n",
       "              'mode': 'markers',\n",
       "              'name': 'L',\n",
       "              'text': [Result: Loss<br>Date: 2023-04-16<br>Price: 0.97],\n",
       "              'type': 'scatter',\n",
       "              'x': [2023-04-16],\n",
       "              'y': [0.97]},\n",
       "             {'hoverinfo': 'text',\n",
       "              'marker': {'color': 'green', 'size': 5, 'symbol': 'x'},\n",
       "              'mode': 'markers',\n",
       "              'name': 'W',\n",
       "              'text': [Result: Win<br>Date: 2023-04-23<br>Price: 0.93],\n",
       "              'type': 'scatter',\n",
       "              'x': [2023-04-23],\n",
       "              'y': [0.93]},\n",
       "             {'hoverinfo': 'text',\n",
       "              'marker': {'color': 'green', 'size': 5, 'symbol': 'x'},\n",
       "              'mode': 'markers',\n",
       "              'name': 'W',\n",
       "              'text': [Result: Win<br>Date: 2023-04-27<br>Price: 0.91],\n",
       "              'type': 'scatter',\n",
       "              'x': [2023-04-27],\n",
       "              'y': [0.91]},\n",
       "             {'hoverinfo': 'text',\n",
       "              'marker': {'color': 'red', 'size': 5, 'symbol': 'x'},\n",
       "              'mode': 'markers',\n",
       "              'name': 'L',\n",
       "              'text': [Result: Loss<br>Date: 2023-04-30<br>Price: 0.91],\n",
       "              'type': 'scatter',\n",
       "              'x': [2023-04-30],\n",
       "              'y': [0.91]},\n",
       "             {'hoverinfo': 'text',\n",
       "              'marker': {'color': 'yellow', 'size': 5, 'symbol': 'x'},\n",
       "              'mode': 'markers',\n",
       "              'name': 'D',\n",
       "              'text': [Result: Draw<br>Date: 2023-05-03<br>Price: 0.88],\n",
       "              'type': 'scatter',\n",
       "              'x': [2023-05-03],\n",
       "              'y': [0.88]},\n",
       "             {'hoverinfo': 'text',\n",
       "              'marker': {'color': 'green', 'size': 5, 'symbol': 'x'},\n",
       "              'mode': 'markers',\n",
       "              'name': 'W',\n",
       "              'text': [Result: Win<br>Date: 2023-05-14<br>Price: 0.79],\n",
       "              'type': 'scatter',\n",
       "              'x': [2023-05-14],\n",
       "              'y': [0.79]},\n",
       "             {'hoverinfo': 'text',\n",
       "              'marker': {'color': 'green', 'size': 5, 'symbol': 'x'},\n",
       "              'mode': 'markers',\n",
       "              'name': 'W',\n",
       "              'text': [Result: Win<br>Date: 2023-05-21<br>Price: 0.80],\n",
       "              'type': 'scatter',\n",
       "              'x': [2023-05-21],\n",
       "              'y': [0.80]},\n",
       "             {'hoverinfo': 'text',\n",
       "              'marker': {'color': 'red', 'size': 5, 'symbol': 'x'},\n",
       "              'mode': 'markers',\n",
       "              'name': 'L',\n",
       "              'text': [Result: Loss<br>Date: 2023-05-25<br>Price: 0.76],\n",
       "              'type': 'scatter',\n",
       "              'x': [2023-05-25],\n",
       "              'y': [0.76]},\n",
       "             {'hoverinfo': 'text',\n",
       "              'marker': {'color': 'yellow', 'size': 5, 'symbol': 'x'},\n",
       "              'mode': 'markers',\n",
       "              'name': 'D',\n",
       "              'text': [Result: Draw<br>Date: 2023-05-28<br>Price: 0.73],\n",
       "              'type': 'scatter',\n",
       "              'x': [2023-05-28],\n",
       "              'y': [0.73]},\n",
       "             {'hoverinfo': 'text',\n",
       "              'marker': {'color': 'yellow', 'size': 5, 'symbol': 'x'},\n",
       "              'mode': 'markers',\n",
       "              'name': 'D',\n",
       "              'text': [Result: Draw<br>Date: 2023-06-04<br>Price: 0.70],\n",
       "              'type': 'scatter',\n",
       "              'x': [2023-06-04],\n",
       "              'y': [0.70]},\n",
       "             {'hoverinfo': 'text',\n",
       "              'marker': {'color': 'green', 'size': 5, 'symbol': 'x'},\n",
       "              'mode': 'markers',\n",
       "              'name': 'W',\n",
       "              'text': [Result: Win<br>Date: 2023-08-11<br>Price: 0.79],\n",
       "              'type': 'scatter',\n",
       "              'x': [2023-08-11],\n",
       "              'y': [0.79]},\n",
       "             {'hoverinfo': 'text',\n",
       "              'marker': {'color': 'green', 'size': 5, 'symbol': 'x'},\n",
       "              'mode': 'markers',\n",
       "              'name': 'W',\n",
       "              'text': [Result: Win<br>Date: 2023-08-18<br>Price: 0.75],\n",
       "              'type': 'scatter',\n",
       "              'x': [2023-08-18],\n",
       "              'y': [0.75]},\n",
       "             {'hoverinfo': 'text',\n",
       "              'marker': {'color': 'red', 'size': 5, 'symbol': 'x'},\n",
       "              'mode': 'markers',\n",
       "              'name': 'L',\n",
       "              'text': [Result: Loss<br>Date: 2023-08-27<br>Price: 0.77],\n",
       "              'type': 'scatter',\n",
       "              'x': [2023-08-27],\n",
       "              'y': [0.77]},\n",
       "             {'hoverinfo': 'text',\n",
       "              'marker': {'color': 'red', 'size': 5, 'symbol': 'x'},\n",
       "              'mode': 'markers',\n",
       "              'name': 'L',\n",
       "              'text': [Result: Loss<br>Date: 2023-09-02<br>Price: 0.72],\n",
       "              'type': 'scatter',\n",
       "              'x': [2023-09-02],\n",
       "              'y': [0.72]},\n",
       "             {'hoverinfo': 'text',\n",
       "              'marker': {'color': 'green', 'size': 5, 'symbol': 'x'},\n",
       "              'mode': 'markers',\n",
       "              'name': 'W',\n",
       "              'text': [Result: Win<br>Date: 2023-09-16<br>Price: 0.65],\n",
       "              'type': 'scatter',\n",
       "              'x': [2023-09-16],\n",
       "              'y': [0.65]},\n",
       "             {'hoverinfo': 'text',\n",
       "              'marker': {'color': 'yellow', 'size': 5, 'symbol': 'x'},\n",
       "              'mode': 'markers',\n",
       "              'name': 'D',\n",
       "              'text': [Result: Draw<br>Date: 2023-09-23<br>Price: 0.65],\n",
       "              'type': 'scatter',\n",
       "              'x': [2023-09-23],\n",
       "              'y': [0.65]},\n",
       "             {'hoverinfo': 'text',\n",
       "              'marker': {'color': 'red', 'size': 5, 'symbol': 'x'},\n",
       "              'mode': 'markers',\n",
       "              'name': 'L',\n",
       "              'text': [Result: Loss<br>Date: 2023-09-27<br>Price: 0.65],\n",
       "              'type': 'scatter',\n",
       "              'x': [2023-09-27],\n",
       "              'y': [0.65]},\n",
       "             {'hoverinfo': 'text',\n",
       "              'marker': {'color': 'red', 'size': 5, 'symbol': 'x'},\n",
       "              'mode': 'markers',\n",
       "              'name': 'L',\n",
       "              'text': [Result: Loss<br>Date: 2023-10-01<br>Price: 0.65],\n",
       "              'type': 'scatter',\n",
       "              'x': [2023-10-01],\n",
       "              'y': [0.65]}],\n",
       "    'layout': {'legend': {'tracegroupgap': 0},\n",
       "               'showlegend': False,\n",
       "               'template': '...',\n",
       "               'title': {'text': 'Matches and Price Visualization for Valencia CF'},\n",
       "               'xaxis': {'anchor': 'y', 'domain': [0.0, 1.0], 'title': {'text': 'Date'}},\n",
       "               'yaxis': {'anchor': 'x', 'domain': [0.0, 1.0], 'title': {'text': 'Price'}}}\n",
       "})"
      ]
     },
     "execution_count": 122,
     "metadata": {},
     "output_type": "execute_result"
    }
   ],
   "source": [
    "# Create team dataframe:\n",
    "team_tokens = fan_tokens_df[fan_tokens_df['common_id'] == id]\n",
    "team_matches = team_hist_df[team_hist_df['common_id'] == id]\n",
    "team_name = team_matches.reset_index().loc[0, 'team_name_matches']\n",
    "print(team_name)\n",
    "team_df = team_matches.merge(team_tokens, on='date')\n",
    "\n",
    "# Create a color mapping to differentiate wins, draws, and losses:\n",
    "color_mapping = {\n",
    "    'W': 'green',\n",
    "    'D': 'yellow',\n",
    "    'L': 'red'\n",
    "}\n",
    "\n",
    "result_mapping = {\n",
    "    'W':'Win',\n",
    "    'D':'Draw',\n",
    "    'L':'Loss'\n",
    "}\n",
    "\n",
    "# Create a Plotly Express scatter plot for team prices:\n",
    "fig = px.line(team_tokens, x='date', y='price', title=f\"Matches and Price Visualization for {team_name}\")\n",
    "fig.update_traces(hoverinfo='skip', hovertemplate=None)\n",
    "\n",
    "# Add scatter points for match results with pop-up text:\n",
    "for index, row in team_df.iterrows():\n",
    "    result_color = color_mapping.get(row['result'], 'black')\n",
    "    result_name = result_mapping.get(row['result'], '')\n",
    "    fig.add_trace(go.Scatter(\n",
    "        x=[row['date']],\n",
    "        y=[row['price']],\n",
    "        mode='markers',\n",
    "        name=row['result'],\n",
    "        text=[f\"Result: {result_name}<br>Date: {row['date']}<br>Price: {row['price']}\"],\n",
    "        hoverinfo='text',\n",
    "        marker=dict(size=5, color=result_color, symbol='x')\n",
    "    ))\n",
    "\n",
    "# Customize the layout:\n",
    "fig.update_xaxes(title=\"Date\")\n",
    "fig.update_yaxes(title=\"Price\")\n",
    "fig.update_layout(showlegend=False)"
   ]
  },
  {
   "cell_type": "code",
   "execution_count": 130,
   "metadata": {},
   "outputs": [
    {
     "data": {
      "text/plain": [
       "1"
      ]
     },
     "execution_count": 130,
     "metadata": {},
     "output_type": "execute_result"
    }
   ],
   "source": [
    "id = team_hist_df[team_hist_df['team_name_matches'] == 'AC Milan'].loc[0, 'common_id']"
   ]
  },
  {
   "cell_type": "code",
   "execution_count": 133,
   "metadata": {},
   "outputs": [
    {
     "name": "stdout",
     "output_type": "stream",
     "text": [
      "4\n"
     ]
    }
   ],
   "source": [
    "team_name = 'AS Roma'\n",
    "\n",
    "team_matches = team_hist_df[team_hist_df['team_name_matches'] == team_name]\n",
    "id = team_matches.reset_index().loc[0, 'common_id']\n",
    "team_tokens = fan_tokens_df[fan_tokens_df['common_id'] == id]\n",
    "\n",
    "print(id)"
   ]
  },
  {
   "cell_type": "code",
   "execution_count": 136,
   "metadata": {},
   "outputs": [
    {
     "data": {
      "text/html": [
       "<div>\n",
       "<style scoped>\n",
       "    .dataframe tbody tr th:only-of-type {\n",
       "        vertical-align: middle;\n",
       "    }\n",
       "\n",
       "    .dataframe tbody tr th {\n",
       "        vertical-align: top;\n",
       "    }\n",
       "\n",
       "    .dataframe thead th {\n",
       "        text-align: right;\n",
       "    }\n",
       "</style>\n",
       "<table border=\"1\" class=\"dataframe\">\n",
       "  <thead>\n",
       "    <tr style=\"text-align: right;\">\n",
       "      <th></th>\n",
       "      <th>team_name_matches</th>\n",
       "      <th>match_date</th>\n",
       "      <th>team_local_id</th>\n",
       "      <th>result</th>\n",
       "      <th>team_code</th>\n",
       "      <th>team_name_tokes</th>\n",
       "      <th>common_id</th>\n",
       "      <th>time</th>\n",
       "      <th>date</th>\n",
       "    </tr>\n",
       "  </thead>\n",
       "  <tbody>\n",
       "    <tr>\n",
       "      <th>153</th>\n",
       "      <td>AS Roma</td>\n",
       "      <td>2020-06-24 19:45:00</td>\n",
       "      <td>100</td>\n",
       "      <td>W</td>\n",
       "      <td>ROM</td>\n",
       "      <td>as roma</td>\n",
       "      <td>4</td>\n",
       "      <td>19:45:00</td>\n",
       "      <td>2020-06-24</td>\n",
       "    </tr>\n",
       "    <tr>\n",
       "      <th>154</th>\n",
       "      <td>AS Roma</td>\n",
       "      <td>2020-06-28 15:15:00</td>\n",
       "      <td>100</td>\n",
       "      <td>L</td>\n",
       "      <td>ROM</td>\n",
       "      <td>as roma</td>\n",
       "      <td>4</td>\n",
       "      <td>15:15:00</td>\n",
       "      <td>2020-06-28</td>\n",
       "    </tr>\n",
       "    <tr>\n",
       "      <th>155</th>\n",
       "      <td>AS Roma</td>\n",
       "      <td>2020-07-02 19:45:00</td>\n",
       "      <td>100</td>\n",
       "      <td>L</td>\n",
       "      <td>ROM</td>\n",
       "      <td>as roma</td>\n",
       "      <td>4</td>\n",
       "      <td>19:45:00</td>\n",
       "      <td>2020-07-02</td>\n",
       "    </tr>\n",
       "    <tr>\n",
       "      <th>156</th>\n",
       "      <td>AS Roma</td>\n",
       "      <td>2020-07-05 19:45:00</td>\n",
       "      <td>100</td>\n",
       "      <td>L</td>\n",
       "      <td>ROM</td>\n",
       "      <td>as roma</td>\n",
       "      <td>4</td>\n",
       "      <td>19:45:00</td>\n",
       "      <td>2020-07-05</td>\n",
       "    </tr>\n",
       "    <tr>\n",
       "      <th>157</th>\n",
       "      <td>AS Roma</td>\n",
       "      <td>2020-07-08 19:45:00</td>\n",
       "      <td>100</td>\n",
       "      <td>W</td>\n",
       "      <td>ROM</td>\n",
       "      <td>as roma</td>\n",
       "      <td>4</td>\n",
       "      <td>19:45:00</td>\n",
       "      <td>2020-07-08</td>\n",
       "    </tr>\n",
       "    <tr>\n",
       "      <th>...</th>\n",
       "      <td>...</td>\n",
       "      <td>...</td>\n",
       "      <td>...</td>\n",
       "      <td>...</td>\n",
       "      <td>...</td>\n",
       "      <td>...</td>\n",
       "      <td>...</td>\n",
       "      <td>...</td>\n",
       "      <td>...</td>\n",
       "    </tr>\n",
       "    <tr>\n",
       "      <th>280</th>\n",
       "      <td>AS Roma</td>\n",
       "      <td>2023-09-01 18:45:00</td>\n",
       "      <td>100</td>\n",
       "      <td>L</td>\n",
       "      <td>ROM</td>\n",
       "      <td>as roma</td>\n",
       "      <td>4</td>\n",
       "      <td>18:45:00</td>\n",
       "      <td>2023-09-01</td>\n",
       "    </tr>\n",
       "    <tr>\n",
       "      <th>281</th>\n",
       "      <td>AS Roma</td>\n",
       "      <td>2023-09-17 18:45:00</td>\n",
       "      <td>100</td>\n",
       "      <td>W</td>\n",
       "      <td>ROM</td>\n",
       "      <td>as roma</td>\n",
       "      <td>4</td>\n",
       "      <td>18:45:00</td>\n",
       "      <td>2023-09-17</td>\n",
       "    </tr>\n",
       "    <tr>\n",
       "      <th>282</th>\n",
       "      <td>AS Roma</td>\n",
       "      <td>2023-09-24 18:45:00</td>\n",
       "      <td>100</td>\n",
       "      <td>D</td>\n",
       "      <td>ROM</td>\n",
       "      <td>as roma</td>\n",
       "      <td>4</td>\n",
       "      <td>18:45:00</td>\n",
       "      <td>2023-09-24</td>\n",
       "    </tr>\n",
       "    <tr>\n",
       "      <th>283</th>\n",
       "      <td>AS Roma</td>\n",
       "      <td>2023-09-28 18:45:00</td>\n",
       "      <td>100</td>\n",
       "      <td>L</td>\n",
       "      <td>ROM</td>\n",
       "      <td>as roma</td>\n",
       "      <td>4</td>\n",
       "      <td>18:45:00</td>\n",
       "      <td>2023-09-28</td>\n",
       "    </tr>\n",
       "    <tr>\n",
       "      <th>284</th>\n",
       "      <td>AS Roma</td>\n",
       "      <td>2023-10-01 18:45:00</td>\n",
       "      <td>100</td>\n",
       "      <td>W</td>\n",
       "      <td>ROM</td>\n",
       "      <td>as roma</td>\n",
       "      <td>4</td>\n",
       "      <td>18:45:00</td>\n",
       "      <td>2023-10-01</td>\n",
       "    </tr>\n",
       "  </tbody>\n",
       "</table>\n",
       "<p>132 rows × 9 columns</p>\n",
       "</div>"
      ],
      "text/plain": [
       "    team_name_matches          match_date  team_local_id result team_code  \\\n",
       "153           AS Roma 2020-06-24 19:45:00            100      W       ROM   \n",
       "154           AS Roma 2020-06-28 15:15:00            100      L       ROM   \n",
       "155           AS Roma 2020-07-02 19:45:00            100      L       ROM   \n",
       "156           AS Roma 2020-07-05 19:45:00            100      L       ROM   \n",
       "157           AS Roma 2020-07-08 19:45:00            100      W       ROM   \n",
       "..                ...                 ...            ...    ...       ...   \n",
       "280           AS Roma 2023-09-01 18:45:00            100      L       ROM   \n",
       "281           AS Roma 2023-09-17 18:45:00            100      W       ROM   \n",
       "282           AS Roma 2023-09-24 18:45:00            100      D       ROM   \n",
       "283           AS Roma 2023-09-28 18:45:00            100      L       ROM   \n",
       "284           AS Roma 2023-10-01 18:45:00            100      W       ROM   \n",
       "\n",
       "    team_name_tokes  common_id      time        date  \n",
       "153         as roma          4  19:45:00  2020-06-24  \n",
       "154         as roma          4  15:15:00  2020-06-28  \n",
       "155         as roma          4  19:45:00  2020-07-02  \n",
       "156         as roma          4  19:45:00  2020-07-05  \n",
       "157         as roma          4  19:45:00  2020-07-08  \n",
       "..              ...        ...       ...         ...  \n",
       "280         as roma          4  18:45:00  2023-09-01  \n",
       "281         as roma          4  18:45:00  2023-09-17  \n",
       "282         as roma          4  18:45:00  2023-09-24  \n",
       "283         as roma          4  18:45:00  2023-09-28  \n",
       "284         as roma          4  18:45:00  2023-10-01  \n",
       "\n",
       "[132 rows x 9 columns]"
      ]
     },
     "execution_count": 136,
     "metadata": {},
     "output_type": "execute_result"
    }
   ],
   "source": [
    "team_matches"
   ]
  },
  {
   "cell_type": "code",
   "execution_count": 138,
   "metadata": {},
   "outputs": [],
   "source": [
    "import datetime"
   ]
  },
  {
   "cell_type": "code",
   "execution_count": 159,
   "metadata": {},
   "outputs": [
    {
     "data": {
      "text/plain": [
       "Timestamp('2020-06-03 20:15:00')"
      ]
     },
     "execution_count": 159,
     "metadata": {},
     "output_type": "execute_result"
    }
   ],
   "source": [
    "team_hist_df['match_date'].min()"
   ]
  },
  {
   "cell_type": "code",
   "execution_count": 158,
   "metadata": {},
   "outputs": [
    {
     "data": {
      "text/plain": [
       "datetime.date(2020, 4, 17)"
      ]
     },
     "execution_count": 158,
     "metadata": {},
     "output_type": "execute_result"
    }
   ],
   "source": [
    "fan_tokens_df['date'].min()"
   ]
  },
  {
   "cell_type": "code",
   "execution_count": 151,
   "metadata": {},
   "outputs": [
    {
     "data": {
      "text/plain": [
       "datetime.date(2023, 10, 4)"
      ]
     },
     "execution_count": 151,
     "metadata": {},
     "output_type": "execute_result"
    }
   ],
   "source": [
    "team_hist_df['date'].max()"
   ]
  },
  {
   "cell_type": "code",
   "execution_count": 174,
   "metadata": {},
   "outputs": [
    {
     "data": {
      "text/plain": [
       "Timestamp('2020-06-24 19:45:00')"
      ]
     },
     "execution_count": 174,
     "metadata": {},
     "output_type": "execute_result"
    }
   ],
   "source": [
    "min_date = team_matches['match_date'].min()\n",
    "min_date"
   ]
  },
  {
   "cell_type": "code",
   "execution_count": 179,
   "metadata": {},
   "outputs": [
    {
     "data": {
      "text/html": [
       "<div>\n",
       "<style scoped>\n",
       "    .dataframe tbody tr th:only-of-type {\n",
       "        vertical-align: middle;\n",
       "    }\n",
       "\n",
       "    .dataframe tbody tr th {\n",
       "        vertical-align: top;\n",
       "    }\n",
       "\n",
       "    .dataframe thead th {\n",
       "        text-align: right;\n",
       "    }\n",
       "</style>\n",
       "<table border=\"1\" class=\"dataframe\">\n",
       "  <thead>\n",
       "    <tr style=\"text-align: right;\">\n",
       "      <th></th>\n",
       "      <th>team_name_matches_x</th>\n",
       "      <th>match_date</th>\n",
       "      <th>team_local_id</th>\n",
       "      <th>result</th>\n",
       "      <th>team_code</th>\n",
       "      <th>team_name_tokes_x</th>\n",
       "      <th>common_id_x</th>\n",
       "      <th>time</th>\n",
       "      <th>date</th>\n",
       "      <th>id</th>\n",
       "      <th>team_name_tokes_y</th>\n",
       "      <th>token_name</th>\n",
       "      <th>slug</th>\n",
       "      <th>volume</th>\n",
       "      <th>price</th>\n",
       "      <th>team_name_matches_y</th>\n",
       "      <th>common_id_y</th>\n",
       "    </tr>\n",
       "  </thead>\n",
       "  <tbody>\n",
       "    <tr>\n",
       "      <th>0</th>\n",
       "      <td>Valencia CF</td>\n",
       "      <td>2021-09-19 19:00:00</td>\n",
       "      <td>95</td>\n",
       "      <td>L</td>\n",
       "      <td>VAL</td>\n",
       "      <td>valencia</td>\n",
       "      <td>21</td>\n",
       "      <td>19:00:00</td>\n",
       "      <td>2021-09-19</td>\n",
       "      <td>13718</td>\n",
       "      <td>valencia</td>\n",
       "      <td>valencia fan token</td>\n",
       "      <td>valencia-fan-token</td>\n",
       "      <td>225249.89</td>\n",
       "      <td>3.41</td>\n",
       "      <td>Valencia CF</td>\n",
       "      <td>21</td>\n",
       "    </tr>\n",
       "    <tr>\n",
       "      <th>1</th>\n",
       "      <td>Valencia CF</td>\n",
       "      <td>2021-09-22 17:30:00</td>\n",
       "      <td>95</td>\n",
       "      <td>L</td>\n",
       "      <td>VAL</td>\n",
       "      <td>valencia</td>\n",
       "      <td>21</td>\n",
       "      <td>17:30:00</td>\n",
       "      <td>2021-09-22</td>\n",
       "      <td>13721</td>\n",
       "      <td>valencia</td>\n",
       "      <td>valencia fan token</td>\n",
       "      <td>valencia-fan-token</td>\n",
       "      <td>165728.20</td>\n",
       "      <td>2.64</td>\n",
       "      <td>Valencia CF</td>\n",
       "      <td>21</td>\n",
       "    </tr>\n",
       "    <tr>\n",
       "      <th>2</th>\n",
       "      <td>Valencia CF</td>\n",
       "      <td>2021-09-25 14:15:00</td>\n",
       "      <td>95</td>\n",
       "      <td>D</td>\n",
       "      <td>VAL</td>\n",
       "      <td>valencia</td>\n",
       "      <td>21</td>\n",
       "      <td>14:15:00</td>\n",
       "      <td>2021-09-25</td>\n",
       "      <td>13724</td>\n",
       "      <td>valencia</td>\n",
       "      <td>valencia fan token</td>\n",
       "      <td>valencia-fan-token</td>\n",
       "      <td>194140.99</td>\n",
       "      <td>2.58</td>\n",
       "      <td>Valencia CF</td>\n",
       "      <td>21</td>\n",
       "    </tr>\n",
       "    <tr>\n",
       "      <th>3</th>\n",
       "      <td>Valencia CF</td>\n",
       "      <td>2021-10-02 16:30:00</td>\n",
       "      <td>95</td>\n",
       "      <td>D</td>\n",
       "      <td>VAL</td>\n",
       "      <td>valencia</td>\n",
       "      <td>21</td>\n",
       "      <td>16:30:00</td>\n",
       "      <td>2021-10-02</td>\n",
       "      <td>13731</td>\n",
       "      <td>valencia</td>\n",
       "      <td>valencia fan token</td>\n",
       "      <td>valencia-fan-token</td>\n",
       "      <td>148746.38</td>\n",
       "      <td>2.52</td>\n",
       "      <td>Valencia CF</td>\n",
       "      <td>21</td>\n",
       "    </tr>\n",
       "    <tr>\n",
       "      <th>4</th>\n",
       "      <td>Valencia CF</td>\n",
       "      <td>2021-10-17 19:00:00</td>\n",
       "      <td>95</td>\n",
       "      <td>L</td>\n",
       "      <td>VAL</td>\n",
       "      <td>valencia</td>\n",
       "      <td>21</td>\n",
       "      <td>19:00:00</td>\n",
       "      <td>2021-10-17</td>\n",
       "      <td>13746</td>\n",
       "      <td>valencia</td>\n",
       "      <td>valencia fan token</td>\n",
       "      <td>valencia-fan-token</td>\n",
       "      <td>262022.70</td>\n",
       "      <td>2.67</td>\n",
       "      <td>Valencia CF</td>\n",
       "      <td>21</td>\n",
       "    </tr>\n",
       "    <tr>\n",
       "      <th>...</th>\n",
       "      <td>...</td>\n",
       "      <td>...</td>\n",
       "      <td>...</td>\n",
       "      <td>...</td>\n",
       "      <td>...</td>\n",
       "      <td>...</td>\n",
       "      <td>...</td>\n",
       "      <td>...</td>\n",
       "      <td>...</td>\n",
       "      <td>...</td>\n",
       "      <td>...</td>\n",
       "      <td>...</td>\n",
       "      <td>...</td>\n",
       "      <td>...</td>\n",
       "      <td>...</td>\n",
       "      <td>...</td>\n",
       "      <td>...</td>\n",
       "    </tr>\n",
       "    <tr>\n",
       "      <th>74</th>\n",
       "      <td>Valencia CF</td>\n",
       "      <td>2023-08-27 17:30:00</td>\n",
       "      <td>95</td>\n",
       "      <td>L</td>\n",
       "      <td>VAL</td>\n",
       "      <td>valencia</td>\n",
       "      <td>21</td>\n",
       "      <td>17:30:00</td>\n",
       "      <td>2023-08-27</td>\n",
       "      <td>14425</td>\n",
       "      <td>valencia</td>\n",
       "      <td>valencia fan token</td>\n",
       "      <td>valencia-fan-token</td>\n",
       "      <td>202539.71</td>\n",
       "      <td>0.77</td>\n",
       "      <td>Valencia CF</td>\n",
       "      <td>21</td>\n",
       "    </tr>\n",
       "    <tr>\n",
       "      <th>75</th>\n",
       "      <td>Valencia CF</td>\n",
       "      <td>2023-09-02 16:30:00</td>\n",
       "      <td>95</td>\n",
       "      <td>L</td>\n",
       "      <td>VAL</td>\n",
       "      <td>valencia</td>\n",
       "      <td>21</td>\n",
       "      <td>16:30:00</td>\n",
       "      <td>2023-09-02</td>\n",
       "      <td>14431</td>\n",
       "      <td>valencia</td>\n",
       "      <td>valencia fan token</td>\n",
       "      <td>valencia-fan-token</td>\n",
       "      <td>188591.50</td>\n",
       "      <td>0.72</td>\n",
       "      <td>Valencia CF</td>\n",
       "      <td>21</td>\n",
       "    </tr>\n",
       "    <tr>\n",
       "      <th>76</th>\n",
       "      <td>Valencia CF</td>\n",
       "      <td>2023-09-16 14:15:00</td>\n",
       "      <td>95</td>\n",
       "      <td>W</td>\n",
       "      <td>VAL</td>\n",
       "      <td>valencia</td>\n",
       "      <td>21</td>\n",
       "      <td>14:15:00</td>\n",
       "      <td>2023-09-16</td>\n",
       "      <td>14445</td>\n",
       "      <td>valencia</td>\n",
       "      <td>valencia fan token</td>\n",
       "      <td>valencia-fan-token</td>\n",
       "      <td>92097.12</td>\n",
       "      <td>0.65</td>\n",
       "      <td>Valencia CF</td>\n",
       "      <td>21</td>\n",
       "    </tr>\n",
       "    <tr>\n",
       "      <th>77</th>\n",
       "      <td>Valencia CF</td>\n",
       "      <td>2023-09-23 19:00:00</td>\n",
       "      <td>95</td>\n",
       "      <td>D</td>\n",
       "      <td>VAL</td>\n",
       "      <td>valencia</td>\n",
       "      <td>21</td>\n",
       "      <td>19:00:00</td>\n",
       "      <td>2023-09-23</td>\n",
       "      <td>14452</td>\n",
       "      <td>valencia</td>\n",
       "      <td>valencia fan token</td>\n",
       "      <td>valencia-fan-token</td>\n",
       "      <td>98861.59</td>\n",
       "      <td>0.65</td>\n",
       "      <td>Valencia CF</td>\n",
       "      <td>21</td>\n",
       "    </tr>\n",
       "    <tr>\n",
       "      <th>78</th>\n",
       "      <td>Valencia CF</td>\n",
       "      <td>2023-09-27 19:30:00</td>\n",
       "      <td>95</td>\n",
       "      <td>L</td>\n",
       "      <td>VAL</td>\n",
       "      <td>valencia</td>\n",
       "      <td>21</td>\n",
       "      <td>19:30:00</td>\n",
       "      <td>2023-09-27</td>\n",
       "      <td>14456</td>\n",
       "      <td>valencia</td>\n",
       "      <td>valencia fan token</td>\n",
       "      <td>valencia-fan-token</td>\n",
       "      <td>153115.33</td>\n",
       "      <td>0.65</td>\n",
       "      <td>Valencia CF</td>\n",
       "      <td>21</td>\n",
       "    </tr>\n",
       "  </tbody>\n",
       "</table>\n",
       "<p>79 rows × 17 columns</p>\n",
       "</div>"
      ],
      "text/plain": [
       "   team_name_matches_x          match_date  team_local_id result team_code  \\\n",
       "0          Valencia CF 2021-09-19 19:00:00             95      L       VAL   \n",
       "1          Valencia CF 2021-09-22 17:30:00             95      L       VAL   \n",
       "2          Valencia CF 2021-09-25 14:15:00             95      D       VAL   \n",
       "3          Valencia CF 2021-10-02 16:30:00             95      D       VAL   \n",
       "4          Valencia CF 2021-10-17 19:00:00             95      L       VAL   \n",
       "..                 ...                 ...            ...    ...       ...   \n",
       "74         Valencia CF 2023-08-27 17:30:00             95      L       VAL   \n",
       "75         Valencia CF 2023-09-02 16:30:00             95      L       VAL   \n",
       "76         Valencia CF 2023-09-16 14:15:00             95      W       VAL   \n",
       "77         Valencia CF 2023-09-23 19:00:00             95      D       VAL   \n",
       "78         Valencia CF 2023-09-27 19:30:00             95      L       VAL   \n",
       "\n",
       "   team_name_tokes_x  common_id_x      time        date     id  \\\n",
       "0           valencia           21  19:00:00  2021-09-19  13718   \n",
       "1           valencia           21  17:30:00  2021-09-22  13721   \n",
       "2           valencia           21  14:15:00  2021-09-25  13724   \n",
       "3           valencia           21  16:30:00  2021-10-02  13731   \n",
       "4           valencia           21  19:00:00  2021-10-17  13746   \n",
       "..               ...          ...       ...         ...    ...   \n",
       "74          valencia           21  17:30:00  2023-08-27  14425   \n",
       "75          valencia           21  16:30:00  2023-09-02  14431   \n",
       "76          valencia           21  14:15:00  2023-09-16  14445   \n",
       "77          valencia           21  19:00:00  2023-09-23  14452   \n",
       "78          valencia           21  19:30:00  2023-09-27  14456   \n",
       "\n",
       "   team_name_tokes_y          token_name                slug     volume price  \\\n",
       "0           valencia  valencia fan token  valencia-fan-token  225249.89  3.41   \n",
       "1           valencia  valencia fan token  valencia-fan-token  165728.20  2.64   \n",
       "2           valencia  valencia fan token  valencia-fan-token  194140.99  2.58   \n",
       "3           valencia  valencia fan token  valencia-fan-token  148746.38  2.52   \n",
       "4           valencia  valencia fan token  valencia-fan-token  262022.70  2.67   \n",
       "..               ...                 ...                 ...        ...   ...   \n",
       "74          valencia  valencia fan token  valencia-fan-token  202539.71  0.77   \n",
       "75          valencia  valencia fan token  valencia-fan-token  188591.50  0.72   \n",
       "76          valencia  valencia fan token  valencia-fan-token   92097.12  0.65   \n",
       "77          valencia  valencia fan token  valencia-fan-token   98861.59  0.65   \n",
       "78          valencia  valencia fan token  valencia-fan-token  153115.33  0.65   \n",
       "\n",
       "   team_name_matches_y  common_id_y  \n",
       "0          Valencia CF           21  \n",
       "1          Valencia CF           21  \n",
       "2          Valencia CF           21  \n",
       "3          Valencia CF           21  \n",
       "4          Valencia CF           21  \n",
       "..                 ...          ...  \n",
       "74         Valencia CF           21  \n",
       "75         Valencia CF           21  \n",
       "76         Valencia CF           21  \n",
       "77         Valencia CF           21  \n",
       "78         Valencia CF           21  \n",
       "\n",
       "[79 rows x 17 columns]"
      ]
     },
     "execution_count": 179,
     "metadata": {},
     "output_type": "execute_result"
    }
   ],
   "source": [
    "start_date='2020-06-25'\n",
    "end_date='2023-10-01'\n",
    "team_df[(pd.to_datetime(start_date) < team_df['match_date']) & (team_df['match_date'] < pd.to_datetime(end_date))]"
   ]
  },
  {
   "cell_type": "code",
   "execution_count": 186,
   "metadata": {},
   "outputs": [
    {
     "name": "stderr",
     "output_type": "stream",
     "text": [
      "C:\\Users\\Guillermo\\AppData\\Local\\Temp\\ipykernel_21532\\3567983338.py:2: SettingWithCopyWarning:\n",
      "\n",
      "\n",
      "A value is trying to be set on a copy of a slice from a DataFrame.\n",
      "Try using .loc[row_indexer,col_indexer] = value instead\n",
      "\n",
      "See the caveats in the documentation: https://pandas.pydata.org/pandas-docs/stable/user_guide/indexing.html#returning-a-view-versus-a-copy\n",
      "\n"
     ]
    },
    {
     "data": {
      "text/html": [
       "<div>\n",
       "<style scoped>\n",
       "    .dataframe tbody tr th:only-of-type {\n",
       "        vertical-align: middle;\n",
       "    }\n",
       "\n",
       "    .dataframe tbody tr th {\n",
       "        vertical-align: top;\n",
       "    }\n",
       "\n",
       "    .dataframe thead th {\n",
       "        text-align: right;\n",
       "    }\n",
       "</style>\n",
       "<table border=\"1\" class=\"dataframe\">\n",
       "  <thead>\n",
       "    <tr style=\"text-align: right;\">\n",
       "      <th></th>\n",
       "      <th>id</th>\n",
       "      <th>team_name_tokes</th>\n",
       "      <th>token_name</th>\n",
       "      <th>slug</th>\n",
       "      <th>date</th>\n",
       "      <th>volume</th>\n",
       "      <th>price</th>\n",
       "      <th>team_name_matches</th>\n",
       "      <th>common_id</th>\n",
       "    </tr>\n",
       "  </thead>\n",
       "  <tbody>\n",
       "    <tr>\n",
       "      <th>7144</th>\n",
       "      <td>8363</td>\n",
       "      <td>ac milan</td>\n",
       "      <td>ac milan fan token</td>\n",
       "      <td>ac-milan-fan-token</td>\n",
       "      <td>2021-02-11</td>\n",
       "      <td>1554903.34</td>\n",
       "      <td>6.56</td>\n",
       "      <td>AC Milan</td>\n",
       "      <td>1</td>\n",
       "    </tr>\n",
       "    <tr>\n",
       "      <th>7145</th>\n",
       "      <td>8364</td>\n",
       "      <td>ac milan</td>\n",
       "      <td>ac milan fan token</td>\n",
       "      <td>ac-milan-fan-token</td>\n",
       "      <td>2021-02-12</td>\n",
       "      <td>1554903.34</td>\n",
       "      <td>6.56</td>\n",
       "      <td>AC Milan</td>\n",
       "      <td>1</td>\n",
       "    </tr>\n",
       "    <tr>\n",
       "      <th>7146</th>\n",
       "      <td>8365</td>\n",
       "      <td>ac milan</td>\n",
       "      <td>ac milan fan token</td>\n",
       "      <td>ac-milan-fan-token</td>\n",
       "      <td>2021-02-13</td>\n",
       "      <td>478681.31</td>\n",
       "      <td>6.37</td>\n",
       "      <td>AC Milan</td>\n",
       "      <td>1</td>\n",
       "    </tr>\n",
       "    <tr>\n",
       "      <th>7147</th>\n",
       "      <td>8366</td>\n",
       "      <td>ac milan</td>\n",
       "      <td>ac milan fan token</td>\n",
       "      <td>ac-milan-fan-token</td>\n",
       "      <td>2021-02-14</td>\n",
       "      <td>495986.46</td>\n",
       "      <td>6.91</td>\n",
       "      <td>AC Milan</td>\n",
       "      <td>1</td>\n",
       "    </tr>\n",
       "    <tr>\n",
       "      <th>7148</th>\n",
       "      <td>8367</td>\n",
       "      <td>ac milan</td>\n",
       "      <td>ac milan fan token</td>\n",
       "      <td>ac-milan-fan-token</td>\n",
       "      <td>2021-02-15</td>\n",
       "      <td>410983.59</td>\n",
       "      <td>6.71</td>\n",
       "      <td>AC Milan</td>\n",
       "      <td>1</td>\n",
       "    </tr>\n",
       "    <tr>\n",
       "      <th>...</th>\n",
       "      <td>...</td>\n",
       "      <td>...</td>\n",
       "      <td>...</td>\n",
       "      <td>...</td>\n",
       "      <td>...</td>\n",
       "      <td>...</td>\n",
       "      <td>...</td>\n",
       "      <td>...</td>\n",
       "      <td>...</td>\n",
       "    </tr>\n",
       "    <tr>\n",
       "      <th>8101</th>\n",
       "      <td>9320</td>\n",
       "      <td>ac milan</td>\n",
       "      <td>ac milan fan token</td>\n",
       "      <td>ac-milan-fan-token</td>\n",
       "      <td>2023-09-26</td>\n",
       "      <td>701075.54</td>\n",
       "      <td>1.78</td>\n",
       "      <td>AC Milan</td>\n",
       "      <td>1</td>\n",
       "    </tr>\n",
       "    <tr>\n",
       "      <th>8102</th>\n",
       "      <td>9321</td>\n",
       "      <td>ac milan</td>\n",
       "      <td>ac milan fan token</td>\n",
       "      <td>ac-milan-fan-token</td>\n",
       "      <td>2023-09-27</td>\n",
       "      <td>587740.10</td>\n",
       "      <td>1.77</td>\n",
       "      <td>AC Milan</td>\n",
       "      <td>1</td>\n",
       "    </tr>\n",
       "    <tr>\n",
       "      <th>8103</th>\n",
       "      <td>9322</td>\n",
       "      <td>ac milan</td>\n",
       "      <td>ac milan fan token</td>\n",
       "      <td>ac-milan-fan-token</td>\n",
       "      <td>2023-09-28</td>\n",
       "      <td>608496.49</td>\n",
       "      <td>1.77</td>\n",
       "      <td>AC Milan</td>\n",
       "      <td>1</td>\n",
       "    </tr>\n",
       "    <tr>\n",
       "      <th>8104</th>\n",
       "      <td>9323</td>\n",
       "      <td>ac milan</td>\n",
       "      <td>ac milan fan token</td>\n",
       "      <td>ac-milan-fan-token</td>\n",
       "      <td>2023-09-29</td>\n",
       "      <td>702730.69</td>\n",
       "      <td>1.78</td>\n",
       "      <td>AC Milan</td>\n",
       "      <td>1</td>\n",
       "    </tr>\n",
       "    <tr>\n",
       "      <th>8105</th>\n",
       "      <td>9324</td>\n",
       "      <td>ac milan</td>\n",
       "      <td>ac milan fan token</td>\n",
       "      <td>ac-milan-fan-token</td>\n",
       "      <td>2023-09-30</td>\n",
       "      <td>564705.54</td>\n",
       "      <td>1.79</td>\n",
       "      <td>AC Milan</td>\n",
       "      <td>1</td>\n",
       "    </tr>\n",
       "  </tbody>\n",
       "</table>\n",
       "<p>962 rows × 9 columns</p>\n",
       "</div>"
      ],
      "text/plain": [
       "        id team_name_tokes          token_name                slug       date  \\\n",
       "7144  8363        ac milan  ac milan fan token  ac-milan-fan-token 2021-02-11   \n",
       "7145  8364        ac milan  ac milan fan token  ac-milan-fan-token 2021-02-12   \n",
       "7146  8365        ac milan  ac milan fan token  ac-milan-fan-token 2021-02-13   \n",
       "7147  8366        ac milan  ac milan fan token  ac-milan-fan-token 2021-02-14   \n",
       "7148  8367        ac milan  ac milan fan token  ac-milan-fan-token 2021-02-15   \n",
       "...    ...             ...                 ...                 ...        ...   \n",
       "8101  9320        ac milan  ac milan fan token  ac-milan-fan-token 2023-09-26   \n",
       "8102  9321        ac milan  ac milan fan token  ac-milan-fan-token 2023-09-27   \n",
       "8103  9322        ac milan  ac milan fan token  ac-milan-fan-token 2023-09-28   \n",
       "8104  9323        ac milan  ac milan fan token  ac-milan-fan-token 2023-09-29   \n",
       "8105  9324        ac milan  ac milan fan token  ac-milan-fan-token 2023-09-30   \n",
       "\n",
       "          volume price team_name_matches  common_id  \n",
       "7144  1554903.34  6.56          AC Milan          1  \n",
       "7145  1554903.34  6.56          AC Milan          1  \n",
       "7146   478681.31  6.37          AC Milan          1  \n",
       "7147   495986.46  6.91          AC Milan          1  \n",
       "7148   410983.59  6.71          AC Milan          1  \n",
       "...          ...   ...               ...        ...  \n",
       "8101   701075.54  1.78          AC Milan          1  \n",
       "8102   587740.10  1.77          AC Milan          1  \n",
       "8103   608496.49  1.77          AC Milan          1  \n",
       "8104   702730.69  1.78          AC Milan          1  \n",
       "8105   564705.54  1.79          AC Milan          1  \n",
       "\n",
       "[962 rows x 9 columns]"
      ]
     },
     "execution_count": 186,
     "metadata": {},
     "output_type": "execute_result"
    }
   ],
   "source": [
    "team_tokens = fan_tokens_df[fan_tokens_df['common_id'] == 1]\n",
    "team_tokens['date'] = pd.to_datetime(team_tokens['date'])\n",
    "team_tokens[(pd.to_datetime(start_date) < team_tokens['date']) & (team_tokens['date'] < pd.to_datetime(end_date))]"
   ]
  },
  {
   "cell_type": "code",
   "execution_count": 175,
   "metadata": {},
   "outputs": [
    {
     "data": {
      "text/html": [
       "<div>\n",
       "<style scoped>\n",
       "    .dataframe tbody tr th:only-of-type {\n",
       "        vertical-align: middle;\n",
       "    }\n",
       "\n",
       "    .dataframe tbody tr th {\n",
       "        vertical-align: top;\n",
       "    }\n",
       "\n",
       "    .dataframe thead th {\n",
       "        text-align: right;\n",
       "    }\n",
       "</style>\n",
       "<table border=\"1\" class=\"dataframe\">\n",
       "  <thead>\n",
       "    <tr style=\"text-align: right;\">\n",
       "      <th></th>\n",
       "      <th>team_name_matches</th>\n",
       "      <th>match_date</th>\n",
       "      <th>team_local_id</th>\n",
       "      <th>result</th>\n",
       "      <th>team_code</th>\n",
       "      <th>team_name_tokes</th>\n",
       "      <th>common_id</th>\n",
       "      <th>time</th>\n",
       "      <th>date</th>\n",
       "    </tr>\n",
       "  </thead>\n",
       "  <tbody>\n",
       "    <tr>\n",
       "      <th>154</th>\n",
       "      <td>AS Roma</td>\n",
       "      <td>2020-06-28 15:15:00</td>\n",
       "      <td>100</td>\n",
       "      <td>L</td>\n",
       "      <td>ROM</td>\n",
       "      <td>as roma</td>\n",
       "      <td>4</td>\n",
       "      <td>15:15:00</td>\n",
       "      <td>2020-06-28</td>\n",
       "    </tr>\n",
       "    <tr>\n",
       "      <th>155</th>\n",
       "      <td>AS Roma</td>\n",
       "      <td>2020-07-02 19:45:00</td>\n",
       "      <td>100</td>\n",
       "      <td>L</td>\n",
       "      <td>ROM</td>\n",
       "      <td>as roma</td>\n",
       "      <td>4</td>\n",
       "      <td>19:45:00</td>\n",
       "      <td>2020-07-02</td>\n",
       "    </tr>\n",
       "    <tr>\n",
       "      <th>156</th>\n",
       "      <td>AS Roma</td>\n",
       "      <td>2020-07-05 19:45:00</td>\n",
       "      <td>100</td>\n",
       "      <td>L</td>\n",
       "      <td>ROM</td>\n",
       "      <td>as roma</td>\n",
       "      <td>4</td>\n",
       "      <td>19:45:00</td>\n",
       "      <td>2020-07-05</td>\n",
       "    </tr>\n",
       "    <tr>\n",
       "      <th>157</th>\n",
       "      <td>AS Roma</td>\n",
       "      <td>2020-07-08 19:45:00</td>\n",
       "      <td>100</td>\n",
       "      <td>W</td>\n",
       "      <td>ROM</td>\n",
       "      <td>as roma</td>\n",
       "      <td>4</td>\n",
       "      <td>19:45:00</td>\n",
       "      <td>2020-07-08</td>\n",
       "    </tr>\n",
       "    <tr>\n",
       "      <th>158</th>\n",
       "      <td>AS Roma</td>\n",
       "      <td>2020-07-11 17:30:00</td>\n",
       "      <td>100</td>\n",
       "      <td>W</td>\n",
       "      <td>ROM</td>\n",
       "      <td>as roma</td>\n",
       "      <td>4</td>\n",
       "      <td>17:30:00</td>\n",
       "      <td>2020-07-11</td>\n",
       "    </tr>\n",
       "    <tr>\n",
       "      <th>...</th>\n",
       "      <td>...</td>\n",
       "      <td>...</td>\n",
       "      <td>...</td>\n",
       "      <td>...</td>\n",
       "      <td>...</td>\n",
       "      <td>...</td>\n",
       "      <td>...</td>\n",
       "      <td>...</td>\n",
       "      <td>...</td>\n",
       "    </tr>\n",
       "    <tr>\n",
       "      <th>280</th>\n",
       "      <td>AS Roma</td>\n",
       "      <td>2023-09-01 18:45:00</td>\n",
       "      <td>100</td>\n",
       "      <td>L</td>\n",
       "      <td>ROM</td>\n",
       "      <td>as roma</td>\n",
       "      <td>4</td>\n",
       "      <td>18:45:00</td>\n",
       "      <td>2023-09-01</td>\n",
       "    </tr>\n",
       "    <tr>\n",
       "      <th>281</th>\n",
       "      <td>AS Roma</td>\n",
       "      <td>2023-09-17 18:45:00</td>\n",
       "      <td>100</td>\n",
       "      <td>W</td>\n",
       "      <td>ROM</td>\n",
       "      <td>as roma</td>\n",
       "      <td>4</td>\n",
       "      <td>18:45:00</td>\n",
       "      <td>2023-09-17</td>\n",
       "    </tr>\n",
       "    <tr>\n",
       "      <th>282</th>\n",
       "      <td>AS Roma</td>\n",
       "      <td>2023-09-24 18:45:00</td>\n",
       "      <td>100</td>\n",
       "      <td>D</td>\n",
       "      <td>ROM</td>\n",
       "      <td>as roma</td>\n",
       "      <td>4</td>\n",
       "      <td>18:45:00</td>\n",
       "      <td>2023-09-24</td>\n",
       "    </tr>\n",
       "    <tr>\n",
       "      <th>283</th>\n",
       "      <td>AS Roma</td>\n",
       "      <td>2023-09-28 18:45:00</td>\n",
       "      <td>100</td>\n",
       "      <td>L</td>\n",
       "      <td>ROM</td>\n",
       "      <td>as roma</td>\n",
       "      <td>4</td>\n",
       "      <td>18:45:00</td>\n",
       "      <td>2023-09-28</td>\n",
       "    </tr>\n",
       "    <tr>\n",
       "      <th>284</th>\n",
       "      <td>AS Roma</td>\n",
       "      <td>2023-10-01 18:45:00</td>\n",
       "      <td>100</td>\n",
       "      <td>W</td>\n",
       "      <td>ROM</td>\n",
       "      <td>as roma</td>\n",
       "      <td>4</td>\n",
       "      <td>18:45:00</td>\n",
       "      <td>2023-10-01</td>\n",
       "    </tr>\n",
       "  </tbody>\n",
       "</table>\n",
       "<p>131 rows × 9 columns</p>\n",
       "</div>"
      ],
      "text/plain": [
       "    team_name_matches          match_date  team_local_id result team_code  \\\n",
       "154           AS Roma 2020-06-28 15:15:00            100      L       ROM   \n",
       "155           AS Roma 2020-07-02 19:45:00            100      L       ROM   \n",
       "156           AS Roma 2020-07-05 19:45:00            100      L       ROM   \n",
       "157           AS Roma 2020-07-08 19:45:00            100      W       ROM   \n",
       "158           AS Roma 2020-07-11 17:30:00            100      W       ROM   \n",
       "..                ...                 ...            ...    ...       ...   \n",
       "280           AS Roma 2023-09-01 18:45:00            100      L       ROM   \n",
       "281           AS Roma 2023-09-17 18:45:00            100      W       ROM   \n",
       "282           AS Roma 2023-09-24 18:45:00            100      D       ROM   \n",
       "283           AS Roma 2023-09-28 18:45:00            100      L       ROM   \n",
       "284           AS Roma 2023-10-01 18:45:00            100      W       ROM   \n",
       "\n",
       "    team_name_tokes  common_id      time        date  \n",
       "154         as roma          4  15:15:00  2020-06-28  \n",
       "155         as roma          4  19:45:00  2020-07-02  \n",
       "156         as roma          4  19:45:00  2020-07-05  \n",
       "157         as roma          4  19:45:00  2020-07-08  \n",
       "158         as roma          4  17:30:00  2020-07-11  \n",
       "..              ...        ...       ...         ...  \n",
       "280         as roma          4  18:45:00  2023-09-01  \n",
       "281         as roma          4  18:45:00  2023-09-17  \n",
       "282         as roma          4  18:45:00  2023-09-24  \n",
       "283         as roma          4  18:45:00  2023-09-28  \n",
       "284         as roma          4  18:45:00  2023-10-01  \n",
       "\n",
       "[131 rows x 9 columns]"
      ]
     },
     "execution_count": 175,
     "metadata": {},
     "output_type": "execute_result"
    }
   ],
   "source": [
    "team_matches[(min_date < team_matches['match_date']) & (team_matches['match_date'] > pd.to_datetime('2020-06-25'))]"
   ]
  }
 ],
 "metadata": {
  "kernelspec": {
   "display_name": "Python 3",
   "language": "python",
   "name": "python3"
  },
  "language_info": {
   "codemirror_mode": {
    "name": "ipython",
    "version": 3
   },
   "file_extension": ".py",
   "mimetype": "text/x-python",
   "name": "python",
   "nbconvert_exporter": "python",
   "pygments_lexer": "ipython3",
   "version": "3.11.5"
  }
 },
 "nbformat": 4,
 "nbformat_minor": 2
}
